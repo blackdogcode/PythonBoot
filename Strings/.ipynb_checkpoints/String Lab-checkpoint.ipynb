{
 "cells": [
  {
   "cell_type": "markdown",
   "metadata": {},
   "source": [
    "<h1> Exercise 1</h1>\n",
    "Write a while loop that starts at the last character in the string and works its way backwords<br>\n",
    "to the first chracter in the string, printing each letter on a separate line, except backwrods."
   ]
  },
  {
   "cell_type": "code",
   "execution_count": 1,
   "metadata": {},
   "outputs": [
    {
     "name": "stdout",
     "output_type": "stream",
     "text": [
      "P\n",
      "y\n",
      "t\n",
      "h\n",
      "o\n",
      "n\n",
      "3\n",
      "---------------------\n",
      "3nohtyP\n",
      "---------------------\n",
      "Python3"
     ]
    }
   ],
   "source": [
    "msg = 'Python3'\n",
    "# travse string from 'first' to 'end'\n",
    "idx = 0\n",
    "while idx < len(msg):\n",
    "    print(msg[idx])\n",
    "    idx += 1\n",
    "\n",
    "print('---------------------')\n",
    "\n",
    "# travse string from 'end' to 'first'\n",
    "idx = len(msg) - 1\n",
    "while idx >= 0:\n",
    "    print(msg[idx], end = \"\"),\n",
    "    idx -= 1\n",
    "\n",
    "print()\n",
    "print('---------------------')\n",
    "\n",
    "# simple solution - for each\n",
    "for char in msg:\n",
    "    print(char, end = \"\")"
   ]
  },
  {
   "cell_type": "markdown",
   "metadata": {},
   "source": [
    "<h1>String Formatting</h1>"
   ]
  },
  {
   "cell_type": "markdown",
   "metadata": {},
   "source": [
    "<h2>f-strings - Literal String Interpolation</h2>"
   ]
  },
  {
   "cell_type": "code",
   "execution_count": 6,
   "metadata": {},
   "outputs": [
    {
     "name": "stdout",
     "output_type": "stream",
     "text": [
      "Hello I'm Liam, Song and in Fullstack Engineering.\n"
     ]
    }
   ],
   "source": [
    "lastname  = 'Song'\n",
    "firstname = 'Liam'\n",
    "position  = 'Fullstack Engineering'\n",
    "print(f\"Hello I'm {firstname}, {lastname} and in {position}.\")"
   ]
  },
  {
   "cell_type": "code",
   "execution_count": 16,
   "metadata": {},
   "outputs": [
    {
     "name": "stdout",
     "output_type": "stream",
     "text": [
      " Tuesday 12, January 2021\n"
     ]
    }
   ],
   "source": [
    "import datetime\n",
    "today = datetime.datetime.today()\n",
    "print(f\"{today: %A %d, %B %Y}\")"
   ]
  },
  {
   "cell_type": "code",
   "execution_count": 20,
   "metadata": {},
   "outputs": [
    {
     "name": "stdout",
     "output_type": "stream",
     "text": [
      "3.141593\n"
     ]
    }
   ],
   "source": [
    "# float number precision formatting\n",
    "import math\n",
    "print(f'{math.pi:1.6f}')"
   ]
  },
  {
   "cell_type": "markdown",
   "metadata": {},
   "source": [
    "<h2>str.format() function</h2>"
   ]
  },
  {
   "cell_type": "code",
   "execution_count": 15,
   "metadata": {},
   "outputs": [
    {
     "name": "stdout",
     "output_type": "stream",
     "text": [
      "Hello, Pyhon3!\n"
     ]
    }
   ],
   "source": [
    "# no argument in curly brace\n",
    "print('{}, {}!'.format('Hello','Pyhon3'))"
   ]
  },
  {
   "cell_type": "code",
   "execution_count": 22,
   "metadata": {},
   "outputs": [
    {
     "name": "stdout",
     "output_type": "stream",
     "text": [
      "Hello, Python3!\n"
     ]
    }
   ],
   "source": [
    "# positional argument\n",
    "print('{1}, {0}!'.format('Python3', 'Hello'))"
   ]
  },
  {
   "cell_type": "code",
   "execution_count": 24,
   "metadata": {},
   "outputs": [
    {
     "name": "stdout",
     "output_type": "stream",
     "text": [
      "Hello, Python3!\n"
     ]
    }
   ],
   "source": [
    "# keyword argument\n",
    "print('{gretting}, {language}!'.format(gretting='Hello', language='Python3'))"
   ]
  },
  {
   "cell_type": "code",
   "execution_count": 27,
   "metadata": {},
   "outputs": [
    {
     "name": "stdout",
     "output_type": "stream",
     "text": [
      "3.141593\n"
     ]
    }
   ],
   "source": [
    "# float number precison formatting\n",
    "import math\n",
    "print('{0:1.6f}'.format(math.pi))"
   ]
  },
  {
   "cell_type": "code",
   "execution_count": 33,
   "metadata": {},
   "outputs": [
    {
     "name": "stdout",
     "output_type": "stream",
     "text": [
      "3.141593       \n",
      "   3.141593    \n",
      "       3.141593\n"
     ]
    }
   ],
   "source": [
    "# alignment\n",
    "import math\n",
    "print('{:<15.6f}'.format(math.pi)) # left-align   <\n",
    "print('{:^15.6f}'.format(math.pi)) # center-align ^\n",
    "print('{:>15.6f}'.format(math.pi)) # right-align  >"
   ]
  },
  {
   "cell_type": "markdown",
   "metadata": {},
   "source": [
    "<h1>String Parsing</h1>"
   ]
  },
  {
   "cell_type": "code",
   "execution_count": 1,
   "metadata": {},
   "outputs": [
    {
     "name": "stdout",
     "output_type": "stream",
     "text": [
      "0.8475\n"
     ]
    }
   ],
   "source": [
    "# extract number(0.8475) from str\n",
    "str = 'X-DSPAM-Confidence:0.8475'\n",
    "print(str[str.find(':')+1 : len(str)])"
   ]
  }
 ],
 "metadata": {
  "kernelspec": {
   "display_name": "Python 3",
   "language": "python",
   "name": "python3"
  },
  "language_info": {
   "codemirror_mode": {
    "name": "ipython",
    "version": 3
   },
   "file_extension": ".py",
   "mimetype": "text/x-python",
   "name": "python",
   "nbconvert_exporter": "python",
   "pygments_lexer": "ipython3",
   "version": "3.8.5"
  }
 },
 "nbformat": 4,
 "nbformat_minor": 4
}
