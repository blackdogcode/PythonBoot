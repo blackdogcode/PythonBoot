{
 "cells": [
  {
   "cell_type": "code",
   "execution_count": 1,
   "metadata": {},
   "outputs": [
    {
     "name": "stdout",
     "output_type": "stream",
     "text": [
      "['Hello', 1, 5.0, <built-in function pow>]\n"
     ]
    }
   ],
   "source": [
    "# list can contains hetrogeneous data types\n",
    "import math\n",
    "# blank list\n",
    "init_list = []\n",
    "init_list = ['Hello', 1, 5.0, math.pow]\n",
    "print(init_list)"
   ]
  },
  {
   "cell_type": "code",
   "execution_count": 2,
   "metadata": {},
   "outputs": [
    {
     "name": "stdout",
     "output_type": "stream",
     "text": [
      "['j', 'e', 'l', 'l', 'o']\n",
      "['H', 'e', 'l', 'l', 'o']\n"
     ]
    }
   ],
   "source": [
    "# list is mutable\n",
    "init_list = list('jello')\n",
    "print(init_list)\n",
    "init_list[0] = 'H'\n",
    "print(init_list)"
   ]
  },
  {
   "cell_type": "code",
   "execution_count": 3,
   "metadata": {},
   "outputs": [
    {
     "name": "stdout",
     "output_type": "stream",
     "text": [
      "['1', '2', '3']\n",
      "['4', '5', '6']\n",
      "['1', '2', '3', '4', '5', '6']\n"
     ]
    }
   ],
   "source": [
    "# list concatenation\n",
    "first  = list('123')\n",
    "second = list('456')\n",
    "merge  = first + second\n",
    "print(first)\n",
    "print(second)\n",
    "print(merge)"
   ]
  },
  {
   "cell_type": "code",
   "execution_count": 4,
   "metadata": {},
   "outputs": [
    {
     "name": "stdout",
     "output_type": "stream",
     "text": [
      "[91, 48, 58, 73, 41, 41, 7, 90, 63, 75]\n",
      "[7, 41, 41, 48, 58, 63, 73, 75, 90, 91]\n"
     ]
    }
   ],
   "source": [
    "# built-in function :  sort\n",
    "import random\n",
    "\n",
    "sort_list = []\n",
    "for i in range(10):\n",
    "    val = random.randint(1, 100)\n",
    "    sort_list.append(val)\n",
    "    \n",
    "print(sort_list)\n",
    "sort_list.sort()\n",
    "print(sort_list)"
   ]
  },
  {
   "cell_type": "code",
   "execution_count": 5,
   "metadata": {},
   "outputs": [
    {
     "name": "stdout",
     "output_type": "stream",
     "text": [
      "1 2 3 \n",
      "4 5 6 \n"
     ]
    }
   ],
   "source": [
    "# two dimensional list\n",
    "lists = [[1,2,3],[4,5,6]]\n",
    "for inner in lists:\n",
    "    for val in inner:\n",
    "        print(val, end = \" \")\n",
    "    print()"
   ]
  },
  {
   "cell_type": "code",
   "execution_count": 6,
   "metadata": {},
   "outputs": [
    {
     "name": "stdout",
     "output_type": "stream",
     "text": [
      "[0, 1, 2, 3, 4, 5, 6, 7, 8, 9]\n",
      "[0, 1, 2, 3, 4, 5, 6, 7, 8]\n"
     ]
    }
   ],
   "source": [
    "# implement 'stack'\n",
    "init_list = []\n",
    "for i in range(10):\n",
    "    init_list.append(i)\n",
    "print(init_list)\n",
    "init_list.pop()\n",
    "print(init_list)"
   ]
  },
  {
   "cell_type": "markdown",
   "metadata": {},
   "source": [
    "## Fahrenheigt to Celsisus Conversion\n",
    "T<sub><sup>o</sup>C</sub> = (T<sub><sup>o</sup>C</sub> - 32) * 5/9"
   ]
  },
  {
   "cell_type": "code",
   "execution_count": 7,
   "metadata": {},
   "outputs": [
    {
     "name": "stdout",
     "output_type": "stream",
     "text": [
      "0.00\n",
      "4.44\n",
      "10.00\n",
      "15.56\n",
      "21.11\n",
      "26.67\n",
      "32.22\n",
      "37.78\n"
     ]
    }
   ],
   "source": [
    "def to_celcius(tempratures):\n",
    "    return [((t - 32) * 5 / 9) for t in tempratures]\n",
    "\n",
    "fahrenheight = [32, 40, 50, 60, 70, 80, 90, 100]\n",
    "celcius = to_celcius(fahrenheight)\n",
    "\n",
    "for t in celcius:\n",
    "    print(f'{t:.2f}')"
   ]
  }
 ],
 "metadata": {
  "kernelspec": {
   "display_name": "Python 3",
   "language": "python",
   "name": "python3"
  },
  "language_info": {
   "codemirror_mode": {
    "name": "ipython",
    "version": 3
   },
   "file_extension": ".py",
   "mimetype": "text/x-python",
   "name": "python",
   "nbconvert_exporter": "python",
   "pygments_lexer": "ipython3",
   "version": "3.8.5"
  }
 },
 "nbformat": 4,
 "nbformat_minor": 4
}
