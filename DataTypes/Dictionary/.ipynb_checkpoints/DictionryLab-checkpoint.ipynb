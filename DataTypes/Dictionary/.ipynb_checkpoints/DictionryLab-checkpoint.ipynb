{
 "cells": [
  {
   "cell_type": "code",
   "execution_count": 1,
   "metadata": {},
   "outputs": [
    {
     "name": "stdout",
     "output_type": "stream",
     "text": [
      "<class 'dict'>\n",
      "{'air': 1199}\n",
      "1199$\n",
      "1419$\n"
     ]
    }
   ],
   "source": [
    "M1_MacBook = {'air':1199}\n",
    "print(type(M1_MacBook))\n",
    "print(M1_MacBook)\n",
    "print(f\"{M1_MacBook['air']}$\")\n",
    "M1_MacBook['pro'] = 1419\n",
    "print('{}$'.format(M1_MacBook['pro']))"
   ]
  },
  {
   "cell_type": "markdown",
   "metadata": {},
   "source": [
    "<h2>Employee Personal Info</h2>"
   ]
  },
  {
   "cell_type": "code",
   "execution_count": 2,
   "metadata": {},
   "outputs": [
    {
     "name": "stdout",
     "output_type": "stream",
     "text": [
      "Liam, Song is Deep Learning Engineeer in Google!\n"
     ]
    }
   ],
   "source": [
    "emp = {'name':{'first':'Liam', 'last':'Song'}, 'positon':'Deep Learning Engineeer'}\n",
    "print(f\"{emp['name']['first']}, {emp['name']['last']} is {emp['positon']} in Google!\")"
   ]
  }
 ],
 "metadata": {
  "kernelspec": {
   "display_name": "Python 3",
   "language": "python",
   "name": "python3"
  },
  "language_info": {
   "codemirror_mode": {
    "name": "ipython",
    "version": 3
   },
   "file_extension": ".py",
   "mimetype": "text/x-python",
   "name": "python",
   "nbconvert_exporter": "python",
   "pygments_lexer": "ipython3",
   "version": "3.8.5"
  }
 },
 "nbformat": 4,
 "nbformat_minor": 4
}
