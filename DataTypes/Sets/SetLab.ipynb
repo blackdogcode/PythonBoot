{
 "cells": [
  {
   "cell_type": "markdown",
   "metadata": {},
   "source": [
    "<h1>Python Set - Operations</h1>"
   ]
  },
  {
   "cell_type": "code",
   "execution_count": 1,
   "metadata": {},
   "outputs": [
    {
     "name": "stdout",
     "output_type": "stream",
     "text": [
      "set()\n",
      "<class 'set'>\n"
     ]
    }
   ],
   "source": [
    "# blank set\n",
    "set_a = set()\n",
    "print(set_a)\n",
    "print(type(set_a))"
   ]
  },
  {
   "cell_type": "code",
   "execution_count": 2,
   "metadata": {},
   "outputs": [
    {
     "name": "stdout",
     "output_type": "stream",
     "text": [
      "{'d', 'c', 'b', 'a'}\n",
      "{'linux', 'hello', 'python'}\n"
     ]
    }
   ],
   "source": [
    "# set - contanier of unique value\n",
    "str_a = 'abbcccddddd'\n",
    "set_a = set(str_a)\n",
    "print(set_a)\n",
    "\n",
    "lst_a = ['hello', 'python', 'linux', 'python']\n",
    "set_a = set(lst_a)\n",
    "print(set_a)"
   ]
  },
  {
   "cell_type": "code",
   "execution_count": 3,
   "metadata": {},
   "outputs": [
    {
     "name": "stdout",
     "output_type": "stream",
     "text": [
      "{'h', 'e', 'p', 'n', 'o', 'y', 't', 'l'}\n",
      "{'h', 'e', 'p', 'n', 'o', 'y', 't', 'l'}\n",
      "{'h', 'e', 'p', 'n', 'o', 'y', 't', 'l'}\n",
      "{'h', 'e', 'p', 'n', 'o', 'y', 't', 'l'}\n"
     ]
    }
   ],
   "source": [
    "# set() constructor\n",
    "\n",
    "# literal string -> set\n",
    "set_a = set('hellopython') \n",
    "print(set_a)\n",
    "\n",
    "# string object -> set\n",
    "str_a = 'hellopython'\n",
    "set_a = set(str_a) \n",
    "print(set_a)\n",
    "\n",
    "# tuple object -> set\n",
    "tup_a = ('h', 'e', 'l', 'l', 'o', 'p', 'y', 't', 'h', 'o', 'n')\n",
    "set_a = set(tup_a)\n",
    "print(set_a)\n",
    "\n",
    "# list object -> set\n",
    "lst_a = ['h', 'e', 'l', 'l', 'o', 'p', 'y', 't', 'h', 'o', 'n']\n",
    "set_a = set(lst_a)\n",
    "print(set_a)"
   ]
  }
 ],
 "metadata": {
  "kernelspec": {
   "display_name": "Python 3",
   "language": "python",
   "name": "python3"
  },
  "language_info": {
   "codemirror_mode": {
    "name": "ipython",
    "version": 3
   },
   "file_extension": ".py",
   "mimetype": "text/x-python",
   "name": "python",
   "nbconvert_exporter": "python",
   "pygments_lexer": "ipython3",
   "version": "3.8.5"
  }
 },
 "nbformat": 4,
 "nbformat_minor": 4
}
