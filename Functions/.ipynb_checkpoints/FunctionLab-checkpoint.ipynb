{
 "cells": [
  {
   "cell_type": "markdown",
   "metadata": {},
   "source": [
    "<h1>Exercise 1</h1>"
   ]
  },
  {
   "cell_type": "code",
   "execution_count": 1,
   "metadata": {},
   "outputs": [
    {
     "name": "stdout",
     "output_type": "stream",
     "text": [
      "0.679299724901621\n",
      "0.05251705685434582\n",
      "0.5347318340432039\n",
      "0.30187252488585115\n",
      "0.26898714752125397\n",
      "0.4083746067362637\n",
      "0.788216624526146\n",
      "0.9431541090777676\n",
      "0.07541573422070103\n",
      "0.8689419496323653\n"
     ]
    }
   ],
   "source": [
    "import random\n",
    "\n",
    "# uniform distrifuction - [0.0-1.0)\n",
    "for i in range(10):\n",
    "    print(random.random())"
   ]
  }
 ],
 "metadata": {
  "kernelspec": {
   "display_name": "Python 3",
   "language": "python",
   "name": "python3"
  },
  "language_info": {
   "codemirror_mode": {
    "name": "ipython",
    "version": 3
   },
   "file_extension": ".py",
   "mimetype": "text/x-python",
   "name": "python",
   "nbconvert_exporter": "python",
   "pygments_lexer": "ipython3",
   "version": "3.8.5"
  }
 },
 "nbformat": 4,
 "nbformat_minor": 4
}
