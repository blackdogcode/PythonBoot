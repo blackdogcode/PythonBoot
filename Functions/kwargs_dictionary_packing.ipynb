{
 "cells": [
  {
   "cell_type": "markdown",
   "metadata": {},
   "source": [
    "# [Variable-Length Argument Lists](https://t.ly/LBAN)"
   ]
  },
  {
   "cell_type": "markdown",
   "metadata": {},
   "source": [
    "## 1. **kwargs"
   ]
  },
  {
   "cell_type": "markdown",
   "metadata": {},
   "source": [
    "### 1.1 Argument Dictionary Packing"
   ]
  },
  {
   "cell_type": "code",
   "execution_count": 1,
   "metadata": {},
   "outputs": [
    {
     "name": "stdout",
     "output_type": "stream",
     "text": [
      "<class 'dict'> {'x': 1, 'y': 2, 'z': 3}\n",
      "x -> 1\n",
      "y -> 2\n",
      "z -> 3\n"
     ]
    }
   ],
   "source": [
    "def foo(**kwargs):\n",
    "    print(type(kwargs), kwargs)\n",
    "    for key, val in kwargs.items():\n",
    "        print(f'{key} -> {val}')\n",
    "    \n",
    "foo(x=1, y=2, z=3)"
   ]
  },
  {
   "cell_type": "markdown",
   "metadata": {},
   "source": [
    "### 1.2 Argument Dictionary Unpacking"
   ]
  },
  {
   "cell_type": "code",
   "execution_count": 2,
   "metadata": {},
   "outputs": [
    {
     "name": "stdout",
     "output_type": "stream",
     "text": [
      "x = 1\n",
      "y = 2\n",
      "z = 3\n"
     ]
    }
   ],
   "source": [
    "def bar(x, y, z):\n",
    "    print(f'x = {x}')\n",
    "    print(f'y = {y}')\n",
    "    print(f'z = {z}')\n",
    "    \n",
    "vector = {'x':1, 'y':2, 'z':3}\n",
    "bar(**vector)"
   ]
  },
  {
   "cell_type": "markdown",
   "metadata": {},
   "source": [
    "### 1.3 Multiple Unpackings"
   ]
  },
  {
   "cell_type": "code",
   "execution_count": 6,
   "metadata": {},
   "outputs": [
    {
     "name": "stdout",
     "output_type": "stream",
     "text": [
      "Apple -> 1.5\n",
      "Banana -> 1.7\n",
      "Melon -> 2.3\n",
      "Coffee -> 3.2\n"
     ]
    }
   ],
   "source": [
    "def qux(**kwargs):\n",
    "    for key, val in kwargs.items():\n",
    "        print(f'{key} -> {val}')\n",
    "\n",
    "cart_a = {'Apple': 1.5, 'Banana': 1.7}\n",
    "cart_b = {'Melon': 2.3, 'Coffee': 3.2}\n",
    "qux(**cart_a, **cart_b)"
   ]
  }
 ],
 "metadata": {
  "kernelspec": {
   "display_name": "Python 3",
   "language": "python",
   "name": "python3"
  },
  "language_info": {
   "codemirror_mode": {
    "name": "ipython",
    "version": 3
   },
   "file_extension": ".py",
   "mimetype": "text/x-python",
   "name": "python",
   "nbconvert_exporter": "python",
   "pygments_lexer": "ipython3",
   "version": "3.8.5"
  }
 },
 "nbformat": 4,
 "nbformat_minor": 4
}
