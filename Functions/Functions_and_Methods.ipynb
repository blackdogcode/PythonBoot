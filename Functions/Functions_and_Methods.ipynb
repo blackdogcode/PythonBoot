{
 "cells": [
  {
   "cell_type": "markdown",
   "metadata": {},
   "source": [
    "# Functions and Methods Homework \n",
    "\n",
    "Complete the following questions:\n",
    "____\n",
    "**Write a function that computes the volume of a sphere given its radius.**\n",
    "<p>The volume of a sphere is given as $$\\frac{4}{3} πr^3$$</p>"
   ]
  },
  {
   "cell_type": "code",
   "execution_count": 1,
   "metadata": {},
   "outputs": [],
   "source": [
    "import math\n",
    "\n",
    "def sphere_volumn(rad):\n",
    "    return (4/3) * math.pi * (rad**3)\n",
    "\n",
    "print('%.5f' %sphere_volumn(3))"
   ]
  },
  {
   "cell_type": "markdown",
   "metadata": {},
   "source": [
    "___\n",
    "**Write a function that checks whether a number is in a given range (inclusive of high and low)**"
   ]
  },
  {
   "cell_type": "code",
   "execution_count": 2,
   "metadata": {},
   "outputs": [],
   "source": [
    "def ran_check(num, low, high):\n",
    "    return low <= num <= high"
   ]
  },
  {
   "cell_type": "code",
   "execution_count": 3,
   "metadata": {},
   "outputs": [],
   "source": [
    "# Check\n",
    "ran_check(5, 2, 7)"
   ]
  },
  {
   "cell_type": "markdown",
   "metadata": {},
   "source": [
    "____\n",
    "**Write a Python function that accepts a string and calculates the number of upper case letters and lower case letters.**\n",
    "\n",
    "    Sample String : 'Hello Mr. Rogers, how are you this fine Tuesday?'\n",
    "    Expected Output : \n",
    "    No. of Upper case characters : 4\n",
    "    No. of Lower case Characters : 33"
   ]
  },
  {
   "cell_type": "code",
   "execution_count": 4,
   "metadata": {},
   "outputs": [],
   "source": [
    "import string\n",
    "def up_low(sentence):\n",
    "    lower_case = tuple(string.ascii_lowercase)\n",
    "    upper_case = tuple(string.ascii_uppercase)\n",
    "    cnt_lower_case = 0\n",
    "    cnt_upper_case = 0\n",
    "    for char in sentence:\n",
    "        if char in lower_case: \n",
    "            cnt_lower_case += 1\n",
    "        elif char in upper_case:\n",
    "            cnt_upper_case += 1\n",
    "        else:\n",
    "            continue\n",
    "    return (cnt_lower_case, cnt_upper_case)"
   ]
  },
  {
   "cell_type": "code",
   "execution_count": 5,
   "metadata": {},
   "outputs": [],
   "source": [
    "sentence = 'Hello Mr. Rogers, how are you this fine Tuesday?'\n",
    "cnt_lower_case, cnt_upper_case = up_low(sentence)\n",
    "print('%s' %(sentence))\n",
    "print(f'No. of Upper case characters in the sentence: {cnt_upper_case}')\n",
    "print(f'No. of Lower case characters in the sentence: {cnt_lower_case}')"
   ]
  },
  {
   "cell_type": "markdown",
   "metadata": {},
   "source": [
    "____\n",
    "**Write a Python function that takes a list and returns a new list with unique elements of the first list.**\n",
    "\n",
    "    Sample List : [1,1,1,1,2,2,3,3,3,3,4,5]\n",
    "    Unique List : [1, 2, 3, 4, 5]"
   ]
  },
  {
   "cell_type": "code",
   "execution_count": 6,
   "metadata": {},
   "outputs": [],
   "source": [
    "def to_unique_list(lst):\n",
    "    return list(set(lst))"
   ]
  },
  {
   "cell_type": "code",
   "execution_count": 7,
   "metadata": {},
   "outputs": [],
   "source": [
    "sample_list = [1,1,1,1,2,2,3,3,3,3,4,5]\n",
    "unique_list = to_unique_list(sample_list)\n",
    "sample_list.sort()\n",
    "unique_list.sort()\n",
    "print(sample_list)\n",
    "print(unique_list)"
   ]
  },
  {
   "cell_type": "markdown",
   "metadata": {},
   "source": [
    "_____\n",
    "**Write a Python function to multiply all the numbers in a list.**\n",
    "\n",
    "    Sample List : [1, 2, 3, -4]\n",
    "    Expected Output : -24"
   ]
  },
  {
   "cell_type": "code",
   "execution_count": 8,
   "metadata": {},
   "outputs": [],
   "source": [
    "def multiply(numbers):  \n",
    "    ret = 1\n",
    "    for num in numbers:\n",
    "        ret *= num\n",
    "    return ret"
   ]
  },
  {
   "cell_type": "code",
   "execution_count": 9,
   "metadata": {},
   "outputs": [],
   "source": [
    "multiply([1,2,3,-4])"
   ]
  },
  {
   "cell_type": "markdown",
   "metadata": {},
   "source": [
    "____\n",
    "**Write a Python function that checks whether a word or phrase is palindrome or not.**\n",
    "\n",
    "Note: A palindrome is word, phrase, or sequence that reads the same backward as forward, e.g., madam, kayak, racecar, or a phrase \"nurses run\"."
   ]
  },
  {
   "cell_type": "code",
   "execution_count": 78,
   "metadata": {},
   "outputs": [],
   "source": [
    "import string\n",
    "\n",
    "def palindrome(original_text):\n",
    "    \"\"\"\n",
    "    1. remove whitespace and punctuation characters from text: filterd text\n",
    "    2. create reversed text from filterd text\n",
    "    3. check filtered text == reversed text\n",
    "    \"\"\"\n",
    "    \n",
    "    filtered_text = list(original_text.lower())\n",
    "    \n",
    "    # 1. remove whitespace and punctuaction characters\n",
    "    filtered_text = list(filter(lambda c: c not in string.whitespace and c not in string.punctuation, filtered_text))\n",
    "    \n",
    "    # 2. create reversed text\n",
    "    reversed_text = filtered_text[::-1]\n",
    "    \n",
    "    # 3. check filterd text == reversed text\n",
    "    filtered_text = ''.join([str(c) for c in filtered_text])\n",
    "    reversed_text = ''.join([str(c) for c in reversed_text])\n",
    "    \n",
    "    if filtered_text == reversed_text:\n",
    "        print('{}\\nIs palindrome?: Yes'.format(original_text))\n",
    "    else:\n",
    "        print('{}\\nIs palindrome?: No'.format(original_text))"
   ]
  },
  {
   "cell_type": "code",
   "execution_count": 80,
   "metadata": {},
   "outputs": [
    {
     "name": "stdout",
     "output_type": "stream",
     "text": [
      "A nut for a jar of tuna.\n",
      "Is palindrome?: Yes\n",
      "Al lets Della call Ed \"Stella.\"\n",
      "Is palindrome?: Yes\n",
      "Apple\n",
      "Is palindrome?: No\n",
      "Amore, Roma\n",
      "Is palindrome?: Yes\n",
      "Veni Vidi Vici\n",
      "Is palindrome?: No\n",
      "Taco cat\n",
      "Is palindrome?: Yes\n",
      "Was it a car or a cat I saw?\n",
      "Is palindrome?: Yes\n"
     ]
    }
   ],
   "source": [
    "palindrome('A nut for a jar of tuna.')\n",
    "palindrome('Al lets Della call Ed \"Stella.\"')\n",
    "palindrome('Apple')\n",
    "palindrome('Amore, Roma')\n",
    "palindrome('Veni Vidi Vici')\n",
    "palindrome('Taco cat')\n",
    "palindrome('Was it a car or a cat I saw?')"
   ]
  },
  {
   "cell_type": "markdown",
   "metadata": {},
   "source": [
    "____\n",
    "#### Hard:\n",
    "\n",
    "**Write a Python function to check whether a string is pangram or not. (Assume the string passed in does not have any punctuation)**\n",
    "\n",
    "    Note : Pangrams are words or sentences containing every letter of the alphabet at least once.\n",
    "    For example : \"The quick brown fox jumps over the lazy dog\"\n",
    "\n",
    "Hint: You may want to use .replace() method to get rid of spaces.\n",
    "\n",
    "Hint: Look at the [string module](https://stackoverflow.com/questions/16060899/alphabet-range-in-python)\n",
    "\n",
    "Hint: In case you want to use [set comparisons](https://medium.com/better-programming/a-visual-guide-to-set-comparisons-in-python-6ab7edb9ec41)"
   ]
  },
  {
   "cell_type": "code",
   "execution_count": 12,
   "metadata": {},
   "outputs": [],
   "source": [
    "import string\n",
    "\n",
    "def ispangram(str1, alphabet=string.ascii_lowercase):\n",
    "    pass"
   ]
  },
  {
   "cell_type": "code",
   "execution_count": 13,
   "metadata": {},
   "outputs": [],
   "source": [
    "ispangram(\"The quick brown fox jumps over the lazy dog\")"
   ]
  },
  {
   "cell_type": "code",
   "execution_count": 14,
   "metadata": {},
   "outputs": [],
   "source": [
    "string.ascii_lowercase"
   ]
  },
  {
   "cell_type": "markdown",
   "metadata": {
    "collapsed": true
   },
   "source": [
    "#### Great Job!"
   ]
  }
 ],
 "metadata": {
  "kernelspec": {
   "display_name": "Python 3",
   "language": "python",
   "name": "python3"
  },
  "language_info": {
   "codemirror_mode": {
    "name": "ipython",
    "version": 3
   },
   "file_extension": ".py",
   "mimetype": "text/x-python",
   "name": "python",
   "nbconvert_exporter": "python",
   "pygments_lexer": "ipython3",
   "version": "3.8.5"
  }
 },
 "nbformat": 4,
 "nbformat_minor": 1
}
