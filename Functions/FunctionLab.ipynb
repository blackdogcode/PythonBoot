{
 "cells": [
  {
   "cell_type": "markdown",
   "metadata": {},
   "source": [
    "## Is Python call by reference or call by value?\n",
    "<ul>\n",
    "    <li>Behave like call by reference : <strong>mutable</strong> data types(<u>i.e. list, dictionary</u>)</li>\n",
    "    <li>Behave like call by value : <strong>immutable</strong> data types(<u>i.e. string, tuple</u>)</li>\n",
    "</ul>"
   ]
  },
  {
   "cell_type": "code",
   "execution_count": 1,
   "metadata": {},
   "outputs": [
    {
     "name": "stdout",
     "output_type": "stream",
     "text": [
      "[1, 1, 2, 4, 8, 16]\n",
      "\n",
      "ID:20210123 Liam, Song in Deep Learning Engineer.\n"
     ]
    }
   ],
   "source": [
    "# mutable data types behave like call by reference\n",
    "\n",
    "# list\n",
    "def append_sum(num_lst):\n",
    "    num_lst.append(sum(num_lst))\n",
    "\n",
    "lst = [1]\n",
    "for i in range(5):\n",
    "    append_sum(lst)\n",
    "    \n",
    "print(lst)\n",
    "    \n",
    "# dictionary\n",
    "from datetime import date\n",
    "def insert_employee(first_name, last_name, position, emps):\n",
    "    # employee id is based on current date\n",
    "    emp_id = str(date.today()).replace('-', '')\n",
    "    emps[emp_id] = {'name':{'first':first_name, 'last':last_name}, 'position': position}\n",
    "\n",
    "print()\n",
    "\n",
    "emps = {}\n",
    "insert_employee('Liam', 'Song', 'Deep Learning Engineer', emps)\n",
    "for emp_id in emps.keys():\n",
    "    first_name = emps[emp_id]['name']['first']\n",
    "    last_name  = emps[emp_id]['name']['last']\n",
    "    position   = emps[emp_id]['position']\n",
    "    print(f'ID:{emp_id} {first_name}, {last_name} in {position}.')"
   ]
  },
  {
   "cell_type": "code",
   "execution_count": 2,
   "metadata": {},
   "outputs": [
    {
     "name": "stdout",
     "output_type": "stream",
     "text": [
      "Python\n",
      "\n",
      "(1, 2, 3, 4, 5)\n"
     ]
    }
   ],
   "source": [
    "# immutable data types behave like call by value\n",
    "\n",
    "# string\n",
    "def rename(name):\n",
    "    name = 'Simpson'\n",
    "\n",
    "my_name = 'Python'\n",
    "rename(my_name) # do not have effect on my_name variable\n",
    "print(my_name)\n",
    "\n",
    "print()\n",
    "\n",
    "# tuple\n",
    "def delete(tup):\n",
    "    del tup\n",
    "my_tup = (1, 2, 3, 4, 5)\n",
    "delete(my_tup)\n",
    "print(my_tup)"
   ]
  },
  {
   "cell_type": "markdown",
   "metadata": {},
   "source": [
    "## \\*args and \\**kwargs"
   ]
  },
  {
   "cell_type": "code",
   "execution_count": 3,
   "metadata": {},
   "outputs": [
    {
     "name": "stdout",
     "output_type": "stream",
     "text": [
      "(-459.67, -40, 0, 32, 98.7, 212)\n",
      "-273.15 -40.00 -17.78 0.00 37.06 100.00 "
     ]
    }
   ],
   "source": [
    "# *args is tuple\n",
    "def to_celcius(*args):\n",
    "    print(args)\n",
    "    fahrenheits = []\n",
    "    for temp in args:\n",
    "        fahrenheits.append((temp - 32) * 5 / 9)\n",
    "    return fahrenheits\n",
    "\n",
    "temperatures = to_celcius(-459.67, -40, 0, 32, 98.7, 212)\n",
    "for temp in temperatures:\n",
    "    print(\"%.2f\" %temp, end=\" \")"
   ]
  },
  {
   "cell_type": "code",
   "execution_count": 4,
   "metadata": {},
   "outputs": [
    {
     "name": "stdout",
     "output_type": "stream",
     "text": [
      "Liam, Song in Full-Stack Engineer\n"
     ]
    }
   ],
   "source": [
    "# **args is dictionary\n",
    "def employee_info(**kwargs):\n",
    "    first_name = ''\n",
    "    last_name  = ''\n",
    "    position   = ''\n",
    "    for key in kwargs:\n",
    "        if key == 'first_name': first_name = kwargs[key]\n",
    "        if key == 'last_name' : last_name  = kwargs[key]\n",
    "        if key == 'position'  : position   = kwargs[key]\n",
    "    print('%s, %s in %s' %(first_name, last_name, position))\n",
    "    \n",
    "employee_info(first_name='Liam', last_name='Song', position='Full-Stack Engineer')"
   ]
  }
 ],
 "metadata": {
  "kernelspec": {
   "display_name": "Python 3",
   "language": "python",
   "name": "python3"
  },
  "language_info": {
   "codemirror_mode": {
    "name": "ipython",
    "version": 3
   },
   "file_extension": ".py",
   "mimetype": "text/x-python",
   "name": "python",
   "nbconvert_exporter": "python",
   "pygments_lexer": "ipython3",
   "version": "3.8.5"
  }
 },
 "nbformat": 4,
 "nbformat_minor": 4
}
