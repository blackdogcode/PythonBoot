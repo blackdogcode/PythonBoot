{
 "cells": [
  {
   "cell_type": "markdown",
   "metadata": {},
   "source": [
    "## Is Python call by reference or call by value?\n",
    "<ul>\n",
    "    <li>Behave like call by reference : <strong>mutable</strong> data types(<u>i.e. list, dictionary</u>)</li>\n",
    "    <li>Behave like call by value : <strong>immutable</strong> data types(<u>i.e. string, tuple</u>)</li>\n",
    "</ul>"
   ]
  },
  {
   "cell_type": "code",
   "execution_count": 1,
   "metadata": {},
   "outputs": [
    {
     "name": "stdout",
     "output_type": "stream",
     "text": [
      "[1, 1, 2, 4, 8, 16]\n",
      "\n",
      "ID:20210125 Liam, Song in Deep Learning Engineer.\n"
     ]
    }
   ],
   "source": [
    "# mutable data types behave like call by reference\n",
    "\n",
    "# list\n",
    "def append_sum(num_lst):\n",
    "    num_lst.append(sum(num_lst))\n",
    "\n",
    "lst = [1]\n",
    "for i in range(5):\n",
    "    append_sum(lst)\n",
    "    \n",
    "print(lst)\n",
    "    \n",
    "# dictionary\n",
    "from datetime import date\n",
    "def insert_employee(first_name, last_name, position, emps):\n",
    "    # employee id is based on current date\n",
    "    emp_id = str(date.today()).replace('-', '')\n",
    "    emps[emp_id] = {'name':{'first':first_name, 'last':last_name}, 'position': position}\n",
    "\n",
    "print()\n",
    "\n",
    "emps = {}\n",
    "insert_employee('Liam', 'Song', 'Deep Learning Engineer', emps)\n",
    "for emp_id in emps.keys():\n",
    "    first_name = emps[emp_id]['name']['first']\n",
    "    last_name  = emps[emp_id]['name']['last']\n",
    "    position   = emps[emp_id]['position']\n",
    "    print(f'ID:{emp_id} {first_name}, {last_name} in {position}.')"
   ]
  },
  {
   "cell_type": "code",
   "execution_count": 2,
   "metadata": {},
   "outputs": [
    {
     "name": "stdout",
     "output_type": "stream",
     "text": [
      "Python\n",
      "\n",
      "(1, 2, 3, 4, 5)\n"
     ]
    }
   ],
   "source": [
    "# immutable data types behave like call by value\n",
    "\n",
    "# string\n",
    "def rename(name):\n",
    "    name = 'Simpson'\n",
    "\n",
    "my_name = 'Python'\n",
    "rename(my_name) # do not have effect on my_name variable\n",
    "print(my_name)\n",
    "\n",
    "print()\n",
    "\n",
    "# tuple\n",
    "def delete(tup):\n",
    "    del tup\n",
    "my_tup = (1, 2, 3, 4, 5)\n",
    "delete(my_tup)\n",
    "print(my_tup)"
   ]
  },
  {
   "cell_type": "markdown",
   "metadata": {},
   "source": [
    "## \\*args and \\**kwargs"
   ]
  },
  {
   "cell_type": "code",
   "execution_count": 3,
   "metadata": {},
   "outputs": [
    {
     "name": "stdout",
     "output_type": "stream",
     "text": [
      "(-459.67, -40, 0, 32, 98.7, 212)\n",
      "-273.15 -40.00 -17.78 0.00 37.06 100.00 "
     ]
    }
   ],
   "source": [
    "# *args is tuple\n",
    "def to_celcius(*args):\n",
    "    print(args)\n",
    "    fahrenheits = []\n",
    "    for temp in args:\n",
    "        fahrenheits.append((temp - 32) * 5 / 9)\n",
    "    return fahrenheits\n",
    "\n",
    "temperatures = to_celcius(-459.67, -40, 0, 32, 98.7, 212)\n",
    "for temp in temperatures:\n",
    "    print(\"%.2f\" %temp, end=\" \")"
   ]
  },
  {
   "cell_type": "code",
   "execution_count": 4,
   "metadata": {},
   "outputs": [
    {
     "name": "stdout",
     "output_type": "stream",
     "text": [
      "Liam, Song in Full-Stack Engineer\n"
     ]
    }
   ],
   "source": [
    "# **args is dictionary\n",
    "def employee_info(**kwargs):\n",
    "    first_name = ''\n",
    "    last_name  = ''\n",
    "    position   = ''\n",
    "    for key in kwargs:\n",
    "        if key == 'first_name': first_name = kwargs[key]\n",
    "        if key == 'last_name' : last_name  = kwargs[key]\n",
    "        if key == 'position'  : position   = kwargs[key]\n",
    "    print('%s, %s in %s' %(first_name, last_name, position))\n",
    "    \n",
    "employee_info(first_name='Liam', last_name='Song', position='Full-Stack Engineer')"
   ]
  },
  {
   "cell_type": "markdown",
   "metadata": {},
   "source": [
    "## Filter Function"
   ]
  },
  {
   "cell_type": "code",
   "execution_count": 5,
   "metadata": {},
   "outputs": [
    {
     "name": "stdout",
     "output_type": "stream",
     "text": [
      "a b c d e f g h i j k l m n o p q r s t u v w x y z \n",
      "b c d f g h j k l m n p q r s t v w x y z "
     ]
    }
   ],
   "source": [
    "import string\n",
    "\n",
    "def remove_vowel(sequence):\n",
    "    vowels = ['a', 'i', 'e', 'o', 'u']\n",
    "    for char in sequence:\n",
    "        if char in vowels:\n",
    "            return False\n",
    "        else:\n",
    "            return True\n",
    "\n",
    "alphabets  = list(string.ascii_lowercase)\n",
    "for char in alphabets:\n",
    "    print(char, end=\" \")\n",
    "\n",
    "print()\n",
    "\n",
    "consonants = list(filter(remove_vowel, alphabets))\n",
    "for char in consonants:\n",
    "    print(char, end=\" \")"
   ]
  },
  {
   "cell_type": "markdown",
   "metadata": {},
   "source": [
    "## Map Function"
   ]
  },
  {
   "cell_type": "code",
   "execution_count": 6,
   "metadata": {},
   "outputs": [
    {
     "name": "stdout",
     "output_type": "stream",
     "text": [
      "  1   2   3   4   5   6   7   8   9  10 \n",
      "  1   4   9  16  25  36  49  64  81 100 "
     ]
    }
   ],
   "source": [
    "def square(num):\n",
    "    return num**2\n",
    "\n",
    "nums = [i for i in range(1, 11)]\n",
    "for num in nums:\n",
    "    print(f'{num:3d}', end = \" \")\n",
    "\n",
    "print()\n",
    "\n",
    "for num in map(square, nums):\n",
    "    print(f'{num:3d}', end = \" \")"
   ]
  },
  {
   "cell_type": "markdown",
   "metadata": {},
   "source": [
    "## Lambda Function"
   ]
  },
  {
   "cell_type": "code",
   "execution_count": 7,
   "metadata": {},
   "outputs": [
    {
     "name": "stdout",
     "output_type": "stream",
     "text": [
      "a b c d e f g h i j k l m n o p q r s t u v w x y z \n",
      "  b c d   f g h   j k l m n   p q r s t   v w x y z \n",
      "1  2  3  4  5  6  7  8  9  10 \n",
      "1  4  9  16 25 36 49 64 81 100 "
     ]
    }
   ],
   "source": [
    "import string\n",
    "# with filter function\n",
    "vowels = ['a', 'i', 'e', 'o', 'u']\n",
    "alphabets = list(string.ascii_lowercase)\n",
    "for char in alphabets:\n",
    "    print(char, end=\" \")\n",
    "\n",
    "print()\n",
    "\n",
    "consonants = filter(lambda x : x not in vowels, alphabets)\n",
    "for char in alphabets:\n",
    "    if char in vowels:\n",
    "        print(\" \", end=\" \")\n",
    "    else:\n",
    "        print(char, end=\" \")\n",
    "print()\n",
    "\n",
    "# with map function\n",
    "nums = [i for i in range(1, 11)]\n",
    "for num in nums:\n",
    "    print(f'{num:<2d}', end=\" \")\n",
    "    \n",
    "print()\n",
    "\n",
    "squares = map(lambda x : x**2, nums)\n",
    "for num in squares:\n",
    "    print(f'{num:<2d}', end=\" \")"
   ]
  }
 ],
 "metadata": {
  "kernelspec": {
   "display_name": "Python 3",
   "language": "python",
   "name": "python3"
  },
  "language_info": {
   "codemirror_mode": {
    "name": "ipython",
    "version": 3
   },
   "file_extension": ".py",
   "mimetype": "text/x-python",
   "name": "python",
   "nbconvert_exporter": "python",
   "pygments_lexer": "ipython3",
   "version": "3.8.5"
  }
 },
 "nbformat": 4,
 "nbformat_minor": 4
}
