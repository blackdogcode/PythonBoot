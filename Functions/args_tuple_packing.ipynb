{
 "cells": [
  {
   "cell_type": "markdown",
   "metadata": {},
   "source": [
    "# [Variable-Length Argument Lists](https://t.ly/LBAN)"
   ]
  },
  {
   "cell_type": "markdown",
   "metadata": {},
   "source": [
    "## 1. *args"
   ]
  },
  {
   "cell_type": "markdown",
   "metadata": {},
   "source": [
    "### 1.1 Argument Tuple Packing"
   ]
  },
  {
   "cell_type": "code",
   "execution_count": 1,
   "metadata": {},
   "outputs": [
    {
     "name": "stdout",
     "output_type": "stream",
     "text": [
      "<class 'tuple'> (1, 2, 3, 4, 5)\n",
      "3.0\n"
     ]
    }
   ],
   "source": [
    "def avg(*args):\n",
    "    print(type(args), args)\n",
    "    return sum(args) / len(args)\n",
    "    \n",
    "print(avg(1, 2, 3, 4, 5))"
   ]
  },
  {
   "cell_type": "markdown",
   "metadata": {},
   "source": [
    "### 1.2 Argument Tuple Unpacking"
   ]
  },
  {
   "cell_type": "code",
   "execution_count": 2,
   "metadata": {},
   "outputs": [
    {
     "name": "stdout",
     "output_type": "stream",
     "text": [
      "x = 3, y = 5, z = 7\n",
      "x = 1, y = 2, z = 11\n",
      "x = 3, y = 7, z = 13\n",
      "x = 1, y = 5, z = 7\n"
     ]
    }
   ],
   "source": [
    "def foo(x, y, z):\n",
    "    print(f'x = {x}', end=\", \")\n",
    "    print(f'y = {y}', end=\", \")\n",
    "    print(f'z = {z}')\n",
    "    \n",
    "foo(3, 5, 7)\n",
    "foo(*(1, 2, 11)) # tuple\n",
    "foo(*[3, 7, 13]) # list\n",
    "foo(*{1, 5, 7})  # set"
   ]
  }
 ],
 "metadata": {
  "kernelspec": {
   "display_name": "Python 3",
   "language": "python",
   "name": "python3"
  },
  "language_info": {
   "codemirror_mode": {
    "name": "ipython",
    "version": 3
   },
   "file_extension": ".py",
   "mimetype": "text/x-python",
   "name": "python",
   "nbconvert_exporter": "python",
   "pygments_lexer": "ipython3",
   "version": "3.8.5"
  }
 },
 "nbformat": 4,
 "nbformat_minor": 4
}
