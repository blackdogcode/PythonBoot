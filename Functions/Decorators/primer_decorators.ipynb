{
 "cells": [
  {
   "cell_type": "markdown",
   "id": "perceived-leather",
   "metadata": {},
   "source": [
    "## First-Class Objects"
   ]
  },
  {
   "cell_type": "markdown",
   "id": "above-dragon",
   "metadata": {},
   "source": [
    "### In Python, functions are first-class objects. This means that functions can be passed around and used as arguments"
   ]
  },
  {
   "cell_type": "code",
   "execution_count": 1,
   "id": "honey-siemens",
   "metadata": {},
   "outputs": [
    {
     "name": "stdout",
     "output_type": "stream",
     "text": [
      "Hello Python!\n"
     ]
    }
   ],
   "source": [
    "def disp_func(msg):\n",
    "    print(f'Hello {msg}!')\n",
    "    \n",
    "def exec_func(func):\n",
    "    func('Python')\n",
    "    \n",
    "exec_func(disp_func)"
   ]
  },
  {
   "cell_type": "markdown",
   "id": "refined-literacy",
   "metadata": {},
   "source": [
    "### Returning Functions From Functions"
   ]
  },
  {
   "cell_type": "code",
   "execution_count": 2,
   "id": "vietnamese-curtis",
   "metadata": {},
   "outputs": [
    {
     "name": "stdout",
     "output_type": "stream",
     "text": [
      "<function get_func.<locals>.say_hello at 0x000001F82E52F1F0> <function get_func.<locals>.say_python at 0x000001F82E52F430>\n",
      "Hello Python!\n"
     ]
    }
   ],
   "source": [
    "def get_func(select):\n",
    "    def say_hello():\n",
    "        return 'Hello'\n",
    "    \n",
    "    def say_python():\n",
    "        return 'Python'\n",
    "        \n",
    "    if select == 1:\n",
    "        return say_hello\n",
    "    else:\n",
    "        return say_python\n",
    "    \n",
    "funcA, funcB = get_func(1), get_func(2)\n",
    "print(funcA, funcB)\n",
    "print(funcA() + ' ' + funcB() + '!')"
   ]
  },
  {
   "cell_type": "markdown",
   "id": "radio-secretary",
   "metadata": {},
   "source": [
    "### Decorator '@' Syntax"
   ]
  },
  {
   "cell_type": "code",
   "execution_count": 3,
   "id": "motivated-nylon",
   "metadata": {},
   "outputs": [
    {
     "name": "stdout",
     "output_type": "stream",
     "text": [
      "Prev Wrapper Called\n",
      "Hello Python!\n",
      "Post Wrapper Called\n"
     ]
    }
   ],
   "source": [
    "def simple_decorator(func):\n",
    "    def wrapper():\n",
    "        print('Prev Wrapper Called')\n",
    "        func()\n",
    "        print('Post Wrapper Called')\n",
    "    \n",
    "    return wrapper\n",
    "\n",
    "@simple_decorator\n",
    "def hello_python():\n",
    "    print('Hello Python!')\n",
    "    \n",
    "hello_python()"
   ]
  }
 ],
 "metadata": {
  "kernelspec": {
   "display_name": "Python 3",
   "language": "python",
   "name": "python3"
  },
  "language_info": {
   "codemirror_mode": {
    "name": "ipython",
    "version": 3
   },
   "file_extension": ".py",
   "mimetype": "text/x-python",
   "name": "python",
   "nbconvert_exporter": "python",
   "pygments_lexer": "ipython3",
   "version": "3.8.8"
  }
 },
 "nbformat": 4,
 "nbformat_minor": 5
}
