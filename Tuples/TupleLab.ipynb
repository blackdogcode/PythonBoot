{
 "cells": [
  {
   "cell_type": "markdown",
   "metadata": {},
   "source": [
    "<h2>Tuple Basic Operations<h2>"
   ]
  },
  {
   "cell_type": "code",
   "execution_count": 2,
   "metadata": {},
   "outputs": [
    {
     "name": "stdout",
     "output_type": "stream",
     "text": [
      "First element in tuple : d\n",
      "How many 'e' character is in tuple? : 6\n",
      "First position of 'i' in tuple : 10\n",
      "Second position of 'i' in tuple : 17\n"
     ]
    }
   ],
   "source": [
    "pos = 'Deep Learning Engineer'\n",
    "tup = tuple(pos.lower())\n",
    "print(f\"First element in tuple : {tup[0]}\")\n",
    "print(f\"How many 'e' character is in tuple? : {tup.count('e')}\")\n",
    "print(f\"First position of 'i' in tuple : {tup.index('i')}\")\n",
    "print(f\"Second position of 'i' in tuple : {tup.index('i', tup.index('i')+1)}\")"
   ]
  },
  {
   "cell_type": "code",
   "execution_count": 7,
   "metadata": {},
   "outputs": [
    {
     "name": "stdout",
     "output_type": "stream",
     "text": [
      "Hello Liam, Song!\n",
      "Your job positiong is Deep Learning Enginner\n",
      "Your salry 10000$\n"
     ]
    },
    {
     "ename": "NameError",
     "evalue": "name 'work_stauts' is not defined",
     "output_type": "error",
     "traceback": [
      "\u001b[0;31m---------------------------------------------------------------------------\u001b[0m",
      "\u001b[0;31mNameError\u001b[0m                                 Traceback (most recent call last)",
      "\u001b[0;32m<ipython-input-7-39a470c72240>\u001b[0m in \u001b[0;36m<module>\u001b[0;34m\u001b[0m\n\u001b[1;32m      5\u001b[0m \u001b[0mprint\u001b[0m\u001b[0;34m(\u001b[0m\u001b[0;34mf\"Your job positiong is {position}\"\u001b[0m\u001b[0;34m)\u001b[0m\u001b[0;34m\u001b[0m\u001b[0;34m\u001b[0m\u001b[0m\n\u001b[1;32m      6\u001b[0m \u001b[0mprint\u001b[0m\u001b[0;34m(\u001b[0m\u001b[0;34mf\"Your salry {salary}$\"\u001b[0m\u001b[0;34m)\u001b[0m\u001b[0;34m\u001b[0m\u001b[0;34m\u001b[0m\u001b[0m\n\u001b[0;32m----> 7\u001b[0;31m \u001b[0;32mif\u001b[0m\u001b[0;34m(\u001b[0m\u001b[0mwork_stauts\u001b[0m\u001b[0;34m)\u001b[0m\u001b[0;34m:\u001b[0m\u001b[0;34m\u001b[0m\u001b[0;34m\u001b[0m\u001b[0m\n\u001b[0m\u001b[1;32m      8\u001b[0m     \u001b[0mprint\u001b[0m\u001b[0;34m(\u001b[0m\u001b[0;34m\"Working in Google\"\u001b[0m\u001b[0;34m)\u001b[0m\u001b[0;34m\u001b[0m\u001b[0;34m\u001b[0m\u001b[0m\n\u001b[1;32m      9\u001b[0m \u001b[0;32melse\u001b[0m\u001b[0;34m:\u001b[0m\u001b[0;34m\u001b[0m\u001b[0;34m\u001b[0m\u001b[0m\n",
      "\u001b[0;31mNameError\u001b[0m: name 'work_stauts' is not defined"
     ]
    }
   ],
   "source": [
    "# unpacking\n",
    "work_info = ('Liam', 'Song', 'Deep Learning Enginner', 10000, True)\n",
    "first_name, last_name, position, salary, work_status = work_info\n",
    "print(f\"Hello {first_name}, {last_name}!\")\n",
    "print(f\"Your job positiong is {position}\")\n",
    "print(f\"Your salry {salary}$\")\n",
    "if(work_stauts):\n",
    "    print(\"Working in Google\")\n",
    "else:\n",
    "    print(\"Retired in Google\")"
   ]
  }
 ],
 "metadata": {
  "kernelspec": {
   "display_name": "Python 3",
   "language": "python",
   "name": "python3"
  },
  "language_info": {
   "codemirror_mode": {
    "name": "ipython",
    "version": 3
   },
   "file_extension": ".py",
   "mimetype": "text/x-python",
   "name": "python",
   "nbconvert_exporter": "python",
   "pygments_lexer": "ipython3",
   "version": "3.8.5"
  }
 },
 "nbformat": 4,
 "nbformat_minor": 4
}
