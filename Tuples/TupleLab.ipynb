{
 "cells": [
  {
   "cell_type": "markdown",
   "metadata": {},
   "source": [
    "<h2>Tuple Basic Operations<h2>"
   ]
  },
  {
   "cell_type": "code",
   "execution_count": 1,
   "metadata": {},
   "outputs": [
    {
     "name": "stdout",
     "output_type": "stream",
     "text": [
      "First element in tuple : d\n",
      "How many 'e' character is in tuple? : 6\n",
      "First position of 'i' in tuple : 10\n",
      "Second position of 'i' in tuple : 17\n"
     ]
    }
   ],
   "source": [
    "pos = 'Deep Learning Engineer'\n",
    "tup = tuple(pos.lower())\n",
    "print(f\"First element in tuple : {tup[0]}\")\n",
    "print(f\"How many 'e' character is in tuple? : {tup.count('e')}\")\n",
    "print(f\"First position of 'i' in tuple : {tup.index('i')}\")\n",
    "print(f\"Second position of 'i' in tuple : {tup.index('i', tup.index('i')+1)}\")"
   ]
  }
 ],
 "metadata": {
  "kernelspec": {
   "display_name": "Python 3",
   "language": "python",
   "name": "python3"
  },
  "language_info": {
   "codemirror_mode": {
    "name": "ipython",
    "version": 3
   },
   "file_extension": ".py",
   "mimetype": "text/x-python",
   "name": "python",
   "nbconvert_exporter": "python",
   "pygments_lexer": "ipython3",
   "version": "3.8.5"
  }
 },
 "nbformat": 4,
 "nbformat_minor": 4
}
