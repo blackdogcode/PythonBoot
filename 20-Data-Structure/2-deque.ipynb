{
 "cells": [
  {
   "cell_type": "markdown",
   "id": "57cad8a5",
   "metadata": {},
   "source": [
    "# [deque](https://realpython.com/python-deque/)\n",
    "\n",
    "![deque img](https://bit.ly/2ZVOMp1)\n",
    "\n",
    "- How to create and use Python’s **deque** in your code\n",
    "- How to efficiently **append** and **pop** items from both ends of a deque\n",
    "- How to use deque to build efficient **queues** and **stacks**\n",
    "- When it’s worth using **deque** instead of **list**"
   ]
  },
  {
   "cell_type": "markdown",
   "id": "106aa361",
   "metadata": {},
   "source": [
    "## Getting Started With Python’s deque\n",
    "\n",
    "Here’s a summary of the main characteristics of deque:\n",
    "\n",
    "- Stores items of any data type\n",
    "- Is a mutable data type\n",
    "- Supports membership operations with the in operator\n",
    "- Supports indexing, like in a_deque[i]\n",
    "- Doesn’t support slicing, like in a_deque[0:2]\n",
    "- Supports built-in functions that operate on sequences and iterables, such as len(), sorted(), reversed(), and more\n",
    "- Doesn’t support in-place sorting\n",
    "- Supports normal and reverse iteration\n",
    "- Supports pickling with [pickle](https://realpython.com/python-pickle-module/)\n",
    "- Ensures fast, memory-efficient, and thread-safe pop and append operations on both ends"
   ]
  },
  {
   "cell_type": "code",
   "execution_count": 1,
   "id": "3ad9fa6f",
   "metadata": {},
   "outputs": [],
   "source": [
    "from collections import deque"
   ]
  },
  {
   "cell_type": "code",
   "execution_count": 2,
   "id": "5d6c4c85",
   "metadata": {},
   "outputs": [
    {
     "data": {
      "text/plain": [
       "deque([])"
      ]
     },
     "execution_count": 2,
     "metadata": {},
     "output_type": "execute_result"
    }
   ],
   "source": [
    "# empty deque\n",
    "deque()"
   ]
  },
  {
   "cell_type": "code",
   "execution_count": 3,
   "id": "f658c2cf",
   "metadata": {
    "scrolled": true
   },
   "outputs": [
    {
     "data": {
      "text/plain": [
       "deque([1, 2, 3, 4, 5])"
      ]
     },
     "execution_count": 3,
     "metadata": {},
     "output_type": "execute_result"
    }
   ],
   "source": [
    "deque([1, 2, 3, 4, 5])"
   ]
  },
  {
   "cell_type": "code",
   "execution_count": 4,
   "id": "9ef4bd00",
   "metadata": {},
   "outputs": [
    {
     "data": {
      "text/plain": [
       "deque([1, 2, 3, 4])"
      ]
     },
     "execution_count": 4,
     "metadata": {},
     "output_type": "execute_result"
    }
   ],
   "source": [
    "deque(range(1, 5))"
   ]
  },
  {
   "cell_type": "code",
   "execution_count": 5,
   "id": "b7669311",
   "metadata": {},
   "outputs": [
    {
     "data": {
      "text/plain": [
       "deque(['a', 'b', 'c', 'd', 'e'])"
      ]
     },
     "execution_count": 5,
     "metadata": {},
     "output_type": "execute_result"
    }
   ],
   "source": [
    "deque('abcde')"
   ]
  },
  {
   "cell_type": "code",
   "execution_count": 6,
   "id": "637ffaf6",
   "metadata": {},
   "outputs": [
    {
     "data": {
      "text/plain": [
       "deque([('apple', 1.5), ('banna', 2.0), ('cherry', 1.7)])"
      ]
     },
     "execution_count": 6,
     "metadata": {},
     "output_type": "execute_result"
    }
   ],
   "source": [
    "item_price = {'apple': 1.5, 'banna': 2.0, 'cherry': 1.7}\n",
    "deque(item_price.items())"
   ]
  },
  {
   "cell_type": "code",
   "execution_count": null,
   "id": "6d98230c",
   "metadata": {},
   "outputs": [],
   "source": []
  }
 ],
 "metadata": {
  "kernelspec": {
   "display_name": "Python 3 (ipykernel)",
   "language": "python",
   "name": "python3"
  },
  "language_info": {
   "codemirror_mode": {
    "name": "ipython",
    "version": 3
   },
   "file_extension": ".py",
   "mimetype": "text/x-python",
   "name": "python",
   "nbconvert_exporter": "python",
   "pygments_lexer": "ipython3",
   "version": "3.8.11"
  }
 },
 "nbformat": 4,
 "nbformat_minor": 5
}
