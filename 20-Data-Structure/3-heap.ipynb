{
 "cells": [
  {
   "cell_type": "markdown",
   "id": "8197baa4",
   "metadata": {},
   "source": [
    "# [heap and priority-queue](https://realpython.com/python-heapq-module/)"
   ]
  },
  {
   "cell_type": "code",
   "execution_count": 5,
   "id": "8da02e34",
   "metadata": {},
   "outputs": [],
   "source": [
    "import heapq\n",
    "min_heap = []\n",
    "heapq.heapify(min_heap)"
   ]
  },
  {
   "cell_type": "code",
   "execution_count": 6,
   "id": "6932b0fe",
   "metadata": {},
   "outputs": [],
   "source": [
    "heapq.heappush(min_heap, (17, 3))"
   ]
  },
  {
   "cell_type": "code",
   "execution_count": 7,
   "id": "7b831028",
   "metadata": {},
   "outputs": [
    {
     "data": {
      "text/plain": [
       "[(17, 3)]"
      ]
     },
     "execution_count": 7,
     "metadata": {},
     "output_type": "execute_result"
    }
   ],
   "source": [
    "min_heap"
   ]
  },
  {
   "cell_type": "code",
   "execution_count": 8,
   "id": "7553da31",
   "metadata": {},
   "outputs": [],
   "source": [
    "heapq.heappush(min_heap, (4, 3))"
   ]
  },
  {
   "cell_type": "code",
   "execution_count": 9,
   "id": "39b0af4d",
   "metadata": {},
   "outputs": [
    {
     "data": {
      "text/plain": [
       "[(4, 3), (17, 3)]"
      ]
     },
     "execution_count": 9,
     "metadata": {},
     "output_type": "execute_result"
    }
   ],
   "source": [
    "min_heap"
   ]
  },
  {
   "cell_type": "code",
   "execution_count": null,
   "id": "dc0af2c9",
   "metadata": {},
   "outputs": [],
   "source": []
  }
 ],
 "metadata": {
  "kernelspec": {
   "display_name": "Python 3",
   "language": "python",
   "name": "python3"
  },
  "language_info": {
   "codemirror_mode": {
    "name": "ipython",
    "version": 3
   },
   "file_extension": ".py",
   "mimetype": "text/x-python",
   "name": "python",
   "nbconvert_exporter": "python",
   "pygments_lexer": "ipython3",
   "version": "3.8.8"
  }
 },
 "nbformat": 4,
 "nbformat_minor": 5
}
