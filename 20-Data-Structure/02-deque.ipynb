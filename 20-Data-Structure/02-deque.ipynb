{
 "cells": [
  {
   "cell_type": "markdown",
   "id": "57cad8a5",
   "metadata": {},
   "source": [
    "# [deque](https://realpython.com/python-deque/)\n",
    "\n",
    "![deque img](https://bit.ly/2ZVOMp1)\n",
    "\n",
    "- How to create and use Python’s **deque** in your code\n",
    "- How to efficiently **append** and **pop** items from both ends of a deque\n",
    "- How to use deque to build efficient **queues** and **stacks**\n",
    "- When it’s worth using **deque** instead of **list**"
   ]
  },
  {
   "cell_type": "markdown",
   "id": "106aa361",
   "metadata": {},
   "source": [
    "## Getting Started With Python’s deque\n",
    "\n",
    "Here’s a summary of the main characteristics of deque:\n",
    "\n",
    "- Stores items of any data type\n",
    "- Is a mutable data type\n",
    "- Supports membership operations with the in operator\n",
    "- Supports indexing, like in a_deque[i]\n",
    "- Doesn’t support slicing, like in a_deque[0:2]\n",
    "- Supports built-in functions that operate on sequences and iterables, such as len(), sorted(), reversed(), and more\n",
    "- Doesn’t support in-place sorting\n",
    "- Supports normal and reverse iteration\n",
    "- Supports pickling with [pickle](https://realpython.com/python-pickle-module/)\n",
    "- Ensures fast, memory-efficient, and thread-safe pop and append operations on both ends"
   ]
  },
  {
   "cell_type": "code",
   "execution_count": 1,
   "id": "3ad9fa6f",
   "metadata": {},
   "outputs": [],
   "source": [
    "from collections import deque"
   ]
  },
  {
   "cell_type": "code",
   "execution_count": 2,
   "id": "5d6c4c85",
   "metadata": {},
   "outputs": [
    {
     "data": {
      "text/plain": [
       "deque([])"
      ]
     },
     "execution_count": 2,
     "metadata": {},
     "output_type": "execute_result"
    }
   ],
   "source": [
    "# empty deque\n",
    "deque()"
   ]
  },
  {
   "cell_type": "code",
   "execution_count": 3,
   "id": "f658c2cf",
   "metadata": {
    "scrolled": true
   },
   "outputs": [
    {
     "data": {
      "text/plain": [
       "deque([1, 2, 3, 4, 5])"
      ]
     },
     "execution_count": 3,
     "metadata": {},
     "output_type": "execute_result"
    }
   ],
   "source": [
    "deque([1, 2, 3, 4, 5])"
   ]
  },
  {
   "cell_type": "code",
   "execution_count": 4,
   "id": "9ef4bd00",
   "metadata": {},
   "outputs": [
    {
     "data": {
      "text/plain": [
       "deque([1, 2, 3, 4])"
      ]
     },
     "execution_count": 4,
     "metadata": {},
     "output_type": "execute_result"
    }
   ],
   "source": [
    "deque(range(1, 5))"
   ]
  },
  {
   "cell_type": "code",
   "execution_count": 5,
   "id": "b7669311",
   "metadata": {},
   "outputs": [
    {
     "data": {
      "text/plain": [
       "deque(['a', 'b', 'c', 'd', 'e'])"
      ]
     },
     "execution_count": 5,
     "metadata": {},
     "output_type": "execute_result"
    }
   ],
   "source": [
    "deque('abcde')"
   ]
  },
  {
   "cell_type": "code",
   "execution_count": 6,
   "id": "637ffaf6",
   "metadata": {},
   "outputs": [
    {
     "data": {
      "text/plain": [
       "deque([('apple', 1.5), ('banna', 2.0), ('cherry', 1.7)])"
      ]
     },
     "execution_count": 6,
     "metadata": {},
     "output_type": "execute_result"
    }
   ],
   "source": [
    "item_price = {'apple': 1.5, 'banna': 2.0, 'cherry': 1.7}\n",
    "deque(item_price.items())"
   ]
  },
  {
   "cell_type": "markdown",
   "id": "12b72079",
   "metadata": {},
   "source": [
    "## Popping and Appending Items Efficiently\n",
    "\n",
    "deque is implemented as a doubly linked list. So, every item in a given deque holds a reference (pointer) to the next and previous item in the sequence.\n",
    "\n",
    "Doubly linked lists make appending and popping items from either end light and efficient operations. That’s possible because only the pointers need to be updated. As a result, both operations have similar performance, O(1)."
   ]
  },
  {
   "cell_type": "code",
   "execution_count": 7,
   "id": "9ee64057",
   "metadata": {},
   "outputs": [
    {
     "data": {
      "text/plain": [
       "deque([5, 2, 3, 4])"
      ]
     },
     "execution_count": 7,
     "metadata": {},
     "output_type": "execute_result"
    }
   ],
   "source": [
    "numbers = deque([1, 2, 3, 4])\n",
    "numbers.popleft()\n",
    "numbers.appendleft(5)\n",
    "numbers"
   ]
  },
  {
   "cell_type": "code",
   "execution_count": 8,
   "id": "db4d6893",
   "metadata": {},
   "outputs": [
    {
     "data": {
      "text/plain": [
       "deque([5, 2, 3, 7])"
      ]
     },
     "execution_count": 8,
     "metadata": {},
     "output_type": "execute_result"
    }
   ],
   "source": [
    "numbers.pop()\n",
    "numbers.append(7)\n",
    "numbers"
   ]
  },
  {
   "cell_type": "markdown",
   "id": "116e8d42",
   "metadata": {},
   "source": [
    "## Accessing Random Items in a deque\n",
    "\n",
    "There is a hidden cost behind deque being implemented as a doubly linked list: accessing, inserting, and removing arbitrary items aren’t efficient operations. To perform them, the interpreter has to iterate through the deque until it gets to the desired item. So, they’re O(n) instead of O(1) operations."
   ]
  },
  {
   "cell_type": "code",
   "execution_count": 9,
   "id": "a3da7b17",
   "metadata": {},
   "outputs": [
    {
     "data": {
      "text/plain": [
       "deque(['a', 'b', 'd', 'e'])"
      ]
     },
     "execution_count": 9,
     "metadata": {},
     "output_type": "execute_result"
    }
   ],
   "source": [
    "letters = deque('abde')\n",
    "letters"
   ]
  },
  {
   "cell_type": "code",
   "execution_count": 10,
   "id": "369bb44d",
   "metadata": {},
   "outputs": [
    {
     "data": {
      "text/plain": [
       "deque(['a', 'b', 'c', 'd', 'e'])"
      ]
     },
     "execution_count": 10,
     "metadata": {},
     "output_type": "execute_result"
    }
   ],
   "source": [
    "letters.insert(2, 'c')\n",
    "letters"
   ]
  },
  {
   "cell_type": "code",
   "execution_count": 11,
   "id": "89de6ce8",
   "metadata": {},
   "outputs": [
    {
     "data": {
      "text/plain": [
       "deque(['a', 'b', 'c', 'e'])"
      ]
     },
     "execution_count": 11,
     "metadata": {},
     "output_type": "execute_result"
    }
   ],
   "source": [
    "letters.remove('d')\n",
    "letters"
   ]
  },
  {
   "cell_type": "code",
   "execution_count": 12,
   "id": "65a7355d",
   "metadata": {},
   "outputs": [
    {
     "data": {
      "text/plain": [
       "'a'"
      ]
     },
     "execution_count": 12,
     "metadata": {},
     "output_type": "execute_result"
    }
   ],
   "source": [
    "letters[0]"
   ]
  },
  {
   "cell_type": "code",
   "execution_count": 13,
   "id": "04d8cfbb",
   "metadata": {
    "scrolled": true
   },
   "outputs": [
    {
     "data": {
      "text/plain": [
       "deque(['a', 'b', 'e'])"
      ]
     },
     "execution_count": 13,
     "metadata": {},
     "output_type": "execute_result"
    }
   ],
   "source": [
    "del letters[2]\n",
    "letters"
   ]
  },
  {
   "cell_type": "markdown",
   "id": "f8c7e207",
   "metadata": {},
   "source": [
    "## Building Efficient Queues With deque\n",
    "\n",
    "Queues manage their items in a First-In/First-Out (FIFO) fashion. They work as a pipe where you push in new items at one end of the pipe and pop old items out from the other end. Adding an item to one end of a queue is known as an enqueue operation. Removing an item from the other end is called dequeue.\n",
    "\n",
    "- Enqueuing items\n",
    "- Dequeuing items\n",
    "- Returning the length of the queue\n",
    "- Supporting membership tests\n",
    "- Supporting normal and reverse iteration\n",
    "- Providing a user-friendly string representation"
   ]
  },
  {
   "cell_type": "code",
   "execution_count": 14,
   "id": "fa280dfa",
   "metadata": {},
   "outputs": [],
   "source": [
    "from collections import deque\n",
    "\n",
    "class Queue:\n",
    "    def __init__(self):\n",
    "        self._items = deque()\n",
    "    \n",
    "    def enqueue(self, item):\n",
    "        self._items.append(item)\n",
    "        \n",
    "    def dequeue(self):\n",
    "        try:\n",
    "            return self._items.popleft()\n",
    "        except IndexError:\n",
    "            raise IndexError(\"empty\") from None\n",
    "            \n",
    "    def __len__(self):\n",
    "        return len(self._items)\n",
    "    \n",
    "    def __contains__(self, item):\n",
    "        return item in self._items\n",
    "    \n",
    "    def __iter__(self):\n",
    "        yield from self._items\n",
    "        \n",
    "    def __reversed__(self):\n",
    "        yield from reversed(self._items)\n",
    "        \n",
    "    def __repr__(self):\n",
    "        return f'Queue({list(self._items)})'"
   ]
  },
  {
   "cell_type": "code",
   "execution_count": 15,
   "id": "c21c55dd",
   "metadata": {},
   "outputs": [
    {
     "data": {
      "text/plain": [
       "Queue([])"
      ]
     },
     "execution_count": 15,
     "metadata": {},
     "output_type": "execute_result"
    }
   ],
   "source": [
    "numbers = Queue()\n",
    "numbers"
   ]
  },
  {
   "cell_type": "code",
   "execution_count": 16,
   "id": "83666a6d",
   "metadata": {},
   "outputs": [
    {
     "data": {
      "text/plain": [
       "Queue([0, 1, 2, 3, 4, 5, 6, 7])"
      ]
     },
     "execution_count": 16,
     "metadata": {},
     "output_type": "execute_result"
    }
   ],
   "source": [
    "for i in range(8):\n",
    "    numbers.enqueue(i)\n",
    "numbers"
   ]
  },
  {
   "cell_type": "code",
   "execution_count": 17,
   "id": "14368457",
   "metadata": {},
   "outputs": [
    {
     "data": {
      "text/plain": [
       "Queue([3, 4, 5, 6, 7])"
      ]
     },
     "execution_count": 17,
     "metadata": {},
     "output_type": "execute_result"
    }
   ],
   "source": [
    "for i in range(3):\n",
    "    numbers.dequeue()\n",
    "numbers"
   ]
  },
  {
   "cell_type": "code",
   "execution_count": 18,
   "id": "fb0bdb50",
   "metadata": {},
   "outputs": [
    {
     "data": {
      "text/plain": [
       "5"
      ]
     },
     "execution_count": 18,
     "metadata": {},
     "output_type": "execute_result"
    }
   ],
   "source": [
    "len(numbers)"
   ]
  },
  {
   "cell_type": "code",
   "execution_count": 19,
   "id": "eded727a",
   "metadata": {},
   "outputs": [
    {
     "data": {
      "text/plain": [
       "True"
      ]
     },
     "execution_count": 19,
     "metadata": {},
     "output_type": "execute_result"
    }
   ],
   "source": [
    "3 in numbers"
   ]
  },
  {
   "cell_type": "code",
   "execution_count": 20,
   "id": "bc36540b",
   "metadata": {},
   "outputs": [
    {
     "name": "stdout",
     "output_type": "stream",
     "text": [
      "3 4 5 6 7 "
     ]
    }
   ],
   "source": [
    "for num in numbers:\n",
    "    print(num, end=\" \")"
   ]
  },
  {
   "cell_type": "markdown",
   "id": "3c84678c",
   "metadata": {},
   "source": [
    "## Exploring Other Features of deque\n",
    "\n",
    "### Limiting the Maximum Number of Items: maxlen\n",
    "\n",
    "If you supply a value to maxlen, then your deque will only store up to maxlen items. In this case, you have a bounded deque. Once a **bounded deque** is full with the specified number of items, adding a new item at either end automatically **removes and discards the item** at the **opposite end**:"
   ]
  },
  {
   "cell_type": "code",
   "execution_count": 21,
   "id": "6ea6e80d",
   "metadata": {},
   "outputs": [
    {
     "data": {
      "text/plain": [
       "deque([2, 3, 4, 5, 6])"
      ]
     },
     "execution_count": 21,
     "metadata": {},
     "output_type": "execute_result"
    }
   ],
   "source": [
    "from collections import deque\n",
    "\n",
    "five_numbers = deque([1, 2, 3, 4, 5, 6], maxlen=5) # discard 1\n",
    "five_numbers"
   ]
  },
  {
   "cell_type": "code",
   "execution_count": 22,
   "id": "d52a88e2",
   "metadata": {},
   "outputs": [
    {
     "data": {
      "text/plain": [
       "deque([3, 4, 5, 6, 7])"
      ]
     },
     "execution_count": 22,
     "metadata": {},
     "output_type": "execute_result"
    }
   ],
   "source": [
    "five_numbers.append(7) # remove 2\n",
    "five_numbers"
   ]
  },
  {
   "cell_type": "code",
   "execution_count": 23,
   "id": "3e55e7f6",
   "metadata": {},
   "outputs": [
    {
     "data": {
      "text/plain": [
       "deque([2, 3, 4, 5, 6])"
      ]
     },
     "execution_count": 23,
     "metadata": {},
     "output_type": "execute_result"
    }
   ],
   "source": [
    "five_numbers.appendleft(2) # remove 3\n",
    "five_numbers"
   ]
  },
  {
   "cell_type": "code",
   "execution_count": 24,
   "id": "419a5be0",
   "metadata": {},
   "outputs": [
    {
     "data": {
      "text/plain": [
       "5"
      ]
     },
     "execution_count": 24,
     "metadata": {},
     "output_type": "execute_result"
    }
   ],
   "source": [
    "five_numbers.maxlen"
   ]
  },
  {
   "cell_type": "code",
   "execution_count": 25,
   "id": "335705e0",
   "metadata": {},
   "outputs": [
    {
     "data": {
      "text/plain": [
       "True"
      ]
     },
     "execution_count": 25,
     "metadata": {},
     "output_type": "execute_result"
    }
   ],
   "source": [
    "five_numbers.maxlen == len(five_numbers)"
   ]
  },
  {
   "cell_type": "markdown",
   "id": "ca9ae3aa",
   "metadata": {},
   "source": [
    "Note that if you don’t specify a value to maxlen, then it defaults to None, and the deque can grow to an arbitrary number of items."
   ]
  },
  {
   "cell_type": "markdown",
   "id": "8a6d4f45",
   "metadata": {},
   "source": [
    "### Rotating the Items: .rotate()\n",
    "\n",
    "This method takes an integer n as an argument and rotates the items n steps to the right. In other words, it moves n items from the right end to the left end in a circular fashion. If you provide a negative value to n, then the rotation is to the left:"
   ]
  },
  {
   "cell_type": "code",
   "execution_count": 26,
   "id": "5c5879be",
   "metadata": {},
   "outputs": [
    {
     "data": {
      "text/plain": [
       "deque(['1st', '2nd', '3rd'])"
      ]
     },
     "execution_count": 26,
     "metadata": {},
     "output_type": "execute_result"
    }
   ],
   "source": [
    "from collections import deque\n",
    "\n",
    "ordinals = deque(['1st', '2nd', '3rd'])\n",
    "ordinals"
   ]
  },
  {
   "cell_type": "code",
   "execution_count": 27,
   "id": "f77e8178",
   "metadata": {
    "scrolled": true
   },
   "outputs": [
    {
     "data": {
      "text/plain": [
       "deque(['3rd', '1st', '2nd'])"
      ]
     },
     "execution_count": 27,
     "metadata": {},
     "output_type": "execute_result"
    }
   ],
   "source": [
    "ordinals.rotate()\n",
    "ordinals"
   ]
  },
  {
   "cell_type": "code",
   "execution_count": 28,
   "id": "9fd51650",
   "metadata": {},
   "outputs": [
    {
     "data": {
      "text/plain": [
       "deque(['1st', '2nd', '3rd'])"
      ]
     },
     "execution_count": 28,
     "metadata": {},
     "output_type": "execute_result"
    }
   ],
   "source": [
    "ordinals.rotate(2)\n",
    "ordinals"
   ]
  },
  {
   "cell_type": "code",
   "execution_count": 29,
   "id": "1fa134b2",
   "metadata": {},
   "outputs": [
    {
     "data": {
      "text/plain": [
       "deque(['2nd', '3rd', '1st'])"
      ]
     },
     "execution_count": 29,
     "metadata": {},
     "output_type": "execute_result"
    }
   ],
   "source": [
    "ordinals.rotate(-1)\n",
    "ordinals"
   ]
  },
  {
   "cell_type": "markdown",
   "id": "7bce7567",
   "metadata": {},
   "source": [
    "### Adding Several Items at Once: .extendleft()\n",
    "\n",
    "deques provide an .extend() method, which allows you to add several items to the right end of a deque using an iterable as an argument. Additionally, deques have a method called extendleft(), which takes an iterable as an argument and adds its items to the left end of the target deque"
   ]
  },
  {
   "cell_type": "code",
   "execution_count": 30,
   "id": "78fd2807",
   "metadata": {},
   "outputs": [
    {
     "data": {
      "text/plain": [
       "deque([4, 5, 6])"
      ]
     },
     "execution_count": 30,
     "metadata": {},
     "output_type": "execute_result"
    }
   ],
   "source": [
    "from collections import deque\n",
    "\n",
    "numbers = deque([4, 5, 6])\n",
    "numbers"
   ]
  },
  {
   "cell_type": "code",
   "execution_count": 31,
   "id": "5db602ac",
   "metadata": {},
   "outputs": [
    {
     "data": {
      "text/plain": [
       "deque([4, 5, 6, 7, 8])"
      ]
     },
     "execution_count": 31,
     "metadata": {},
     "output_type": "execute_result"
    }
   ],
   "source": [
    "numbers.extend((7, 8))\n",
    "numbers"
   ]
  },
  {
   "cell_type": "code",
   "execution_count": 32,
   "id": "feb341f8",
   "metadata": {},
   "outputs": [
    {
     "data": {
      "text/plain": [
       "deque([1, 2, 3, 4, 5, 6, 7, 8])"
      ]
     },
     "execution_count": 32,
     "metadata": {},
     "output_type": "execute_result"
    }
   ],
   "source": [
    "numbers.extendleft((3, 2, 1))\n",
    "numbers"
   ]
  },
  {
   "cell_type": "markdown",
   "id": "bfc0ce81",
   "metadata": {},
   "source": [
    "### Using Sequence-Like Features of deque\n",
    "\n",
    "Since deques are mutable sequences, they implement almost all the methods and operations that are common to sequences and mutable sequences."
   ]
  },
  {
   "cell_type": "code",
   "execution_count": 33,
   "id": "30aec6d0",
   "metadata": {},
   "outputs": [
    {
     "data": {
      "text/plain": [
       "deque([1, 2, 3, 4, 5, 6])"
      ]
     },
     "execution_count": 33,
     "metadata": {},
     "output_type": "execute_result"
    }
   ],
   "source": [
    "from collections import deque\n",
    "\n",
    "# concatenation\n",
    "numbers = deque([1, 2, 3])\n",
    "numbers + deque([4, 5, 6])"
   ]
  },
  {
   "cell_type": "code",
   "execution_count": 34,
   "id": "4e6fb814",
   "metadata": {},
   "outputs": [
    {
     "data": {
      "text/plain": [
       "deque([1, 2, 3, 1, 2, 3])"
      ]
     },
     "execution_count": 34,
     "metadata": {},
     "output_type": "execute_result"
    }
   ],
   "source": [
    "numbers * 2"
   ]
  },
  {
   "cell_type": "code",
   "execution_count": 35,
   "id": "928a2a6d",
   "metadata": {},
   "outputs": [
    {
     "data": {
      "text/plain": [
       "1"
      ]
     },
     "execution_count": 35,
     "metadata": {},
     "output_type": "execute_result"
    }
   ],
   "source": [
    "numbers.index(2)"
   ]
  },
  {
   "cell_type": "code",
   "execution_count": 36,
   "id": "fa73b07e",
   "metadata": {},
   "outputs": [
    {
     "data": {
      "text/plain": [
       "1"
      ]
     },
     "execution_count": 36,
     "metadata": {},
     "output_type": "execute_result"
    }
   ],
   "source": [
    "numbers.count(3)"
   ]
  },
  {
   "cell_type": "code",
   "execution_count": 37,
   "id": "f139d4da",
   "metadata": {},
   "outputs": [
    {
     "data": {
      "text/plain": [
       "deque([3, 2, 1])"
      ]
     },
     "execution_count": 37,
     "metadata": {},
     "output_type": "execute_result"
    }
   ],
   "source": [
    "numbers.reverse()\n",
    "numbers"
   ]
  },
  {
   "cell_type": "code",
   "execution_count": 38,
   "id": "2383b2df",
   "metadata": {},
   "outputs": [
    {
     "data": {
      "text/plain": [
       "deque([])"
      ]
     },
     "execution_count": 38,
     "metadata": {},
     "output_type": "execute_result"
    }
   ],
   "source": [
    "numbers.clear()\n",
    "numbers"
   ]
  },
  {
   "cell_type": "markdown",
   "id": "2497c5f8",
   "metadata": {},
   "source": [
    "Unlike lists, deques don’t include a .sort() method to sort the sequence in place. This is because sorting a linked list would be an inefficient operation. If you ever need to sort a deque, then you can still use sorted()."
   ]
  },
  {
   "cell_type": "code",
   "execution_count": 39,
   "id": "a441f807",
   "metadata": {},
   "outputs": [
    {
     "data": {
      "text/plain": [
       "[0, 1, 2, 3, 5, 7]"
      ]
     },
     "execution_count": 39,
     "metadata": {},
     "output_type": "execute_result"
    }
   ],
   "source": [
    "numbers = deque([2, 1, 7, 3, 5, 0])\n",
    "numbers = sorted(numbers)\n",
    "numbers"
   ]
  }
 ],
 "metadata": {
  "kernelspec": {
   "display_name": "Python 3 (ipykernel)",
   "language": "python",
   "name": "python3"
  },
  "language_info": {
   "codemirror_mode": {
    "name": "ipython",
    "version": 3
   },
   "file_extension": ".py",
   "mimetype": "text/x-python",
   "name": "python",
   "nbconvert_exporter": "python",
   "pygments_lexer": "ipython3",
   "version": "3.8.11"
  }
 },
 "nbformat": 4,
 "nbformat_minor": 5
}
