{
 "cells": [
  {
   "cell_type": "markdown",
   "id": "8197baa4",
   "metadata": {},
   "source": [
    "# [heap and priority queue](https://realpython.com/python-heapq-module/)\n",
    "\n",
    "Heaps are **concrete** data structures, whereas priority queues are **abstract** data structures. Heaps are commonly used to implement priority queues. Concrete data structures implement the operations defined in an abstract data structure and further specify performance guarantees.\n",
    "\n",
    "The priority queue abstract data structure, for example, supports three operations:\n",
    "1. **is_empty** checks whether the queue is empty.\n",
    "2. **add_element** adds an element to the queue.\n",
    "3. **pop_element** pops the element with the highest priority."
   ]
  },
  {
   "cell_type": "markdown",
   "id": "5f7b3c30",
   "metadata": {},
   "source": [
    "The heap implementation of the priority queue guarantees that both pushing (adding) and popping (removing) elements are logarithmic time operations. "
   ]
  },
  {
   "cell_type": "code",
   "execution_count": 5,
   "id": "8da02e34",
   "metadata": {},
   "outputs": [],
   "source": [
    "import heapq\n",
    "min_heap = []\n",
    "heapq.heapify(min_heap)"
   ]
  },
  {
   "cell_type": "code",
   "execution_count": 6,
   "id": "6932b0fe",
   "metadata": {},
   "outputs": [],
   "source": [
    "heapq.heappush(min_heap, (17, 3))"
   ]
  },
  {
   "cell_type": "code",
   "execution_count": 7,
   "id": "7b831028",
   "metadata": {},
   "outputs": [
    {
     "data": {
      "text/plain": [
       "[(17, 3)]"
      ]
     },
     "execution_count": 7,
     "metadata": {},
     "output_type": "execute_result"
    }
   ],
   "source": [
    "min_heap"
   ]
  },
  {
   "cell_type": "code",
   "execution_count": 8,
   "id": "7553da31",
   "metadata": {},
   "outputs": [],
   "source": [
    "heapq.heappush(min_heap, (4, 3))"
   ]
  },
  {
   "cell_type": "code",
   "execution_count": 9,
   "id": "39b0af4d",
   "metadata": {},
   "outputs": [
    {
     "data": {
      "text/plain": [
       "[(4, 3), (17, 3)]"
      ]
     },
     "execution_count": 9,
     "metadata": {},
     "output_type": "execute_result"
    }
   ],
   "source": [
    "min_heap"
   ]
  },
  {
   "cell_type": "code",
   "execution_count": null,
   "id": "dc0af2c9",
   "metadata": {},
   "outputs": [],
   "source": []
  }
 ],
 "metadata": {
  "kernelspec": {
   "display_name": "Python 3 (ipykernel)",
   "language": "python",
   "name": "python3"
  },
  "language_info": {
   "codemirror_mode": {
    "name": "ipython",
    "version": 3
   },
   "file_extension": ".py",
   "mimetype": "text/x-python",
   "name": "python",
   "nbconvert_exporter": "python",
   "pygments_lexer": "ipython3",
   "version": "3.8.11"
  }
 },
 "nbformat": 4,
 "nbformat_minor": 5
}
