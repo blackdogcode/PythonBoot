{
 "cells": [
  {
   "cell_type": "markdown",
   "id": "23dbe67d",
   "metadata": {},
   "source": [
    "#  [Stack](https://realpython.com/how-to-implement-python-stack/)\n",
    "\n",
    "![stack image](https://bit.ly/3uJOKvF)\n",
    "\n",
    "A stack is a data structure that stores items in an Last-In/First-Out manner. This is frequently referred to as **LIFO**. This is in **contrast to a queue**, which stores items in a First-In/First-Out (FIFO) manner."
   ]
  },
  {
   "cell_type": "markdown",
   "id": "14728c52",
   "metadata": {},
   "source": [
    "## Implementing a Python Stack\n",
    "\n",
    "- list\n",
    "- collections.deque\n",
    "- queue.LifoQueue"
   ]
  },
  {
   "cell_type": "markdown",
   "id": "66b2af3e",
   "metadata": {},
   "source": [
    "### Using list to Create a Python Stack\n",
    "\n",
    "Instead of .push(), you can use **.append()** to add new elements to the top of your stack, while **.pop()** removes the elements in the LIFO order"
   ]
  },
  {
   "cell_type": "code",
   "execution_count": 1,
   "id": "5dfebd1e",
   "metadata": {},
   "outputs": [
    {
     "name": "stdout",
     "output_type": "stream",
     "text": [
      "[1]\n",
      "[1, 2]\n",
      "[1, 2, 3]\n"
     ]
    }
   ],
   "source": [
    "stack = []\n",
    "for item in range(1, 4):\n",
    "    stack.append(item)\n",
    "    print(stack)"
   ]
  },
  {
   "cell_type": "code",
   "execution_count": 2,
   "id": "0c83e68e",
   "metadata": {},
   "outputs": [
    {
     "name": "stdout",
     "output_type": "stream",
     "text": [
      "3 [1, 2]\n",
      "2 [1]\n",
      "1 []\n"
     ]
    }
   ],
   "source": [
    "for _ in range(3):\n",
    "    item = stack.pop()\n",
    "    print(item, stack)"
   ]
  },
  {
   "cell_type": "code",
   "execution_count": 3,
   "id": "9538d5e2",
   "metadata": {},
   "outputs": [
    {
     "ename": "IndexError",
     "evalue": "pop from empty list",
     "output_type": "error",
     "traceback": [
      "\u001b[1;31m---------------------------------------------------------------------------\u001b[0m",
      "\u001b[1;31mIndexError\u001b[0m                                Traceback (most recent call last)",
      "\u001b[1;32m<ipython-input-3-415460d3b717>\u001b[0m in \u001b[0;36m<module>\u001b[1;34m\u001b[0m\n\u001b[1;32m----> 1\u001b[1;33m \u001b[0mstack\u001b[0m\u001b[1;33m.\u001b[0m\u001b[0mpop\u001b[0m\u001b[1;33m(\u001b[0m\u001b[1;33m)\u001b[0m\u001b[1;33m\u001b[0m\u001b[1;33m\u001b[0m\u001b[0m\n\u001b[0m",
      "\u001b[1;31mIndexError\u001b[0m: pop from empty list"
     ]
    }
   ],
   "source": [
    "stack.pop()"
   ]
  },
  {
   "cell_type": "markdown",
   "id": "b6101dcc",
   "metadata": {},
   "source": [
    "Unfortunately, list has a few shortcomings compared to other data structures you’ll look at. The biggest issue is that it can run into speed issues as it grows.\n",
    "\n",
    "If your stack grows bigger than the block of memory that currently holds it, then Python needs to do some memory allocations. This can lead to some .append() calls taking much longer than other ones."
   ]
  }
 ],
 "metadata": {
  "kernelspec": {
   "display_name": "Python 3",
   "language": "python",
   "name": "python3"
  },
  "language_info": {
   "codemirror_mode": {
    "name": "ipython",
    "version": 3
   },
   "file_extension": ".py",
   "mimetype": "text/x-python",
   "name": "python",
   "nbconvert_exporter": "python",
   "pygments_lexer": "ipython3",
   "version": "3.8.8"
  }
 },
 "nbformat": 4,
 "nbformat_minor": 5
}
