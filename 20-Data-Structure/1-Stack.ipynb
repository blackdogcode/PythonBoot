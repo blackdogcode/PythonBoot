{
 "cells": [
  {
   "cell_type": "markdown",
   "id": "23dbe67d",
   "metadata": {},
   "source": [
    "#  [Stack](https://realpython.com/how-to-implement-python-stack/)\n",
    "\n",
    "![stack image](https://bit.ly/3uJOKvF)\n",
    "\n",
    "A stack is a data structure that stores items in an Last-In/First-Out manner. This is frequently referred to as **LIFO**. This is in **contrast to a queue**, which stores items in a First-In/First-Out (FIFO) manner."
   ]
  },
  {
   "cell_type": "code",
   "execution_count": null,
   "id": "8f7d32f1",
   "metadata": {},
   "outputs": [],
   "source": []
  }
 ],
 "metadata": {
  "kernelspec": {
   "display_name": "Python 3 (ipykernel)",
   "language": "python",
   "name": "python3"
  },
  "language_info": {
   "codemirror_mode": {
    "name": "ipython",
    "version": 3
   },
   "file_extension": ".py",
   "mimetype": "text/x-python",
   "name": "python",
   "nbconvert_exporter": "python",
   "pygments_lexer": "ipython3",
   "version": "3.8.11"
  }
 },
 "nbformat": 4,
 "nbformat_minor": 5
}
