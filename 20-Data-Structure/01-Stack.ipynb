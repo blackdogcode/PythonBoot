{
 "cells": [
  {
   "cell_type": "markdown",
   "id": "23dbe67d",
   "metadata": {},
   "source": [
    "#  [Stack](https://realpython.com/how-to-implement-python-stack/)\n",
    "\n",
    "![stack image](https://bit.ly/3uJOKvF)\n",
    "\n",
    "A stack is a data structure that stores items in an Last-In/First-Out manner. This is frequently referred to as **LIFO**. This is in **contrast to a queue**, which stores items in a First-In/First-Out (FIFO) manner."
   ]
  },
  {
   "cell_type": "markdown",
   "id": "c4d2fb50",
   "metadata": {},
   "source": [
    "## Implementing a Python Stack\n",
    "\n",
    "- list\n",
    "- collections.deque\n",
    "- queue.LifoQueue"
   ]
  },
  {
   "cell_type": "markdown",
   "id": "df16041b",
   "metadata": {},
   "source": [
    "### 1. Using list to Create a Python Stack\n",
    "\n",
    "Instead of .push(), you can use **.append()** to add new elements to the top of your stack, while **.pop()** removes the elements in the LIFO order"
   ]
  },
  {
   "cell_type": "code",
   "execution_count": 1,
   "id": "9a68a419",
   "metadata": {
    "scrolled": true
   },
   "outputs": [
    {
     "name": "stdout",
     "output_type": "stream",
     "text": [
      "[1]\n",
      "[1, 2]\n",
      "[1, 2, 3]\n"
     ]
    }
   ],
   "source": [
    "stack_1 = []\n",
    "for item in range(1, 4):\n",
    "    stack_1.append(item)\n",
    "    print(stack_1)"
   ]
  },
  {
   "cell_type": "code",
   "execution_count": 2,
   "id": "046ecde7",
   "metadata": {},
   "outputs": [
    {
     "name": "stdout",
     "output_type": "stream",
     "text": [
      "3 [1, 2]\n",
      "2 [1]\n",
      "1 []\n"
     ]
    }
   ],
   "source": [
    "for _ in range(3):\n",
    "    item = stack_1.pop()\n",
    "    print(item, stack_1)"
   ]
  },
  {
   "cell_type": "code",
   "execution_count": 3,
   "id": "261af2c3",
   "metadata": {},
   "outputs": [
    {
     "ename": "IndexError",
     "evalue": "pop from empty list",
     "output_type": "error",
     "traceback": [
      "\u001b[1;31m---------------------------------------------------------------------------\u001b[0m",
      "\u001b[1;31mIndexError\u001b[0m                                Traceback (most recent call last)",
      "\u001b[1;32m<ipython-input-3-c8d485af1b82>\u001b[0m in \u001b[0;36m<module>\u001b[1;34m\u001b[0m\n\u001b[1;32m----> 1\u001b[1;33m \u001b[0mstack_1\u001b[0m\u001b[1;33m.\u001b[0m\u001b[0mpop\u001b[0m\u001b[1;33m(\u001b[0m\u001b[1;33m)\u001b[0m\u001b[1;33m\u001b[0m\u001b[1;33m\u001b[0m\u001b[0m\n\u001b[0m",
      "\u001b[1;31mIndexError\u001b[0m: pop from empty list"
     ]
    }
   ],
   "source": [
    "stack_1.pop()"
   ]
  },
  {
   "cell_type": "code",
   "execution_count": 4,
   "id": "54e67ea0",
   "metadata": {},
   "outputs": [
    {
     "name": "stdout",
     "output_type": "stream",
     "text": [
      "stack_1 is empty!\n"
     ]
    }
   ],
   "source": [
    "try:\n",
    "    stack_1.pop()\n",
    "except IndexError:\n",
    "    print('stack_1 is empty!')"
   ]
  },
  {
   "cell_type": "markdown",
   "id": "37af2513",
   "metadata": {},
   "source": [
    "Unfortunately, list has a few shortcomings compared to other data structures you’ll look at. The biggest issue is that it can run into speed issues as it grows.\n",
    "\n",
    "If your **stack grows bigger than the block of memory** that currently holds it, then Python needs to do some memory allocations. This can lead to some **.append() calls taking much longer** than other ones."
   ]
  },
  {
   "cell_type": "markdown",
   "id": "03a6e4fb",
   "metadata": {},
   "source": [
    "### 2. Using collections.deque to Create a Python Stack\n",
    "\n",
    "deque is pronounced “deck” and stands for “double-ended queue.”"
   ]
  },
  {
   "cell_type": "code",
   "execution_count": 5,
   "id": "d50d87cc",
   "metadata": {},
   "outputs": [],
   "source": [
    "from collections import deque\n",
    "stack_2 = deque()"
   ]
  },
  {
   "cell_type": "code",
   "execution_count": 6,
   "id": "62abcfd6",
   "metadata": {},
   "outputs": [
    {
     "name": "stdout",
     "output_type": "stream",
     "text": [
      "deque(['a'])\n",
      "deque(['a', 'b'])\n",
      "deque(['a', 'b', 'c'])\n"
     ]
    }
   ],
   "source": [
    "for item in 'abc':\n",
    "    stack_2.append(item)\n",
    "    print(stack_2)"
   ]
  },
  {
   "cell_type": "code",
   "execution_count": 7,
   "id": "cd28e7d2",
   "metadata": {},
   "outputs": [
    {
     "name": "stdout",
     "output_type": "stream",
     "text": [
      "c deque(['a', 'b'])\n",
      "b deque(['a'])\n",
      "a deque([])\n"
     ]
    }
   ],
   "source": [
    "for _ in range(3):\n",
    "    item = stack_2.pop()\n",
    "    print(item, stack_2)"
   ]
  },
  {
   "cell_type": "code",
   "execution_count": 8,
   "id": "4f800064",
   "metadata": {},
   "outputs": [
    {
     "ename": "IndexError",
     "evalue": "pop from an empty deque",
     "output_type": "error",
     "traceback": [
      "\u001b[1;31m---------------------------------------------------------------------------\u001b[0m",
      "\u001b[1;31mIndexError\u001b[0m                                Traceback (most recent call last)",
      "\u001b[1;32m<ipython-input-8-a3efe5d14993>\u001b[0m in \u001b[0;36m<module>\u001b[1;34m\u001b[0m\n\u001b[1;32m----> 1\u001b[1;33m \u001b[0mstack_2\u001b[0m\u001b[1;33m.\u001b[0m\u001b[0mpop\u001b[0m\u001b[1;33m(\u001b[0m\u001b[1;33m)\u001b[0m\u001b[1;33m\u001b[0m\u001b[1;33m\u001b[0m\u001b[0m\n\u001b[0m",
      "\u001b[1;31mIndexError\u001b[0m: pop from an empty deque"
     ]
    }
   ],
   "source": [
    "stack_2.pop()"
   ]
  },
  {
   "cell_type": "code",
   "execution_count": 9,
   "id": "f26f803f",
   "metadata": {},
   "outputs": [
    {
     "name": "stdout",
     "output_type": "stream",
     "text": [
      "stack_2 is empty!\n"
     ]
    }
   ],
   "source": [
    "try:\n",
    "    stack_2.pop()\n",
    "except IndexError:\n",
    "    print('stack_2 is empty!')"
   ]
  },
  {
   "cell_type": "markdown",
   "id": "2ccbf221",
   "metadata": {},
   "source": [
    "deque is built upon a **doubly linked list**. In a linked list structure, each entry is stored in its own memory block and has a reference to the next entry in the list.\n",
    "\n",
    "A doubly linked list is just the same, except that each entry has references to both the previous and the next entry in the list. This allows you to easily add nodes to either end of the list."
   ]
  },
  {
   "cell_type": "markdown",
   "id": "476783d9",
   "metadata": {},
   "source": [
    "This **constant-time** addition and removal of entries onto a stack comes with a trade-off, however. Getting myDeque\\[3\\] is slower than it was for a list, because Python needs to walk through each node of the list to get to the third element."
   ]
  },
  {
   "cell_type": "markdown",
   "id": "8ce4ad1a",
   "metadata": {},
   "source": [
    "### 3. queue.LifoQueue - Python Stacks and Threading\n",
    "\n",
    "list is not thread-safe. deque, it clearly states that both the **.append() and .pop()** operations are **atomic**, meaning that they won’t be interrupted by a different thread.\n",
    "\n",
    "However there are other methods in that deque class, and those are not specifically designed to be atomic, **nor are they thread safe**.\n",
    "\n",
    "Unlike deque, **LifoQueue** is designed to be **fully thread-safe**. All of its methods are safe to use in a threaded environment."
   ]
  },
  {
   "cell_type": "code",
   "execution_count": 10,
   "id": "37b9440a",
   "metadata": {},
   "outputs": [],
   "source": [
    "from queue import LifoQueue\n",
    "stack_3 = LifoQueue()"
   ]
  },
  {
   "cell_type": "code",
   "execution_count": 11,
   "id": "9a8c54d0",
   "metadata": {},
   "outputs": [],
   "source": [
    "for item in ['foo', 'bar', 'baz']:\n",
    "    stack_3.put(item)"
   ]
  },
  {
   "cell_type": "code",
   "execution_count": 12,
   "id": "c178a113",
   "metadata": {},
   "outputs": [
    {
     "name": "stdout",
     "output_type": "stream",
     "text": [
      "baz\n",
      "bar\n",
      "foo\n"
     ]
    }
   ],
   "source": [
    "while not stack_3.empty():\n",
    "    item = stack_3.get()\n",
    "    print(item)"
   ]
  },
  {
   "cell_type": "code",
   "execution_count": 13,
   "id": "bbe78512",
   "metadata": {},
   "outputs": [
    {
     "ename": "Empty",
     "evalue": "",
     "output_type": "error",
     "traceback": [
      "\u001b[1;31m---------------------------------------------------------------------------\u001b[0m",
      "\u001b[1;31mEmpty\u001b[0m                                     Traceback (most recent call last)",
      "\u001b[1;32m<ipython-input-13-34fd4b9f9225>\u001b[0m in \u001b[0;36m<module>\u001b[1;34m\u001b[0m\n\u001b[1;32m----> 1\u001b[1;33m \u001b[0mstack_3\u001b[0m\u001b[1;33m.\u001b[0m\u001b[0mget_nowait\u001b[0m\u001b[1;33m(\u001b[0m\u001b[1;33m)\u001b[0m\u001b[1;33m\u001b[0m\u001b[1;33m\u001b[0m\u001b[0m\n\u001b[0m",
      "\u001b[1;32mC:\\ProgramData\\Anaconda3\\lib\\queue.py\u001b[0m in \u001b[0;36mget_nowait\u001b[1;34m(self)\u001b[0m\n\u001b[0;32m    196\u001b[0m         \u001b[1;32mraise\u001b[0m \u001b[0mthe\u001b[0m \u001b[0mEmpty\u001b[0m \u001b[0mexception\u001b[0m\u001b[1;33m.\u001b[0m\u001b[1;33m\u001b[0m\u001b[1;33m\u001b[0m\u001b[0m\n\u001b[0;32m    197\u001b[0m         '''\n\u001b[1;32m--> 198\u001b[1;33m         \u001b[1;32mreturn\u001b[0m \u001b[0mself\u001b[0m\u001b[1;33m.\u001b[0m\u001b[0mget\u001b[0m\u001b[1;33m(\u001b[0m\u001b[0mblock\u001b[0m\u001b[1;33m=\u001b[0m\u001b[1;32mFalse\u001b[0m\u001b[1;33m)\u001b[0m\u001b[1;33m\u001b[0m\u001b[1;33m\u001b[0m\u001b[0m\n\u001b[0m\u001b[0;32m    199\u001b[0m \u001b[1;33m\u001b[0m\u001b[0m\n\u001b[0;32m    200\u001b[0m     \u001b[1;31m# Override these methods to implement other queue organizations\u001b[0m\u001b[1;33m\u001b[0m\u001b[1;33m\u001b[0m\u001b[1;33m\u001b[0m\u001b[0m\n",
      "\u001b[1;32mC:\\ProgramData\\Anaconda3\\lib\\queue.py\u001b[0m in \u001b[0;36mget\u001b[1;34m(self, block, timeout)\u001b[0m\n\u001b[0;32m    165\u001b[0m             \u001b[1;32mif\u001b[0m \u001b[1;32mnot\u001b[0m \u001b[0mblock\u001b[0m\u001b[1;33m:\u001b[0m\u001b[1;33m\u001b[0m\u001b[1;33m\u001b[0m\u001b[0m\n\u001b[0;32m    166\u001b[0m                 \u001b[1;32mif\u001b[0m \u001b[1;32mnot\u001b[0m \u001b[0mself\u001b[0m\u001b[1;33m.\u001b[0m\u001b[0m_qsize\u001b[0m\u001b[1;33m(\u001b[0m\u001b[1;33m)\u001b[0m\u001b[1;33m:\u001b[0m\u001b[1;33m\u001b[0m\u001b[1;33m\u001b[0m\u001b[0m\n\u001b[1;32m--> 167\u001b[1;33m                     \u001b[1;32mraise\u001b[0m \u001b[0mEmpty\u001b[0m\u001b[1;33m\u001b[0m\u001b[1;33m\u001b[0m\u001b[0m\n\u001b[0m\u001b[0;32m    168\u001b[0m             \u001b[1;32melif\u001b[0m \u001b[0mtimeout\u001b[0m \u001b[1;32mis\u001b[0m \u001b[1;32mNone\u001b[0m\u001b[1;33m:\u001b[0m\u001b[1;33m\u001b[0m\u001b[1;33m\u001b[0m\u001b[0m\n\u001b[0;32m    169\u001b[0m                 \u001b[1;32mwhile\u001b[0m \u001b[1;32mnot\u001b[0m \u001b[0mself\u001b[0m\u001b[1;33m.\u001b[0m\u001b[0m_qsize\u001b[0m\u001b[1;33m(\u001b[0m\u001b[1;33m)\u001b[0m\u001b[1;33m:\u001b[0m\u001b[1;33m\u001b[0m\u001b[1;33m\u001b[0m\u001b[0m\n",
      "\u001b[1;31mEmpty\u001b[0m: "
     ]
    }
   ],
   "source": [
    "stack_3.get_nowait()"
   ]
  },
  {
   "cell_type": "markdown",
   "id": "06c788e3",
   "metadata": {},
   "source": [
    "This full thread safety comes at a cost, however. To achieve this thread-safety, LifoQueue has to do a little extra work on each operation, meaning that it will take a little longer. Frequently, this slight slow down will not matter to your overall program speed"
   ]
  },
  {
   "cell_type": "markdown",
   "id": "9d197ab1",
   "metadata": {},
   "source": [
    "# Summary\n",
    "\n",
    "**deque** is a great choice for **non-threaded** programs. If you’re implementing a stack **in a threading environment**, then it’s likely a good idea to use a **LifoQueue**"
   ]
  }
 ],
 "metadata": {
  "kernelspec": {
   "display_name": "Python 3",
   "language": "python",
   "name": "python3"
  },
  "language_info": {
   "codemirror_mode": {
    "name": "ipython",
    "version": 3
   },
   "file_extension": ".py",
   "mimetype": "text/x-python",
   "name": "python",
   "nbconvert_exporter": "python",
   "pygments_lexer": "ipython3",
   "version": "3.8.8"
  }
 },
 "nbformat": 4,
 "nbformat_minor": 5
}
