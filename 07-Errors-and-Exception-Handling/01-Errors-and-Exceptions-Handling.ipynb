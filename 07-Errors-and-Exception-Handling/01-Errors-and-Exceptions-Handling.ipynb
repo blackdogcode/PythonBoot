{
 "cells": [
  {
   "cell_type": "markdown",
   "id": "1a4a7ea4",
   "metadata": {},
   "source": [
    "# [Python Exceptions: An Introduction](https://realpython.com/python-exceptions/)\n",
    "\n",
    "A Python program terminates as soon as it encounters an error. In Python, an error can be a *syntax error* or an *exception*. In this article, you will see what an exception is and how it differs from a syntax error. After that, you will learn about raising exceptions and making assertions. Then, you’ll finish with a demonstration of the try and except block."
   ]
  },
  {
   "cell_type": "markdown",
   "id": "b5c1c1ba",
   "metadata": {},
   "source": [
    "## Exceptions versus Syntax Errors\n",
    "\n",
    "[Syntax errors](https://realpython.com/invalid-syntax-python/) occur when the parser detects an incorrect statement. Observe the following example:"
   ]
  },
  {
   "cell_type": "code",
   "execution_count": 1,
   "id": "c52d68d8",
   "metadata": {},
   "outputs": [
    {
     "ename": "SyntaxError",
     "evalue": "unmatched ')' (<ipython-input-1-eb660ccdaab3>, line 1)",
     "output_type": "error",
     "traceback": [
      "\u001b[1;36m  File \u001b[1;32m\"<ipython-input-1-eb660ccdaab3>\"\u001b[1;36m, line \u001b[1;32m1\u001b[0m\n\u001b[1;33m    print(0 / 0 ))\u001b[0m\n\u001b[1;37m                 ^\u001b[0m\n\u001b[1;31mSyntaxError\u001b[0m\u001b[1;31m:\u001b[0m unmatched ')'\n"
     ]
    }
   ],
   "source": [
    "print(0 / 0 ))"
   ]
  },
  {
   "cell_type": "markdown",
   "id": "4de44d24",
   "metadata": {},
   "source": [
    "The arrow indicates where the parser ran into the syntax error."
   ]
  },
  {
   "cell_type": "code",
   "execution_count": 2,
   "id": "0a11cae6",
   "metadata": {},
   "outputs": [
    {
     "ename": "ZeroDivisionError",
     "evalue": "division by zero",
     "output_type": "error",
     "traceback": [
      "\u001b[1;31m---------------------------------------------------------------------------\u001b[0m",
      "\u001b[1;31mZeroDivisionError\u001b[0m                         Traceback (most recent call last)",
      "\u001b[1;32m<ipython-input-2-b6c088d31521>\u001b[0m in \u001b[0;36m<module>\u001b[1;34m\u001b[0m\n\u001b[1;32m----> 1\u001b[1;33m \u001b[0mprint\u001b[0m\u001b[1;33m(\u001b[0m\u001b[1;36m0\u001b[0m \u001b[1;33m/\u001b[0m \u001b[1;36m0\u001b[0m\u001b[1;33m)\u001b[0m\u001b[1;33m\u001b[0m\u001b[1;33m\u001b[0m\u001b[0m\n\u001b[0m",
      "\u001b[1;31mZeroDivisionError\u001b[0m: division by zero"
     ]
    }
   ],
   "source": [
    "print(0 / 0)"
   ]
  },
  {
   "cell_type": "markdown",
   "id": "35b07195",
   "metadata": {},
   "source": [
    "This time, you ran into an **exception error**. Errors detected during execution are called exceptions. This type of error occurs whenever syntactically correct Python code results in an error.  You can check out the full list of built-in exceptions [here](https://docs.python.org/3/library/exceptions.html)."
   ]
  },
  {
   "cell_type": "markdown",
   "id": "725e604b",
   "metadata": {},
   "source": [
    "## Raising an Exception\n",
    "\n",
    "We can use raise to throw an exception if a condition occurs. The statement can be complemented with a custom exception."
   ]
  },
  {
   "cell_type": "code",
   "execution_count": 3,
   "id": "32deb0c4",
   "metadata": {},
   "outputs": [
    {
     "ename": "Exception",
     "evalue": "x should not exceed 5. The value of x was: 10",
     "output_type": "error",
     "traceback": [
      "\u001b[1;31m---------------------------------------------------------------------------\u001b[0m",
      "\u001b[1;31mException\u001b[0m                                 Traceback (most recent call last)",
      "\u001b[1;32m<ipython-input-3-37a60d967bac>\u001b[0m in \u001b[0;36m<module>\u001b[1;34m\u001b[0m\n\u001b[0;32m      1\u001b[0m \u001b[0mx\u001b[0m \u001b[1;33m=\u001b[0m \u001b[1;36m10\u001b[0m\u001b[1;33m\u001b[0m\u001b[1;33m\u001b[0m\u001b[0m\n\u001b[0;32m      2\u001b[0m \u001b[1;32mif\u001b[0m \u001b[0mx\u001b[0m \u001b[1;33m>\u001b[0m \u001b[1;36m5\u001b[0m\u001b[1;33m:\u001b[0m\u001b[1;33m\u001b[0m\u001b[1;33m\u001b[0m\u001b[0m\n\u001b[1;32m----> 3\u001b[1;33m     \u001b[1;32mraise\u001b[0m \u001b[0mException\u001b[0m\u001b[1;33m(\u001b[0m\u001b[1;34mf\"x should not exceed 5. The value of x was: {x}\"\u001b[0m\u001b[1;33m)\u001b[0m\u001b[1;33m\u001b[0m\u001b[1;33m\u001b[0m\u001b[0m\n\u001b[0m",
      "\u001b[1;31mException\u001b[0m: x should not exceed 5. The value of x was: 10"
     ]
    }
   ],
   "source": [
    "x = 10\n",
    "if x > 5:\n",
    "    raise Exception(f\"x should not exceed 5. The value of x was: {x}\")"
   ]
  },
  {
   "cell_type": "markdown",
   "id": "2cd3f895",
   "metadata": {},
   "source": [
    "## The AssertionError Exception\n",
    "\n",
    "Instead of waiting for a program to crash midway, you can also start by making an [assertion](https://dbader.org/blog/python-assert-tutorial) in Python. We assert that a certain condition is met. If the condition turns out to be False, you can have the program throw an **AssertionError** exception."
   ]
  },
  {
   "cell_type": "code",
   "execution_count": 4,
   "id": "caf2fe1d",
   "metadata": {},
   "outputs": [
    {
     "ename": "AssertionError",
     "evalue": "This code runs on Linux only.",
     "output_type": "error",
     "traceback": [
      "\u001b[1;31m---------------------------------------------------------------------------\u001b[0m",
      "\u001b[1;31mAssertionError\u001b[0m                            Traceback (most recent call last)",
      "\u001b[1;32m<ipython-input-4-22b303c5ccf3>\u001b[0m in \u001b[0;36m<module>\u001b[1;34m\u001b[0m\n\u001b[0;32m      1\u001b[0m \u001b[1;32mimport\u001b[0m \u001b[0msys\u001b[0m\u001b[1;33m\u001b[0m\u001b[1;33m\u001b[0m\u001b[0m\n\u001b[1;32m----> 2\u001b[1;33m \u001b[1;32massert\u001b[0m \u001b[1;33m(\u001b[0m\u001b[1;34m'linux'\u001b[0m \u001b[1;32min\u001b[0m \u001b[0msys\u001b[0m\u001b[1;33m.\u001b[0m\u001b[0mplatform\u001b[0m\u001b[1;33m)\u001b[0m\u001b[1;33m,\u001b[0m \u001b[1;34m\"This code runs on Linux only.\"\u001b[0m\u001b[1;33m\u001b[0m\u001b[1;33m\u001b[0m\u001b[0m\n\u001b[0m",
      "\u001b[1;31mAssertionError\u001b[0m: This code runs on Linux only."
     ]
    }
   ],
   "source": [
    "import sys\n",
    "assert('linux' in sys.platform), \"This code runs on Linux only.\" "
   ]
  },
  {
   "cell_type": "markdown",
   "id": "f70971bd",
   "metadata": {},
   "source": [
    "## The try and except Block: Handling Exceptions\n",
    "\n",
    "The try and except block in Python is used to catch and handle exceptions. Python executes code following the try statement as a “normal” part of the program. The code that follows the except statement is the program’s response to any exceptions in the preceding try clause."
   ]
  },
  {
   "cell_type": "code",
   "execution_count": 5,
   "id": "c308c071",
   "metadata": {},
   "outputs": [],
   "source": [
    "def linux_interaction():\n",
    "    assert('linux' in sys.platform), \"Function can only run on Linux systems.\"\n",
    "    print('Doing something.')"
   ]
  },
  {
   "cell_type": "code",
   "execution_count": 6,
   "id": "bf6d1150",
   "metadata": {},
   "outputs": [
    {
     "name": "stdout",
     "output_type": "stream",
     "text": [
      "Function can only run on Linux systems.\n",
      "Linux function was not executed\n"
     ]
    }
   ],
   "source": [
    "try:\n",
    "    linux_interaction()\n",
    "except AssertionError as error:\n",
    "    print(error)\n",
    "    print('Linux function was not executed')"
   ]
  },
  {
   "cell_type": "code",
   "execution_count": 7,
   "id": "92d4e2c5",
   "metadata": {},
   "outputs": [
    {
     "name": "stdout",
     "output_type": "stream",
     "text": [
      "[Errno 2] No such file or directory: 'file.log'\n"
     ]
    }
   ],
   "source": [
    "try:\n",
    "    with open(\"file.log\") as file:\n",
    "        read_data = file.read()\n",
    "except FileNotFoundError as error:\n",
    "    print(error)"
   ]
  },
  {
   "cell_type": "markdown",
   "id": "ef103a22",
   "metadata": {},
   "source": [
    "You can have more than one function call in your try clause and anticipate catching various exceptions. A thing to note here is that the code in the try clause will stop as soon as an exception is encountered."
   ]
  },
  {
   "cell_type": "code",
   "execution_count": 8,
   "id": "149c489e",
   "metadata": {},
   "outputs": [
    {
     "name": "stdout",
     "output_type": "stream",
     "text": [
      "Function can only run on Linux systems.\n",
      "Linux linux_interaction() function was not executed\n"
     ]
    }
   ],
   "source": [
    "try:\n",
    "    linux_interaction()\n",
    "    with open('file.log') as file:\n",
    "        read_data = file.read()\n",
    "except FileNotFoundError as fnf_error:\n",
    "    print(fnf_error)\n",
    "except AssertionError as error:\n",
    "    print(error)\n",
    "    print('Linux linux_interaction() function was not executed')"
   ]
  },
  {
   "cell_type": "markdown",
   "id": "cf96b0c0",
   "metadata": {},
   "source": [
    "Here are the key takeaways:\n",
    "\n",
    "- A try clause is executed up until the point where the first exception is encountered.\n",
    "- Inside the except clause, or the exception handler, you determine how the program responds to the exception.\n",
    "- You can anticipate multiple exceptions and differentiate how the program should respond to them.\n",
    "- [Avoid using bare except clauses](https://realpython.com/the-most-diabolical-python-antipattern/)."
   ]
  },
  {
   "cell_type": "markdown",
   "id": "e4538c95",
   "metadata": {},
   "source": [
    "## The else Clause\n",
    "\n",
    "In Python, using the else statement, you can instruct a program to execute a certain block of code only If there is no exception."
   ]
  },
  {
   "cell_type": "code",
   "execution_count": 9,
   "id": "12494f16",
   "metadata": {},
   "outputs": [],
   "source": [
    "import sys\n",
    "\n",
    "def window_interaction():\n",
    "    assert('win32' in sys.platform), \"Function can only run on window systems.\""
   ]
  },
  {
   "cell_type": "code",
   "execution_count": 10,
   "id": "ac6e6169",
   "metadata": {},
   "outputs": [
    {
     "name": "stdout",
     "output_type": "stream",
     "text": [
      "Executing the else clause.\n"
     ]
    }
   ],
   "source": [
    "try:\n",
    "    window_interaction()\n",
    "except AsserstionError as error:\n",
    "    print(error)\n",
    "else:\n",
    "    print(\"Executing the else clause.\")"
   ]
  },
  {
   "cell_type": "markdown",
   "id": "334901ce",
   "metadata": {},
   "source": [
    "## Cleaning Up After Using finally\n",
    "\n",
    "Imagine that you always had to implement some sort of action to clean up after executing your code. Python enables you to do so using the finally clause."
   ]
  },
  {
   "cell_type": "code",
   "execution_count": 11,
   "id": "e3fea04f",
   "metadata": {},
   "outputs": [
    {
     "name": "stdout",
     "output_type": "stream",
     "text": [
      "Function can only run on Linux systems.\n",
      "Cleaning up, irrespective of any exceptions.\n"
     ]
    }
   ],
   "source": [
    "try:\n",
    "    linux_interaction()\n",
    "except AssertionError as error:\n",
    "    print(error)\n",
    "else:\n",
    "    try:\n",
    "        with open('file.log') as file:\n",
    "            read_data = file.read()\n",
    "    except FileNotFoundError as fnf_error:\n",
    "        print(fnf_error)\n",
    "finally:\n",
    "    print('Cleaning up, irrespective of any exceptions.')"
   ]
  },
  {
   "cell_type": "markdown",
   "id": "c8a74681",
   "metadata": {},
   "source": [
    "In the previous code, everything in the **finally clause** will be executed. It does not matter if you encounter an exception somewhere in the try or else clauses.\n",
    "\n",
    "## Summary\n",
    "\n",
    "- raise allows you to throw an exception at any time.\n",
    "- assert enables you to verify if a certain condition is met and throw an exception if it isn’t.\n",
    "- In the try clause, all statements are executed until an exception is encountered.\n",
    "- except is used to catch and handle the exception(s) that are encountered in the try clause.\n",
    "- else lets you code sections that should run only when no exceptions are encountered in the try clause.\n",
    "- finally enables you to execute sections of code that should always run, with or without any previously encountered exceptions."
   ]
  }
 ],
 "metadata": {
  "kernelspec": {
   "display_name": "Python 3",
   "language": "python",
   "name": "python3"
  },
  "language_info": {
   "codemirror_mode": {
    "name": "ipython",
    "version": 3
   },
   "file_extension": ".py",
   "mimetype": "text/x-python",
   "name": "python",
   "nbconvert_exporter": "python",
   "pygments_lexer": "ipython3",
   "version": "3.8.8"
  }
 },
 "nbformat": 4,
 "nbformat_minor": 5
}
