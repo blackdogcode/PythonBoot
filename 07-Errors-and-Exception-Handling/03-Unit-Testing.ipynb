{
 "cells": [
  {
   "cell_type": "markdown",
   "metadata": {},
   "source": [
    "# Unit Testing\n",
    "\n",
    "Equally important as writing good code is writing good tests. Better to find bugs yourself than have them reported to you by end users!\n",
    "\n",
    "For this section we'll be working with files outside the notebook. We'll save our code to a .py file, and then save our test script to another .py file. Normally we would code these files using a text editor like Brackets or Atom, or inside an IDE like Spyder or Pycharm. But, since we're here, let's use Jupyter!\n",
    "\n",
    "Recall that with some IPython magic we can write the contents of a cell to a file using `%%writefile`.<br>\n",
    "Something we haven't seen yet; you can run terminal commands from a jupyter cell using `!`\n",
    "\n",
    "## Testing tools\n",
    "\n",
    "There are dozens of good testing libraries out there. Most are third-party packages that require an install, such as:\n",
    "\n",
    "* [pylint](https://www.pylint.org/)\n",
    "* [pyflakes](https://pypi.python.org/pypi/pyflakes/)\n",
    "* [pep8](https://pypi.python.org/pypi/pep8)\n",
    "\n",
    "These are simple tools that merely look at your code, and they'll tell you if there are style issues or simple problems like variable names being called before assignment.\n",
    "\n",
    "A far better way to test your code is to write tests that send sample data to your program, and compare what's returned to a desired outcome.<br>Two such tools are available from the standard library:\n",
    "\n",
    "* [unittest](https://docs.python.org/3/library/unittest.html)\n",
    "* [doctest](https://docs.python.org/3/library/doctest.html)\n",
    "\n",
    "Let's look at pylint first, then we'll do some heavier lifting with unittest.\n"
   ]
  },
  {
   "cell_type": "markdown",
   "metadata": {},
   "source": [
    "## pylint\n",
    "\n",
    "pylint tests for style as well as some very basic program logic."
   ]
  },
  {
   "cell_type": "markdown",
   "metadata": {},
   "source": [
    "First, if you don't have it already (and you probably do, as it's part of the Anaconda distribution), you should install `pylint`.<br>Once that's done feel free to comment out the cell, you won't need it anymore."
   ]
  },
  {
   "cell_type": "code",
   "execution_count": 1,
   "metadata": {},
   "outputs": [],
   "source": [
    "# ! pip install pylint"
   ]
  },
  {
   "cell_type": "markdown",
   "metadata": {},
   "source": [
    "Let's save a very simple script:"
   ]
  },
  {
   "cell_type": "code",
   "execution_count": 2,
   "metadata": {},
   "outputs": [
    {
     "name": "stdout",
     "output_type": "stream",
     "text": [
      "Overwriting simple1.py\n"
     ]
    }
   ],
   "source": [
    "%%writefile simple1.py\n",
    "a = 1\n",
    "b = 2\n",
    "print(a)\n",
    "print(B)"
   ]
  },
  {
   "cell_type": "markdown",
   "metadata": {},
   "source": [
    "Now let's check it using pylint"
   ]
  },
  {
   "cell_type": "code",
   "execution_count": 3,
   "metadata": {},
   "outputs": [
    {
     "name": "stdout",
     "output_type": "stream",
     "text": [
      "************* Module simple1\n",
      "simple1.py:1:0: C0114: Missing module docstring (missing-module-docstring)\n",
      "simple1.py:1:0: C0103: Constant name \"a\" doesn't conform to UPPER_CASE naming style (invalid-name)\n",
      "simple1.py:2:0: C0103: Constant name \"b\" doesn't conform to UPPER_CASE naming style (invalid-name)\n",
      "simple1.py:4:6: E0602: Undefined variable 'B' (undefined-variable)\n",
      "\n",
      "\n",
      "\n",
      "Report\n",
      "\n",
      "======\n",
      "\n",
      "4 statements analysed.\n",
      "\n",
      "\n",
      "\n",
      "Statistics by type\n",
      "\n",
      "------------------\n",
      "\n",
      "\n",
      "+---------+-------+-----------+-----------+------------+---------+\n",
      "|type     |number |old number |difference |%documented |%badname |\n",
      "+=========+=======+===========+===========+============+=========+\n",
      "|module   |1      |1          |=          |0.00        |0.00     |\n",
      "+---------+-------+-----------+-----------+------------+---------+\n",
      "|class    |0      |0          |=          |0           |0        |\n",
      "+---------+-------+-----------+-----------+------------+---------+\n",
      "|method   |0      |0          |=          |0           |0        |\n",
      "+---------+-------+-----------+-----------+------------+---------+\n",
      "|function |0      |0          |=          |0           |0        |\n",
      "+---------+-------+-----------+-----------+------------+---------+\n",
      "\n",
      "\n",
      "\n",
      "\n",
      "\n",
      "\n",
      "Raw metrics\n",
      "\n",
      "-----------\n",
      "\n",
      "\n",
      "+----------+-------+------+---------+-----------+\n",
      "|type      |number |%     |previous |difference |\n",
      "+==========+=======+======+=========+===========+\n",
      "|code      |5      |83.33 |5        |=          |\n",
      "+----------+-------+------+---------+-----------+\n",
      "|docstring |0      |0.00  |0        |=          |\n",
      "+----------+-------+------+---------+-----------+\n",
      "|comment   |0      |0.00  |0        |=          |\n",
      "+----------+-------+------+---------+-----------+\n",
      "|empty     |1      |16.67 |1        |=          |\n",
      "+----------+-------+------+---------+-----------+\n",
      "\n",
      "\n",
      "\n",
      "\n",
      "\n",
      "\n",
      "Duplication\n",
      "\n",
      "-----------\n",
      "\n",
      "\n",
      "+-------------------------+------+---------+-----------+\n",
      "|                         |now   |previous |difference |\n",
      "+=========================+======+=========+===========+\n",
      "|nb duplicated lines      |0     |0        |=          |\n",
      "+-------------------------+------+---------+-----------+\n",
      "|percent duplicated lines |0.000 |0.000    |=          |\n",
      "+-------------------------+------+---------+-----------+\n",
      "\n",
      "\n",
      "\n",
      "\n",
      "\n",
      "\n",
      "Messages by category\n",
      "\n",
      "--------------------\n",
      "\n",
      "\n",
      "+-----------+-------+---------+-----------+\n",
      "|type       |number |previous |difference |\n",
      "+===========+=======+=========+===========+\n",
      "|convention |3      |3        |=          |\n",
      "+-----------+-------+---------+-----------+\n",
      "|refactor   |0      |0        |=          |\n",
      "+-----------+-------+---------+-----------+\n",
      "|warning    |0      |0        |=          |\n",
      "+-----------+-------+---------+-----------+\n",
      "|error      |1      |1        |=          |\n",
      "+-----------+-------+---------+-----------+\n",
      "\n",
      "\n",
      "\n",
      "\n",
      "\n",
      "\n",
      "Messages\n",
      "\n",
      "--------\n",
      "\n",
      "\n",
      "+-------------------------+------------+\n",
      "|message id               |occurrences |\n",
      "+=========================+============+\n",
      "|invalid-name             |2           |\n",
      "+-------------------------+------------+\n",
      "|undefined-variable       |1           |\n",
      "+-------------------------+------------+\n",
      "|missing-module-docstring |1           |\n",
      "+-------------------------+------------+\n",
      "\n",
      "\n",
      "\n",
      "\n",
      "\n",
      "\n",
      "\n",
      "----------------------------------------------------------------------\n",
      "\n",
      "Your code has been rated at -10.00/10 (previous run: -10.00/10, +0.00)\n",
      "\n",
      "\n",
      "\n"
     ]
    }
   ],
   "source": [
    "! pylint simple1.py -r y"
   ]
  },
  {
   "cell_type": "markdown",
   "metadata": {},
   "source": [
    "Pylint first lists some styling issues - it would like to see an extra newline at the end, modules and function definitions should have descriptive docstrings, and single characters are a poor choice for variable names.\n",
    "\n",
    "More importantly, however, pylint identified an error in the program - a variable called before assignment. This needs fixing.\n",
    "\n",
    "Note that pylint scored our program a negative 12.5 out of 10. Let's try to improve that!"
   ]
  },
  {
   "cell_type": "code",
   "execution_count": 4,
   "metadata": {},
   "outputs": [
    {
     "name": "stdout",
     "output_type": "stream",
     "text": [
      "Overwriting simple1.py\n"
     ]
    }
   ],
   "source": [
    "%%writefile simple1.py\n",
    "\"\"\"\n",
    "A very simple script.\n",
    "\"\"\"\n",
    "\n",
    "def myfunc():\n",
    "    \"\"\"\n",
    "    An extremely simple function.\n",
    "    \"\"\"\n",
    "    first = 1\n",
    "    second = 2\n",
    "    print(first)\n",
    "    print(second)\n",
    "\n",
    "myfunc()"
   ]
  },
  {
   "cell_type": "code",
   "execution_count": 5,
   "metadata": {},
   "outputs": [
    {
     "name": "stdout",
     "output_type": "stream",
     "text": [
      "\n",
      "\n",
      "\n",
      "Report\n",
      "\n",
      "======\n",
      "\n",
      "6 statements analysed.\n",
      "\n",
      "\n",
      "\n",
      "Statistics by type\n",
      "\n",
      "------------------\n",
      "\n",
      "\n",
      "+---------+-------+-----------+-----------+------------+---------+\n",
      "|type     |number |old number |difference |%documented |%badname |\n",
      "+=========+=======+===========+===========+============+=========+\n",
      "|module   |1      |1          |=          |100.00      |0.00     |\n",
      "+---------+-------+-----------+-----------+------------+---------+\n",
      "|class    |0      |0          |=          |0           |0        |\n",
      "+---------+-------+-----------+-----------+------------+---------+\n",
      "|method   |0      |0          |=          |0           |0        |\n",
      "+---------+-------+-----------+-----------+------------+---------+\n",
      "|function |1      |0          |+1.00      |100.00      |0.00     |\n",
      "+---------+-------+-----------+-----------+------------+---------+\n",
      "\n",
      "\n",
      "\n",
      "\n",
      "\n",
      "\n",
      "Raw metrics\n",
      "\n",
      "-----------\n",
      "\n",
      "\n",
      "+----------+-------+------+---------+-----------+\n",
      "|type      |number |%     |previous |difference |\n",
      "+==========+=======+======+=========+===========+\n",
      "|code      |7      |43.75 |5        |+2.00      |\n",
      "+----------+-------+------+---------+-----------+\n",
      "|docstring |6      |37.50 |0        |+6.00      |\n",
      "+----------+-------+------+---------+-----------+\n",
      "|comment   |0      |0.00  |0        |=          |\n",
      "+----------+-------+------+---------+-----------+\n",
      "|empty     |3      |18.75 |1        |+2.00      |\n",
      "+----------+-------+------+---------+-----------+\n",
      "\n",
      "\n",
      "\n",
      "\n",
      "\n",
      "\n",
      "Duplication\n",
      "\n",
      "-----------\n",
      "\n",
      "\n",
      "+-------------------------+------+---------+-----------+\n",
      "|                         |now   |previous |difference |\n",
      "+=========================+======+=========+===========+\n",
      "|nb duplicated lines      |0     |0        |=          |\n",
      "+-------------------------+------+---------+-----------+\n",
      "|percent duplicated lines |0.000 |0.000    |=          |\n",
      "+-------------------------+------+---------+-----------+\n",
      "\n",
      "\n",
      "\n",
      "\n",
      "\n",
      "\n",
      "Messages by category\n",
      "\n",
      "--------------------\n",
      "\n",
      "\n",
      "+-----------+-------+---------+-----------+\n",
      "|type       |number |previous |difference |\n",
      "+===========+=======+=========+===========+\n",
      "|convention |0      |3        |-3.00      |\n",
      "+-----------+-------+---------+-----------+\n",
      "|refactor   |0      |0        |=          |\n",
      "+-----------+-------+---------+-----------+\n",
      "|warning    |0      |0        |=          |\n",
      "+-----------+-------+---------+-----------+\n",
      "|error      |0      |1        |-1.00      |\n",
      "+-----------+-------+---------+-----------+\n",
      "\n",
      "\n",
      "\n",
      "\n",
      "\n",
      "\n",
      "\n",
      "----------------------------------------------------------------------\n",
      "\n",
      "Your code has been rated at 10.00/10 (previous run: -10.00/10, +20.00)\n",
      "\n",
      "\n",
      "\n"
     ]
    }
   ],
   "source": [
    "! pylint simple1.py -r y"
   ]
  },
  {
   "cell_type": "markdown",
   "metadata": {},
   "source": [
    "Godd! Our score climbed to 10 out of 10. pylint helped us troubleshoot some of our problems. But what if the problem was more complex?"
   ]
  },
  {
   "cell_type": "code",
   "execution_count": 6,
   "metadata": {},
   "outputs": [
    {
     "name": "stdout",
     "output_type": "stream",
     "text": [
      "Overwriting simple2.py\n"
     ]
    }
   ],
   "source": [
    "%%writefile simple2.py\n",
    "\"\"\"\n",
    "A very simple script.\n",
    "\"\"\"\n",
    "\n",
    "def myfunc():\n",
    "    \"\"\"\n",
    "    An extremely simple function.\n",
    "    \"\"\"\n",
    "    first = 1\n",
    "    second = 2\n",
    "    print(first)\n",
    "    print('second')\n",
    "\n",
    "myfunc()"
   ]
  },
  {
   "cell_type": "code",
   "execution_count": 7,
   "metadata": {},
   "outputs": [
    {
     "name": "stdout",
     "output_type": "stream",
     "text": [
      "************* Module simple2\n",
      "simple2.py:10:4: W0612: Unused variable 'second' (unused-variable)\n",
      "\n",
      "\n",
      "\n",
      "Report\n",
      "\n",
      "======\n",
      "\n",
      "6 statements analysed.\n",
      "\n",
      "\n",
      "\n",
      "Statistics by type\n",
      "\n",
      "------------------\n",
      "\n",
      "\n",
      "+---------+-------+-----------+-----------+------------+---------+\n",
      "|type     |number |old number |difference |%documented |%badname |\n",
      "+=========+=======+===========+===========+============+=========+\n",
      "|module   |1      |1          |=          |100.00      |0.00     |\n",
      "+---------+-------+-----------+-----------+------------+---------+\n",
      "|class    |0      |0          |=          |0           |0        |\n",
      "+---------+-------+-----------+-----------+------------+---------+\n",
      "|method   |0      |0          |=          |0           |0        |\n",
      "+---------+-------+-----------+-----------+------------+---------+\n",
      "|function |1      |1          |=          |100.00      |0.00     |\n",
      "+---------+-------+-----------+-----------+------------+---------+\n",
      "\n",
      "\n",
      "\n",
      "\n",
      "\n",
      "\n",
      "Raw metrics\n",
      "\n",
      "-----------\n",
      "\n",
      "\n",
      "+----------+-------+------+---------+-----------+\n",
      "|type      |number |%     |previous |difference |\n",
      "+==========+=======+======+=========+===========+\n",
      "|code      |7      |43.75 |7        |=          |\n",
      "+----------+-------+------+---------+-----------+\n",
      "|docstring |6      |37.50 |6        |=          |\n",
      "+----------+-------+------+---------+-----------+\n",
      "|comment   |0      |0.00  |0        |=          |\n",
      "+----------+-------+------+---------+-----------+\n",
      "|empty     |3      |18.75 |3        |=          |\n",
      "+----------+-------+------+---------+-----------+\n",
      "\n",
      "\n",
      "\n",
      "\n",
      "\n",
      "\n",
      "Duplication\n",
      "\n",
      "-----------\n",
      "\n",
      "\n",
      "+-------------------------+------+---------+-----------+\n",
      "|                         |now   |previous |difference |\n",
      "+=========================+======+=========+===========+\n",
      "|nb duplicated lines      |0     |0        |=          |\n",
      "+-------------------------+------+---------+-----------+\n",
      "|percent duplicated lines |0.000 |0.000    |=          |\n",
      "+-------------------------+------+---------+-----------+\n",
      "\n",
      "\n",
      "\n",
      "\n",
      "\n",
      "\n",
      "Messages by category\n",
      "\n",
      "--------------------\n",
      "\n",
      "\n",
      "+-----------+-------+---------+-----------+\n",
      "|type       |number |previous |difference |\n",
      "+===========+=======+=========+===========+\n",
      "|convention |0      |0        |=          |\n",
      "+-----------+-------+---------+-----------+\n",
      "|refactor   |0      |0        |=          |\n",
      "+-----------+-------+---------+-----------+\n",
      "|warning    |1      |1        |=          |\n",
      "+-----------+-------+---------+-----------+\n",
      "|error      |0      |0        |=          |\n",
      "+-----------+-------+---------+-----------+\n",
      "\n",
      "\n",
      "\n",
      "\n",
      "\n",
      "\n",
      "Messages\n",
      "\n",
      "--------\n",
      "\n",
      "\n",
      "+----------------+------------+\n",
      "|message id      |occurrences |\n",
      "+================+============+\n",
      "|unused-variable |1           |\n",
      "+----------------+------------+\n",
      "\n",
      "\n",
      "\n",
      "\n",
      "\n",
      "\n",
      "\n",
      "------------------------------------------------------------------\n",
      "\n",
      "Your code has been rated at 8.33/10 (previous run: 8.33/10, +0.00)\n",
      "\n",
      "\n",
      "\n"
     ]
    }
   ],
   "source": [
    "! pylint simple2.py -r y"
   ]
  },
  {
   "cell_type": "markdown",
   "metadata": {},
   "source": [
    "pylint tells us there's an unused variable in line 10, but it doesn't know that we might get an unexpected output from line 12! For this we need a more robust set of tools. That's where `unittest` comes in."
   ]
  },
  {
   "cell_type": "markdown",
   "metadata": {},
   "source": [
    "## unittest\n",
    "unittest lets you write your own test programs. The goal is to send a specific set of data to your program, and analyze the returned results against an expected result. \n",
    "\n",
    "Let's generate a simple script that capitalizes words in a given string. We'll call it **cap.py**."
   ]
  },
  {
   "cell_type": "code",
   "execution_count": 8,
   "metadata": {},
   "outputs": [
    {
     "name": "stdout",
     "output_type": "stream",
     "text": [
      "Overwriting cap.py\n"
     ]
    }
   ],
   "source": [
    "%%writefile cap.py\n",
    "def cap_text(text):\n",
    "    return text.capitalize()"
   ]
  },
  {
   "cell_type": "markdown",
   "metadata": {},
   "source": [
    "Now we'll write a test script. We can call it whatever we want, but **test_cap.py** seems an obvious choice.\n",
    "\n",
    "When writing test functions, it's best to go from simple to complex, as each function will be run in order. Here we'll test simple, one-word strings, followed by a test of multiple word strings."
   ]
  },
  {
   "cell_type": "code",
   "execution_count": 9,
   "metadata": {},
   "outputs": [
    {
     "name": "stdout",
     "output_type": "stream",
     "text": [
      "Overwriting test_cap.py\n"
     ]
    }
   ],
   "source": [
    "%%writefile test_cap.py\n",
    "import unittest\n",
    "import cap\n",
    "\n",
    "class TestCap(unittest.TestCase):\n",
    "    \n",
    "    def test_one_word(self):\n",
    "        text = 'python'\n",
    "        result = cap.cap_text(text)\n",
    "        self.assertEqual(result, 'Python')\n",
    "        \n",
    "    def test_multiple_words(self):\n",
    "        text = 'monty python'\n",
    "        result = cap.cap_text(text)\n",
    "        self.assertEqual(result, 'Monty Python')\n",
    "        \n",
    "if __name__ == '__main__':\n",
    "    unittest.main()"
   ]
  },
  {
   "cell_type": "code",
   "execution_count": 10,
   "metadata": {},
   "outputs": [
    {
     "name": "stderr",
     "output_type": "stream",
     "text": [
      "F.\n",
      "======================================================================\n",
      "FAIL: test_multiple_words (__main__.TestCap)\n",
      "----------------------------------------------------------------------\n",
      "Traceback (most recent call last):\n",
      "  File \"test_cap.py\", line 14, in test_multiple_words\n",
      "    self.assertEqual(result, 'Monty Python')\n",
      "AssertionError: 'Monty python' != 'Monty Python'\n",
      "- Monty python\n",
      "?       ^\n",
      "+ Monty Python\n",
      "?       ^\n",
      "\n",
      "\n",
      "----------------------------------------------------------------------\n",
      "Ran 2 tests in 0.001s\n",
      "\n",
      "FAILED (failures=1)\n"
     ]
    }
   ],
   "source": [
    "! python test_cap.py"
   ]
  },
  {
   "cell_type": "markdown",
   "metadata": {},
   "source": [
    "What happened? It turns out that the `.capitalize()` method only capitalizes the first letter of the first word in a string. Doing a little research on string methods, we find that `.title()` might give us what we want."
   ]
  },
  {
   "cell_type": "code",
   "execution_count": 11,
   "metadata": {},
   "outputs": [
    {
     "name": "stdout",
     "output_type": "stream",
     "text": [
      "Overwriting cap.py\n"
     ]
    }
   ],
   "source": [
    "%%writefile cap.py\n",
    "def cap_text(text):\n",
    "    return text.title()  # replace .capitalize() with .title()"
   ]
  },
  {
   "cell_type": "code",
   "execution_count": 12,
   "metadata": {},
   "outputs": [
    {
     "name": "stderr",
     "output_type": "stream",
     "text": [
      "..\n",
      "----------------------------------------------------------------------\n",
      "Ran 2 tests in 0.000s\n",
      "\n",
      "OK\n"
     ]
    }
   ],
   "source": [
    "! python test_cap.py"
   ]
  },
  {
   "cell_type": "markdown",
   "metadata": {},
   "source": [
    "Hey, it passed! But have we tested all cases? Let's add another test to **test_cap.py** to see if it handles words with apostrophes, like *don't*.\n",
    "\n",
    "In a text editor this would be easy, but in Jupyter we have to start from scratch."
   ]
  },
  {
   "cell_type": "code",
   "execution_count": 13,
   "metadata": {},
   "outputs": [
    {
     "name": "stdout",
     "output_type": "stream",
     "text": [
      "Overwriting test_cap.py\n"
     ]
    }
   ],
   "source": [
    "%%writefile test_cap.py\n",
    "import unittest\n",
    "import cap\n",
    "\n",
    "class TestCap(unittest.TestCase):\n",
    "    \n",
    "    def test_one_word(self):\n",
    "        text = 'python'\n",
    "        result = cap.cap_text(text)\n",
    "        self.assertEqual(result, 'Python')\n",
    "        \n",
    "    def test_multiple_words(self):\n",
    "        text = 'monty python'\n",
    "        result = cap.cap_text(text)\n",
    "        self.assertEqual(result, 'Monty Python')\n",
    "        \n",
    "    def test_with_apostrophes(self):\n",
    "        text = \"monty python's flying circus\"\n",
    "        result = cap.cap_text(text)\n",
    "        self.assertEqual(result, \"Monty Python's Flying Circus\")\n",
    "        \n",
    "if __name__ == '__main__':\n",
    "    unittest.main()"
   ]
  },
  {
   "cell_type": "code",
   "execution_count": 14,
   "metadata": {},
   "outputs": [
    {
     "name": "stderr",
     "output_type": "stream",
     "text": [
      "..F\n",
      "======================================================================\n",
      "FAIL: test_with_apostrophes (__main__.TestCap)\n",
      "----------------------------------------------------------------------\n",
      "Traceback (most recent call last):\n",
      "  File \"test_cap.py\", line 19, in test_with_apostrophes\n",
      "    self.assertEqual(result, \"Monty Python's Flying Circus\")\n",
      "AssertionError: \"Monty Python'S Flying Circus\" != \"Monty Python's Flying Circus\"\n",
      "- Monty Python'S Flying Circus\n",
      "?              ^\n",
      "+ Monty Python's Flying Circus\n",
      "?              ^\n",
      "\n",
      "\n",
      "----------------------------------------------------------------------\n",
      "Ran 3 tests in 0.001s\n",
      "\n",
      "FAILED (failures=1)\n"
     ]
    }
   ],
   "source": [
    "! python test_cap.py"
   ]
  },
  {
   "cell_type": "markdown",
   "metadata": {},
   "source": [
    "Now we have to find a solution that handles apostrophes! There is one (look up `capwords` from the `string` module)."
   ]
  },
  {
   "cell_type": "code",
   "execution_count": 15,
   "metadata": {},
   "outputs": [
    {
     "name": "stdout",
     "output_type": "stream",
     "text": [
      "Overwriting cap.py\n"
     ]
    }
   ],
   "source": [
    "%%writefile cap.py\n",
    "import string\n",
    "\n",
    "def cap_text(text):\n",
    "    return string.capwords(text, sep = None)  # replace .title() with .capwords()"
   ]
  },
  {
   "cell_type": "code",
   "execution_count": 16,
   "metadata": {},
   "outputs": [
    {
     "name": "stderr",
     "output_type": "stream",
     "text": [
      "...\n",
      "----------------------------------------------------------------------\n",
      "Ran 3 tests in 0.000s\n",
      "\n",
      "OK\n"
     ]
    }
   ],
   "source": [
    "! python test_cap.py"
   ]
  }
 ],
 "metadata": {
  "kernelspec": {
   "display_name": "Python 3 (ipykernel)",
   "language": "python",
   "name": "python3"
  },
  "language_info": {
   "codemirror_mode": {
    "name": "ipython",
    "version": 3
   },
   "file_extension": ".py",
   "mimetype": "text/x-python",
   "name": "python",
   "nbconvert_exporter": "python",
   "pygments_lexer": "ipython3",
   "version": "3.8.11"
  }
 },
 "nbformat": 4,
 "nbformat_minor": 2
}
