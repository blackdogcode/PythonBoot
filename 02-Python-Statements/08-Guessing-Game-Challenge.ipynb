{
 "cells": [
  {
   "cell_type": "markdown",
   "metadata": {},
   "source": [
    "# Guessing Game Challenge\n",
    "\n",
    "Let's use `while` loops to create a guessing game.\n",
    "\n",
    "The Challenge:\n",
    "\n",
    "Write a program that picks a random integer from 1 to 100, and has players guess the number. The rules are:\n",
    "\n",
    "1. If a player's guess is less than 1 or greater than 100, say \"OUT OF BOUNDS\"\n",
    "2. On a player's first turn, if their guess is\n",
    " * within 10 of the number, return \"WARM!\"\n",
    " * further than 10 away from the number, return \"COLD!\"\n",
    "3. On all subsequent turns, if a guess is \n",
    " * closer to the number than the previous guess return \"WARMER!\"\n",
    " * farther from the number than the previous guess, return \"COLDER!\"\n",
    "4. When the player's guess equals the number, tell them they've guessed correctly *and* how many guesses it took!\n",
    "\n",
    "You can try this from scratch, or follow the steps outlined below. A separate Solution notebook has been provided. Good luck!\n"
   ]
  },
  {
   "cell_type": "markdown",
   "metadata": {},
   "source": [
    "#### First, pick a random integer from 1 to 100 using the random module and assign it to a variable\n",
    "\n",
    "Note: `random.randint(a,b)` returns a random integer in range `[a, b]`, including both end points."
   ]
  },
  {
   "cell_type": "code",
   "execution_count": 1,
   "metadata": {},
   "outputs": [
    {
     "data": {
      "text/plain": [
       "88"
      ]
     },
     "execution_count": 1,
     "metadata": {},
     "output_type": "execute_result"
    }
   ],
   "source": [
    "import random\n",
    "random.seed()\n",
    "random_number = random.randint(1, 100)\n",
    "random_number"
   ]
  },
  {
   "cell_type": "markdown",
   "metadata": {},
   "source": [
    "#### Next, print an introduction to the game and explain the rules"
   ]
  },
  {
   "cell_type": "code",
   "execution_count": 2,
   "metadata": {},
   "outputs": [
    {
     "name": "stdout",
     "output_type": "stream",
     "text": [
      "Guess integer number between 1 to 100\n"
     ]
    }
   ],
   "source": [
    "print('Guess integer number between 1 to 100')"
   ]
  },
  {
   "cell_type": "markdown",
   "metadata": {},
   "source": [
    "#### Create a list to store guesses\n",
    "\n",
    "Hint: zero is a good placeholder value. It's useful because it evaluates to \"False\""
   ]
  },
  {
   "cell_type": "markdown",
   "metadata": {},
   "source": [
    "#### Write a `while` loop that asks for a valid guess. Test it a few times to make sure it works."
   ]
  },
  {
   "cell_type": "markdown",
   "metadata": {},
   "source": [
    "#### Write a `while` loop that compares the player's guess to our number. If the player guesses correctly, break from the loop. Otherwise, tell the player if they're warmer or colder, and continue asking for guesses.\n",
    "\n",
    "Some hints:\n",
    "* it may help to sketch out all possible combinations on paper first!\n",
    "* you can use the `abs()` function to find the positive difference between two numbers\n",
    "* if you append all new guesses to the list, then the previous guess is given as `guesses[-2]`"
   ]
  },
  {
   "cell_type": "code",
   "execution_count": 3,
   "metadata": {},
   "outputs": [
    {
     "name": "stdout",
     "output_type": "stream",
     "text": [
      "Plase type integer between 1 to 100: 80\n",
      "WARM\n",
      "Plase type integer between 1 to 100: 70\n",
      "COLDER\n",
      "Plase type integer between 1 to 100: 82\n",
      "WARMER\n",
      "Plase type integer between 1 to 100: 85\n",
      "WARMER\n",
      "Plase type integer between 1 to 100: 84\n",
      "COLDER\n",
      "Plase type integer between 1 to 100: 88\n",
      "Correct the number is 88 and your try is 6\n"
     ]
    }
   ],
   "source": [
    "guess_numbers = []\n",
    "while True:\n",
    "    guess = int(input('Plase type integer between 1 to 100: '))\n",
    "    if guess < 1 or guess > 100:\n",
    "        print(\"OUT OF BOUNDS\")\n",
    "        continue\n",
    "        \n",
    "    guess_numbers.append(guess)\n",
    "    curr_distance = abs(guess - random_number)\n",
    "    if curr_distance == 0:\n",
    "        print(f'Correct the number is {random_number} and your try is {len(guess_numbers)}')\n",
    "        break\n",
    "    \n",
    "    # first attempt\n",
    "    if len(guess_numbers) == 1:\n",
    "        if curr_distance <= 10:\n",
    "            print('WARM')\n",
    "        else:\n",
    "            print('COLD')\n",
    "    # consecutive attempts\n",
    "    else:\n",
    "        prev_distance = abs(guess_numbers[-2] - random_number)\n",
    "        if curr_distance < prev_distance:\n",
    "            print(\"WARMER\")\n",
    "        else:\n",
    "            print(\"COLDER\")"
   ]
  }
 ],
 "metadata": {
  "kernelspec": {
   "display_name": "Python 3",
   "language": "python",
   "name": "python3"
  },
  "language_info": {
   "codemirror_mode": {
    "name": "ipython",
    "version": 3
   },
   "file_extension": ".py",
   "mimetype": "text/x-python",
   "name": "python",
   "nbconvert_exporter": "python",
   "pygments_lexer": "ipython3",
   "version": "3.8.8"
  }
 },
 "nbformat": 4,
 "nbformat_minor": 2
}
