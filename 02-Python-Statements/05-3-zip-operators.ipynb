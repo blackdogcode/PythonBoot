{
 "cells": [
  {
   "cell_type": "markdown",
   "id": "9b7d4c70",
   "metadata": {},
   "source": [
    "# [zip operators](https://realpython.com/python-zip-function/)\n",
    "\n",
    "Python’s zip() function creates an iterator that will aggregate elements from two or more iterables. You can use the resulting iterator to quickly and consistently solve common programming problems, like creating dictionaries.\n",
    "\n",
    "- How **zip()** works in both Python 3 and Python 2\n",
    "- How to use the Python zip() function for **parallel iteration**\n",
    "- How to **create dictionaries** on the fly using zip()"
   ]
  },
  {
   "cell_type": "markdown",
   "id": "854f5111",
   "metadata": {},
   "source": [
    "zip() is available in the built-in namespace. If you use dir() to inspect __builtins__, then you’ll see zip() at the end of the list:"
   ]
  },
  {
   "cell_type": "code",
   "execution_count": 1,
   "id": "eaf547b2",
   "metadata": {},
   "outputs": [
    {
     "data": {
      "text/plain": [
       "['ArithmeticError',\n",
       " 'AssertionError',\n",
       " 'AttributeError',\n",
       " 'BaseException',\n",
       " 'BlockingIOError',\n",
       " 'BrokenPipeError',\n",
       " 'BufferError',\n",
       " 'BytesWarning',\n",
       " 'ChildProcessError',\n",
       " 'ConnectionAbortedError',\n",
       " 'ConnectionError',\n",
       " 'ConnectionRefusedError',\n",
       " 'ConnectionResetError',\n",
       " 'DeprecationWarning',\n",
       " 'EOFError',\n",
       " 'Ellipsis',\n",
       " 'EnvironmentError',\n",
       " 'Exception',\n",
       " 'False',\n",
       " 'FileExistsError',\n",
       " 'FileNotFoundError',\n",
       " 'FloatingPointError',\n",
       " 'FutureWarning',\n",
       " 'GeneratorExit',\n",
       " 'IOError',\n",
       " 'ImportError',\n",
       " 'ImportWarning',\n",
       " 'IndentationError',\n",
       " 'IndexError',\n",
       " 'InterruptedError',\n",
       " 'IsADirectoryError',\n",
       " 'KeyError',\n",
       " 'KeyboardInterrupt',\n",
       " 'LookupError',\n",
       " 'MemoryError',\n",
       " 'ModuleNotFoundError',\n",
       " 'NameError',\n",
       " 'None',\n",
       " 'NotADirectoryError',\n",
       " 'NotImplemented',\n",
       " 'NotImplementedError',\n",
       " 'OSError',\n",
       " 'OverflowError',\n",
       " 'PendingDeprecationWarning',\n",
       " 'PermissionError',\n",
       " 'ProcessLookupError',\n",
       " 'RecursionError',\n",
       " 'ReferenceError',\n",
       " 'ResourceWarning',\n",
       " 'RuntimeError',\n",
       " 'RuntimeWarning',\n",
       " 'StopAsyncIteration',\n",
       " 'StopIteration',\n",
       " 'SyntaxError',\n",
       " 'SyntaxWarning',\n",
       " 'SystemError',\n",
       " 'SystemExit',\n",
       " 'TabError',\n",
       " 'TimeoutError',\n",
       " 'True',\n",
       " 'TypeError',\n",
       " 'UnboundLocalError',\n",
       " 'UnicodeDecodeError',\n",
       " 'UnicodeEncodeError',\n",
       " 'UnicodeError',\n",
       " 'UnicodeTranslateError',\n",
       " 'UnicodeWarning',\n",
       " 'UserWarning',\n",
       " 'ValueError',\n",
       " 'Warning',\n",
       " 'WindowsError',\n",
       " 'ZeroDivisionError',\n",
       " '__IPYTHON__',\n",
       " '__build_class__',\n",
       " '__debug__',\n",
       " '__doc__',\n",
       " '__import__',\n",
       " '__loader__',\n",
       " '__name__',\n",
       " '__package__',\n",
       " '__spec__',\n",
       " 'abs',\n",
       " 'all',\n",
       " 'any',\n",
       " 'ascii',\n",
       " 'bin',\n",
       " 'bool',\n",
       " 'breakpoint',\n",
       " 'bytearray',\n",
       " 'bytes',\n",
       " 'callable',\n",
       " 'chr',\n",
       " 'classmethod',\n",
       " 'compile',\n",
       " 'complex',\n",
       " 'copyright',\n",
       " 'credits',\n",
       " 'delattr',\n",
       " 'dict',\n",
       " 'dir',\n",
       " 'display',\n",
       " 'divmod',\n",
       " 'enumerate',\n",
       " 'eval',\n",
       " 'exec',\n",
       " 'filter',\n",
       " 'float',\n",
       " 'format',\n",
       " 'frozenset',\n",
       " 'get_ipython',\n",
       " 'getattr',\n",
       " 'globals',\n",
       " 'hasattr',\n",
       " 'hash',\n",
       " 'help',\n",
       " 'hex',\n",
       " 'id',\n",
       " 'input',\n",
       " 'int',\n",
       " 'isinstance',\n",
       " 'issubclass',\n",
       " 'iter',\n",
       " 'len',\n",
       " 'license',\n",
       " 'list',\n",
       " 'locals',\n",
       " 'map',\n",
       " 'max',\n",
       " 'memoryview',\n",
       " 'min',\n",
       " 'next',\n",
       " 'object',\n",
       " 'oct',\n",
       " 'open',\n",
       " 'ord',\n",
       " 'pow',\n",
       " 'print',\n",
       " 'property',\n",
       " 'range',\n",
       " 'repr',\n",
       " 'reversed',\n",
       " 'round',\n",
       " 'set',\n",
       " 'setattr',\n",
       " 'slice',\n",
       " 'sorted',\n",
       " 'staticmethod',\n",
       " 'str',\n",
       " 'sum',\n",
       " 'super',\n",
       " 'tuple',\n",
       " 'type',\n",
       " 'vars',\n",
       " 'zip']"
      ]
     },
     "execution_count": 1,
     "metadata": {},
     "output_type": "execute_result"
    }
   ],
   "source": [
    "dir(__builtins__)"
   ]
  },
  {
   "cell_type": "markdown",
   "id": "967a814f",
   "metadata": {},
   "source": [
    "## Using zip() in Python\n",
    "\n",
    "Python’s zip() function is defined as zip(*iterables). The function takes in iterables as arguments and returns an iterator. This iterator generates a series of tuples containing elements from each iterable. zip() can accept any type of iterable, such as files, lists, tuples, dictionaries, sets, and so on."
   ]
  },
  {
   "cell_type": "code",
   "execution_count": 2,
   "id": "1a95ebae",
   "metadata": {},
   "outputs": [
    {
     "data": {
      "text/plain": [
       "<zip at 0x27f09886d00>"
      ]
     },
     "execution_count": 2,
     "metadata": {},
     "output_type": "execute_result"
    }
   ],
   "source": [
    "numbers = [1, 2, 3, 4, 5]\n",
    "letters = ['a','b', 'c', 'd', 'e']\n",
    "zip(numbers, letters)"
   ]
  },
  {
   "cell_type": "code",
   "execution_count": 3,
   "id": "bcee6e97",
   "metadata": {},
   "outputs": [
    {
     "name": "stdout",
     "output_type": "stream",
     "text": [
      "<zip object at 0x0000027F098701C0>\n",
      "<class 'zip'>\n",
      "[(1, 'a'), (2, 'b'), (3, 'c'), (4, 'd'), (5, 'e')]\n"
     ]
    }
   ],
   "source": [
    "zipped = zip(numbers, letters)\n",
    "print(zipped)\n",
    "print(type(zipped))\n",
    "print(list(zipped))"
   ]
  },
  {
   "cell_type": "code",
   "execution_count": 4,
   "id": "785687e3",
   "metadata": {},
   "outputs": [
    {
     "data": {
      "text/plain": [
       "[(1, 'd', '!'), (2, 'b', '@'), (3, 'e', '#'), (4, 'c', '$'), (5, 'a', '%')]"
      ]
     },
     "execution_count": 4,
     "metadata": {},
     "output_type": "execute_result"
    }
   ],
   "source": [
    "numbers = [1, 2, 3, 4, 5]\n",
    "letters = {'a','b', 'c', 'd', 'e'}\n",
    "symbols = ('!', '@', '#', '$', '%')\n",
    "zipped = zip(numbers, letters, symbols)\n",
    "list(zipped)"
   ]
  },
  {
   "cell_type": "markdown",
   "id": "ca37cc93",
   "metadata": {},
   "source": [
    "If you’re going to use the Python zip() function with unordered iterables like sets, then this is something to keep in mind. This means that the tuples returned by zip() will have elements that are paired up randomly."
   ]
  },
  {
   "cell_type": "code",
   "execution_count": 5,
   "id": "1b530693",
   "metadata": {},
   "outputs": [
    {
     "data": {
      "text/plain": [
       "[(1, 'a'), (2, 'b'), (3, 'c')]"
      ]
     },
     "execution_count": 5,
     "metadata": {},
     "output_type": "execute_result"
    }
   ],
   "source": [
    "numbers = [1, 2, 3]\n",
    "letters = {'b', 'a', 'c'}\n",
    "list(zip(numbers, letters))"
   ]
  },
  {
   "cell_type": "markdown",
   "id": "c8faed28",
   "metadata": {},
   "source": [
    "## Passing No Arguments\n",
    "\n",
    "You can call zip() with no arguments as well. In this case, you’ll simply get an empty iterator:"
   ]
  },
  {
   "cell_type": "code",
   "execution_count": 6,
   "id": "f6fe2c2f",
   "metadata": {},
   "outputs": [
    {
     "data": {
      "text/plain": [
       "[]"
      ]
     },
     "execution_count": 6,
     "metadata": {},
     "output_type": "execute_result"
    }
   ],
   "source": [
    "zipped = zip()\n",
    "list(zipped)"
   ]
  },
  {
   "cell_type": "code",
   "execution_count": 7,
   "id": "1af84609",
   "metadata": {},
   "outputs": [
    {
     "ename": "StopIteration",
     "evalue": "",
     "output_type": "error",
     "traceback": [
      "\u001b[1;31m---------------------------------------------------------------------------\u001b[0m",
      "\u001b[1;31mStopIteration\u001b[0m                             Traceback (most recent call last)",
      "\u001b[1;32m~\\AppData\\Local\\Temp/ipykernel_77408/598360281.py\u001b[0m in \u001b[0;36m<module>\u001b[1;34m\u001b[0m\n\u001b[0;32m      1\u001b[0m \u001b[0mzipped\u001b[0m \u001b[1;33m=\u001b[0m \u001b[0mzip\u001b[0m\u001b[1;33m(\u001b[0m\u001b[1;33m)\u001b[0m\u001b[1;33m\u001b[0m\u001b[1;33m\u001b[0m\u001b[0m\n\u001b[1;32m----> 2\u001b[1;33m \u001b[0mnext\u001b[0m\u001b[1;33m(\u001b[0m\u001b[0mzipped\u001b[0m\u001b[1;33m)\u001b[0m\u001b[1;33m\u001b[0m\u001b[1;33m\u001b[0m\u001b[0m\n\u001b[0m",
      "\u001b[1;31mStopIteration\u001b[0m: "
     ]
    }
   ],
   "source": [
    "zipped = zip()\n",
    "next(zipped)"
   ]
  },
  {
   "cell_type": "markdown",
   "id": "3b6acf78",
   "metadata": {},
   "source": [
    "## Passing One Argument\n",
    "\n",
    "Python’s zip() function can take just one argument as well. The result will be an iterator that yields a series of 1-item tuples. This may not be that useful, but it still works. Perhaps you can find some use cases for this behavior of zip()!"
   ]
  },
  {
   "cell_type": "code",
   "execution_count": 8,
   "id": "0a20a6ff",
   "metadata": {},
   "outputs": [
    {
     "data": {
      "text/plain": [
       "[(1,), (2,), (3,), (4,), (5,)]"
      ]
     },
     "execution_count": 8,
     "metadata": {},
     "output_type": "execute_result"
    }
   ],
   "source": [
    "numbers = (1, 2, 3, 4, 5)\n",
    "zipped = zip(numbers)\n",
    "list(zipped)"
   ]
  },
  {
   "cell_type": "markdown",
   "id": "8974bce6",
   "metadata": {},
   "source": [
    "## Passing Arguments of Unequal Length\n",
    "\n",
    "It’s possible that the iterables you pass in as arguments aren’t the same length. In these cases, the number of elements that zip() puts out will be equal to the length of the shortest iterable. The remaining elements in any longer iterables will be totally ignored by zip()"
   ]
  },
  {
   "cell_type": "code",
   "execution_count": 9,
   "id": "a94ae75b",
   "metadata": {},
   "outputs": [
    {
     "data": {
      "text/plain": [
       "[(1, 'a'), (2, 'b'), (3, 'c')]"
      ]
     },
     "execution_count": 9,
     "metadata": {},
     "output_type": "execute_result"
    }
   ],
   "source": [
    "numbers = [1, 2, 3]\n",
    "letters = ['a', 'b', 'c', 'd', 'e']\n",
    "zipped = zip(numbers, letters)\n",
    "list(zipped)"
   ]
  },
  {
   "cell_type": "markdown",
   "id": "3a22d7dc",
   "metadata": {},
   "source": [
    "If trailing or unmatched values are important to you, then you can use **itertools.zip_longest()** instead of zip(). With this function, the missing values will be replaced with whatever you pass to the fillvalue argument(defaults to None)."
   ]
  },
  {
   "cell_type": "code",
   "execution_count": 10,
   "id": "6e8a510d",
   "metadata": {},
   "outputs": [
    {
     "data": {
      "text/plain": [
       "[(0, 0), (1, 1), (2, 2), ('?', 3), ('?', 4)]"
      ]
     },
     "execution_count": 10,
     "metadata": {},
     "output_type": "execute_result"
    }
   ],
   "source": [
    "from itertools import zip_longest\n",
    "zipped = zip_longest(range(3), range(5), fillvalue = '?')\n",
    "list(zipped)"
   ]
  },
  {
   "cell_type": "markdown",
   "id": "5d3620ab",
   "metadata": {},
   "source": [
    "## Looping Over Multiple Iterables\n",
    "\n",
    "Looping over multiple iterables is one of the most common use cases for Python’s zip() function. If you need to iterate through multiple lists, tuples, or any other sequence, then it’s likely that you’ll fall back on zip()."
   ]
  },
  {
   "cell_type": "markdown",
   "id": "0fdf2f57",
   "metadata": {},
   "source": [
    "### Traversing Lists in Parallel\n",
    "\n",
    "Python’s zip() function allows you to iterate in parallel over two or more iterables."
   ]
  },
  {
   "cell_type": "code",
   "execution_count": 11,
   "id": "05f70b81",
   "metadata": {},
   "outputs": [
    {
     "name": "stdout",
     "output_type": "stream",
     "text": [
      "1 a !\n",
      "2 b @\n",
      "3 c #\n",
      "4 d $\n",
      "5 e %\n"
     ]
    }
   ],
   "source": [
    "numbers = [1, 2, 3, 4, 5]\n",
    "letters = ['a', 'b', 'c', 'd', 'e']\n",
    "symbols = ['!', '@', '#', '$', '%']\n",
    "for num, char, sym in zip(numbers, letters, symbols):\n",
    "    print(num, char, sym)"
   ]
  },
  {
   "cell_type": "markdown",
   "id": "9a7a4b28",
   "metadata": {},
   "source": [
    "### Traversing Dictionaries in Parallel\n",
    "\n",
    "In Python 3.6 and beyond, dictionaries are ordered collections, meaning they keep their elements in the same order in which they were introduced."
   ]
  },
  {
   "cell_type": "code",
   "execution_count": 12,
   "id": "08d41eb8",
   "metadata": {},
   "outputs": [
    {
     "name": "stdout",
     "output_type": "stream",
     "text": [
      "company_name    tesla     compnay_name    iotex    \n",
      "stock_price     100.0     stock_price     1000.0   \n"
     ]
    }
   ],
   "source": [
    "dict_one = {'company_name': 'tesla', 'stock_price': 100.0}\n",
    "dict_two = {'compnay_name': 'iotex', 'stock_price': 1000.0}\n",
    "for (k1, v1), (k2, v2) in zip(dict_one.items(), dict_two.items()):\n",
    "    print(f'{k1:^12} {v1:^12} {k2:^12} {v2:^12}')"
   ]
  },
  {
   "cell_type": "markdown",
   "id": "7a95e157",
   "metadata": {},
   "source": [
    "## Unzipping a Sequence\n",
    "\n",
    "Say you have a list of tuples and want to separate the elements of each tuple into independent sequences. To do this, you can use zip() along with the unpacking operator *, like so:"
   ]
  },
  {
   "cell_type": "code",
   "execution_count": 13,
   "id": "112bc853",
   "metadata": {},
   "outputs": [
    {
     "name": "stdout",
     "output_type": "stream",
     "text": [
      "(1, 2, 3, 4, 5)\n",
      "('a', 'b', 'c', 'd', 'e')\n"
     ]
    }
   ],
   "source": [
    "pairs = [(1, 'a'), (2, 'b'), (3, 'c'), (4, 'd'), (5, 'e')]\n",
    "numbers, letters = zip(*pairs)\n",
    "print(numbers)\n",
    "print(letters)"
   ]
  },
  {
   "cell_type": "markdown",
   "id": "5dbac68f",
   "metadata": {},
   "source": [
    "## Sorting in Parallel\n",
    "\n",
    "Suppose you want to combine two lists and sort them at the same time. To do this, you can use zip() along with .sort() as follows:"
   ]
  },
  {
   "cell_type": "code",
   "execution_count": 14,
   "id": "aa2a4361",
   "metadata": {},
   "outputs": [
    {
     "name": "stdout",
     "output_type": "stream",
     "text": [
      "[(1, 'a'), (2, 'd'), (3, 'c'), (4, 'b'), (5, 'e')]\n",
      "[('a', 1), ('b', 4), ('c', 3), ('d', 2), ('e', 5)]\n"
     ]
    }
   ],
   "source": [
    "numbers = [4, 2, 1, 3, 5]\n",
    "letters = ['b', 'd', 'a', 'c', 'e']\n",
    "\n",
    "data_1 = sorted(zip(numbers, letters))\n",
    "print(data_1)\n",
    "\n",
    "data_2 = sorted(zip(letters, numbers))\n",
    "print(data_2)"
   ]
  },
  {
   "cell_type": "markdown",
   "id": "01b1bddc",
   "metadata": {},
   "source": [
    "## Building Dictionaries\n",
    "\n",
    "Python’s dictionaries are a very useful data structure. Sometimes, you might need to build a dictionary from two different but closely related sequences. A convenient way to achieve this is to use dict() and zip() together."
   ]
  },
  {
   "cell_type": "code",
   "execution_count": 15,
   "id": "c0158d22",
   "metadata": {},
   "outputs": [
    {
     "data": {
      "text/plain": [
       "{'iotex': 'USA',\n",
       " 'tesla': 'South Korea',\n",
       " 'newton': 'UK',\n",
       " 'faraday': 'China',\n",
       " 'euler': 'Maxico'}"
      ]
     },
     "execution_count": 15,
     "metadata": {},
     "output_type": "execute_result"
    }
   ],
   "source": [
    "company  = ['iotex', 'tesla', 'newton', 'faraday', 'euler']\n",
    "location = ['USA', 'South Korea', 'UK', 'China', 'Maxico']\n",
    "company_location = dict(zip(company, location))\n",
    "company_location"
   ]
  },
  {
   "cell_type": "code",
   "execution_count": 16,
   "id": "94f94fa0",
   "metadata": {},
   "outputs": [
    {
     "data": {
      "text/plain": [
       "{'iotex': 'USA',\n",
       " 'tesla': 'South Korea',\n",
       " 'newton': 'UK',\n",
       " 'faraday': 'China',\n",
       " 'euler': 'Maxico',\n",
       " 'hamilton': 'Japan'}"
      ]
     },
     "execution_count": 16,
     "metadata": {},
     "output_type": "execute_result"
    }
   ],
   "source": [
    "new_company  = ['hamilton']\n",
    "new_location = ['Japan']\n",
    "company_location.update(zip(new_company, new_location))\n",
    "company_location"
   ]
  }
 ],
 "metadata": {
  "kernelspec": {
   "display_name": "Python 3 (ipykernel)",
   "language": "python",
   "name": "python3"
  },
  "language_info": {
   "codemirror_mode": {
    "name": "ipython",
    "version": 3
   },
   "file_extension": ".py",
   "mimetype": "text/x-python",
   "name": "python",
   "nbconvert_exporter": "python",
   "pygments_lexer": "ipython3",
   "version": "3.8.11"
  }
 },
 "nbformat": 4,
 "nbformat_minor": 5
}
