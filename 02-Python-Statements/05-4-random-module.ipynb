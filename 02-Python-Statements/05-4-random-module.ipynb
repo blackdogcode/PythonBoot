{
 "cells": [
  {
   "cell_type": "markdown",
   "id": "52cf84d6",
   "metadata": {},
   "source": [
    "# [random module](https://www.geeksforgeeks.org/python-random-module/)\n",
    "\n",
    "Python Random module is an in-built module of Python which is used to **generate random numbers**. These are **pseudo-random numbers** means these are not truly random. This module can be used to perform random actions such as generating random numbers, print random a value for a list or string, etc."
   ]
  },
  {
   "cell_type": "markdown",
   "id": "c80c22e2",
   "metadata": {},
   "source": [
    "## random.random()\n",
    "\n",
    "The function random() returns the next random float in the range [0.0, 1.0]"
   ]
  },
  {
   "cell_type": "code",
   "execution_count": 1,
   "id": "ed80ab41",
   "metadata": {},
   "outputs": [
    {
     "name": "stdout",
     "output_type": "stream",
     "text": [
      "0.9255167965803768 0.5141997789440852 0.3368574731068835 0.5474736558821396 0.12471608842689974 "
     ]
    }
   ],
   "source": [
    "import random\n",
    "for _ in range(5):\n",
    "    var = random.random()\n",
    "    print(var, end=\" \")"
   ]
  },
  {
   "cell_type": "markdown",
   "id": "00523809",
   "metadata": {},
   "source": [
    "## random.randint(start, end)\n",
    "\n",
    "randint() generates random integers for you. If you call the function, it returns a random integer N such that a <= N <= b."
   ]
  },
  {
   "cell_type": "code",
   "execution_count": 2,
   "id": "1890d8cc",
   "metadata": {
    "scrolled": true
   },
   "outputs": [
    {
     "name": "stdout",
     "output_type": "stream",
     "text": [
      "98 2 84 41 14 30 64 66 59 36 "
     ]
    }
   ],
   "source": [
    "import random\n",
    "for _ in range(10):\n",
    "    var = random.randint(0, 100)\n",
    "    print(var, end=\" \")"
   ]
  },
  {
   "cell_type": "markdown",
   "id": "507572ed",
   "metadata": {},
   "source": [
    "## random.choice()\n",
    "\n",
    "random.choice() function is used to return a random item from a list, tuple, or string."
   ]
  },
  {
   "cell_type": "code",
   "execution_count": 3,
   "id": "e64cff0f",
   "metadata": {},
   "outputs": [
    {
     "name": "stdout",
     "output_type": "stream",
     "text": [
      "6\n",
      "8\n",
      " \n"
     ]
    }
   ],
   "source": [
    "import random\n",
    "lst = [1, 2, 3, 4, 5, 6, 7, 8, 9, 10]\n",
    "var = random.choice(lst)\n",
    "print(var)\n",
    "\n",
    "tup = (1, 2, 3, 4, 5, 6, 7, 8, 9, 10)\n",
    "var = random.choice(tup)\n",
    "print(var)\n",
    "\n",
    "lne = 'Hello World'\n",
    "var = random.choice(lne)\n",
    "print(var)"
   ]
  },
  {
   "cell_type": "markdown",
   "id": "97086ee6",
   "metadata": {},
   "source": [
    "## random.shuffle()\n",
    "\n",
    "random.shuffle() method is used to shuffle a sequence (list). Shuffling means changing the position of the elements of the sequence. Here, the shuffling operation is **inplace**."
   ]
  },
  {
   "cell_type": "code",
   "execution_count": 4,
   "id": "1cf612ae",
   "metadata": {},
   "outputs": [
    {
     "data": {
      "text/plain": [
       "[6, 7, 9, 2, 1, 8, 4, 10, 3, 5]"
      ]
     },
     "execution_count": 4,
     "metadata": {},
     "output_type": "execute_result"
    }
   ],
   "source": [
    "import random\n",
    "lst = list(range(1, 11))\n",
    "random.shuffle(lst)\n",
    "lst"
   ]
  },
  {
   "cell_type": "markdown",
   "id": "f8ac6dad",
   "metadata": {},
   "source": [
    "## random.sample()\n",
    "\n",
    "Returns a particular length list of items chosen from the sequence"
   ]
  },
  {
   "cell_type": "code",
   "execution_count": 5,
   "id": "8aeb7b1b",
   "metadata": {},
   "outputs": [
    {
     "data": {
      "text/plain": [
       "[5, 3, 6, 7, 9, 10, 2, 8, 1, 4]"
      ]
     },
     "execution_count": 5,
     "metadata": {},
     "output_type": "execute_result"
    }
   ],
   "source": [
    "import random\n",
    "lst = random.sample(range(1,11), 10)\n",
    "lst"
   ]
  }
 ],
 "metadata": {
  "kernelspec": {
   "display_name": "Python 3 (ipykernel)",
   "language": "python",
   "name": "python3"
  },
  "language_info": {
   "codemirror_mode": {
    "name": "ipython",
    "version": 3
   },
   "file_extension": ".py",
   "mimetype": "text/x-python",
   "name": "python",
   "nbconvert_exporter": "python",
   "pygments_lexer": "ipython3",
   "version": "3.8.11"
  }
 },
 "nbformat": 4,
 "nbformat_minor": 5
}
