{
 "cells": [
  {
   "cell_type": "markdown",
   "id": "7597fe88",
   "metadata": {},
   "source": [
    "# [while Loops](https://realpython.com/python-while-loop/)\n",
    "\n",
    "The while statement in Python is one of most general ways to perform iteration. A while statement will repeatedly execute a single statement or group of statements as long as the condition is true.\n",
    "\n",
    "The general format of a while loop is:\n",
    "\n",
    "    while test:\n",
    "        code statements\n",
    "    else:\n",
    "        final code statements\n",
    "        \n",
    "When a while loop is encountered, <expr> is first evaluated in Boolean context. If it is true, the loop body is executed. Then <expr> is checked again, and if still true, the body is executed again. This continues until <expr> becomes false, at which point program execution proceeds to the first statement beyond the loop body."
   ]
  },
  {
   "cell_type": "markdown",
   "id": "79aa5532",
   "metadata": {},
   "source": [
    "## Simple Example"
   ]
  },
  {
   "cell_type": "code",
   "execution_count": 1,
   "id": "cd5e57b4",
   "metadata": {},
   "outputs": [
    {
     "name": "stdout",
     "output_type": "stream",
     "text": [
      "10 9 8 7 6 5 4 3 2 1 "
     ]
    }
   ],
   "source": [
    "n = 10\n",
    "while n > 0:\n",
    "    print(n, end=\" \")\n",
    "    n -= 1"
   ]
  },
  {
   "cell_type": "code",
   "execution_count": 2,
   "id": "df8334d6",
   "metadata": {},
   "outputs": [
    {
     "name": "stdout",
     "output_type": "stream",
     "text": [
      "baz\n",
      "bar\n",
      "foo\n"
     ]
    }
   ],
   "source": [
    "var = ['foo', 'bar', 'baz']\n",
    "while var:\n",
    "    print(var.pop())"
   ]
  },
  {
   "cell_type": "markdown",
   "id": "1b92e18e",
   "metadata": {},
   "source": [
    "## The Python break and continue Statements\n",
    "\n",
    "The Python **break** statement immediately terminates a loop entirely. Program execution proceeds to the first statement following the loop body."
   ]
  },
  {
   "cell_type": "code",
   "execution_count": 3,
   "id": "7e61a56d",
   "metadata": {},
   "outputs": [
    {
     "name": "stdout",
     "output_type": "stream",
     "text": [
      "Hello Newton\n",
      "Hello Faraday\n",
      "Hello Feynman\n"
     ]
    }
   ],
   "source": [
    "names = ['newton', 'faraday', 'feynman', 'tesla', 'euler']\n",
    "idx = 0\n",
    "while idx < len(names):\n",
    "    name = names[idx]\n",
    "    idx += 1\n",
    "    if name == 'tesla':\n",
    "        break\n",
    "    else:\n",
    "        print(f\"Hello {name.capitalize()}\")"
   ]
  },
  {
   "cell_type": "markdown",
   "id": "ef1baae4",
   "metadata": {},
   "source": [
    "The Python **continue** statement immediately terminates the current loop iteration. Execution jumps to the top of the loop, and the controlling expression is re-evaluated to determine whether the loop will execute again or terminate."
   ]
  },
  {
   "cell_type": "code",
   "execution_count": 4,
   "id": "a6ed3f3e",
   "metadata": {},
   "outputs": [
    {
     "name": "stdout",
     "output_type": "stream",
     "text": [
      "Hello Newton\n",
      "Hello Faraday\n",
      "Hello Feynman\n",
      "Hello Euler\n"
     ]
    }
   ],
   "source": [
    "names = ['newton', 'faraday', 'feynman', 'tesla', 'euler']\n",
    "idx = 0\n",
    "while idx < len(names):\n",
    "    name = names[idx]\n",
    "    idx += 1\n",
    "    if name == 'tesla':\n",
    "        continue\n",
    "    else:\n",
    "        print(f\"Hello {name.capitalize()}\")"
   ]
  },
  {
   "cell_type": "markdown",
   "id": "07359613",
   "metadata": {},
   "source": [
    "## The else Clause\n",
    "\n",
    "Python allows an optional else clause at the end of a while loop. This is a unique feature of Python. The else clause will be executed when the while loop terminates. They will be executed only if the loop terminates “by exhaustion”—that is, if the loop iterates until the controlling condition becomes false. If the loop is exited by a break statement, the else clause won’t be executed."
   ]
  },
  {
   "cell_type": "code",
   "execution_count": 5,
   "id": "57e563ec",
   "metadata": {},
   "outputs": [
    {
     "name": "stdout",
     "output_type": "stream",
     "text": [
      "5 4 3 2 1 0 Loop Done\n"
     ]
    }
   ],
   "source": [
    "idx = 6\n",
    "while idx > 0:\n",
    "    idx -= 1\n",
    "    print(idx, end=' ')\n",
    "else:\n",
    "    print('Loop Done')"
   ]
  },
  {
   "cell_type": "code",
   "execution_count": 6,
   "id": "9395d57a",
   "metadata": {},
   "outputs": [
    {
     "name": "stdout",
     "output_type": "stream",
     "text": [
      "5 4 "
     ]
    }
   ],
   "source": [
    "idx = 6\n",
    "while idx > 0:\n",
    "    idx -= 1\n",
    "    print(idx, end=' ')\n",
    "    if idx % 2 == 0:\n",
    "        break\n",
    "else:\n",
    "    print('Loop Done')"
   ]
  },
  {
   "cell_type": "code",
   "execution_count": 7,
   "id": "230f1bf1",
   "metadata": {},
   "outputs": [
    {
     "name": "stdout",
     "output_type": "stream",
     "text": [
      "5 3 1 Loop Done\n"
     ]
    }
   ],
   "source": [
    "idx = 6\n",
    "while idx > 0:\n",
    "    idx -= 1\n",
    "    if idx % 2 == 0:\n",
    "        continue\n",
    "    print(idx, end=' ')\n",
    "else:\n",
    "    print('Loop Done')"
   ]
  },
  {
   "cell_type": "markdown",
   "id": "647982ea",
   "metadata": {},
   "source": [
    "## Infinite Loops\n",
    "\n",
    "Clearly, True will never be false, or we’re all in very big trouble. Thus, while True: initiates an infinite loop that will theoretically run forever.\n",
    "\n",
    "Maybe that doesn’t sound like something you’d want to do, but this pattern is actually quite common. For example, you might write code for a service that starts up and runs forever accepting service requests. “Forever” in this context means until you shut it down, or until the heat death of the universe, whichever comes first.\n",
    "\n",
    "Infinite loops can be very useful. Just remember that you must ensure the loop gets broken out of at some point, so it doesn’t truly become infinite."
   ]
  },
  {
   "cell_type": "markdown",
   "id": "9799eeef",
   "metadata": {},
   "source": [
    "## Nested while Loops\n",
    "\n",
    "A break or continue statement found within nested loops applies to the nearest enclosing loop"
   ]
  },
  {
   "cell_type": "code",
   "execution_count": 8,
   "id": "3304960e",
   "metadata": {},
   "outputs": [
    {
     "name": "stdout",
     "output_type": "stream",
     "text": [
      "baz\n",
      "\ttar\n",
      "\tqux\n",
      "\tchr\n",
      "bar\n",
      "\ttar\n",
      "\tqux\n",
      "\tchr\n",
      "foo\n",
      "\ttar\n",
      "\tqux\n",
      "\tchr\n"
     ]
    }
   ],
   "source": [
    "var_1 = ['foo', 'bar', 'baz']\n",
    "while var_1:\n",
    "    print(var_1.pop())\n",
    "    var_2 = ['chr', 'qux', 'tar']\n",
    "    while var_2:\n",
    "        print(f'\\t{var_2.pop()}')"
   ]
  },
  {
   "cell_type": "markdown",
   "id": "ec7e79d4",
   "metadata": {},
   "source": [
    "## One-Line while Loops\n",
    "\n",
    "A while loop can be specified on one line. If there are multiple statements in the block that makes up the loop body, they can be separated by semicolons (;)\n",
    "\n",
    "Remember that [PEP 8](https://realpython.com/python-pep8/) discourages multiple statements on one line. So you probably shouldn’t be doing any of this very often anyhow."
   ]
  },
  {
   "cell_type": "code",
   "execution_count": 9,
   "id": "b211c775",
   "metadata": {},
   "outputs": [
    {
     "name": "stdout",
     "output_type": "stream",
     "text": [
      "10 9 8 7 6 5 4 3 2 1 "
     ]
    }
   ],
   "source": [
    "n = 10\n",
    "while n > 0: print(n, end=\" \"); n -= 1"
   ]
  }
 ],
 "metadata": {
  "kernelspec": {
   "display_name": "Python 3 (ipykernel)",
   "language": "python",
   "name": "python3"
  },
  "language_info": {
   "codemirror_mode": {
    "name": "ipython",
    "version": 3
   },
   "file_extension": ".py",
   "mimetype": "text/x-python",
   "name": "python",
   "nbconvert_exporter": "python",
   "pygments_lexer": "ipython3",
   "version": "3.8.11"
  }
 },
 "nbformat": 4,
 "nbformat_minor": 5
}
