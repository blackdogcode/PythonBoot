{
 "cells": [
  {
   "cell_type": "markdown",
   "id": "37bb5711",
   "metadata": {},
   "source": [
    "# [if, elif, else Statements](https://realpython.com/python-conditional-statements/)\n",
    "\n",
    "if Statements in Python allows us to tell the computer to perform alternative actions based on a certain set of results.\n",
    "\n",
    "Let's go ahead and look at the syntax format for if statements to get a better idea of this:\n",
    "\n",
    "    if case1:\n",
    "        perform action1\n",
    "    elif case2:\n",
    "        perform action2\n",
    "    else: \n",
    "        perform action3"
   ]
  },
  {
   "cell_type": "markdown",
   "id": "9386d1f3",
   "metadata": {},
   "source": [
    "### Simplest if statements"
   ]
  },
  {
   "cell_type": "code",
   "execution_count": 1,
   "id": "e0d84ef2",
   "metadata": {},
   "outputs": [
    {
     "name": "stdout",
     "output_type": "stream",
     "text": [
      "'foo' is in the list\n"
     ]
    }
   ],
   "source": [
    "if 'foo' in ['foo', 'bar', 'baz']:\n",
    "    print(\"'foo' is in the list\")"
   ]
  },
  {
   "cell_type": "markdown",
   "id": "f6527195",
   "metadata": {},
   "source": [
    "### One-Line if Statements\n",
    "If an if statement is simple enough, though, putting it all on one line may be reasonable."
   ]
  },
  {
   "cell_type": "code",
   "execution_count": 2,
   "id": "cb5646f1",
   "metadata": {},
   "outputs": [
    {
     "name": "stdout",
     "output_type": "stream",
     "text": [
      "Hello Python World\n",
      "It is a versatile language\n"
     ]
    }
   ],
   "source": [
    "if True: print('Hello Python World'); print('It is a versatile language')"
   ]
  },
  {
   "cell_type": "markdown",
   "id": "8d1ee7f5",
   "metadata": {},
   "source": [
    "### Compount statements"
   ]
  },
  {
   "cell_type": "code",
   "execution_count": 3,
   "id": "3246676e",
   "metadata": {},
   "outputs": [
    {
     "name": "stdout",
     "output_type": "stream",
     "text": [
      "Outer condition is true\n",
      "Between inner conditions\n",
      "Inner condition 2\n",
      "End of outer condtion\n",
      "After of outer condition\n"
     ]
    }
   ],
   "source": [
    "if 'foo' in ['foo', 'bar', 'baz']:\n",
    "    print('Outer condition is true')\n",
    "    \n",
    "    if 10 > 20:\n",
    "        print('Inner condition 1')\n",
    "        \n",
    "    print('Between inner conditions')\n",
    "    \n",
    "    if 10 < 20:\n",
    "        print('Inner condition 2')\n",
    "    \n",
    "    print('End of outer condtion')\n",
    "print('After of outer condition')"
   ]
  },
  {
   "cell_type": "markdown",
   "id": "4be17baa",
   "metadata": {},
   "source": [
    "### if-else statement"
   ]
  },
  {
   "cell_type": "code",
   "execution_count": 4,
   "id": "56a5dcf8",
   "metadata": {},
   "outputs": [
    {
     "name": "stdout",
     "output_type": "stream",
     "text": [
      "I will mow the lawn\n"
     ]
    }
   ],
   "source": [
    "sunny = True\n",
    "if sunny:\n",
    "    print('I will mow the lawn')\n",
    "else:\n",
    "    print('I will stay in house')"
   ]
  },
  {
   "cell_type": "markdown",
   "id": "0ed00983",
   "metadata": {},
   "source": [
    "### if-elif-else ststaments\n",
    "An if statement with elif clauses uses short-circuit evaluation, analogous to what you saw with the and and or operators. Once one of the expressions is found to be true and its block is executed, none of the remaining expressions are tested."
   ]
  },
  {
   "cell_type": "code",
   "execution_count": 5,
   "id": "f9983c61",
   "metadata": {},
   "outputs": [
    {
     "name": "stdout",
     "output_type": "stream",
     "text": [
      "foo is in the list\n"
     ]
    }
   ],
   "source": [
    "if 'foo' in ['foo', 'bar', 'baz']:\n",
    "    print('foo is in the list')\n",
    "elif 1/0:\n",
    "    # division by zero\n",
    "    print('This will not be evaluated')\n",
    "elif var:\n",
    "    # undefined variable 'var'\n",
    "    print('This also not be evaluated')"
   ]
  },
  {
   "cell_type": "markdown",
   "id": "eed7e6ad",
   "metadata": {},
   "source": [
    "### Conditional Expressions (Python’s Ternary Operator)"
   ]
  },
  {
   "cell_type": "code",
   "execution_count": 6,
   "id": "f8b0f148",
   "metadata": {},
   "outputs": [
    {
     "name": "stdout",
     "output_type": "stream",
     "text": [
      "Let's go to the shopping mall\n"
     ]
    }
   ],
   "source": [
    "raining = True\n",
    "print(\"Let's go to the\", 'beach' if not raining else 'shopping mall')"
   ]
  },
  {
   "cell_type": "code",
   "execution_count": 7,
   "id": "4fc5de07",
   "metadata": {},
   "outputs": [
    {
     "data": {
      "text/plain": [
       "'child'"
      ]
     },
     "execution_count": 7,
     "metadata": {},
     "output_type": "execute_result"
    }
   ],
   "source": [
    "age = 13\n",
    "you = 'child' if age < 21 else 'adult'\n",
    "you"
   ]
  },
  {
   "cell_type": "markdown",
   "id": "d40e9088",
   "metadata": {},
   "source": [
    "Remember that the conditional expression behaves like an expression syntactically. It can be used as part of a longer expression. The conditional expression has lower precedence than virtually all the other operators, so parentheses are needed to group it by itself."
   ]
  },
  {
   "cell_type": "code",
   "execution_count": 8,
   "id": "96b37713",
   "metadata": {},
   "outputs": [
    {
     "name": "stdout",
     "output_type": "stream",
     "text": [
      "15\n",
      "16\n"
     ]
    }
   ],
   "source": [
    "x = y = 13\n",
    "z = 1 + x if x > y else y + 2\n",
    "print(z)\n",
    "z = 1 + (x if x > y else y) + 2\n",
    "print(z)"
   ]
  },
  {
   "cell_type": "markdown",
   "id": "9b738680",
   "metadata": {},
   "source": [
    "### The Python pass Statement\n",
    "Occasionally, you may find that you want to write what is called a code stub: a placeholder for where you will eventually put a block of code that you haven’t implemented yet."
   ]
  },
  {
   "cell_type": "code",
   "execution_count": 9,
   "id": "3cba6096",
   "metadata": {},
   "outputs": [],
   "source": [
    "snowy = False\n",
    "if snowy:\n",
    "    print(\"Let's play outside\")\n",
    "else:\n",
    "    # not implemented(decision) yet\n",
    "    pass"
   ]
  }
 ],
 "metadata": {
  "kernelspec": {
   "display_name": "Python 3 (ipykernel)",
   "language": "python",
   "name": "python3"
  },
  "language_info": {
   "codemirror_mode": {
    "name": "ipython",
    "version": 3
   },
   "file_extension": ".py",
   "mimetype": "text/x-python",
   "name": "python",
   "nbconvert_exporter": "python",
   "pygments_lexer": "ipython3",
   "version": "3.8.11"
  }
 },
 "nbformat": 4,
 "nbformat_minor": 5
}
