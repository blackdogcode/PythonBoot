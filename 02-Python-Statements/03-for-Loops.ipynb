{
 "cells": [
  {
   "cell_type": "markdown",
   "id": "b6cd2090",
   "metadata": {},
   "source": [
    "# [for Loops](https://realpython.com/python-for-loop/)\n",
    "\n",
    "Repetitive execution of the same block of code over and over is referred to as iteration.\n",
    "\n",
    "- There are two types of iteration:\n",
    "    - **Definite iteration**, in which the number of repetitions is specified explicitly in advance\n",
    "    - **Indefinite iteration**, in which the code block executes until some condition is met\n",
    "- In Python, indefinite iteration is performed with a while loop.\n",
    "\n",
    "A for loop acts as an **iterator** in Python; it goes through items that are in a *sequence or any other iterable item*. We can iterate over include strings, lists, tuples, and even built-in iterables for dictionaries, such as keys or values.\n",
    "\n",
    "Here's the general format for a for loop in Python:\n",
    "\n",
    "    for item in object\n",
    "        statements to do stuff\n",
    "\n",
    "This item name can then be referenced inside your loop, for example if you wanted to use if statements to perform checks."
   ]
  },
  {
   "cell_type": "markdown",
   "id": "551dc4f4",
   "metadata": {},
   "source": [
    "## Iterable\n",
    "In Python, iterable means an object can be used in iteration. The term is used as:\n",
    "\n",
    "- An adjective: An object may be described as iterable.\n",
    "- A noun: An object may be characterized as an iterable.\n",
    "\n",
    "If an object is iterable, it can be passed to the built-in Python function iter(), which returns something called an iterator."
   ]
  },
  {
   "cell_type": "code",
   "execution_count": 1,
   "id": "1602459a",
   "metadata": {
    "scrolled": true
   },
   "outputs": [
    {
     "name": "stdout",
     "output_type": "stream",
     "text": [
      "<str_iterator object at 0x0000029DC6B7FD30>\n",
      "<list_iterator object at 0x0000029DC6B7FEE0>\n",
      "<tuple_iterator object at 0x0000029DC6B7FD30>\n",
      "<dict_keyiterator object at 0x0000029DC6ADC090>\n",
      "<set_iterator object at 0x0000029DC6B8E080>\n",
      "<set_iterator object at 0x0000029DC6B8EF40>\n"
     ]
    }
   ],
   "source": [
    "print(iter('Hello World'))         # string\n",
    "print(iter([1, 2, 3]))             # list\n",
    "print(iter((1, 2, 3)))             # tuple\n",
    "print(iter({'key':'value'}))       # dictionary\n",
    "print(iter({1, 2, 3}))             # set\n",
    "print(iter(frozenset([1, 2, 3])))  # frozenset"
   ]
  },
  {
   "cell_type": "code",
   "execution_count": 2,
   "id": "fbd7613f",
   "metadata": {
    "scrolled": true
   },
   "outputs": [
    {
     "ename": "TypeError",
     "evalue": "'float' object is not iterable",
     "output_type": "error",
     "traceback": [
      "\u001b[1;31m---------------------------------------------------------------------------\u001b[0m",
      "\u001b[1;31mTypeError\u001b[0m                                 Traceback (most recent call last)",
      "\u001b[1;32m~\\AppData\\Local\\Temp/ipykernel_59024/1396462543.py\u001b[0m in \u001b[0;36m<module>\u001b[1;34m\u001b[0m\n\u001b[0;32m      1\u001b[0m \u001b[1;31m# floating point number is not iterable object\u001b[0m\u001b[1;33m\u001b[0m\u001b[1;33m\u001b[0m\u001b[1;33m\u001b[0m\u001b[0m\n\u001b[1;32m----> 2\u001b[1;33m \u001b[0miter\u001b[0m\u001b[1;33m(\u001b[0m\u001b[1;36m4.2\u001b[0m\u001b[1;33m)\u001b[0m\u001b[1;33m\u001b[0m\u001b[1;33m\u001b[0m\u001b[0m\n\u001b[0m",
      "\u001b[1;31mTypeError\u001b[0m: 'float' object is not iterable"
     ]
    }
   ],
   "source": [
    "# floating point number is not iterable object\n",
    "iter(4.2)"
   ]
  },
  {
   "cell_type": "code",
   "execution_count": 3,
   "id": "6b6f3819",
   "metadata": {
    "scrolled": true
   },
   "outputs": [
    {
     "ename": "TypeError",
     "evalue": "'int' object is not iterable",
     "output_type": "error",
     "traceback": [
      "\u001b[1;31m---------------------------------------------------------------------------\u001b[0m",
      "\u001b[1;31mTypeError\u001b[0m                                 Traceback (most recent call last)",
      "\u001b[1;32m~\\AppData\\Local\\Temp/ipykernel_59024/3902616987.py\u001b[0m in \u001b[0;36m<module>\u001b[1;34m\u001b[0m\n\u001b[0;32m      1\u001b[0m \u001b[1;31m# integer number is also not iterable object\u001b[0m\u001b[1;33m\u001b[0m\u001b[1;33m\u001b[0m\u001b[1;33m\u001b[0m\u001b[0m\n\u001b[1;32m----> 2\u001b[1;33m \u001b[0miter\u001b[0m\u001b[1;33m(\u001b[0m\u001b[1;36m3\u001b[0m\u001b[1;33m)\u001b[0m\u001b[1;33m\u001b[0m\u001b[1;33m\u001b[0m\u001b[0m\n\u001b[0m",
      "\u001b[1;31mTypeError\u001b[0m: 'int' object is not iterable"
     ]
    }
   ],
   "source": [
    "# integer number is also not iterable object\n",
    "iter(3)"
   ]
  },
  {
   "cell_type": "code",
   "execution_count": 4,
   "id": "078dffa8",
   "metadata": {},
   "outputs": [
    {
     "ename": "TypeError",
     "evalue": "'builtin_function_or_method' object is not iterable",
     "output_type": "error",
     "traceback": [
      "\u001b[1;31m---------------------------------------------------------------------------\u001b[0m",
      "\u001b[1;31mTypeError\u001b[0m                                 Traceback (most recent call last)",
      "\u001b[1;32m~\\AppData\\Local\\Temp/ipykernel_59024/515809149.py\u001b[0m in \u001b[0;36m<module>\u001b[1;34m\u001b[0m\n\u001b[0;32m      1\u001b[0m \u001b[1;31m# function is also not iterable object\u001b[0m\u001b[1;33m\u001b[0m\u001b[1;33m\u001b[0m\u001b[1;33m\u001b[0m\u001b[0m\n\u001b[1;32m----> 2\u001b[1;33m \u001b[0miter\u001b[0m\u001b[1;33m(\u001b[0m\u001b[0mmin\u001b[0m\u001b[1;33m)\u001b[0m\u001b[1;33m\u001b[0m\u001b[1;33m\u001b[0m\u001b[0m\n\u001b[0m",
      "\u001b[1;31mTypeError\u001b[0m: 'builtin_function_or_method' object is not iterable"
     ]
    }
   ],
   "source": [
    "# function is also not iterable object\n",
    "iter(min)"
   ]
  },
  {
   "cell_type": "markdown",
   "id": "a65a0058",
   "metadata": {},
   "source": [
    "## Simple Example"
   ]
  },
  {
   "cell_type": "code",
   "execution_count": 5,
   "id": "27a512c7",
   "metadata": {},
   "outputs": [
    {
     "name": "stdout",
     "output_type": "stream",
     "text": [
      " 1 is odd  number\n",
      " 2 is even number\n",
      " 3 is odd  number\n",
      " 4 is even number\n",
      " 5 is odd  number\n",
      " 6 is even number\n",
      " 7 is odd  number\n",
      " 8 is even number\n",
      " 9 is odd  number\n",
      "10 is even number\n"
     ]
    }
   ],
   "source": [
    "lst = [1, 2, 3, 4, 5, 6, 7, 8, 9, 10]\n",
    "for num in lst:\n",
    "    if num % 2 == 0:\n",
    "        print(f'{num:2d} is even number')\n",
    "    else:\n",
    "        print(f'{num:2d} is odd  number')"
   ]
  },
  {
   "cell_type": "markdown",
   "id": "ade0d187",
   "metadata": {},
   "source": [
    "## Tuple Unpacking\n",
    "Tuples have a special quality when it comes to for loops. If you are iterating through a sequence that contains tuples, the item can actually be the tuple itself, this is an example of **tuple unpacking**. During the for loop we will be unpacking the tuple inside of a sequence and we can access the individual items inside that tuple!"
   ]
  },
  {
   "cell_type": "code",
   "execution_count": 6,
   "id": "dc5fda99",
   "metadata": {},
   "outputs": [
    {
     "data": {
      "text/plain": [
       "dict_items([('Jenny', 'London'), ('Sam', 'Tokyo'), ('Song', 'Seoul')])"
      ]
     },
     "execution_count": 6,
     "metadata": {},
     "output_type": "execute_result"
    }
   ],
   "source": [
    "dic = {'Jenny':'London', 'Sam':'Tokyo', 'Song':'Seoul'}\n",
    "dic.items()"
   ]
  },
  {
   "cell_type": "code",
   "execution_count": 7,
   "id": "fcabe701",
   "metadata": {},
   "outputs": [
    {
     "name": "stdout",
     "output_type": "stream",
     "text": [
      "Jenny is in London\n",
      "Sam is in Tokyo\n",
      "Song is in Seoul\n"
     ]
    }
   ],
   "source": [
    "for man, place in dic.items():\n",
    "    print(f'{man} is in {place}')"
   ]
  },
  {
   "cell_type": "markdown",
   "id": "5d5dc7fe",
   "metadata": {},
   "source": [
    "## The range() Function\n",
    "**range(\\<begin>, \\<end>, \\<stride>)** returns an iterable that yields integers starting with \\<begin>, up to but not including \\<end>. If specified, \\<stride> indicates an amount to skip between values. All the parameters specified to range() must be integers, but any of them can be negative. Naturally, if \\<begin> is greater than \\<end>, \\<stride> must be negative"
   ]
  },
  {
   "cell_type": "code",
   "execution_count": 8,
   "id": "d73cf3ea",
   "metadata": {},
   "outputs": [
    {
     "name": "stdout",
     "output_type": "stream",
     "text": [
      "1 3 5 7 9 11 13 15 17 19 21 23 25 27 29 "
     ]
    }
   ],
   "source": [
    "for i in range(1, 30, 2):\n",
    "    print(i, end=\" \")"
   ]
  },
  {
   "cell_type": "markdown",
   "id": "61d28c7c",
   "metadata": {},
   "source": [
    "## Altering for Loop Behavior\n",
    "\n",
    "### The break and continue Statements\n",
    "break terminates the loop completely and proceeds to the first statement following the loop:"
   ]
  },
  {
   "cell_type": "code",
   "execution_count": 9,
   "id": "4ac7b2b1",
   "metadata": {},
   "outputs": [
    {
     "name": "stdout",
     "output_type": "stream",
     "text": [
      "foo\n",
      "bar\n"
     ]
    }
   ],
   "source": [
    "for word in ['foo', 'bar', 'baz']:\n",
    "    if 'z' in word:\n",
    "        break\n",
    "    print(word)"
   ]
  },
  {
   "cell_type": "markdown",
   "id": "ca7fee43",
   "metadata": {},
   "source": [
    "continue terminates the current iteration and proceeds to the next iteration:"
   ]
  },
  {
   "cell_type": "code",
   "execution_count": 10,
   "id": "fecd5a0e",
   "metadata": {},
   "outputs": [
    {
     "name": "stdout",
     "output_type": "stream",
     "text": [
      "foo\n",
      "baz\n"
     ]
    }
   ],
   "source": [
    "for word in ['foo', 'bar', 'baz']:\n",
    "    if 'r' in word:\n",
    "        continue\n",
    "    print(word)"
   ]
  },
  {
   "cell_type": "markdown",
   "id": "972b62a8",
   "metadata": {},
   "source": [
    "### The else Clause\n",
    "The else clause will be executed if the loop terminates through exhaustion of the iterable:"
   ]
  },
  {
   "cell_type": "code",
   "execution_count": 11,
   "id": "ddfc52f4",
   "metadata": {},
   "outputs": [
    {
     "name": "stdout",
     "output_type": "stream",
     "text": [
      "foo\n",
      "bar\n",
      "baz\n",
      "char\n",
      "Done\n"
     ]
    }
   ],
   "source": [
    "for word in ['foo', 'bar', 'baz', 'char']:\n",
    "    print(word)\n",
    "else:\n",
    "    print('Done')"
   ]
  }
 ],
 "metadata": {
  "kernelspec": {
   "display_name": "Python 3 (ipykernel)",
   "language": "python",
   "name": "python3"
  },
  "language_info": {
   "codemirror_mode": {
    "name": "ipython",
    "version": 3
   },
   "file_extension": ".py",
   "mimetype": "text/x-python",
   "name": "python",
   "nbconvert_exporter": "python",
   "pygments_lexer": "ipython3",
   "version": "3.8.11"
  }
 },
 "nbformat": 4,
 "nbformat_minor": 5
}
