{
 "cells": [
  {
   "cell_type": "markdown",
   "id": "b6cd2090",
   "metadata": {},
   "source": [
    "# [for Loops](https://realpython.com/python-for-loop/)\n",
    "\n",
    "Repetitive execution of the same block of code over and over is referred to as iteration.\n",
    "\n",
    "- There are two types of iteration:\n",
    "    - **Definite iteration**, in which the number of repetitions is specified explicitly in advance\n",
    "    - **Indefinite iteration**, in which the code block executes until some condition is met\n",
    "- In Python, indefinite iteration is performed with a while loop.\n",
    "\n",
    "A for loop acts as an **iterator** in Python; it goes through items that are in a *sequence or any other iterable item*. We can iterate over include strings, lists, tuples, and even built-in iterables for dictionaries, such as keys or values.\n",
    "\n",
    "Here's the general format for a for loop in Python:\n",
    "\n",
    "    for item in object\n",
    "        statements to do stuff\n",
    "\n",
    "This item name can then be referenced inside your loop, for example if you wanted to use if statements to perform checks."
   ]
  },
  {
   "cell_type": "markdown",
   "id": "551dc4f4",
   "metadata": {},
   "source": [
    "## Iterable\n",
    "In Python, iterable means an object can be used in iteration. The term is used as:\n",
    "\n",
    "- An adjective: An object may be described as iterable.\n",
    "- A noun: An object may be characterized as an iterable.\n",
    "\n",
    "If an object is iterable, it can be passed to the built-in Python function iter(), which returns something called an iterator."
   ]
  },
  {
   "cell_type": "code",
   "execution_count": 1,
   "id": "1602459a",
   "metadata": {
    "scrolled": true
   },
   "outputs": [
    {
     "name": "stdout",
     "output_type": "stream",
     "text": [
      "<str_iterator object at 0x00000193A69EB070>\n",
      "<list_iterator object at 0x00000193A699F490>\n",
      "<tuple_iterator object at 0x00000193A69A2C70>\n",
      "<dict_keyiterator object at 0x00000193A693AD10>\n",
      "<set_iterator object at 0x00000193A69972C0>\n",
      "<set_iterator object at 0x00000193A69972C0>\n"
     ]
    }
   ],
   "source": [
    "print(iter('Hello World'))         # string\n",
    "print(iter([1, 2, 3]))             # list\n",
    "print(iter((1, 2, 3)))             # tuple\n",
    "print(iter({'key':'value'}))       # dictionary\n",
    "print(iter({1, 2, 3}))             # set\n",
    "print(iter(frozenset([1, 2, 3])))  # frozenset"
   ]
  },
  {
   "cell_type": "code",
   "execution_count": 2,
   "id": "fbd7613f",
   "metadata": {
    "scrolled": true
   },
   "outputs": [
    {
     "ename": "TypeError",
     "evalue": "'float' object is not iterable",
     "output_type": "error",
     "traceback": [
      "\u001b[1;31m---------------------------------------------------------------------------\u001b[0m",
      "\u001b[1;31mTypeError\u001b[0m                                 Traceback (most recent call last)",
      "\u001b[1;32m<ipython-input-2-5309d66068c5>\u001b[0m in \u001b[0;36m<module>\u001b[1;34m\u001b[0m\n\u001b[0;32m      1\u001b[0m \u001b[1;31m# floating point number is not iterable object\u001b[0m\u001b[1;33m\u001b[0m\u001b[1;33m\u001b[0m\u001b[1;33m\u001b[0m\u001b[0m\n\u001b[1;32m----> 2\u001b[1;33m \u001b[0miter\u001b[0m\u001b[1;33m(\u001b[0m\u001b[1;36m4.2\u001b[0m\u001b[1;33m)\u001b[0m\u001b[1;33m\u001b[0m\u001b[1;33m\u001b[0m\u001b[0m\n\u001b[0m",
      "\u001b[1;31mTypeError\u001b[0m: 'float' object is not iterable"
     ]
    }
   ],
   "source": [
    "# floating point number is not iterable object\n",
    "iter(4.2)"
   ]
  },
  {
   "cell_type": "code",
   "execution_count": 3,
   "id": "6b6f3819",
   "metadata": {
    "scrolled": true
   },
   "outputs": [
    {
     "ename": "TypeError",
     "evalue": "'int' object is not iterable",
     "output_type": "error",
     "traceback": [
      "\u001b[1;31m---------------------------------------------------------------------------\u001b[0m",
      "\u001b[1;31mTypeError\u001b[0m                                 Traceback (most recent call last)",
      "\u001b[1;32m<ipython-input-3-e248415cdc92>\u001b[0m in \u001b[0;36m<module>\u001b[1;34m\u001b[0m\n\u001b[0;32m      1\u001b[0m \u001b[1;31m# integer number is also not iterable object\u001b[0m\u001b[1;33m\u001b[0m\u001b[1;33m\u001b[0m\u001b[1;33m\u001b[0m\u001b[0m\n\u001b[1;32m----> 2\u001b[1;33m \u001b[0miter\u001b[0m\u001b[1;33m(\u001b[0m\u001b[1;36m3\u001b[0m\u001b[1;33m)\u001b[0m\u001b[1;33m\u001b[0m\u001b[1;33m\u001b[0m\u001b[0m\n\u001b[0m",
      "\u001b[1;31mTypeError\u001b[0m: 'int' object is not iterable"
     ]
    }
   ],
   "source": [
    "# integer number is also not iterable object\n",
    "iter(3)"
   ]
  },
  {
   "cell_type": "code",
   "execution_count": 4,
   "id": "078dffa8",
   "metadata": {},
   "outputs": [
    {
     "ename": "TypeError",
     "evalue": "'builtin_function_or_method' object is not iterable",
     "output_type": "error",
     "traceback": [
      "\u001b[1;31m---------------------------------------------------------------------------\u001b[0m",
      "\u001b[1;31mTypeError\u001b[0m                                 Traceback (most recent call last)",
      "\u001b[1;32m<ipython-input-4-a2426b25fada>\u001b[0m in \u001b[0;36m<module>\u001b[1;34m\u001b[0m\n\u001b[0;32m      1\u001b[0m \u001b[1;31m# function is also not iterable object\u001b[0m\u001b[1;33m\u001b[0m\u001b[1;33m\u001b[0m\u001b[1;33m\u001b[0m\u001b[0m\n\u001b[1;32m----> 2\u001b[1;33m \u001b[0miter\u001b[0m\u001b[1;33m(\u001b[0m\u001b[0mmin\u001b[0m\u001b[1;33m)\u001b[0m\u001b[1;33m\u001b[0m\u001b[1;33m\u001b[0m\u001b[0m\n\u001b[0m",
      "\u001b[1;31mTypeError\u001b[0m: 'builtin_function_or_method' object is not iterable"
     ]
    }
   ],
   "source": [
    "# function is also not iterable object\n",
    "iter(min)"
   ]
  },
  {
   "cell_type": "markdown",
   "id": "a65a0058",
   "metadata": {},
   "source": [
    "## Simple Example"
   ]
  },
  {
   "cell_type": "code",
   "execution_count": 5,
   "id": "27a512c7",
   "metadata": {},
   "outputs": [
    {
     "name": "stdout",
     "output_type": "stream",
     "text": [
      " 1 is odd  number\n",
      " 2 is even number\n",
      " 3 is odd  number\n",
      " 4 is even number\n",
      " 5 is odd  number\n",
      " 6 is even number\n",
      " 7 is odd  number\n",
      " 8 is even number\n",
      " 9 is odd  number\n",
      "10 is even number\n"
     ]
    }
   ],
   "source": [
    "lst = [1, 2, 3, 4, 5, 6, 7, 8, 9, 10]\n",
    "for num in lst:\n",
    "    if num % 2 == 0:\n",
    "        print(f'{num:2d} is even number')\n",
    "    else:\n",
    "        print(f'{num:2d} is odd  number')"
   ]
  },
  {
   "cell_type": "markdown",
   "id": "ade0d187",
   "metadata": {},
   "source": [
    "## Tuple Unpacking\n",
    "Tuples have a special quality when it comes to for loops. If you are iterating through a sequence that contains tuples, the item can actually be the tuple itself, this is an example of **tuple unpacking**. During the for loop we will be unpacking the tuple inside of a sequence and we can access the individual items inside that tuple!"
   ]
  },
  {
   "cell_type": "code",
   "execution_count": 6,
   "id": "dc5fda99",
   "metadata": {},
   "outputs": [
    {
     "data": {
      "text/plain": [
       "dict_items([('Jenny', 'London'), ('Sam', 'Tokyo'), ('Song', 'Seoul')])"
      ]
     },
     "execution_count": 6,
     "metadata": {},
     "output_type": "execute_result"
    }
   ],
   "source": [
    "dic = {'Jenny':'London', 'Sam':'Tokyo', 'Song':'Seoul'}\n",
    "dic.items()"
   ]
  },
  {
   "cell_type": "code",
   "execution_count": 7,
   "id": "fcabe701",
   "metadata": {},
   "outputs": [
    {
     "name": "stdout",
     "output_type": "stream",
     "text": [
      "Jenny is in London\n",
      "Sam is in Tokyo\n",
      "Song is in Seoul\n"
     ]
    }
   ],
   "source": [
    "for man, place in dic.items():\n",
    "    print(f'{man} is in {place}')"
   ]
  }
 ],
 "metadata": {
  "kernelspec": {
   "display_name": "Python 3",
   "language": "python",
   "name": "python3"
  },
  "language_info": {
   "codemirror_mode": {
    "name": "ipython",
    "version": 3
   },
   "file_extension": ".py",
   "mimetype": "text/x-python",
   "name": "python",
   "nbconvert_exporter": "python",
   "pygments_lexer": "ipython3",
   "version": "3.8.8"
  }
 },
 "nbformat": 4,
 "nbformat_minor": 5
}
