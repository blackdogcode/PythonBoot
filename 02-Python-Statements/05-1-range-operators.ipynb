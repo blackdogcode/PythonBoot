{
 "cells": [
  {
   "cell_type": "markdown",
   "id": "e9dfbbfc",
   "metadata": {},
   "source": [
    "## [range(start, stop, step)](https://realpython.com/python-range/)\n",
    "\n",
    "The range function allows you to quickly generate a list of integers. There are 3 parameters you can pass, a start, a stop, and a step size.\n",
    "\n",
    "range() is mainly used for two purposes:\n",
    "\n",
    "1. Executing the body of a for-loop a specific number of times\n",
    "2. Creating more efficient iterables of integers than can be done using lists or tuples\n",
    "\n",
    "range() is great for creating **iterables of numbers**, but it’s not the best choice when you need to iterate over data that could be looped over with the **in** operator."
   ]
  },
  {
   "cell_type": "code",
   "execution_count": 1,
   "id": "0ff95b2f",
   "metadata": {},
   "outputs": [
    {
     "name": "stdout",
     "output_type": "stream",
     "text": [
      "0 1 2 3 4 5 6 7 8 9 "
     ]
    }
   ],
   "source": [
    "for i in range(10):\n",
    "    print(i, end=\" \")"
   ]
  },
  {
   "cell_type": "code",
   "execution_count": 2,
   "id": "4d91f7a3",
   "metadata": {},
   "outputs": [
    {
     "name": "stdout",
     "output_type": "stream",
     "text": [
      "3 4 5 6 7 8 "
     ]
    }
   ],
   "source": [
    "for i in range(3, 9):\n",
    "    print(i, end=\" \")"
   ]
  },
  {
   "cell_type": "code",
   "execution_count": 3,
   "id": "1ce86b38",
   "metadata": {},
   "outputs": [
    {
     "name": "stdout",
     "output_type": "stream",
     "text": [
      " 3 divided 3 is 1\n",
      " 6 divided 3 is 2\n",
      " 9 divided 3 is 3\n",
      "12 divided 3 is 4\n",
      "15 divided 3 is 5\n"
     ]
    }
   ],
   "source": [
    "for i in range(3, 16, 3):\n",
    "    quotient = i / 3\n",
    "    print(f'{i:2} divided 3 is {int(quotient)}')"
   ]
  },
  {
   "cell_type": "markdown",
   "id": "9c292677",
   "metadata": {},
   "source": [
    "If you don’t provide a step, then range() will automatically behave as if the step is 1."
   ]
  },
  {
   "cell_type": "code",
   "execution_count": 4,
   "id": "78b3be10",
   "metadata": {},
   "outputs": [
    {
     "ename": "ValueError",
     "evalue": "range() arg 3 must not be zero",
     "output_type": "error",
     "traceback": [
      "\u001b[1;31m---------------------------------------------------------------------------\u001b[0m",
      "\u001b[1;31mValueError\u001b[0m                                Traceback (most recent call last)",
      "\u001b[1;32m~\\AppData\\Local\\Temp/ipykernel_68936/205244955.py\u001b[0m in \u001b[0;36m<module>\u001b[1;34m\u001b[0m\n\u001b[1;32m----> 1\u001b[1;33m \u001b[1;32mfor\u001b[0m \u001b[0mi\u001b[0m \u001b[1;32min\u001b[0m \u001b[0mrange\u001b[0m\u001b[1;33m(\u001b[0m\u001b[1;36m1\u001b[0m\u001b[1;33m,\u001b[0m \u001b[1;36m7\u001b[0m\u001b[1;33m,\u001b[0m \u001b[1;36m0\u001b[0m\u001b[1;33m)\u001b[0m\u001b[1;33m:\u001b[0m\u001b[1;33m\u001b[0m\u001b[1;33m\u001b[0m\u001b[0m\n\u001b[0m\u001b[0;32m      2\u001b[0m     \u001b[0mprint\u001b[0m\u001b[1;33m(\u001b[0m\u001b[0mi\u001b[0m\u001b[1;33m)\u001b[0m\u001b[1;33m\u001b[0m\u001b[1;33m\u001b[0m\u001b[0m\n",
      "\u001b[1;31mValueError\u001b[0m: range() arg 3 must not be zero"
     ]
    }
   ],
   "source": [
    "for i in range(1, 7, 0):\n",
    "    print(i)"
   ]
  },
  {
   "cell_type": "markdown",
   "id": "1ecec4dd",
   "metadata": {},
   "source": [
    "Note that this is a generator function, so to actually get a list out of it, we need to cast it to a list with list(). What is a generator? Its a special type of function that will generate information and not need to save it to memory"
   ]
  },
  {
   "cell_type": "markdown",
   "id": "ecf469c1",
   "metadata": {},
   "source": [
    "## Incrementing With range()\n",
    "\n",
    "If you want to increment, then you need step to be a positive number."
   ]
  },
  {
   "cell_type": "code",
   "execution_count": 5,
   "id": "10bee774",
   "metadata": {},
   "outputs": [
    {
     "name": "stdout",
     "output_type": "stream",
     "text": [
      "1 14 27 40 53 66 79 92 "
     ]
    }
   ],
   "source": [
    "for i in range(1, 100, 13):\n",
    "    print(i, end=\" \")"
   ]
  },
  {
   "cell_type": "markdown",
   "id": "82c739e7",
   "metadata": {},
   "source": [
    "## Decrementing With range()\n",
    "\n",
    "If your step is negative, then you move through a series of decreasing numbers and are decrementing."
   ]
  },
  {
   "cell_type": "code",
   "execution_count": 6,
   "id": "e9a4c5c0",
   "metadata": {},
   "outputs": [
    {
     "name": "stdout",
     "output_type": "stream",
     "text": [
      "100 87 74 61 48 35 22 9 "
     ]
    }
   ],
   "source": [
    "for i in range(100, 1, -13):\n",
    "    print(i, end=\" \")"
   ]
  },
  {
   "cell_type": "markdown",
   "id": "64235dea",
   "metadata": {},
   "source": [
    "range() makes it possible to iterate over a decrementing sequence of numbers, whereas reversed() is generally used to loop over a sequence in reverse order."
   ]
  },
  {
   "cell_type": "code",
   "execution_count": 7,
   "id": "3e2d9626",
   "metadata": {},
   "outputs": [
    {
     "name": "stdout",
     "output_type": "stream",
     "text": [
      "9 8 7 6 5 4 3 2 1 0 "
     ]
    }
   ],
   "source": [
    "for i in reversed(range(10)):\n",
    "    print(i, end=\" \")"
   ]
  },
  {
   "cell_type": "markdown",
   "id": "ede35d71",
   "metadata": {},
   "source": [
    "## Floats and range()\n",
    "\n",
    "range() can take only integers as arguments."
   ]
  },
  {
   "cell_type": "code",
   "execution_count": 8,
   "id": "1d6a672f",
   "metadata": {},
   "outputs": [
    {
     "ename": "TypeError",
     "evalue": "'float' object cannot be interpreted as an integer",
     "output_type": "error",
     "traceback": [
      "\u001b[1;31m---------------------------------------------------------------------------\u001b[0m",
      "\u001b[1;31mTypeError\u001b[0m                                 Traceback (most recent call last)",
      "\u001b[1;32m~\\AppData\\Local\\Temp/ipykernel_68936/1161541279.py\u001b[0m in \u001b[0;36m<module>\u001b[1;34m\u001b[0m\n\u001b[1;32m----> 1\u001b[1;33m \u001b[1;32mfor\u001b[0m \u001b[0mi\u001b[0m \u001b[1;32min\u001b[0m \u001b[0mrange\u001b[0m\u001b[1;33m(\u001b[0m\u001b[1;36m7.7\u001b[0m\u001b[1;33m)\u001b[0m\u001b[1;33m:\u001b[0m\u001b[1;33m\u001b[0m\u001b[1;33m\u001b[0m\u001b[0m\n\u001b[0m\u001b[0;32m      2\u001b[0m     \u001b[0mprint\u001b[0m\u001b[1;33m(\u001b[0m\u001b[0mi\u001b[0m\u001b[1;33m)\u001b[0m\u001b[1;33m\u001b[0m\u001b[1;33m\u001b[0m\u001b[0m\n",
      "\u001b[1;31mTypeError\u001b[0m: 'float' object cannot be interpreted as an integer"
     ]
    }
   ],
   "source": [
    "for i in range(7.7):\n",
    "    print(i)"
   ]
  },
  {
   "cell_type": "markdown",
   "id": "539a5b8e",
   "metadata": {},
   "source": [
    "## Using range() With [NumPy](https://numpy.org/)"
   ]
  },
  {
   "cell_type": "code",
   "execution_count": 9,
   "id": "f781d998",
   "metadata": {},
   "outputs": [
    {
     "data": {
      "text/plain": [
       "array([0.3, 0.6, 0.9, 1.2, 1.5])"
      ]
     },
     "execution_count": 9,
     "metadata": {},
     "output_type": "execute_result"
    }
   ],
   "source": [
    "import numpy as np\n",
    "\n",
    "np.arange(0.3, 1.6, 0.3)"
   ]
  },
  {
   "cell_type": "code",
   "execution_count": 10,
   "id": "5f638fa4",
   "metadata": {},
   "outputs": [
    {
     "name": "stdout",
     "output_type": "stream",
     "text": [
      "0.3 0.6 0.8999999999999999 1.2 1.5 "
     ]
    }
   ],
   "source": [
    "for num in np.arange(0.3, 1.6, 0.3):\n",
    "    print(num, end=\" \")"
   ]
  }
 ],
 "metadata": {
  "kernelspec": {
   "display_name": "Python 3 (ipykernel)",
   "language": "python",
   "name": "python3"
  },
  "language_info": {
   "codemirror_mode": {
    "name": "ipython",
    "version": 3
   },
   "file_extension": ".py",
   "mimetype": "text/x-python",
   "name": "python",
   "nbconvert_exporter": "python",
   "pygments_lexer": "ipython3",
   "version": "3.8.11"
  }
 },
 "nbformat": 4,
 "nbformat_minor": 5
}
