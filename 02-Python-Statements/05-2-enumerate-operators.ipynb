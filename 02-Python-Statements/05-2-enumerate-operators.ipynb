{
 "cells": [
  {
   "cell_type": "markdown",
   "id": "5116593c",
   "metadata": {},
   "source": [
    "# [enumerate operators](https://realpython.com/python-enumerate/)\n",
    "\n",
    "Rather than creating and incrementing a variable yourself, you can use Python’s enumerate() to get a counter and the value from the iterable at the same time!\n",
    "\n",
    "- Use **enumerate()** to get a counter in a loop\n",
    "- Apply enumerate() to **display item counts**\n",
    "- Use enumerate() with **conditional statements**\n",
    "- Implement your own **equivalent function** to enumerate()\n",
    "- **Unpack values** returned by enumerate()"
   ]
  },
  {
   "cell_type": "markdown",
   "id": "5f3fa139",
   "metadata": {},
   "source": [
    "## Iterating With for Loops in Python"
   ]
  },
  {
   "cell_type": "code",
   "execution_count": 1,
   "id": "97148c65",
   "metadata": {},
   "outputs": [
    {
     "name": "stdout",
     "output_type": "stream",
     "text": [
      "0 a\n",
      "1 b\n",
      "2 c\n"
     ]
    }
   ],
   "source": [
    "idx = 0\n",
    "for char in 'abc':\n",
    "    print(idx, char)\n",
    "    idx += 1"
   ]
  },
  {
   "cell_type": "markdown",
   "id": "ad42137a",
   "metadata": {},
   "source": [
    "## Using Python’s enumerate()"
   ]
  },
  {
   "cell_type": "code",
   "execution_count": 2,
   "id": "787f6465",
   "metadata": {},
   "outputs": [
    {
     "name": "stdout",
     "output_type": "stream",
     "text": [
      "0 a\n",
      "1 b\n",
      "2 c\n"
     ]
    }
   ],
   "source": [
    "for idx, char in enumerate('abc'):\n",
    "    print(idx, char)"
   ]
  },
  {
   "cell_type": "markdown",
   "id": "314cfe48",
   "metadata": {},
   "source": [
    "Python’s enumerate() has one additional argument that you can use to control the starting value of the count. By default, the starting value is 0 because Python sequence types are indexed starting with zero"
   ]
  },
  {
   "cell_type": "code",
   "execution_count": 3,
   "id": "c23c18bc",
   "metadata": {},
   "outputs": [
    {
     "name": "stdout",
     "output_type": "stream",
     "text": [
      "1 a\n",
      "2 b\n",
      "3 c\n"
     ]
    }
   ],
   "source": [
    "for idx, char in enumerate('abc', start=1):\n",
    "    print(idx, char)"
   ]
  },
  {
   "cell_type": "markdown",
   "id": "3f1991ae",
   "metadata": {},
   "source": [
    "## Conditional Statements to Skip Items"
   ]
  },
  {
   "cell_type": "code",
   "execution_count": 4,
   "id": "ca91d744",
   "metadata": {},
   "outputs": [
    {
     "name": "stdout",
     "output_type": "stream",
     "text": [
      "[2, 4, 6, 8, 10]\n"
     ]
    }
   ],
   "source": [
    "def even_idx_items(iterable):\n",
    "    values = []\n",
    "    for idx, value in enumerate(iterable, start=1):\n",
    "        if not idx % 2:\n",
    "            values.append(value)\n",
    "    return values\n",
    "\n",
    "items = even_idx_items(range(1, 11))\n",
    "print(items)"
   ]
  }
 ],
 "metadata": {
  "kernelspec": {
   "display_name": "Python 3 (ipykernel)",
   "language": "python",
   "name": "python3"
  },
  "language_info": {
   "codemirror_mode": {
    "name": "ipython",
    "version": 3
   },
   "file_extension": ".py",
   "mimetype": "text/x-python",
   "name": "python",
   "nbconvert_exporter": "python",
   "pygments_lexer": "ipython3",
   "version": "3.8.11"
  }
 },
 "nbformat": 4,
 "nbformat_minor": 5
}
