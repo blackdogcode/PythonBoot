{
 "cells": [
  {
   "cell_type": "markdown",
   "id": "8b2ff6a9",
   "metadata": {},
   "source": [
    "# [enumerate operators](https://realpython.com/python-enumerate/)\n",
    "\n",
    "Rather than creating and incrementing a variable yourself, you can use Python’s enumerate() to get a counter and the value from the iterable at the same time!\n",
    "\n",
    "- Use **enumerate()** to get a counter in a loop\n",
    "- Apply enumerate() to **display item counts**\n",
    "- Use enumerate() with **conditional statements**\n",
    "- Implement your own **equivalent function** to enumerate()\n",
    "- **Unpack values** returned by enumerate()"
   ]
  },
  {
   "cell_type": "markdown",
   "id": "2fd6f1a8",
   "metadata": {},
   "source": [
    "## Iterating With for Loops in Python"
   ]
  },
  {
   "cell_type": "code",
   "execution_count": 1,
   "id": "579eaab2",
   "metadata": {},
   "outputs": [
    {
     "name": "stdout",
     "output_type": "stream",
     "text": [
      "0 a\n",
      "1 b\n",
      "2 c\n"
     ]
    }
   ],
   "source": [
    "idx = 0\n",
    "for char in 'abc':\n",
    "    print(idx, char)\n",
    "    idx += 1"
   ]
  },
  {
   "cell_type": "markdown",
   "id": "6fcd258d",
   "metadata": {},
   "source": [
    "## Using Python’s enumerate()\n",
    "\n",
    "enumerate actually returns a list of tuples"
   ]
  },
  {
   "cell_type": "code",
   "execution_count": 5,
   "id": "49a9be5c",
   "metadata": {},
   "outputs": [
    {
     "data": {
      "text/plain": [
       "[(0, 'a'), (1, 'b'), (2, 'c')]"
      ]
     },
     "execution_count": 5,
     "metadata": {},
     "output_type": "execute_result"
    }
   ],
   "source": [
    "list(enumerate('abc'))"
   ]
  },
  {
   "cell_type": "code",
   "execution_count": 2,
   "id": "8959cb8b",
   "metadata": {},
   "outputs": [
    {
     "name": "stdout",
     "output_type": "stream",
     "text": [
      "0 a\n",
      "1 b\n",
      "2 c\n"
     ]
    }
   ],
   "source": [
    "for idx, char in enumerate('abc'):\n",
    "    print(idx, char)"
   ]
  },
  {
   "cell_type": "markdown",
   "id": "6cbc9be4",
   "metadata": {},
   "source": [
    "Python’s enumerate() has one additional argument that you can use to control the starting value of the count. By default, the starting value is 0 because Python sequence types are indexed starting with zero"
   ]
  },
  {
   "cell_type": "code",
   "execution_count": 3,
   "id": "790b32b7",
   "metadata": {},
   "outputs": [
    {
     "name": "stdout",
     "output_type": "stream",
     "text": [
      "1 a\n",
      "2 b\n",
      "3 c\n"
     ]
    }
   ],
   "source": [
    "for idx, char in enumerate('abc', start=1):\n",
    "    print(idx, char)"
   ]
  },
  {
   "cell_type": "markdown",
   "id": "d3bba821",
   "metadata": {},
   "source": [
    "## Conditional Statements to Skip Items"
   ]
  },
  {
   "cell_type": "code",
   "execution_count": 4,
   "id": "6f4361d2",
   "metadata": {},
   "outputs": [
    {
     "name": "stdout",
     "output_type": "stream",
     "text": [
      "[2, 4, 6, 8, 10]\n"
     ]
    }
   ],
   "source": [
    "def even_idx_items(iterable):\n",
    "    values = []\n",
    "    for idx, value in enumerate(iterable, start=1):\n",
    "        if not idx % 2:\n",
    "            values.append(value)\n",
    "    return values\n",
    "\n",
    "items = even_idx_items(range(1, 11))\n",
    "print(items)"
   ]
  }
 ],
 "metadata": {
  "kernelspec": {
   "display_name": "Python 3 (ipykernel)",
   "language": "python",
   "name": "python3"
  },
  "language_info": {
   "codemirror_mode": {
    "name": "ipython",
    "version": 3
   },
   "file_extension": ".py",
   "mimetype": "text/x-python",
   "name": "python",
   "nbconvert_exporter": "python",
   "pygments_lexer": "ipython3",
   "version": "3.8.11"
  }
 },
 "nbformat": 4,
 "nbformat_minor": 5
}
