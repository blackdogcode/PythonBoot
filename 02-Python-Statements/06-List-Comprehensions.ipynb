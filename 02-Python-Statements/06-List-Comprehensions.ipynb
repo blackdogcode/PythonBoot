{
 "cells": [
  {
   "cell_type": "markdown",
   "id": "1c872c58",
   "metadata": {},
   "source": [
    "# [List Comprehensions](https://realpython.com/list-comprehension-python/)\n",
    "\n",
    "- Rewrite loops and map() calls as a list comprehension in Python\n",
    "- Choose between comprehensions, loops, and map() calls\n",
    "- Supercharge your comprehensions with conditional logic\n",
    "- Use comprehensions to replace filter()\n",
    "- Profile your code to solve performance question"
   ]
  },
  {
   "cell_type": "markdown",
   "id": "89dcea9b",
   "metadata": {},
   "source": [
    "## How to Create Lists in Python"
   ]
  },
  {
   "cell_type": "markdown",
   "id": "d1121726",
   "metadata": {},
   "source": [
    "### 1. Using for Loops\n",
    "\n",
    "- Instantiate an empty list.\n",
    "- Loop over an iterable or range of elements.\n",
    "- Append each element to the end of the list."
   ]
  },
  {
   "cell_type": "code",
   "execution_count": 1,
   "id": "d56e1765",
   "metadata": {},
   "outputs": [
    {
     "data": {
      "text/plain": [
       "[0, 1, 4, 9, 16, 25, 36, 49, 64, 81, 100]"
      ]
     },
     "execution_count": 1,
     "metadata": {},
     "output_type": "execute_result"
    }
   ],
   "source": [
    "squares = [] # or list()\n",
    "for i in range(11):\n",
    "    squares.append(i ** 2)\n",
    "squares"
   ]
  },
  {
   "cell_type": "markdown",
   "id": "3b9da418",
   "metadata": {},
   "source": [
    "### 2. Using map() Objects\n",
    "\n",
    "map() provides an alternative approach that’s based in functional programming. You pass in a function and an iterable, and map() will create an object."
   ]
  },
  {
   "cell_type": "code",
   "execution_count": 6,
   "id": "23f37ec3",
   "metadata": {},
   "outputs": [
    {
     "data": {
      "text/plain": [
       "[1, 4, 9, 16, 25, 36, 49, 64, 81, 100]"
      ]
     },
     "execution_count": 6,
     "metadata": {},
     "output_type": "execute_result"
    }
   ],
   "source": [
    "squares = list(map(lambda x: x ** 2, range(1, 11)))\n",
    "squares"
   ]
  },
  {
   "cell_type": "markdown",
   "id": "6c81b1a0",
   "metadata": {},
   "source": [
    "## 3. Using List Comprehensions\n",
    "\n",
    "*new_list = \\[expression for member in iterable\\]*\n",
    "\n",
    "- expression is the member itself, a call to a method, or any other valid expression that returns a value.\n",
    "- member is the object or value in the list or iterable. \n",
    "- iterable is a list, set, sequence, generator, or any other object that can return its elements one at a time."
   ]
  },
  {
   "cell_type": "code",
   "execution_count": 8,
   "id": "82df3d3f",
   "metadata": {},
   "outputs": [
    {
     "data": {
      "text/plain": [
       "[1, 4, 9, 16, 25, 36, 49, 64, 81, 100]"
      ]
     },
     "execution_count": 8,
     "metadata": {},
     "output_type": "execute_result"
    }
   ],
   "source": [
    "squares = [x ** 2 for x in range(1, 11)]\n",
    "squares"
   ]
  },
  {
   "cell_type": "code",
   "execution_count": null,
   "id": "7775dc17",
   "metadata": {},
   "outputs": [],
   "source": []
  }
 ],
 "metadata": {
  "kernelspec": {
   "display_name": "Python 3 (ipykernel)",
   "language": "python",
   "name": "python3"
  },
  "language_info": {
   "codemirror_mode": {
    "name": "ipython",
    "version": 3
   },
   "file_extension": ".py",
   "mimetype": "text/x-python",
   "name": "python",
   "nbconvert_exporter": "python",
   "pygments_lexer": "ipython3",
   "version": "3.8.11"
  }
 },
 "nbformat": 4,
 "nbformat_minor": 5
}
