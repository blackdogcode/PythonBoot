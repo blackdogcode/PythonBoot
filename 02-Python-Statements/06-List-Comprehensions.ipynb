{
 "cells": [
  {
   "cell_type": "markdown",
   "id": "8ffd3271",
   "metadata": {},
   "source": [
    "# [List Comprehensions](https://realpython.com/list-comprehension-python/)\n",
    "\n",
    "- Rewrite loops and map() calls as a list comprehension in Python\n",
    "- Choose between comprehensions, loops, and map() calls\n",
    "- Supercharge your comprehensions with conditional logic\n",
    "- Use comprehensions to replace filter()\n",
    "- Profile your code to solve performance question"
   ]
  },
  {
   "cell_type": "code",
   "execution_count": null,
   "id": "a3c019b3",
   "metadata": {},
   "outputs": [],
   "source": []
  }
 ],
 "metadata": {
  "kernelspec": {
   "display_name": "Python 3 (ipykernel)",
   "language": "python",
   "name": "python3"
  },
  "language_info": {
   "codemirror_mode": {
    "name": "ipython",
    "version": 3
   },
   "file_extension": ".py",
   "mimetype": "text/x-python",
   "name": "python",
   "nbconvert_exporter": "python",
   "pygments_lexer": "ipython3",
   "version": "3.8.11"
  }
 },
 "nbformat": 4,
 "nbformat_minor": 5
}
