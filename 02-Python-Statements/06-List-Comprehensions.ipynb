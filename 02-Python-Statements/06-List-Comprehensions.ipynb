{
 "cells": [
  {
   "cell_type": "markdown",
   "id": "14b6f6da",
   "metadata": {},
   "source": [
    "# [List Comprehensions](https://realpython.com/list-comprehension-python/)\n",
    "\n",
    "- Rewrite loops and map() calls as a list comprehension in Python\n",
    "- Choose between comprehensions, loops, and map() calls\n",
    "- Supercharge your comprehensions with conditional logic\n",
    "- Use comprehensions to replace filter()\n",
    "- Profile your code to solve performance question"
   ]
  },
  {
   "cell_type": "markdown",
   "id": "b4fd63be",
   "metadata": {},
   "source": [
    "## How to Create Lists in Python"
   ]
  },
  {
   "cell_type": "markdown",
   "id": "ce17e843",
   "metadata": {},
   "source": [
    "### 1. Using for Loops\n",
    "\n",
    "- Instantiate an empty list.\n",
    "- Loop over an iterable or range of elements.\n",
    "- Append each element to the end of the list."
   ]
  },
  {
   "cell_type": "code",
   "execution_count": 1,
   "id": "87a30f8c",
   "metadata": {},
   "outputs": [
    {
     "data": {
      "text/plain": [
       "[0, 1, 4, 9, 16, 25, 36, 49, 64, 81, 100]"
      ]
     },
     "execution_count": 1,
     "metadata": {},
     "output_type": "execute_result"
    }
   ],
   "source": [
    "squares = [] # or list()\n",
    "for i in range(11):\n",
    "    squares.append(i ** 2)\n",
    "squares"
   ]
  },
  {
   "cell_type": "markdown",
   "id": "30e78941",
   "metadata": {},
   "source": [
    "### 2. Using map() Objects\n",
    "\n",
    "map() provides an alternative approach that’s based in functional programming. You pass in a function and an iterable, and map() will create an object."
   ]
  },
  {
   "cell_type": "code",
   "execution_count": 2,
   "id": "ac57a298",
   "metadata": {},
   "outputs": [
    {
     "data": {
      "text/plain": [
       "[1, 4, 9, 16, 25, 36, 49, 64, 81, 100]"
      ]
     },
     "execution_count": 2,
     "metadata": {},
     "output_type": "execute_result"
    }
   ],
   "source": [
    "squares = list(map(lambda x: x ** 2, range(1, 11)))\n",
    "squares"
   ]
  },
  {
   "cell_type": "markdown",
   "id": "77066f27",
   "metadata": {},
   "source": [
    "## 3. Using List Comprehensions\n",
    "\n",
    "*new_list = \\[expression for member in iterable\\]*\n",
    "\n",
    "- expression is the member itself, a call to a method, or any other valid expression that returns a value.\n",
    "- member is the object or value in the list or iterable. \n",
    "- iterable is a list, set, sequence, generator, or any other object that can return its elements one at a time."
   ]
  },
  {
   "cell_type": "code",
   "execution_count": 3,
   "id": "542ad8a3",
   "metadata": {},
   "outputs": [
    {
     "data": {
      "text/plain": [
       "[1, 4, 9, 16, 25, 36, 49, 64, 81, 100]"
      ]
     },
     "execution_count": 3,
     "metadata": {},
     "output_type": "execute_result"
    }
   ],
   "source": [
    "squares = [x ** 2 for x in range(1, 11)]\n",
    "squares"
   ]
  },
  {
   "cell_type": "markdown",
   "id": "8e94ede2",
   "metadata": {},
   "source": [
    "## Using Conditional Logic\n",
    "\n",
    "new_list = \\[expression for member in iterable (if conditional)\\]\n",
    "\n",
    "Conditionals are important because they allow list comprehensions to **filter out** unwanted values, which would normally require a call to filter():"
   ]
  },
  {
   "cell_type": "code",
   "execution_count": 4,
   "id": "4690f2ef",
   "metadata": {},
   "outputs": [
    {
     "data": {
      "text/plain": [
       "[2, 4, 6, 8, 10]"
      ]
     },
     "execution_count": 4,
     "metadata": {},
     "output_type": "execute_result"
    }
   ],
   "source": [
    "even_numbers = [i for i in range(1, 11) if i % 2 == 0]\n",
    "even_numbers"
   ]
  },
  {
   "cell_type": "markdown",
   "id": "036485e6",
   "metadata": {},
   "source": [
    "new_list = \\[expression (if conditional) for member in iterable\\]"
   ]
  },
  {
   "cell_type": "code",
   "execution_count": 5,
   "id": "468b618a",
   "metadata": {
    "scrolled": true
   },
   "outputs": [
    {
     "data": {
      "text/plain": [
       "['vowel', 'cosonant', 'cosonant', 'cosonant', 'vowel', 'cosonant']"
      ]
     },
     "execution_count": 5,
     "metadata": {},
     "output_type": "execute_result"
    }
   ],
   "source": [
    "letters = ['a', 'b', 'c', 'd', 'e', 'f']\n",
    "alphabets = ['vowel' if char in 'aeiou' else 'cosonant' for char in letters]\n",
    "alphabets"
   ]
  },
  {
   "cell_type": "markdown",
   "id": "ea1302ca",
   "metadata": {},
   "source": [
    "## Using Set and Dictionary Comprehensions"
   ]
  },
  {
   "cell_type": "markdown",
   "id": "71af1d37",
   "metadata": {},
   "source": [
    "### 1. set comprehension\n",
    "\n",
    "A set comprehension is almost exactly the same as a list comprehension in Python. The difference is that set comprehensions make sure the output contains no duplicates."
   ]
  },
  {
   "cell_type": "code",
   "execution_count": 6,
   "id": "9b11fa7b",
   "metadata": {},
   "outputs": [
    {
     "data": {
      "text/plain": [
       "{2, 4, 6, 8, 10}"
      ]
     },
     "execution_count": 6,
     "metadata": {},
     "output_type": "execute_result"
    }
   ],
   "source": [
    "lst = [1, 2, 2, 2, 3, 4, 5, 6, 6, 7, 8, 8, 9, 10]\n",
    "even_numbers = {i for i in lst if i % 2 == 0}\n",
    "even_numbers"
   ]
  },
  {
   "cell_type": "markdown",
   "id": "a9ffcfea",
   "metadata": {},
   "source": [
    "### 2. Dictionary comprehensions\n",
    "\n",
    "Dictionary comprehensions are similar, with the additional requirement of defining a key:"
   ]
  },
  {
   "cell_type": "code",
   "execution_count": 7,
   "id": "b88896c7",
   "metadata": {},
   "outputs": [
    {
     "data": {
      "text/plain": [
       "{1: 1, 2: 4, 3: 9, 4: 16, 5: 25, 6: 36, 7: 49, 8: 64, 9: 81, 10: 100}"
      ]
     },
     "execution_count": 7,
     "metadata": {},
     "output_type": "execute_result"
    }
   ],
   "source": [
    "squares = {i : i ** 2 for i in range(1, 11)}\n",
    "squares"
   ]
  }
 ],
 "metadata": {
  "kernelspec": {
   "display_name": "Python 3 (ipykernel)",
   "language": "python",
   "name": "python3"
  },
  "language_info": {
   "codemirror_mode": {
    "name": "ipython",
    "version": 3
   },
   "file_extension": ".py",
   "mimetype": "text/x-python",
   "name": "python",
   "nbconvert_exporter": "python",
   "pygments_lexer": "ipython3",
   "version": "3.8.11"
  }
 },
 "nbformat": 4,
 "nbformat_minor": 5
}
