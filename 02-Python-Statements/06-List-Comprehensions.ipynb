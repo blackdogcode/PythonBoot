{
 "cells": [
  {
   "cell_type": "markdown",
   "id": "5b5bde6e",
   "metadata": {},
   "source": [
    "# [List Comprehensions](https://realpython.com/list-comprehension-python/)\n",
    "\n",
    "- Rewrite loops and map() calls as a list comprehension in Python\n",
    "- Choose between comprehensions, loops, and map() calls\n",
    "- Supercharge your comprehensions with conditional logic\n",
    "- Use comprehensions to replace filter()\n",
    "- Profile your code to solve performance question"
   ]
  },
  {
   "cell_type": "markdown",
   "id": "f835cb99",
   "metadata": {},
   "source": [
    "## How to Create Lists in Python"
   ]
  },
  {
   "cell_type": "markdown",
   "id": "210af0cf",
   "metadata": {},
   "source": [
    "### 1. Using for Loops\n",
    "\n",
    "- Instantiate an empty list.\n",
    "- Loop over an iterable or range of elements.\n",
    "- Append each element to the end of the list."
   ]
  },
  {
   "cell_type": "code",
   "execution_count": 1,
   "id": "edf2144b",
   "metadata": {},
   "outputs": [
    {
     "data": {
      "text/plain": [
       "[0, 1, 4, 9, 16, 25, 36, 49, 64, 81, 100]"
      ]
     },
     "execution_count": 1,
     "metadata": {},
     "output_type": "execute_result"
    }
   ],
   "source": [
    "squares = [] # or list()\n",
    "for i in range(11):\n",
    "    squares.append(i ** 2)\n",
    "squares"
   ]
  },
  {
   "cell_type": "markdown",
   "id": "a5982202",
   "metadata": {},
   "source": [
    "### 2. Using map() Objects\n",
    "\n",
    "map() provides an alternative approach that’s based in functional programming. You pass in a function and an iterable, and map() will create an object."
   ]
  },
  {
   "cell_type": "code",
   "execution_count": 6,
   "id": "7e636ae1",
   "metadata": {},
   "outputs": [
    {
     "data": {
      "text/plain": [
       "[1, 4, 9, 16, 25, 36, 49, 64, 81, 100]"
      ]
     },
     "execution_count": 6,
     "metadata": {},
     "output_type": "execute_result"
    }
   ],
   "source": [
    "squares = list(map(lambda x: x ** 2, range(1, 11)))\n",
    "squares"
   ]
  },
  {
   "cell_type": "markdown",
   "id": "5513a91c",
   "metadata": {},
   "source": [
    "## 3. Using List Comprehensions\n",
    "\n",
    "*new_list = \\[expression for member in iterable\\]*\n",
    "\n",
    "- expression is the member itself, a call to a method, or any other valid expression that returns a value.\n",
    "- member is the object or value in the list or iterable. \n",
    "- iterable is a list, set, sequence, generator, or any other object that can return its elements one at a time."
   ]
  },
  {
   "cell_type": "code",
   "execution_count": 8,
   "id": "f6e4cba9",
   "metadata": {},
   "outputs": [
    {
     "data": {
      "text/plain": [
       "[1, 4, 9, 16, 25, 36, 49, 64, 81, 100]"
      ]
     },
     "execution_count": 8,
     "metadata": {},
     "output_type": "execute_result"
    }
   ],
   "source": [
    "squares = [x ** 2 for x in range(1, 11)]\n",
    "squares"
   ]
  },
  {
   "cell_type": "markdown",
   "id": "3e1cc227",
   "metadata": {},
   "source": [
    "## Using Conditional Logic\n",
    "\n",
    "new_list = \\[expression for member in iterable (if conditional)\\]\n",
    "\n",
    "Conditionals are important because they allow list comprehensions to **filter out** unwanted values, which would normally require a call to filter():"
   ]
  },
  {
   "cell_type": "code",
   "execution_count": 9,
   "id": "d7fb0786",
   "metadata": {},
   "outputs": [
    {
     "data": {
      "text/plain": [
       "[2, 4, 6, 8, 10]"
      ]
     },
     "execution_count": 9,
     "metadata": {},
     "output_type": "execute_result"
    }
   ],
   "source": [
    "even_numbers = [i for i in range(1, 11) if i % 2 == 0]\n",
    "even_numbers"
   ]
  },
  {
   "cell_type": "markdown",
   "id": "d2b7d8ef",
   "metadata": {},
   "source": [
    "new_list = \\[expression (if conditional) for member in iterable\\]"
   ]
  },
  {
   "cell_type": "code",
   "execution_count": 13,
   "id": "88010ff1",
   "metadata": {},
   "outputs": [
    {
     "data": {
      "text/plain": [
       "['vowel', 'cosonant', 'cosonant', 'cosonant', 'vowel', 'cosonant']"
      ]
     },
     "execution_count": 13,
     "metadata": {},
     "output_type": "execute_result"
    }
   ],
   "source": [
    "letters = ['a', 'b', 'c', 'd', 'e', 'f']\n",
    "alphabets = ['vowel' if char in 'aeiou' else 'cosonant' for char in letters]\n",
    "alphabets"
   ]
  }
 ],
 "metadata": {
  "kernelspec": {
   "display_name": "Python 3 (ipykernel)",
   "language": "python",
   "name": "python3"
  },
  "language_info": {
   "codemirror_mode": {
    "name": "ipython",
    "version": 3
   },
   "file_extension": ".py",
   "mimetype": "text/x-python",
   "name": "python",
   "nbconvert_exporter": "python",
   "pygments_lexer": "ipython3",
   "version": "3.8.11"
  }
 },
 "nbformat": 4,
 "nbformat_minor": 5
}
