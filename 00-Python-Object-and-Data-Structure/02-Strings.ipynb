{
 "cells": [
  {
   "cell_type": "markdown",
   "id": "fa797794",
   "metadata": {},
   "source": [
    "# Strings\n",
    "Strings in Python are actually a **sequence**, which basically means Python **keeps track of every element** in the string as a sequence\n",
    "1. Creating Strings\n",
    "2. Printing Strings\n",
    "3. String Indexing and Slicing\n",
    "4. String Properties\n",
    "5. String Methods\n",
    "6. Print Formatting"
   ]
  },
  {
   "cell_type": "markdown",
   "id": "a9c6cae4",
   "metadata": {},
   "source": [
    "## 1. Creating Strings"
   ]
  },
  {
   "cell_type": "code",
   "execution_count": 1,
   "id": "6d1ba0e9",
   "metadata": {},
   "outputs": [
    {
     "data": {
      "text/plain": [
       "'Hello World'"
      ]
     },
     "execution_count": 1,
     "metadata": {},
     "output_type": "execute_result"
    }
   ],
   "source": [
    "# Using Sigle Quotes\n",
    "'Hello World'"
   ]
  },
  {
   "cell_type": "code",
   "execution_count": 2,
   "id": "6575dba7",
   "metadata": {},
   "outputs": [
    {
     "data": {
      "text/plain": [
       "'Hello World'"
      ]
     },
     "execution_count": 2,
     "metadata": {},
     "output_type": "execute_result"
    }
   ],
   "source": [
    "# Using Double Quotes\n",
    "\"Hello World\""
   ]
  },
  {
   "cell_type": "code",
   "execution_count": 3,
   "id": "3bec920e",
   "metadata": {},
   "outputs": [
    {
     "data": {
      "text/plain": [
       "\"I'm definitely super hero of python\""
      ]
     },
     "execution_count": 3,
     "metadata": {},
     "output_type": "execute_result"
    }
   ],
   "source": [
    "# Combination of single and double quotes\n",
    "\"I'm definitely super hero of python\""
   ]
  },
  {
   "cell_type": "markdown",
   "id": "0814bee1",
   "metadata": {},
   "source": [
    "## 2. Printing Strings\n",
    "Using Jupyter notebook with just a string in a cell will automatically output strings, but the correct way to display strings in your output is by using a print function."
   ]
  },
  {
   "cell_type": "code",
   "execution_count": 4,
   "id": "7f6ce6dc",
   "metadata": {},
   "outputs": [
    {
     "data": {
      "text/plain": [
       "'Hello World'"
      ]
     },
     "execution_count": 4,
     "metadata": {},
     "output_type": "execute_result"
    }
   ],
   "source": [
    "\"Hello World\""
   ]
  },
  {
   "cell_type": "code",
   "execution_count": 5,
   "id": "2cbe24d6",
   "metadata": {},
   "outputs": [
    {
     "data": {
      "text/plain": [
       "'Hello World 2'"
      ]
     },
     "execution_count": 5,
     "metadata": {},
     "output_type": "execute_result"
    }
   ],
   "source": [
    "\"Hello World 1\"\n",
    "\"Hello World 2\""
   ]
  },
  {
   "cell_type": "code",
   "execution_count": 6,
   "id": "6ef7b8e0",
   "metadata": {},
   "outputs": [
    {
     "name": "stdout",
     "output_type": "stream",
     "text": [
      "Hello World 1\n",
      "Hello World 2\n"
     ]
    }
   ],
   "source": [
    "print(\"Hello World 1\" + \"\\n\" + \"Hello World 2\")"
   ]
  },
  {
   "cell_type": "code",
   "execution_count": 7,
   "id": "c3150d09",
   "metadata": {},
   "outputs": [
    {
     "data": {
      "text/plain": [
       "11"
      ]
     },
     "execution_count": 7,
     "metadata": {},
     "output_type": "execute_result"
    }
   ],
   "source": [
    "len(\"Hello World\")"
   ]
  },
  {
   "cell_type": "markdown",
   "id": "fc12930e",
   "metadata": {},
   "source": [
    "## 3. String Indexing and Slicing"
   ]
  },
  {
   "cell_type": "code",
   "execution_count": 8,
   "id": "8a5e1c02",
   "metadata": {},
   "outputs": [
    {
     "name": "stdout",
     "output_type": "stream",
     "text": [
      "L\n",
      "i\n",
      "a\n",
      "m\n",
      " \n",
      "S\n",
      "o\n",
      "n\n",
      "g\n"
     ]
    }
   ],
   "source": [
    "# indxing\n",
    "name = \"Liam Song\"\n",
    "for i in range(len(name)):\n",
    "    print(name[i])"
   ]
  },
  {
   "cell_type": "code",
   "execution_count": 9,
   "id": "10ba8a46",
   "metadata": {},
   "outputs": [
    {
     "data": {
      "text/plain": [
       "'Liam Song'"
      ]
     },
     "execution_count": 9,
     "metadata": {},
     "output_type": "execute_result"
    }
   ],
   "source": [
    "# slicing whole\n",
    "same_name = name[:]\n",
    "same_name"
   ]
  },
  {
   "cell_type": "code",
   "execution_count": 10,
   "id": "07b2fffc",
   "metadata": {},
   "outputs": [
    {
     "name": "stdout",
     "output_type": "stream",
     "text": [
      "Liam , Song\n"
     ]
    }
   ],
   "source": [
    "# slicing part\n",
    "first_name = name[:4]\n",
    "last_name = name[5:]\n",
    "print(first_name, \",\", last_name)"
   ]
  },
  {
   "cell_type": "code",
   "execution_count": 11,
   "id": "7c082b91",
   "metadata": {},
   "outputs": [
    {
     "data": {
      "text/plain": [
       "'gnoS maiL'"
      ]
     },
     "execution_count": 11,
     "metadata": {},
     "output_type": "execute_result"
    }
   ],
   "source": [
    "# reversing using slicing\n",
    "reverse_name = name[::-1]\n",
    "reverse_name"
   ]
  },
  {
   "cell_type": "code",
   "execution_count": 12,
   "id": "36919c2d",
   "metadata": {},
   "outputs": [
    {
     "data": {
      "text/plain": [
       "'La og'"
      ]
     },
     "execution_count": 12,
     "metadata": {},
     "output_type": "execute_result"
    }
   ],
   "source": [
    "# slcing with step size\n",
    "name[::2]"
   ]
  },
  {
   "cell_type": "markdown",
   "id": "3fd418de",
   "metadata": {},
   "source": [
    "## String Properties\n",
    "It's important to note that strings have an important property known as **immutability**. This means that once a string is created, the elements within it can not be changed or replaced"
   ]
  },
  {
   "cell_type": "code",
   "execution_count": 13,
   "id": "51000e50",
   "metadata": {},
   "outputs": [],
   "source": [
    "name = \"Liam Song\""
   ]
  },
  {
   "cell_type": "code",
   "execution_count": 14,
   "id": "632ffa8f",
   "metadata": {},
   "outputs": [
    {
     "ename": "TypeError",
     "evalue": "'str' object does not support item assignment",
     "output_type": "error",
     "traceback": [
      "\u001b[1;31m---------------------------------------------------------------------------\u001b[0m",
      "\u001b[1;31mTypeError\u001b[0m                                 Traceback (most recent call last)",
      "\u001b[1;32m<ipython-input-14-c30c50d79780>\u001b[0m in \u001b[0;36m<module>\u001b[1;34m\u001b[0m\n\u001b[1;32m----> 1\u001b[1;33m \u001b[0mname\u001b[0m\u001b[1;33m[\u001b[0m\u001b[1;36m0\u001b[0m\u001b[1;33m]\u001b[0m \u001b[1;33m=\u001b[0m \u001b[1;34m\"S\"\u001b[0m\u001b[1;33m\u001b[0m\u001b[1;33m\u001b[0m\u001b[0m\n\u001b[0m",
      "\u001b[1;31mTypeError\u001b[0m: 'str' object does not support item assignment"
     ]
    }
   ],
   "source": [
    "name[0] = \"S\""
   ]
  },
  {
   "cell_type": "code",
   "execution_count": null,
   "id": "adef307b",
   "metadata": {},
   "outputs": [],
   "source": [
    "name = \"S\" + name[1:]"
   ]
  },
  {
   "cell_type": "code",
   "execution_count": null,
   "id": "7c15e6e8",
   "metadata": {},
   "outputs": [],
   "source": [
    "name"
   ]
  },
  {
   "cell_type": "code",
   "execution_count": null,
   "id": "11640864",
   "metadata": {},
   "outputs": [],
   "source": [
    "\"Hello\" * 3"
   ]
  },
  {
   "cell_type": "markdown",
   "id": "c19b222c",
   "metadata": {},
   "source": [
    "## Basic Built-in String methods\n",
    "We call methods with a period and then the method name. Methods are in the form:\n",
    "object.method(parameters)"
   ]
  },
  {
   "cell_type": "code",
   "execution_count": null,
   "id": "0a9d3f5b",
   "metadata": {},
   "outputs": [],
   "source": [
    "\"Hello World\""
   ]
  },
  {
   "cell_type": "code",
   "execution_count": null,
   "id": "995215d9",
   "metadata": {},
   "outputs": [],
   "source": [
    "\"Hello World\".upper()"
   ]
  },
  {
   "cell_type": "code",
   "execution_count": null,
   "id": "0f640a62",
   "metadata": {},
   "outputs": [],
   "source": [
    "\"Hello World\".lower()"
   ]
  },
  {
   "cell_type": "code",
   "execution_count": null,
   "id": "6d184ab2",
   "metadata": {},
   "outputs": [],
   "source": [
    "\"hello world\".capitalize()"
   ]
  },
  {
   "cell_type": "code",
   "execution_count": null,
   "id": "e18810c2",
   "metadata": {},
   "outputs": [],
   "source": [
    "\"Hello World\".lower().split()"
   ]
  },
  {
   "cell_type": "markdown",
   "id": "e64b6c70",
   "metadata": {},
   "source": [
    "## Print Formatting - format()"
   ]
  },
  {
   "cell_type": "code",
   "execution_count": null,
   "id": "5132e5a5",
   "metadata": {},
   "outputs": [],
   "source": [
    "\"Hello {}\".format(\"Liam Song\")"
   ]
  }
 ],
 "metadata": {
  "kernelspec": {
   "display_name": "Python 3",
   "language": "python",
   "name": "python3"
  },
  "language_info": {
   "codemirror_mode": {
    "name": "ipython",
    "version": 3
   },
   "file_extension": ".py",
   "mimetype": "text/x-python",
   "name": "python",
   "nbconvert_exporter": "python",
   "pygments_lexer": "ipython3",
   "version": "3.8.8"
  }
 },
 "nbformat": 4,
 "nbformat_minor": 5
}
