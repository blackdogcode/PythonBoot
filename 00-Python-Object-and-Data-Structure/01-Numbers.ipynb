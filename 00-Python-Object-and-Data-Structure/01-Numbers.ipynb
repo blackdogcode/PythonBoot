{
 "cells": [
  {
   "cell_type": "markdown",
   "id": "d6a214ab",
   "metadata": {},
   "source": [
    "# [Numbers](https://realpython.com/python-numbers/)"
   ]
  },
  {
   "cell_type": "markdown",
   "id": "caf27d6c",
   "metadata": {},
   "source": [
    "- **Interger** that is whole number, zero and negative or postive\n",
    " * i.e. -5, 0, 5\n",
    "- **Floating** Point is number with decimal point\n",
    " * i.e. -5.0, 0.0, 5.0"
   ]
  },
  {
   "cell_type": "code",
   "execution_count": 1,
   "id": "4246740f",
   "metadata": {},
   "outputs": [
    {
     "name": "stdout",
     "output_type": "stream",
     "text": [
      "<class 'int'> <class 'int'> <class 'int'>\n",
      "<class 'float'> <class 'float'> <class 'float'>\n"
     ]
    }
   ],
   "source": [
    "print(type(-5), type(0), type(5))\n",
    "print(type(-5.0), type(0.0), type(5.0))"
   ]
  },
  {
   "cell_type": "markdown",
   "id": "a6f0e113",
   "metadata": {},
   "source": [
    "## Basic Arithmetic"
   ]
  },
  {
   "cell_type": "code",
   "execution_count": 2,
   "id": "118dbd8b",
   "metadata": {},
   "outputs": [
    {
     "data": {
      "text/plain": [
       "7"
      ]
     },
     "execution_count": 2,
     "metadata": {},
     "output_type": "execute_result"
    }
   ],
   "source": [
    "# Addition\n",
    "5 + 2"
   ]
  },
  {
   "cell_type": "code",
   "execution_count": 3,
   "id": "a96d1078",
   "metadata": {},
   "outputs": [
    {
     "data": {
      "text/plain": [
       "3"
      ]
     },
     "execution_count": 3,
     "metadata": {},
     "output_type": "execute_result"
    }
   ],
   "source": [
    "# Subtraction\n",
    "5 - 2"
   ]
  },
  {
   "cell_type": "code",
   "execution_count": 4,
   "id": "b6e34fa7",
   "metadata": {},
   "outputs": [
    {
     "data": {
      "text/plain": [
       "10"
      ]
     },
     "execution_count": 4,
     "metadata": {},
     "output_type": "execute_result"
    }
   ],
   "source": [
    "# Multiplication\n",
    "5 * 2"
   ]
  },
  {
   "cell_type": "code",
   "execution_count": 5,
   "id": "76c28c06",
   "metadata": {},
   "outputs": [
    {
     "data": {
      "text/plain": [
       "2.5"
      ]
     },
     "execution_count": 5,
     "metadata": {},
     "output_type": "execute_result"
    }
   ],
   "source": [
    "# Division\n",
    "5 / 2"
   ]
  },
  {
   "cell_type": "code",
   "execution_count": 6,
   "id": "4e5eab4d",
   "metadata": {},
   "outputs": [
    {
     "data": {
      "text/plain": [
       "2"
      ]
     },
     "execution_count": 6,
     "metadata": {},
     "output_type": "execute_result"
    }
   ],
   "source": [
    "# Floor Division\n",
    "5 // 2"
   ]
  },
  {
   "cell_type": "code",
   "execution_count": 7,
   "id": "d027ff6e",
   "metadata": {},
   "outputs": [
    {
     "data": {
      "text/plain": [
       "1"
      ]
     },
     "execution_count": 7,
     "metadata": {},
     "output_type": "execute_result"
    }
   ],
   "source": [
    "# Modulo\n",
    "5 % 2"
   ]
  },
  {
   "cell_type": "code",
   "execution_count": 8,
   "id": "4c23d163",
   "metadata": {},
   "outputs": [
    {
     "data": {
      "text/plain": [
       "25"
      ]
     },
     "execution_count": 8,
     "metadata": {},
     "output_type": "execute_result"
    }
   ],
   "source": [
    "# Powers\n",
    "5 ** 2"
   ]
  },
  {
   "cell_type": "code",
   "execution_count": 9,
   "id": "758c65b9",
   "metadata": {},
   "outputs": [
    {
     "data": {
      "text/plain": [
       "2.0"
      ]
     },
     "execution_count": 9,
     "metadata": {},
     "output_type": "execute_result"
    }
   ],
   "source": [
    "# Roots\n",
    "4 ** 0.5"
   ]
  },
  {
   "cell_type": "markdown",
   "id": "82b63d4f",
   "metadata": {},
   "source": [
    "## Order of mathematical operation - [PEMDAS](https://pemdas.info/)"
   ]
  },
  {
   "cell_type": "markdown",
   "id": "b42d6eea",
   "metadata": {},
   "source": [
    "1. Parentheses\n",
    "2. Exponents and Roots\n",
    "3. Multiplication and Division\n",
    "4. Addition and Subtraction\n",
    "5. Left to Right"
   ]
  },
  {
   "cell_type": "markdown",
   "id": "c5c30a53",
   "metadata": {},
   "source": [
    "## [Floating Point Accuracy](https://docs.python.org/3.9/tutorial/floatingpoint.html)"
   ]
  },
  {
   "cell_type": "code",
   "execution_count": 10,
   "id": "2f59c7f7",
   "metadata": {},
   "outputs": [
    {
     "data": {
      "text/plain": [
       "5.551115123125783e-17"
      ]
     },
     "execution_count": 10,
     "metadata": {},
     "output_type": "execute_result"
    }
   ],
   "source": [
    "0.1 + 0.2 - 0.3"
   ]
  },
  {
   "cell_type": "markdown",
   "id": "96287deb",
   "metadata": {},
   "source": [
    "# Variable Assignment and Naming Style Gudie - [PEP8](https://www.python.org/dev/peps/pep-0008/#naming-conventions)"
   ]
  },
  {
   "cell_type": "markdown",
   "id": "be74ca8b",
   "metadata": {},
   "source": [
    "The names you use when creating these labels need to follow a few rules:\n",
    "1. Names can not start with a number.\n",
    "2. There can be no spaces in the name, use _ instead.\n",
    "3. Can't use any of these symbols :'\",<>/?|\\()!@#$%^&*~-+\n",
    "4. It's considered best practice (PEP8) that names are lowercase.\n",
    "5. Avoid using the characters 'l' (lowercase letter el), 'O' (uppercase letter oh), \n",
    "   or 'I' (uppercase letter eye) as single character variable names.\n",
    "6. Avoid using words that have special meaning in Python like \"list\" and \"str\""
   ]
  },
  {
   "cell_type": "code",
   "execution_count": 11,
   "id": "ac884064",
   "metadata": {},
   "outputs": [
    {
     "name": "stdout",
     "output_type": "stream",
     "text": [
      "50670원\n"
     ]
    }
   ],
   "source": [
    "oil_price = 1689\n",
    "liter_refueled = 30\n",
    "charge = oil_price * liter_refueled\n",
    "print(f'{charge}원')"
   ]
  }
 ],
 "metadata": {
  "kernelspec": {
   "display_name": "Python 3 (ipykernel)",
   "language": "python",
   "name": "python3"
  },
  "language_info": {
   "codemirror_mode": {
    "name": "ipython",
    "version": 3
   },
   "file_extension": ".py",
   "mimetype": "text/x-python",
   "name": "python",
   "nbconvert_exporter": "python",
   "pygments_lexer": "ipython3",
   "version": "3.8.11"
  }
 },
 "nbformat": 4,
 "nbformat_minor": 5
}
