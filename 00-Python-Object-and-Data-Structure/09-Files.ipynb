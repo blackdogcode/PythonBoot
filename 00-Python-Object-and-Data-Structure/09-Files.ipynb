{
 "cells": [
  {
   "cell_type": "markdown",
   "id": "efa1ce5d",
   "metadata": {},
   "source": [
    "# Files\n",
    "Python uses file objects to interact with external files on your computer. These file objects can be any sort of file you have on your computer, whether it be an audio file, a text file, emails, Excel documents, etc. \n",
    "\n",
    "Note: You will probably need to install certain libraries or modules to interact with those various file types, but they are easily available.\n",
    "\n",
    "Python has a built-in open function that allows us to open and play with basic file types."
   ]
  },
  {
   "cell_type": "markdown",
   "id": "2b9776c1",
   "metadata": {},
   "source": [
    "## IPython Writing a File\n",
    "**This function is specific to jupyter notebooks! Alternatively, quickly create a simple .txt file with sublime text editor.**"
   ]
  },
  {
   "cell_type": "code",
   "execution_count": 1,
   "id": "3eddf03d",
   "metadata": {},
   "outputs": [
    {
     "name": "stdout",
     "output_type": "stream",
     "text": [
      "Overwriting test.txt\n"
     ]
    }
   ],
   "source": [
    "%%writefile test.txt\n",
    "Hello World. What a wonderful day it is!"
   ]
  },
  {
   "cell_type": "markdown",
   "id": "7de5da1f",
   "metadata": {},
   "source": [
    "To check your notebook location, use pwd:"
   ]
  },
  {
   "cell_type": "code",
   "execution_count": 2,
   "id": "10fb1dd0",
   "metadata": {},
   "outputs": [
    {
     "data": {
      "text/plain": [
       "'C:\\\\Users\\\\black\\\\github\\\\PythonBoot\\\\00-Python-Object-and-Data-Structure'"
      ]
     },
     "execution_count": 2,
     "metadata": {},
     "output_type": "execute_result"
    }
   ],
   "source": [
    "pwd"
   ]
  },
  {
   "cell_type": "markdown",
   "id": "0b03d28e",
   "metadata": {},
   "source": [
    "Alternatively, to grab files from any location on your computer, simply pass in the entire file path.\n",
    "\n",
    "For Windows you need to use double \\ so python doesn't treat the second \\ as an escape character, a file path is in the form:\n",
    "\n",
    "- myfile = open(\"C:\\\\\\Users\\\\\\YourUserName\\\\\\Home\\\\\\Folder\\\\\\myfile.txt\")\n",
    "\n",
    "For MacOS and Linux you use slashes in the opposite direction:\n",
    "\n",
    "- myfile = open(\"/Users/YouUserName/Folder/myfile.txt\")"
   ]
  },
  {
   "cell_type": "code",
   "execution_count": 3,
   "id": "ff63b81b",
   "metadata": {},
   "outputs": [],
   "source": [
    "read_file = open('test.txt', 'r')"
   ]
  },
  {
   "cell_type": "code",
   "execution_count": 4,
   "id": "843abaec",
   "metadata": {},
   "outputs": [
    {
     "data": {
      "text/plain": [
       "'Hello World. What a wonderful day it is!\\n'"
      ]
     },
     "execution_count": 4,
     "metadata": {},
     "output_type": "execute_result"
    }
   ],
   "source": [
    "read_file.read()"
   ]
  },
  {
   "cell_type": "markdown",
   "id": "1c1d6972",
   "metadata": {},
   "source": [
    "This happens because you can imagine the reading \"cursor\" is at the **end of the file(EOF)** after having read it. So there is nothing left to read. We can reset the \"*cursor*\" like this:"
   ]
  },
  {
   "cell_type": "code",
   "execution_count": 5,
   "id": "dc1abf1d",
   "metadata": {},
   "outputs": [
    {
     "data": {
      "text/plain": [
       "''"
      ]
     },
     "execution_count": 5,
     "metadata": {},
     "output_type": "execute_result"
    }
   ],
   "source": [
    "read_file.read()"
   ]
  },
  {
   "cell_type": "code",
   "execution_count": 6,
   "id": "80f3f038",
   "metadata": {},
   "outputs": [
    {
     "data": {
      "text/plain": [
       "'Hello World. What a wonderful day it is!\\n'"
      ]
     },
     "execution_count": 6,
     "metadata": {},
     "output_type": "execute_result"
    }
   ],
   "source": [
    "read_file.seek(0)\n",
    "read_file.read()"
   ]
  },
  {
   "cell_type": "markdown",
   "id": "648888b3",
   "metadata": {},
   "source": [
    "You can read a file line by line using the readlines method. Use caution with large files, since everything will be held in memory."
   ]
  },
  {
   "cell_type": "code",
   "execution_count": 7,
   "id": "35dd2814",
   "metadata": {},
   "outputs": [
    {
     "data": {
      "text/plain": [
       "['Hello World. What a wonderful day it is!\\n']"
      ]
     },
     "execution_count": 7,
     "metadata": {},
     "output_type": "execute_result"
    }
   ],
   "source": [
    "read_file.seek(0)\n",
    "read_file.readlines()"
   ]
  },
  {
   "cell_type": "code",
   "execution_count": 8,
   "id": "d1715fee",
   "metadata": {},
   "outputs": [],
   "source": [
    "read_file.close()"
   ]
  },
  {
   "cell_type": "markdown",
   "id": "98901787",
   "metadata": {},
   "source": [
    "## Writing to a File\n",
    "By default, the open() function will only allow us to read the file. We need to pass the argument 'w' to write over the file."
   ]
  },
  {
   "cell_type": "code",
   "execution_count": null,
   "id": "0ac02861",
   "metadata": {},
   "outputs": [],
   "source": []
  }
 ],
 "metadata": {
  "kernelspec": {
   "display_name": "Python 3",
   "language": "python",
   "name": "python3"
  },
  "language_info": {
   "codemirror_mode": {
    "name": "ipython",
    "version": 3
   },
   "file_extension": ".py",
   "mimetype": "text/x-python",
   "name": "python",
   "nbconvert_exporter": "python",
   "pygments_lexer": "ipython3",
   "version": "3.8.8"
  }
 },
 "nbformat": 4,
 "nbformat_minor": 5
}
