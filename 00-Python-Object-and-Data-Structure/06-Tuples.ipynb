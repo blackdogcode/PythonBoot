{
 "cells": [
  {
   "cell_type": "markdown",
   "id": "6cce959e",
   "metadata": {},
   "source": [
    "# Tuples\n",
    "In Python tuples are very similar to lists, however, unlike lists they are **immutable** meaning they can not be changed. You would use tuples to present things that shouldn't be changed\n",
    "1. Constructing Tuples\n",
    "2. Basic Tuple Methods\n",
    "3. Immutability\n",
    "4. When to Use Tuples"
   ]
  },
  {
   "cell_type": "markdown",
   "id": "5026d7a2",
   "metadata": {},
   "source": [
    "## Constructing Tuples\n",
    "The construction of a tuples use () with elements separated by commas."
   ]
  },
  {
   "cell_type": "code",
   "execution_count": 1,
   "id": "e3f11387",
   "metadata": {},
   "outputs": [
    {
     "data": {
      "text/plain": [
       "('Liam', 'Song')"
      ]
     },
     "execution_count": 1,
     "metadata": {},
     "output_type": "execute_result"
    }
   ],
   "source": [
    "full_name = (\"Liam\", \"Song\")\n",
    "full_name"
   ]
  },
  {
   "cell_type": "code",
   "execution_count": 2,
   "id": "5d7345f3",
   "metadata": {},
   "outputs": [
    {
     "name": "stdout",
     "output_type": "stream",
     "text": [
      "Hello Liam, Song\n"
     ]
    }
   ],
   "source": [
    "# unpacking\n",
    "first_name, last_name = full_name\n",
    "print(f\"Hello {first_name}, {last_name}\")"
   ]
  },
  {
   "cell_type": "code",
   "execution_count": 3,
   "id": "b0c5a683",
   "metadata": {},
   "outputs": [
    {
     "data": {
      "text/plain": [
       "2"
      ]
     },
     "execution_count": 3,
     "metadata": {},
     "output_type": "execute_result"
    }
   ],
   "source": [
    "len(full_name)"
   ]
  },
  {
   "cell_type": "code",
   "execution_count": 4,
   "id": "6d362ff4",
   "metadata": {},
   "outputs": [
    {
     "data": {
      "text/plain": [
       "1"
      ]
     },
     "execution_count": 4,
     "metadata": {},
     "output_type": "execute_result"
    }
   ],
   "source": [
    "nums = (1, 2, 3, 4, 5, 6, 7)\n",
    "# indxing\n",
    "nums[0]"
   ]
  },
  {
   "cell_type": "code",
   "execution_count": 5,
   "id": "35c5efc1",
   "metadata": {},
   "outputs": [
    {
     "data": {
      "text/plain": [
       "(4, 5, 6)"
      ]
     },
     "execution_count": 5,
     "metadata": {},
     "output_type": "execute_result"
    }
   ],
   "source": [
    "# slicing\n",
    "nums[3:6]"
   ]
  },
  {
   "cell_type": "code",
   "execution_count": 6,
   "id": "b6e537fe",
   "metadata": {},
   "outputs": [
    {
     "data": {
      "text/plain": [
       "(7, 6, 5, 4, 3, 2, 1)"
      ]
     },
     "execution_count": 6,
     "metadata": {},
     "output_type": "execute_result"
    }
   ],
   "source": [
    "# reversing\n",
    "nums[::-1]"
   ]
  },
  {
   "cell_type": "markdown",
   "id": "2c60e45a",
   "metadata": {},
   "source": [
    "## Basic Tuple Methods"
   ]
  },
  {
   "cell_type": "code",
   "execution_count": 7,
   "id": "12f9c879",
   "metadata": {},
   "outputs": [],
   "source": [
    "nums = (1, 4, 2, 5, 2, 7, 2)"
   ]
  },
  {
   "cell_type": "code",
   "execution_count": 8,
   "id": "5da60edc",
   "metadata": {},
   "outputs": [
    {
     "data": {
      "text/plain": [
       "5"
      ]
     },
     "execution_count": 8,
     "metadata": {},
     "output_type": "execute_result"
    }
   ],
   "source": [
    "# Use .index to enter a value and return the index\n",
    "nums.index(7)"
   ]
  },
  {
   "cell_type": "code",
   "execution_count": 9,
   "id": "421abfa3",
   "metadata": {},
   "outputs": [
    {
     "data": {
      "text/plain": [
       "3"
      ]
     },
     "execution_count": 9,
     "metadata": {},
     "output_type": "execute_result"
    }
   ],
   "source": [
    "# Use .count to count the number of times a value appears\n",
    "nums.count(2)"
   ]
  },
  {
   "cell_type": "markdown",
   "id": "4ddd29cd",
   "metadata": {},
   "source": [
    "## Immutability\n",
    "It can't be stressed enough that tuples are immutable. To drive that point home:"
   ]
  },
  {
   "cell_type": "code",
   "execution_count": 10,
   "id": "46aa56e8",
   "metadata": {},
   "outputs": [
    {
     "ename": "TypeError",
     "evalue": "'tuple' object does not support item assignment",
     "output_type": "error",
     "traceback": [
      "\u001b[1;31m---------------------------------------------------------------------------\u001b[0m",
      "\u001b[1;31mTypeError\u001b[0m                                 Traceback (most recent call last)",
      "\u001b[1;32m<ipython-input-10-2bcf554cea92>\u001b[0m in \u001b[0;36m<module>\u001b[1;34m\u001b[0m\n\u001b[1;32m----> 1\u001b[1;33m \u001b[0mnums\u001b[0m\u001b[1;33m[\u001b[0m\u001b[1;36m1\u001b[0m\u001b[1;33m]\u001b[0m \u001b[1;33m=\u001b[0m \u001b[1;36m7\u001b[0m\u001b[1;33m\u001b[0m\u001b[1;33m\u001b[0m\u001b[0m\n\u001b[0m",
      "\u001b[1;31mTypeError\u001b[0m: 'tuple' object does not support item assignment"
     ]
    }
   ],
   "source": [
    "nums[1] = 7"
   ]
  },
  {
   "cell_type": "code",
   "execution_count": 11,
   "id": "477c5240",
   "metadata": {},
   "outputs": [
    {
     "ename": "AttributeError",
     "evalue": "'tuple' object has no attribute 'apppend'",
     "output_type": "error",
     "traceback": [
      "\u001b[1;31m---------------------------------------------------------------------------\u001b[0m",
      "\u001b[1;31mAttributeError\u001b[0m                            Traceback (most recent call last)",
      "\u001b[1;32m<ipython-input-11-1bf6815947ee>\u001b[0m in \u001b[0;36m<module>\u001b[1;34m\u001b[0m\n\u001b[1;32m----> 1\u001b[1;33m \u001b[0mnums\u001b[0m\u001b[1;33m.\u001b[0m\u001b[0mapppend\u001b[0m\u001b[1;33m(\u001b[0m\u001b[1;36m7\u001b[0m\u001b[1;33m)\u001b[0m\u001b[1;33m\u001b[0m\u001b[1;33m\u001b[0m\u001b[0m\n\u001b[0m",
      "\u001b[1;31mAttributeError\u001b[0m: 'tuple' object has no attribute 'apppend'"
     ]
    }
   ],
   "source": [
    "nums.apppend(7)"
   ]
  },
  {
   "cell_type": "markdown",
   "id": "ed7a1b47",
   "metadata": {},
   "source": [
    "## When to use Tuples\n",
    "To be honest, tuples are not used as often as lists in programming, but are used when **immutability** is necessary. If in your program you are passing around an object and need to make sure it does not get changed, then a tuple becomes your solution. It provides a convenient source of **data integrity**."
   ]
  }
 ],
 "metadata": {
  "kernelspec": {
   "display_name": "Python 3",
   "language": "python",
   "name": "python3"
  },
  "language_info": {
   "codemirror_mode": {
    "name": "ipython",
    "version": 3
   },
   "file_extension": ".py",
   "mimetype": "text/x-python",
   "name": "python",
   "nbconvert_exporter": "python",
   "pygments_lexer": "ipython3",
   "version": "3.8.8"
  }
 },
 "nbformat": 4,
 "nbformat_minor": 5
}
