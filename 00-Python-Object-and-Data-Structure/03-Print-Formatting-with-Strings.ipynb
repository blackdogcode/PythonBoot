{
 "cells": [
  {
   "cell_type": "markdown",
   "id": "1de5faaf",
   "metadata": {},
   "source": [
    "# String Formatting\n",
    "There are three ways to perform string formatting.\n",
    "- The oldest method involves placeholders using the modulo % character.\n",
    "- An improved technique uses the .format() string method.\n",
    "- The newest method, introduced with Python 3.6, uses formatted string literals, called f-strings."
   ]
  },
  {
   "cell_type": "markdown",
   "id": "91e0de9c",
   "metadata": {},
   "source": [
    "## Formatting with [placeholders](https://docs.python.org/3/library/stdtypes.html#old-string-formatting)\n",
    "You can use %s to inject strings into your print statements. The modulo % is referred to as a \"string formatting operator\"."
   ]
  },
  {
   "cell_type": "code",
   "execution_count": 1,
   "id": "48b28b34",
   "metadata": {},
   "outputs": [
    {
     "name": "stdout",
     "output_type": "stream",
     "text": [
      "Hello World Liam, Song!\n"
     ]
    }
   ],
   "source": [
    "print(\"Hello World %s!\" %'Liam, Song')"
   ]
  },
  {
   "cell_type": "markdown",
   "id": "ff8a9fcd",
   "metadata": {},
   "source": [
    "You can pass multiple items by placing them inside a tuple after the % operator."
   ]
  },
  {
   "cell_type": "code",
   "execution_count": 2,
   "id": "a355633f",
   "metadata": {},
   "outputs": [
    {
     "name": "stdout",
     "output_type": "stream",
     "text": [
      "Hello World Liam, song!\n"
     ]
    }
   ],
   "source": [
    "print(\"Hello World %s, %s!\" %('Liam', 'song'))"
   ]
  },
  {
   "cell_type": "markdown",
   "id": "34a2fe1f",
   "metadata": {},
   "source": [
    "You can also pass variable names:"
   ]
  },
  {
   "cell_type": "code",
   "execution_count": 3,
   "id": "42b74f90",
   "metadata": {},
   "outputs": [
    {
     "name": "stdout",
     "output_type": "stream",
     "text": [
      "Hello World Liam, Song!\n"
     ]
    }
   ],
   "source": [
    "first_name, last_name = \"Liam\", \"Song\"\n",
    "print(\"Hello World %s, %s!\" %(first_name, last_name))"
   ]
  },
  {
   "cell_type": "markdown",
   "id": "9cc6b1b9",
   "metadata": {},
   "source": [
    "### Format conversion methods.\n",
    "It should be noted that two methods %s and %r convert any python object to a string using two separate methods: str() and repr(). you should note that %r and repr() deliver the **string representation** of the object, including quotation marks and any escape characters."
   ]
  },
  {
   "cell_type": "code",
   "execution_count": 4,
   "id": "e548328c",
   "metadata": {},
   "outputs": [
    {
     "name": "stdout",
     "output_type": "stream",
     "text": [
      "Hello World\n",
      "Hello 'World'\n"
     ]
    }
   ],
   "source": [
    "print(\"Hello %s\" %(\"World\"))\n",
    "print(\"Hello %r\" %(\"World\"))"
   ]
  },
  {
   "cell_type": "code",
   "execution_count": 5,
   "id": "77b5f01a",
   "metadata": {},
   "outputs": [
    {
     "name": "stdout",
     "output_type": "stream",
     "text": [
      "Hello \tWorld\n",
      "Hello '\\tWorld'\n"
     ]
    }
   ],
   "source": [
    "print(\"Hello %s\" %(\"\\tWorld\"))\n",
    "print(\"Hello %r\" %(\"\\tWorld\"))"
   ]
  },
  {
   "cell_type": "markdown",
   "id": "70fa7384",
   "metadata": {},
   "source": [
    "The %s operator converts whatever it sees into a string, including integers and floats. The %d operator converts numbers to integers"
   ]
  },
  {
   "cell_type": "code",
   "execution_count": 6,
   "id": "90c29dcc",
   "metadata": {},
   "outputs": [
    {
     "name": "stdout",
     "output_type": "stream",
     "text": [
      "I bought boook at 3.75$\n",
      "I bought boook at 3$\n"
     ]
    }
   ],
   "source": [
    "print(\"I bought boook at %s$\" %3.75)\n",
    "print(\"I bought boook at %d$\" %3.75)"
   ]
  },
  {
   "cell_type": "markdown",
   "id": "df2d6ea5",
   "metadata": {},
   "source": [
    "### Padding and Precision of Floating Point Numbers\n",
    "Floating point numbers use the format %5.2f. Here, 5 would be the minimum number of characters the string should contain; these may be padded with whitespace if the entire number does not have this many digits. Next to this, .2f stands for how many numbers to show past the decimal point. Let's see some examples:"
   ]
  },
  {
   "cell_type": "code",
   "execution_count": 7,
   "id": "2e5238fd",
   "metadata": {},
   "outputs": [
    {
     "name": "stdout",
     "output_type": "stream",
     "text": [
      "PI of Circle is 3.141592\n"
     ]
    }
   ],
   "source": [
    "print(\"PI of Circle is %8.6f\" %3.141592)"
   ]
  },
  {
   "cell_type": "code",
   "execution_count": 8,
   "id": "ad3d28a1",
   "metadata": {},
   "outputs": [
    {
     "name": "stdout",
     "output_type": "stream",
     "text": [
      "PI of Circle is 3.14\n"
     ]
    }
   ],
   "source": [
    "print(\"PI of Circle is %1.2f\" %3.141592)"
   ]
  },
  {
   "cell_type": "code",
   "execution_count": 9,
   "id": "8b4bb346",
   "metadata": {},
   "outputs": [
    {
     "name": "stdout",
     "output_type": "stream",
     "text": [
      "PI of Circle is 3.1415920000\n"
     ]
    }
   ],
   "source": [
    "print(\"PI of Circle is %8.10f\" %3.141592)"
   ]
  },
  {
   "cell_type": "code",
   "execution_count": 10,
   "id": "2435d2a5",
   "metadata": {},
   "outputs": [
    {
     "name": "stdout",
     "output_type": "stream",
     "text": [
      "PI of Circle is         3.141592\n"
     ]
    }
   ],
   "source": [
    "print(\"PI of Circle is %16.6f\" %3.141592)"
   ]
  },
  {
   "cell_type": "markdown",
   "id": "4dddc466",
   "metadata": {},
   "source": [
    "### Formatting with the [.format() method](https://docs.python.org/3/library/string.html#formatstrings)\n",
    "A better way to format objects into your strings for print statements is with the string .format() method. The syntax is:\n",
    "\n",
    "- 'String here {} then also {}'.format('something1','something2')"
   ]
  },
  {
   "cell_type": "code",
   "execution_count": 13,
   "id": "02dd3f03",
   "metadata": {},
   "outputs": [
    {
     "name": "stdout",
     "output_type": "stream",
     "text": [
      "Hello World Liam, Song!\n"
     ]
    }
   ],
   "source": [
    "print(\"Hello World {}, {}!\".format('Liam', 'Song'))"
   ]
  },
  {
   "cell_type": "markdown",
   "id": "cf0261fb",
   "metadata": {},
   "source": [
    "### The .format() method has several advantages over the %s placeholder method:"
   ]
  },
  {
   "cell_type": "markdown",
   "id": "4b770651",
   "metadata": {},
   "source": [
    "#### 1. Inserted objects can be called by index position:"
   ]
  },
  {
   "cell_type": "code",
   "execution_count": 15,
   "id": "b29bd80f",
   "metadata": {},
   "outputs": [
    {
     "name": "stdout",
     "output_type": "stream",
     "text": [
      "Hello World Liam, Song\n"
     ]
    }
   ],
   "source": [
    "print(\"Hello World {1}, {0}\".format('Song', 'Liam'))"
   ]
  },
  {
   "cell_type": "markdown",
   "id": "b704f70e",
   "metadata": {},
   "source": [
    "#### 2. Inserted objects can be assigned keywords:"
   ]
  },
  {
   "cell_type": "code",
   "execution_count": 17,
   "id": "d2dde8f8",
   "metadata": {},
   "outputs": [
    {
     "name": "stdout",
     "output_type": "stream",
     "text": [
      "Hello World Liam, Song\n"
     ]
    }
   ],
   "source": [
    "print(\"Hello World {first_name}, {last_name}\".format(first_name='Liam', last_name='Song'))"
   ]
  },
  {
   "cell_type": "markdown",
   "id": "8979b1fe",
   "metadata": {},
   "source": [
    "#### 3. Inserted objects can be reused, avoiding duplication:"
   ]
  },
  {
   "cell_type": "code",
   "execution_count": 21,
   "id": "273d8a3d",
   "metadata": {},
   "outputs": [
    {
     "name": "stdout",
     "output_type": "stream",
     "text": [
      "Liam Song is professional Python developer. Liam Song is also Django developer\n",
      "Liam Song is professional Python developer. Liam Song is also Django developer\n"
     ]
    }
   ],
   "source": [
    "print(\"%s is professional Python developer. %s is also Django developer\" %(\"Liam Song\", \"Liam Song\"))\n",
    "# vs\n",
    "print(\"{name} is professional Python developer. {name} is also Django developer\".format(name=\"Liam Song\"))"
   ]
  },
  {
   "cell_type": "markdown",
   "id": "7e88d686",
   "metadata": {},
   "source": [
    "### Alignment, padding and precision with .format()"
   ]
  },
  {
   "cell_type": "markdown",
   "id": "036fec1f",
   "metadata": {},
   "source": [
    "By default systemetically string aligned left and number right"
   ]
  },
  {
   "cell_type": "code",
   "execution_count": 28,
   "id": "a0a7a13e",
   "metadata": {},
   "outputs": [
    {
     "name": "stdout",
     "output_type": "stream",
     "text": [
      "       3.141592\n",
      "Liam Song      \n"
     ]
    }
   ],
   "source": [
    "print(\"{0:15}\".format(3.141592))\n",
    "print(\"{0:15}\".format(\"Liam Song\"))"
   ]
  },
  {
   "cell_type": "markdown",
   "id": "8cf7f35c",
   "metadata": {},
   "source": [
    "By default, .format() aligns text to the left, numbers to the right. You can pass an optional <,^, or > to set a left, center or right alignment:"
   ]
  },
  {
   "cell_type": "code",
   "execution_count": 33,
   "id": "c3f4ac51",
   "metadata": {},
   "outputs": [
    {
     "name": "stdout",
     "output_type": "stream",
     "text": [
      "left       |   center   |      right\n",
      "11         |     22     |         33\n"
     ]
    }
   ],
   "source": [
    "print(\"{0:<10} | {1:^10} | {2:>10}\".format(\"left\", \"center\", \"right\"))\n",
    "print(\"{0:<10} | {1:^10} | {2:>10}\".format(11, 22, 33))"
   ]
  },
  {
   "cell_type": "markdown",
   "id": "35462bbd",
   "metadata": {},
   "source": [
    "You can precede the aligment operator with a padding character"
   ]
  },
  {
   "cell_type": "code",
   "execution_count": 38,
   "id": "fdf436e3",
   "metadata": {},
   "outputs": [
    {
     "name": "stdout",
     "output_type": "stream",
     "text": [
      "left------ | --center-- | -----right\n",
      "11======== | ====22==== | ========33\n"
     ]
    }
   ],
   "source": [
    "print(\"{0:-<10} | {1:-^10} | {2:->10}\".format(\"left\", \"center\", \"right\"))\n",
    "print(\"{0:=<10} | {1:=^10} | {2:=>10}\".format(11, 22, 33))"
   ]
  },
  {
   "cell_type": "markdown",
   "id": "d96caed5",
   "metadata": {},
   "source": [
    "Field widths and float precision are handled in a way similar to placeholders"
   ]
  },
  {
   "cell_type": "code",
   "execution_count": 46,
   "id": "70a7ad7d",
   "metadata": {},
   "outputs": [
    {
     "name": "stdout",
     "output_type": "stream",
     "text": [
      "PI of circle is    3.14\n",
      "PI of circle is    3.14\n"
     ]
    }
   ],
   "source": [
    "print(\"PI of circle is %7.2f\" %3.141592)\n",
    "print(\"PI of circle is {:7.2f}\".format(3.141592))"
   ]
  },
  {
   "cell_type": "markdown",
   "id": "3df4bff7",
   "metadata": {},
   "source": [
    "## Formatted String Literals [(f-strings)](https://docs.python.org/3/reference/lexical_analysis.html#f-strings)\n",
    "Introduced in Python 3.6, f-strings offer several benefits over the older .format() string method described above. For one, you can bring outside variables immediately into to the string rather than pass them as arguments through .format(var)."
   ]
  },
  {
   "cell_type": "code",
   "execution_count": 49,
   "id": "732d1b9f",
   "metadata": {},
   "outputs": [
    {
     "name": "stdout",
     "output_type": "stream",
     "text": [
      "Hello Liam Song\n"
     ]
    }
   ],
   "source": [
    "full_name = \"Liam Song\"\n",
    "print(f\"Hello {full_name}\")"
   ]
  },
  {
   "cell_type": "markdown",
   "id": "f5119ce6",
   "metadata": {},
   "source": [
    "Pass !r to get the string representation:"
   ]
  },
  {
   "cell_type": "code",
   "execution_count": 50,
   "id": "948de0c6",
   "metadata": {},
   "outputs": [
    {
     "name": "stdout",
     "output_type": "stream",
     "text": [
      "Hello 'Liam Song'\n"
     ]
    }
   ],
   "source": [
    "print(f\"Hello {full_name!r}\")"
   ]
  },
  {
   "cell_type": "markdown",
   "id": "8e09908d",
   "metadata": {},
   "source": [
    "#### Float formatting follows \"result: {value:{width}.{precision}}\""
   ]
  },
  {
   "cell_type": "code",
   "execution_count": 55,
   "id": "7bc64f57",
   "metadata": {},
   "outputs": [
    {
     "name": "stdout",
     "output_type": "stream",
     "text": [
      "PI of circle is  3.14\n"
     ]
    }
   ],
   "source": [
    "pi = 3.141592\n",
    "print(f\"PI of circle is {pi:{5}.{3}}\")"
   ]
  },
  {
   "cell_type": "markdown",
   "id": "ed8419c6",
   "metadata": {},
   "source": [
    "Note that with f-strings, precision refers to the total number of digits, not just those following the decimal. This fits more closely with scientific notation and statistical analysis. Unfortunately, f-strings do not pad to the right of the decimal, even if precision allows it:"
   ]
  },
  {
   "cell_type": "code",
   "execution_count": 58,
   "id": "a36fab67",
   "metadata": {},
   "outputs": [
    {
     "name": "stdout",
     "output_type": "stream",
     "text": [
      "PI of circle is  3.1400\n",
      "PI of circle is    3.14\n"
     ]
    }
   ],
   "source": [
    "pi = 3.14\n",
    "print(\"PI of circle is {:7.4f}\".format(pi))\n",
    "print(f\"PI of circle is {pi:{7}.{4}}\")"
   ]
  },
  {
   "cell_type": "markdown",
   "id": "e796d2b7",
   "metadata": {},
   "source": [
    "If this becomes important, you can always use .format() method syntax inside an f-string:"
   ]
  },
  {
   "cell_type": "code",
   "execution_count": 59,
   "id": "88dc85d5",
   "metadata": {},
   "outputs": [
    {
     "name": "stdout",
     "output_type": "stream",
     "text": [
      "PI of circle is  3.1400\n"
     ]
    }
   ],
   "source": [
    "print(f\"PI of circle is {pi:7.4f}\")"
   ]
  }
 ],
 "metadata": {
  "kernelspec": {
   "display_name": "Python 3",
   "language": "python",
   "name": "python3"
  },
  "language_info": {
   "codemirror_mode": {
    "name": "ipython",
    "version": 3
   },
   "file_extension": ".py",
   "mimetype": "text/x-python",
   "name": "python",
   "nbconvert_exporter": "python",
   "pygments_lexer": "ipython3",
   "version": "3.8.8"
  }
 },
 "nbformat": 4,
 "nbformat_minor": 5
}
