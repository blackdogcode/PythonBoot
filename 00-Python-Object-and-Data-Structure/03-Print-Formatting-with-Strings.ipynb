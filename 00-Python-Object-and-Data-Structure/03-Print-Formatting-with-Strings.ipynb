{
 "cells": [
  {
   "cell_type": "markdown",
   "id": "960e3270",
   "metadata": {},
   "source": [
    "# String Formatting\n",
    "There are three ways to perform string formatting.\n",
    "- The oldest method involves placeholders using the modulo % character.\n",
    "- An improved technique uses the .format() string method.\n",
    "- The newest method, introduced with Python 3.6, uses formatted string literals, called f-strings."
   ]
  },
  {
   "cell_type": "markdown",
   "id": "e1457a1d",
   "metadata": {},
   "source": [
    "## Formatting with [placeholders](https://docs.python.org/3/library/stdtypes.html#old-string-formatting)\n",
    "You can use %s to inject strings into your print statements. The modulo % is referred to as a \"string formatting operator\"."
   ]
  },
  {
   "cell_type": "code",
   "execution_count": 1,
   "id": "e7bf016b",
   "metadata": {},
   "outputs": [
    {
     "name": "stdout",
     "output_type": "stream",
     "text": [
      "Hello World Liam, Song!\n"
     ]
    }
   ],
   "source": [
    "print(\"Hello World %s!\" %'Liam, Song')"
   ]
  },
  {
   "cell_type": "markdown",
   "id": "1165fc12",
   "metadata": {},
   "source": [
    "You can pass multiple items by placing them inside a tuple after the % operator."
   ]
  },
  {
   "cell_type": "code",
   "execution_count": 2,
   "id": "54637862",
   "metadata": {},
   "outputs": [
    {
     "name": "stdout",
     "output_type": "stream",
     "text": [
      "Hello World Liam, song!\n"
     ]
    }
   ],
   "source": [
    "print(\"Hello World %s, %s!\" %('Liam', 'song'))"
   ]
  },
  {
   "cell_type": "markdown",
   "id": "e3f9fd1b",
   "metadata": {},
   "source": [
    "You can also pass variable names:"
   ]
  },
  {
   "cell_type": "code",
   "execution_count": 3,
   "id": "dd2a8211",
   "metadata": {},
   "outputs": [
    {
     "name": "stdout",
     "output_type": "stream",
     "text": [
      "Hello World Liam, Song!\n"
     ]
    }
   ],
   "source": [
    "first_name, last_name = \"Liam\", \"Song\"\n",
    "print(\"Hello World %s, %s!\" %(first_name, last_name))"
   ]
  },
  {
   "cell_type": "markdown",
   "id": "26dbd3e8",
   "metadata": {},
   "source": [
    "### Format conversion methods.\n",
    "It should be noted that two methods %s and %r convert any python object to a string using two separate methods: str() and repr(). you should note that %r and repr() deliver the **string representation** of the object, including quotation marks and any escape characters."
   ]
  },
  {
   "cell_type": "code",
   "execution_count": 4,
   "id": "27265cee",
   "metadata": {},
   "outputs": [
    {
     "name": "stdout",
     "output_type": "stream",
     "text": [
      "Hello World\n",
      "Hello 'World'\n"
     ]
    }
   ],
   "source": [
    "print(\"Hello %s\" %(\"World\"))\n",
    "print(\"Hello %r\" %(\"World\"))"
   ]
  },
  {
   "cell_type": "code",
   "execution_count": 5,
   "id": "d43fcdf0",
   "metadata": {},
   "outputs": [
    {
     "name": "stdout",
     "output_type": "stream",
     "text": [
      "Hello \tWorld\n",
      "Hello '\\tWorld'\n"
     ]
    }
   ],
   "source": [
    "print(\"Hello %s\" %(\"\\tWorld\"))\n",
    "print(\"Hello %r\" %(\"\\tWorld\"))"
   ]
  },
  {
   "cell_type": "markdown",
   "id": "96d69ca6",
   "metadata": {},
   "source": [
    "The %s operator converts whatever it sees into a string, including integers and floats. The %d operator converts numbers to integers"
   ]
  },
  {
   "cell_type": "code",
   "execution_count": 6,
   "id": "f4c94449",
   "metadata": {},
   "outputs": [
    {
     "name": "stdout",
     "output_type": "stream",
     "text": [
      "I bought boook at 3.75$\n",
      "I bought boook at 3$\n"
     ]
    }
   ],
   "source": [
    "print(\"I bought boook at %s$\" %3.75)\n",
    "print(\"I bought boook at %d$\" %3.75)"
   ]
  },
  {
   "cell_type": "markdown",
   "id": "5793702e",
   "metadata": {},
   "source": [
    "### Padding and Precision of Floating Point Numbers\n",
    "Floating point numbers use the format %5.2f. Here, 5 would be the minimum number of characters the string should contain; these may be padded with whitespace if the entire number does not have this many digits. Next to this, .2f stands for how many numbers to show past the decimal point. Let's see some examples:"
   ]
  },
  {
   "cell_type": "code",
   "execution_count": 7,
   "id": "67ef7328",
   "metadata": {},
   "outputs": [
    {
     "name": "stdout",
     "output_type": "stream",
     "text": [
      "PI of Circle is 3.141592\n"
     ]
    }
   ],
   "source": [
    "print(\"PI of Circle is %8.6f\" %3.141592)"
   ]
  },
  {
   "cell_type": "code",
   "execution_count": 8,
   "id": "2ab537d0",
   "metadata": {},
   "outputs": [
    {
     "name": "stdout",
     "output_type": "stream",
     "text": [
      "PI of Circle is 3.14\n"
     ]
    }
   ],
   "source": [
    "print(\"PI of Circle is %1.2f\" %3.141592)"
   ]
  },
  {
   "cell_type": "code",
   "execution_count": 9,
   "id": "2e31d64f",
   "metadata": {},
   "outputs": [
    {
     "name": "stdout",
     "output_type": "stream",
     "text": [
      "PI of Circle is 3.1415920000\n"
     ]
    }
   ],
   "source": [
    "print(\"PI of Circle is %8.10f\" %3.141592)"
   ]
  },
  {
   "cell_type": "code",
   "execution_count": 10,
   "id": "03adf403",
   "metadata": {},
   "outputs": [
    {
     "name": "stdout",
     "output_type": "stream",
     "text": [
      "PI of Circle is         3.141592\n"
     ]
    }
   ],
   "source": [
    "print(\"PI of Circle is %16.6f\" %3.141592)"
   ]
  },
  {
   "cell_type": "markdown",
   "id": "89c133c3",
   "metadata": {},
   "source": [
    "### Formatting with the [.format() method](https://docs.python.org/3/library/string.html#formatstrings)\n",
    "A better way to format objects into your strings for print statements is with the string [.format() method](https://pyformat.info/). The syntax is:\n",
    "\n",
    "- 'String here {} then also {}'.format('something1','something2')"
   ]
  },
  {
   "cell_type": "code",
   "execution_count": 11,
   "id": "22515a5d",
   "metadata": {},
   "outputs": [
    {
     "name": "stdout",
     "output_type": "stream",
     "text": [
      "Hello World Liam, Song!\n"
     ]
    }
   ],
   "source": [
    "print(\"Hello World {}, {}!\".format('Liam', 'Song'))"
   ]
  },
  {
   "cell_type": "markdown",
   "id": "1a365311",
   "metadata": {},
   "source": [
    "### The .format() method has several advantages over the %s placeholder method:"
   ]
  },
  {
   "cell_type": "markdown",
   "id": "ccf177c1",
   "metadata": {},
   "source": [
    "#### 1. Inserted objects can be called by index position:"
   ]
  },
  {
   "cell_type": "code",
   "execution_count": 12,
   "id": "e5ad4b44",
   "metadata": {},
   "outputs": [
    {
     "name": "stdout",
     "output_type": "stream",
     "text": [
      "Hello World Liam, Song\n"
     ]
    }
   ],
   "source": [
    "print(\"Hello World {1}, {0}\".format('Song', 'Liam'))"
   ]
  },
  {
   "cell_type": "markdown",
   "id": "777d3c60",
   "metadata": {},
   "source": [
    "#### 2. Inserted objects can be assigned keywords:"
   ]
  },
  {
   "cell_type": "code",
   "execution_count": 13,
   "id": "c6f9aa35",
   "metadata": {},
   "outputs": [
    {
     "name": "stdout",
     "output_type": "stream",
     "text": [
      "Hello World Liam, Song\n"
     ]
    }
   ],
   "source": [
    "print(\"Hello World {first_name}, {last_name}\".format(first_name='Liam', last_name='Song'))"
   ]
  },
  {
   "cell_type": "markdown",
   "id": "736d6057",
   "metadata": {},
   "source": [
    "#### 3. Inserted objects can be reused, avoiding duplication:"
   ]
  },
  {
   "cell_type": "code",
   "execution_count": 14,
   "id": "b1dbe983",
   "metadata": {},
   "outputs": [
    {
     "name": "stdout",
     "output_type": "stream",
     "text": [
      "Liam Song is professional Python developer. Liam Song is also Django developer\n",
      "Liam Song is professional Python developer. Liam Song is also Django developer\n"
     ]
    }
   ],
   "source": [
    "print(\"%s is professional Python developer. %s is also Django developer\" %(\"Liam Song\", \"Liam Song\"))\n",
    "# vs\n",
    "print(\"{name} is professional Python developer. {name} is also Django developer\".format(name=\"Liam Song\"))"
   ]
  },
  {
   "cell_type": "markdown",
   "id": "4f510c6a",
   "metadata": {},
   "source": [
    "### Alignment, padding and precision with .format()"
   ]
  },
  {
   "cell_type": "markdown",
   "id": "f6048bec",
   "metadata": {},
   "source": [
    "By default systemetically string aligned left and number right"
   ]
  },
  {
   "cell_type": "code",
   "execution_count": 15,
   "id": "fcc539ac",
   "metadata": {},
   "outputs": [
    {
     "name": "stdout",
     "output_type": "stream",
     "text": [
      "       3.141592\n",
      "Liam Song      \n"
     ]
    }
   ],
   "source": [
    "print(\"{0:15}\".format(3.141592))\n",
    "print(\"{0:15}\".format(\"Liam Song\"))"
   ]
  },
  {
   "cell_type": "markdown",
   "id": "0f1b2b95",
   "metadata": {},
   "source": [
    "By default, .format() aligns text to the left, numbers to the right. You can pass an optional <,^, or > to set a left, center or right alignment:"
   ]
  },
  {
   "cell_type": "code",
   "execution_count": 16,
   "id": "72b01c58",
   "metadata": {},
   "outputs": [
    {
     "name": "stdout",
     "output_type": "stream",
     "text": [
      "left       |   center   |      right\n",
      "11         |     22     |         33\n"
     ]
    }
   ],
   "source": [
    "print(\"{0:<10} | {1:^10} | {2:>10}\".format(\"left\", \"center\", \"right\"))\n",
    "print(\"{0:<10} | {1:^10} | {2:>10}\".format(11, 22, 33))"
   ]
  },
  {
   "cell_type": "markdown",
   "id": "5d7890ec",
   "metadata": {},
   "source": [
    "You can precede the aligment operator with a padding character"
   ]
  },
  {
   "cell_type": "code",
   "execution_count": 17,
   "id": "cd3a191d",
   "metadata": {},
   "outputs": [
    {
     "name": "stdout",
     "output_type": "stream",
     "text": [
      "left------ | --center-- | -----right\n",
      "11======== | ====22==== | ========33\n"
     ]
    }
   ],
   "source": [
    "print(\"{0:-<10} | {1:-^10} | {2:->10}\".format(\"left\", \"center\", \"right\"))\n",
    "print(\"{0:=<10} | {1:=^10} | {2:=>10}\".format(11, 22, 33))"
   ]
  },
  {
   "cell_type": "markdown",
   "id": "539faafd",
   "metadata": {},
   "source": [
    "Field widths and float precision are handled in a way similar to placeholders"
   ]
  },
  {
   "cell_type": "code",
   "execution_count": 18,
   "id": "5446b315",
   "metadata": {},
   "outputs": [
    {
     "name": "stdout",
     "output_type": "stream",
     "text": [
      "PI of circle is    3.14\n",
      "PI of circle is    3.14\n"
     ]
    }
   ],
   "source": [
    "print(\"PI of circle is %7.2f\" %3.141592)\n",
    "print(\"PI of circle is {:7.2f}\".format(3.141592))"
   ]
  },
  {
   "cell_type": "markdown",
   "id": "6ca5b4ce",
   "metadata": {},
   "source": [
    "## Formatted String Literals [(f-strings)](https://docs.python.org/3/reference/lexical_analysis.html#f-strings)\n",
    "Introduced in Python 3.6, f-strings offer several benefits over the older .format() string method described above. For one, you can bring outside variables immediately into to the string rather than pass them as arguments through .format(var)."
   ]
  },
  {
   "cell_type": "code",
   "execution_count": 19,
   "id": "8761c819",
   "metadata": {},
   "outputs": [
    {
     "name": "stdout",
     "output_type": "stream",
     "text": [
      "Hello Liam Song\n"
     ]
    }
   ],
   "source": [
    "full_name = \"Liam Song\"\n",
    "print(f\"Hello {full_name}\")"
   ]
  },
  {
   "cell_type": "markdown",
   "id": "c0a3ae90",
   "metadata": {},
   "source": [
    "Pass !r to get the string representation:"
   ]
  },
  {
   "cell_type": "code",
   "execution_count": 20,
   "id": "5dc8e850",
   "metadata": {},
   "outputs": [
    {
     "name": "stdout",
     "output_type": "stream",
     "text": [
      "Hello 'Liam Song'\n"
     ]
    }
   ],
   "source": [
    "print(f\"Hello {full_name!r}\")"
   ]
  },
  {
   "cell_type": "markdown",
   "id": "352438bf",
   "metadata": {},
   "source": [
    "#### Float formatting follows \"result: {value:{width}.{precision}}\""
   ]
  },
  {
   "cell_type": "code",
   "execution_count": 21,
   "id": "19444a0b",
   "metadata": {},
   "outputs": [
    {
     "name": "stdout",
     "output_type": "stream",
     "text": [
      "PI of circle is  3.14\n"
     ]
    }
   ],
   "source": [
    "pi = 3.141592\n",
    "print(f\"PI of circle is {pi:{5}.{3}}\")"
   ]
  },
  {
   "cell_type": "markdown",
   "id": "9902621e",
   "metadata": {},
   "source": [
    "Note that with f-strings, precision refers to the total number of digits, not just those following the decimal. This fits more closely with scientific notation and statistical analysis. Unfortunately, f-strings do not pad to the right of the decimal, even if precision allows it:"
   ]
  },
  {
   "cell_type": "code",
   "execution_count": 22,
   "id": "81cd28a7",
   "metadata": {},
   "outputs": [
    {
     "name": "stdout",
     "output_type": "stream",
     "text": [
      "PI of circle is  3.1400\n",
      "PI of circle is    3.14\n"
     ]
    }
   ],
   "source": [
    "pi = 3.14\n",
    "print(\"PI of circle is {:7.4f}\".format(pi))\n",
    "print(f\"PI of circle is {pi:{7}.{4}}\")"
   ]
  },
  {
   "cell_type": "markdown",
   "id": "391f4fc2",
   "metadata": {},
   "source": [
    "If this becomes important, you can always use .format() method syntax inside an f-string:"
   ]
  },
  {
   "cell_type": "code",
   "execution_count": 23,
   "id": "8deebef2",
   "metadata": {},
   "outputs": [
    {
     "name": "stdout",
     "output_type": "stream",
     "text": [
      "PI of circle is  3.1400\n"
     ]
    }
   ],
   "source": [
    "print(f\"PI of circle is {pi:7.4f}\")"
   ]
  }
 ],
 "metadata": {
  "kernelspec": {
   "display_name": "Python 3",
   "language": "python",
   "name": "python3"
  },
  "language_info": {
   "codemirror_mode": {
    "name": "ipython",
    "version": 3
   },
   "file_extension": ".py",
   "mimetype": "text/x-python",
   "name": "python",
   "nbconvert_exporter": "python",
   "pygments_lexer": "ipython3",
   "version": "3.8.8"
  }
 },
 "nbformat": 4,
 "nbformat_minor": 5
}
