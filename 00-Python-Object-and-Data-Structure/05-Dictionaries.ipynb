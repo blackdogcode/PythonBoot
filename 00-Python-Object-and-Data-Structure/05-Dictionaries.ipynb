{
 "cells": [
  {
   "cell_type": "markdown",
   "id": "5ee85486",
   "metadata": {},
   "source": [
    "# Dictionaries\n",
    "If you're familiar with other languages you can think of these Dictionaries as hash **mapping** tables.\n",
    "1. Constructing a Dictionary\n",
    "2. Accessing objects from a dictionary\n",
    "3. Nesting Dictionaries\n",
    "4. Basic Dictionary Methods"
   ]
  },
  {
   "cell_type": "markdown",
   "id": "c0b27e4d",
   "metadata": {},
   "source": [
    "So what are mappings? Mappings are a collection of objects that are stored by a **key**, unlike a sequence that stored objects by their relative position. This is an important distinction, since mappings won't retain order since they have objects defined by a key."
   ]
  },
  {
   "cell_type": "markdown",
   "id": "d4609235",
   "metadata": {},
   "source": [
    "A Python dictionary consists of a key and then an associated value. That value can be almost any Python object."
   ]
  },
  {
   "cell_type": "markdown",
   "id": "8c3e512e",
   "metadata": {},
   "source": [
    "## Constructing a Dictionary"
   ]
  },
  {
   "cell_type": "code",
   "execution_count": 1,
   "id": "73a2845a",
   "metadata": {},
   "outputs": [
    {
     "data": {
      "text/plain": [
       "{'key0': 'value0', 'key1': 'value1'}"
      ]
     },
     "execution_count": 1,
     "metadata": {},
     "output_type": "execute_result"
    }
   ],
   "source": [
    "dict_0 = {'key0':'value0', 'key1':'value1'}\n",
    "dict_0"
   ]
  },
  {
   "cell_type": "markdown",
   "id": "578a6eb4",
   "metadata": {},
   "source": [
    "## Accessing objects from a dictionary"
   ]
  },
  {
   "cell_type": "markdown",
   "id": "a025d30a",
   "metadata": {},
   "source": [
    "Its important to note that dictionaries are very flexible in the data types they can hold."
   ]
  },
  {
   "cell_type": "code",
   "execution_count": 2,
   "id": "99ec642c",
   "metadata": {},
   "outputs": [
    {
     "data": {
      "text/plain": [
       "{'key0': 'value0', 'key1': 12345, 'key2': ['Hello', 'World']}"
      ]
     },
     "execution_count": 2,
     "metadata": {},
     "output_type": "execute_result"
    }
   ],
   "source": [
    "dict_1 = {'key0':'value0', 'key1':12345, 'key2':['Hello', 'World']}\n",
    "dict_1"
   ]
  },
  {
   "cell_type": "code",
   "execution_count": 3,
   "id": "a74a224a",
   "metadata": {},
   "outputs": [
    {
     "data": {
      "text/plain": [
       "12345"
      ]
     },
     "execution_count": 3,
     "metadata": {},
     "output_type": "execute_result"
    }
   ],
   "source": [
    "dict_1['key1']"
   ]
  },
  {
   "cell_type": "code",
   "execution_count": 4,
   "id": "7e121701",
   "metadata": {},
   "outputs": [
    {
     "data": {
      "text/plain": [
       "'HELLO'"
      ]
     },
     "execution_count": 4,
     "metadata": {},
     "output_type": "execute_result"
    }
   ],
   "source": [
    "dict_1['key2'][0].upper()"
   ]
  },
  {
   "cell_type": "code",
   "execution_count": 5,
   "id": "9d5e0e11",
   "metadata": {},
   "outputs": [
    {
     "data": {
      "text/plain": [
       "12000"
      ]
     },
     "execution_count": 5,
     "metadata": {},
     "output_type": "execute_result"
    }
   ],
   "source": [
    "dict_1['key1'] -= 345\n",
    "dict_1['key1']"
   ]
  },
  {
   "cell_type": "code",
   "execution_count": 6,
   "id": "f4551c4e",
   "metadata": {},
   "outputs": [
    {
     "data": {
      "text/plain": [
       "{'key0': 'value0', 'key1': 12000, 'key2': ['Hello', 'World']}"
      ]
     },
     "execution_count": 6,
     "metadata": {},
     "output_type": "execute_result"
    }
   ],
   "source": [
    "dict_1"
   ]
  },
  {
   "cell_type": "code",
   "execution_count": 7,
   "id": "fda75c79",
   "metadata": {},
   "outputs": [
    {
     "data": {
      "text/plain": [
       "{'key0': 'value0',\n",
       " 'key1': 12000,\n",
       " 'key2': ['Hello', 'World'],\n",
       " 'key3': 'Liam',\n",
       " 'key4': 'Song'}"
      ]
     },
     "execution_count": 7,
     "metadata": {},
     "output_type": "execute_result"
    }
   ],
   "source": [
    "dict_1['key3'] = 'Liam'\n",
    "dict_1['key4'] = 'Song'\n",
    "dict_1"
   ]
  },
  {
   "cell_type": "markdown",
   "id": "3ba8fd5d",
   "metadata": {},
   "source": [
    "## Nesting with Dictionaries"
   ]
  },
  {
   "cell_type": "code",
   "execution_count": 8,
   "id": "77f17540",
   "metadata": {},
   "outputs": [
    {
     "data": {
      "text/plain": [
       "'value2'"
      ]
     },
     "execution_count": 8,
     "metadata": {},
     "output_type": "execute_result"
    }
   ],
   "source": [
    "dict_2 = {'key0':{'key1':{'key2':'value2'}}}\n",
    "dict_2['key0']['key1']['key2']"
   ]
  },
  {
   "cell_type": "markdown",
   "id": "7e084687",
   "metadata": {},
   "source": [
    "## A few Dictionary Methods"
   ]
  },
  {
   "cell_type": "code",
   "execution_count": 9,
   "id": "b9af28a1",
   "metadata": {},
   "outputs": [],
   "source": [
    "dict_3 = {'key0':'value0', 'key1':'value1', 'key2':'value2'}"
   ]
  },
  {
   "cell_type": "code",
   "execution_count": 10,
   "id": "4c1fe13e",
   "metadata": {},
   "outputs": [
    {
     "data": {
      "text/plain": [
       "dict_keys(['key0', 'key1', 'key2'])"
      ]
     },
     "execution_count": 10,
     "metadata": {},
     "output_type": "execute_result"
    }
   ],
   "source": [
    "dict_3.keys()"
   ]
  },
  {
   "cell_type": "code",
   "execution_count": 11,
   "id": "12bb3471",
   "metadata": {},
   "outputs": [
    {
     "data": {
      "text/plain": [
       "dict_values(['value0', 'value1', 'value2'])"
      ]
     },
     "execution_count": 11,
     "metadata": {},
     "output_type": "execute_result"
    }
   ],
   "source": [
    "dict_3.values()"
   ]
  },
  {
   "cell_type": "code",
   "execution_count": 12,
   "id": "ffd590d6",
   "metadata": {},
   "outputs": [
    {
     "data": {
      "text/plain": [
       "dict_items([('key0', 'value0'), ('key1', 'value1'), ('key2', 'value2')])"
      ]
     },
     "execution_count": 12,
     "metadata": {},
     "output_type": "execute_result"
    }
   ],
   "source": [
    "dict_3.items()"
   ]
  }
 ],
 "metadata": {
  "kernelspec": {
   "display_name": "Python 3",
   "language": "python",
   "name": "python3"
  },
  "language_info": {
   "codemirror_mode": {
    "name": "ipython",
    "version": 3
   },
   "file_extension": ".py",
   "mimetype": "text/x-python",
   "name": "python",
   "nbconvert_exporter": "python",
   "pygments_lexer": "ipython3",
   "version": "3.8.8"
  }
 },
 "nbformat": 4,
 "nbformat_minor": 5
}
