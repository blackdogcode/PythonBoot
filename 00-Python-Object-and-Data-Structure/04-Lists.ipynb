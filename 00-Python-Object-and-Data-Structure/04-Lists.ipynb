{
 "cells": [
  {
   "cell_type": "markdown",
   "id": "da05dcf3",
   "metadata": {},
   "source": [
    "# Lists\n",
    "Lists can be thought of the most general version of a sequence in Python. Unlike strings, they are mutable, meaning the elements inside a list can be changed!\n",
    "1. Creating lists\n",
    "2. Indexing and Slicing Lists\n",
    "3. Basic List Methods\n",
    "4. Nesting Lists\n",
    "5. Introduction to List Comprehensions"
   ]
  },
  {
   "cell_type": "markdown",
   "id": "6d2da517",
   "metadata": {},
   "source": [
    "Lists are constructed with brackets [] and commas separating every element in the list. Lists can hold different object types."
   ]
  },
  {
   "cell_type": "code",
   "execution_count": 1,
   "id": "26cf5c1f",
   "metadata": {},
   "outputs": [
    {
     "data": {
      "text/plain": [
       "[1, 'Liam', 2, 'Song', 7]"
      ]
     },
     "execution_count": 1,
     "metadata": {},
     "output_type": "execute_result"
    }
   ],
   "source": [
    "first_list = [1, 'Liam', 2, 'Song', 7]\n",
    "first_list"
   ]
  },
  {
   "cell_type": "code",
   "execution_count": 2,
   "id": "526e891b",
   "metadata": {},
   "outputs": [
    {
     "data": {
      "text/plain": [
       "[1, 'Liam', 7, 'Song', 7]"
      ]
     },
     "execution_count": 2,
     "metadata": {},
     "output_type": "execute_result"
    }
   ],
   "source": [
    "# list element is mutable\n",
    "first_list[2] = 7\n",
    "first_list"
   ]
  },
  {
   "cell_type": "code",
   "execution_count": 3,
   "id": "c500b2d8",
   "metadata": {},
   "outputs": [
    {
     "data": {
      "text/plain": [
       "5"
      ]
     },
     "execution_count": 3,
     "metadata": {},
     "output_type": "execute_result"
    }
   ],
   "source": [
    "len(first_list)"
   ]
  },
  {
   "cell_type": "code",
   "execution_count": 4,
   "id": "b17d93bf",
   "metadata": {},
   "outputs": [
    {
     "data": {
      "text/plain": [
       "2"
      ]
     },
     "execution_count": 4,
     "metadata": {},
     "output_type": "execute_result"
    }
   ],
   "source": [
    "first_list.count(7)"
   ]
  },
  {
   "cell_type": "markdown",
   "id": "2dec4eb2",
   "metadata": {},
   "source": [
    "## Indexing and Slicing\n",
    "Indexing and slicing work just like in strings."
   ]
  },
  {
   "cell_type": "code",
   "execution_count": 5,
   "id": "10e833c3",
   "metadata": {},
   "outputs": [
    {
     "data": {
      "text/plain": [
       "['Hello', 'world', 'this', 'is', 'the', 'great', 'day']"
      ]
     },
     "execution_count": 5,
     "metadata": {},
     "output_type": "execute_result"
    }
   ],
   "source": [
    "second_list = \"Hello world this is the great day\".split()\n",
    "second_list"
   ]
  },
  {
   "cell_type": "code",
   "execution_count": 6,
   "id": "b5c530f2",
   "metadata": {},
   "outputs": [
    {
     "data": {
      "text/plain": [
       "'this'"
      ]
     },
     "execution_count": 6,
     "metadata": {},
     "output_type": "execute_result"
    }
   ],
   "source": [
    "# indexing\n",
    "second_list[2]"
   ]
  },
  {
   "cell_type": "code",
   "execution_count": 7,
   "id": "a7324a16",
   "metadata": {},
   "outputs": [
    {
     "data": {
      "text/plain": [
       "['Hello', 'world', 'this', 'is', 'the', 'great', 'day']"
      ]
     },
     "execution_count": 7,
     "metadata": {},
     "output_type": "execute_result"
    }
   ],
   "source": [
    "# whole\n",
    "second_list[::]"
   ]
  },
  {
   "cell_type": "code",
   "execution_count": 8,
   "id": "38189639",
   "metadata": {},
   "outputs": [
    {
     "data": {
      "text/plain": [
       "['this', 'is', 'the']"
      ]
     },
     "execution_count": 8,
     "metadata": {},
     "output_type": "execute_result"
    }
   ],
   "source": [
    "# slicing\n",
    "second_list[2:5]"
   ]
  },
  {
   "cell_type": "code",
   "execution_count": 9,
   "id": "7f824e7e",
   "metadata": {},
   "outputs": [
    {
     "data": {
      "text/plain": [
       "['day', 'great', 'the', 'is', 'this', 'world', 'Hello']"
      ]
     },
     "execution_count": 9,
     "metadata": {},
     "output_type": "execute_result"
    }
   ],
   "source": [
    "# reversing\n",
    "second_list[::-1]"
   ]
  },
  {
   "cell_type": "code",
   "execution_count": 10,
   "id": "bf80df37",
   "metadata": {},
   "outputs": [
    {
     "data": {
      "text/plain": [
       "['Hello',\n",
       " 'world',\n",
       " 'this',\n",
       " 'is',\n",
       " 'the',\n",
       " 'great',\n",
       " 'day',\n",
       " \"let's\",\n",
       " 'go',\n",
       " 'outside']"
      ]
     },
     "execution_count": 10,
     "metadata": {},
     "output_type": "execute_result"
    }
   ],
   "source": [
    "# extension\n",
    "second_list + [\"let's\", \"go\", \"outside\"]"
   ]
  },
  {
   "cell_type": "code",
   "execution_count": 11,
   "id": "5ce7a2c3",
   "metadata": {},
   "outputs": [
    {
     "data": {
      "text/plain": [
       "['z', 'z', 'z', 'z', 'z', 'z', 'z', 'z', 'z', 'z']"
      ]
     },
     "execution_count": 11,
     "metadata": {},
     "output_type": "execute_result"
    }
   ],
   "source": [
    "# multiplication\n",
    "['z'] * 10"
   ]
  },
  {
   "cell_type": "markdown",
   "id": "05427a83",
   "metadata": {},
   "source": [
    "## Basic List Methods\n",
    "Lists in Python tend to be more flexible than arrays in other languages for a two good reasons: they have **no fixed size** (meaning we don't have to specify how big a list will be), and they have **no fixed type constraint** (like we've seen above)."
   ]
  },
  {
   "cell_type": "code",
   "execution_count": 12,
   "id": "87db4068",
   "metadata": {},
   "outputs": [],
   "source": [
    "third_list = [1, 2, 3, 4, 5, 6]"
   ]
  },
  {
   "cell_type": "markdown",
   "id": "f53ad099",
   "metadata": {},
   "source": [
    "Use the **append** method to permanently add an item to the end of a list:"
   ]
  },
  {
   "cell_type": "code",
   "execution_count": 13,
   "id": "68962003",
   "metadata": {},
   "outputs": [
    {
     "data": {
      "text/plain": [
       "[1, 2, 3, 4, 5, 6, 7]"
      ]
     },
     "execution_count": 13,
     "metadata": {},
     "output_type": "execute_result"
    }
   ],
   "source": [
    "third_list.append(7)\n",
    "third_list"
   ]
  },
  {
   "cell_type": "markdown",
   "id": "beeab5ea",
   "metadata": {},
   "source": [
    "Use **pop** to \"pop off\" an item from the list. By default pop takes off the last index, but you can also specify which index to pop off. Let's see an example:"
   ]
  },
  {
   "cell_type": "code",
   "execution_count": 14,
   "id": "9426a0c9",
   "metadata": {},
   "outputs": [
    {
     "data": {
      "text/plain": [
       "7"
      ]
     },
     "execution_count": 14,
     "metadata": {},
     "output_type": "execute_result"
    }
   ],
   "source": [
    "third_list.pop()"
   ]
  },
  {
   "cell_type": "code",
   "execution_count": 15,
   "id": "01b21bbb",
   "metadata": {},
   "outputs": [
    {
     "data": {
      "text/plain": [
       "2"
      ]
     },
     "execution_count": 15,
     "metadata": {},
     "output_type": "execute_result"
    }
   ],
   "source": [
    "third_list.pop(1)"
   ]
  },
  {
   "cell_type": "code",
   "execution_count": 16,
   "id": "70ae5580",
   "metadata": {},
   "outputs": [
    {
     "data": {
      "text/plain": [
       "[1, 3, 4, 5, 6]"
      ]
     },
     "execution_count": 16,
     "metadata": {},
     "output_type": "execute_result"
    }
   ],
   "source": [
    "third_list"
   ]
  },
  {
   "cell_type": "markdown",
   "id": "7842ff11",
   "metadata": {},
   "source": [
    "We can use the **sort** method, the **reverse** and **remove** methods to also effect your lists:"
   ]
  },
  {
   "cell_type": "code",
   "execution_count": 17,
   "id": "62134e4d",
   "metadata": {},
   "outputs": [],
   "source": [
    "fourth_list = [7, 3, 2, 5, 1]"
   ]
  },
  {
   "cell_type": "code",
   "execution_count": 18,
   "id": "161ae880",
   "metadata": {},
   "outputs": [
    {
     "data": {
      "text/plain": [
       "[1, 5, 2, 3, 7]"
      ]
     },
     "execution_count": 18,
     "metadata": {},
     "output_type": "execute_result"
    }
   ],
   "source": [
    "fourth_list.reverse()\n",
    "fourth_list"
   ]
  },
  {
   "cell_type": "code",
   "execution_count": 19,
   "id": "32d38f1e",
   "metadata": {},
   "outputs": [
    {
     "data": {
      "text/plain": [
       "[1, 2, 3, 5, 7]"
      ]
     },
     "execution_count": 19,
     "metadata": {},
     "output_type": "execute_result"
    }
   ],
   "source": [
    "fourth_list.sort()\n",
    "fourth_list"
   ]
  },
  {
   "cell_type": "code",
   "execution_count": 20,
   "id": "9b3b7b46",
   "metadata": {},
   "outputs": [
    {
     "data": {
      "text/plain": [
       "[1, 3, 5, 7]"
      ]
     },
     "execution_count": 20,
     "metadata": {},
     "output_type": "execute_result"
    }
   ],
   "source": [
    "fourth_list.remove(2)\n",
    "fourth_list"
   ]
  },
  {
   "cell_type": "markdown",
   "id": "02a75207",
   "metadata": {},
   "source": [
    "## Nesting Lists\n",
    "A great feature of of Python data structures is that they support nesting. This means we can have data structures within data structures. For example: A list inside a list."
   ]
  },
  {
   "cell_type": "code",
   "execution_count": 21,
   "id": "cf42851c",
   "metadata": {},
   "outputs": [],
   "source": [
    "maxtrix = [[1, 2, 3], [4, 5, 6], [7, 8, 9]]"
   ]
  },
  {
   "cell_type": "code",
   "execution_count": 22,
   "id": "bfc6956d",
   "metadata": {},
   "outputs": [
    {
     "name": "stdout",
     "output_type": "stream",
     "text": [
      "1 2 3 \n",
      "4 5 6 \n",
      "7 8 9 \n"
     ]
    }
   ],
   "source": [
    "for i in range(3):\n",
    "    for j in range(3):\n",
    "        print(maxtrix[i][j], end=\" \")\n",
    "    print()"
   ]
  },
  {
   "cell_type": "markdown",
   "id": "9775a8a5",
   "metadata": {},
   "source": [
    "## List Comprehensions\n",
    "Python has an advanced feature called list comprehensions. They allow for quick construction of lists."
   ]
  },
  {
   "cell_type": "code",
   "execution_count": 23,
   "id": "d7045c43",
   "metadata": {},
   "outputs": [],
   "source": [
    "first_rows = [row[0] for row in maxtrix]"
   ]
  },
  {
   "cell_type": "code",
   "execution_count": 24,
   "id": "653b8c44",
   "metadata": {},
   "outputs": [
    {
     "data": {
      "text/plain": [
       "[1, 4, 7]"
      ]
     },
     "execution_count": 24,
     "metadata": {},
     "output_type": "execute_result"
    }
   ],
   "source": [
    "first_rows"
   ]
  }
 ],
 "metadata": {
  "kernelspec": {
   "display_name": "Python 3",
   "language": "python",
   "name": "python3"
  },
  "language_info": {
   "codemirror_mode": {
    "name": "ipython",
    "version": 3
   },
   "file_extension": ".py",
   "mimetype": "text/x-python",
   "name": "python",
   "nbconvert_exporter": "python",
   "pygments_lexer": "ipython3",
   "version": "3.8.8"
  }
 },
 "nbformat": 4,
 "nbformat_minor": 5
}
