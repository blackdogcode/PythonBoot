{
 "cells": [
  {
   "cell_type": "markdown",
   "id": "92424bcc",
   "metadata": {},
   "source": [
    "# Sets\n",
    "Sets are an unordered collection of unique elements. We can construct them by using the set() function."
   ]
  },
  {
   "cell_type": "code",
   "execution_count": 1,
   "id": "9231ab96",
   "metadata": {},
   "outputs": [
    {
     "data": {
      "text/plain": [
       "set()"
      ]
     },
     "execution_count": 1,
     "metadata": {},
     "output_type": "execute_result"
    }
   ],
   "source": [
    "prime_numbers = set()\n",
    "prime_numbers"
   ]
  },
  {
   "cell_type": "markdown",
   "id": "76c43d22",
   "metadata": {},
   "source": [
    "Note the curly brackets. This does not indicate a dictionary! Although you can draw analogies as a set being a dictionary with only keys."
   ]
  },
  {
   "cell_type": "code",
   "execution_count": 2,
   "id": "ba825659",
   "metadata": {},
   "outputs": [
    {
     "data": {
      "text/plain": [
       "{1, 3, 5, 7, 11, 13}"
      ]
     },
     "execution_count": 2,
     "metadata": {},
     "output_type": "execute_result"
    }
   ],
   "source": [
    "prime_numbers.add(1)\n",
    "prime_numbers.add(3)\n",
    "prime_numbers.add(5)\n",
    "prime_numbers.add(7)\n",
    "prime_numbers.add(11)\n",
    "prime_numbers.add(13)\n",
    "prime_numbers"
   ]
  },
  {
   "cell_type": "markdown",
   "id": "2f05a3e0",
   "metadata": {},
   "source": [
    "Set is only concerned with unique elements"
   ]
  },
  {
   "cell_type": "code",
   "execution_count": 3,
   "id": "b95f513b",
   "metadata": {},
   "outputs": [
    {
     "data": {
      "text/plain": [
       "{1, 3, 5, 7, 11, 13}"
      ]
     },
     "execution_count": 3,
     "metadata": {},
     "output_type": "execute_result"
    }
   ],
   "source": [
    "prime_numbers.add(3)\n",
    "prime_numbers"
   ]
  },
  {
   "cell_type": "markdown",
   "id": "d96da7e5",
   "metadata": {},
   "source": [
    "We can cast a list with multiple repeat elements to a set to get the unique elements. For example:"
   ]
  },
  {
   "cell_type": "code",
   "execution_count": 4,
   "id": "d7e124ab",
   "metadata": {},
   "outputs": [
    {
     "data": {
      "text/plain": [
       "{1, 2, 3, 5, 7, 11, 13}"
      ]
     },
     "execution_count": 4,
     "metadata": {},
     "output_type": "execute_result"
    }
   ],
   "source": [
    "numbers = [1, 1, 1, 2, 2, 3, 5, 7, 7, 11, 13]\n",
    "prime_numbers = set(numbers)\n",
    "prime_numbers"
   ]
  }
 ],
 "metadata": {
  "kernelspec": {
   "display_name": "Python 3",
   "language": "python",
   "name": "python3"
  },
  "language_info": {
   "codemirror_mode": {
    "name": "ipython",
    "version": 3
   },
   "file_extension": ".py",
   "mimetype": "text/x-python",
   "name": "python",
   "nbconvert_exporter": "python",
   "pygments_lexer": "ipython3",
   "version": "3.8.8"
  }
 },
 "nbformat": 4,
 "nbformat_minor": 5
}
