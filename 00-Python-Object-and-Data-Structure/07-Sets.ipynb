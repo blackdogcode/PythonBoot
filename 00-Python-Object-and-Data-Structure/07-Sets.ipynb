{
 "cells": [
  {
   "cell_type": "markdown",
   "id": "92424bcc",
   "metadata": {},
   "source": [
    "# [Sets](https://realpython.com/python-sets/)\n",
    "- Sets are unordered.\n",
    "- Set elements are unique. Duplicate elements are not allowed.\n",
    "- A set itself may be modified, but the elements contained in the set must be of an immutable type."
   ]
  },
  {
   "cell_type": "markdown",
   "id": "194c3f99",
   "metadata": {},
   "source": [
    "A set can be created in two ways. First, you can define a set with the built-in set() function. Python interprets empty curly braces ({}) as an empty dictionary, so the only way to define an *empty set* is with the **set()** function:"
   ]
  },
  {
   "cell_type": "code",
   "execution_count": 1,
   "id": "9231ab96",
   "metadata": {},
   "outputs": [
    {
     "data": {
      "text/plain": [
       "set()"
      ]
     },
     "execution_count": 1,
     "metadata": {},
     "output_type": "execute_result"
    }
   ],
   "source": [
    "prime_numbers = set()\n",
    "prime_numbers"
   ]
  },
  {
   "cell_type": "markdown",
   "id": "76c43d22",
   "metadata": {},
   "source": [
    "Note the curly brackets. This does not indicate a dictionary! Although you can draw analogies as a set being a dictionary with only keys."
   ]
  },
  {
   "cell_type": "code",
   "execution_count": 2,
   "id": "ba825659",
   "metadata": {},
   "outputs": [
    {
     "data": {
      "text/plain": [
       "{1, 3, 5, 7, 11, 13}"
      ]
     },
     "execution_count": 2,
     "metadata": {},
     "output_type": "execute_result"
    }
   ],
   "source": [
    "prime_numbers.add(1)\n",
    "prime_numbers.add(3)\n",
    "prime_numbers.add(5)\n",
    "prime_numbers.add(7)\n",
    "prime_numbers.add(11)\n",
    "prime_numbers.add(13)\n",
    "prime_numbers"
   ]
  },
  {
   "cell_type": "markdown",
   "id": "2f05a3e0",
   "metadata": {},
   "source": [
    "Set is only concerned with unique elements"
   ]
  },
  {
   "cell_type": "code",
   "execution_count": 3,
   "id": "b95f513b",
   "metadata": {},
   "outputs": [
    {
     "data": {
      "text/plain": [
       "{1, 3, 5, 7, 11, 13}"
      ]
     },
     "execution_count": 3,
     "metadata": {},
     "output_type": "execute_result"
    }
   ],
   "source": [
    "prime_numbers.add(3)\n",
    "prime_numbers"
   ]
  },
  {
   "cell_type": "markdown",
   "id": "d96da7e5",
   "metadata": {},
   "source": [
    "We can cast a list with multiple repeat elements to a set to get the unique elements. For example:"
   ]
  },
  {
   "cell_type": "code",
   "execution_count": 4,
   "id": "d7e124ab",
   "metadata": {},
   "outputs": [
    {
     "data": {
      "text/plain": [
       "{1, 2, 3, 5, 7, 11, 13}"
      ]
     },
     "execution_count": 4,
     "metadata": {},
     "output_type": "execute_result"
    }
   ],
   "source": [
    "numbers = [1, 1, 1, 2, 2, 3, 5, 7, 7, 11, 13]\n",
    "prime_numbers = set(numbers)\n",
    "prime_numbers"
   ]
  },
  {
   "cell_type": "markdown",
   "id": "5af0969d",
   "metadata": {},
   "source": [
    "Alternately, a set can be defined with curly braces ({}):"
   ]
  },
  {
   "cell_type": "code",
   "execution_count": 5,
   "id": "ac2c9c3a",
   "metadata": {},
   "outputs": [
    {
     "data": {
      "text/plain": [
       "{'bar', 'baz', 'foo', 'qux'}"
      ]
     },
     "execution_count": 5,
     "metadata": {},
     "output_type": "execute_result"
    }
   ],
   "source": [
    "x = {\"foo\", \"bar\", \"baz\", \"foo\", \"qux\"}\n",
    "x"
   ]
  },
  {
   "cell_type": "markdown",
   "id": "d9778faa",
   "metadata": {},
   "source": [
    "An empty set is falsy in a Boolean context:"
   ]
  },
  {
   "cell_type": "code",
   "execution_count": 6,
   "id": "ba9b7cfc",
   "metadata": {},
   "outputs": [
    {
     "data": {
      "text/plain": [
       "False"
      ]
     },
     "execution_count": 6,
     "metadata": {},
     "output_type": "execute_result"
    }
   ],
   "source": [
    "y = set()\n",
    "bool(y)"
   ]
  },
  {
   "cell_type": "markdown",
   "id": "6dc99cf5",
   "metadata": {},
   "source": [
    "**Set elements must be immutable**. For example, a tuple may be included in a set: But lists and dictionaries are mutable, so they can’t be set elements:"
   ]
  },
  {
   "cell_type": "code",
   "execution_count": 7,
   "id": "1ee0a878",
   "metadata": {},
   "outputs": [
    {
     "data": {
      "text/plain": [
       "{(1, 2, 3), 'bar', 'foo'}"
      ]
     },
     "execution_count": 7,
     "metadata": {},
     "output_type": "execute_result"
    }
   ],
   "source": [
    "x = {\"foo\", \"bar\", (1, 2, 3)}\n",
    "x"
   ]
  },
  {
   "cell_type": "code",
   "execution_count": 8,
   "id": "723f5dae",
   "metadata": {},
   "outputs": [
    {
     "ename": "TypeError",
     "evalue": "unhashable type: 'list'",
     "output_type": "error",
     "traceback": [
      "\u001b[1;31m---------------------------------------------------------------------------\u001b[0m",
      "\u001b[1;31mTypeError\u001b[0m                                 Traceback (most recent call last)",
      "\u001b[1;32m~\\AppData\\Local\\Temp/ipykernel_7976/2379271675.py\u001b[0m in \u001b[0;36m<module>\u001b[1;34m\u001b[0m\n\u001b[0;32m      1\u001b[0m \u001b[0my\u001b[0m \u001b[1;33m=\u001b[0m \u001b[1;33m[\u001b[0m\u001b[1;36m1\u001b[0m\u001b[1;33m,\u001b[0m \u001b[1;36m2\u001b[0m\u001b[1;33m,\u001b[0m \u001b[1;36m3\u001b[0m\u001b[1;33m]\u001b[0m\u001b[1;33m\u001b[0m\u001b[1;33m\u001b[0m\u001b[0m\n\u001b[1;32m----> 2\u001b[1;33m \u001b[1;33m{\u001b[0m\u001b[0my\u001b[0m\u001b[1;33m}\u001b[0m\u001b[1;33m\u001b[0m\u001b[1;33m\u001b[0m\u001b[0m\n\u001b[0m",
      "\u001b[1;31mTypeError\u001b[0m: unhashable type: 'list'"
     ]
    }
   ],
   "source": [
    "y = [1, 2, 3]\n",
    "{y}"
   ]
  },
  {
   "cell_type": "code",
   "execution_count": 9,
   "id": "95c8beff",
   "metadata": {
    "scrolled": true
   },
   "outputs": [
    {
     "ename": "TypeError",
     "evalue": "unhashable type: 'dict'",
     "output_type": "error",
     "traceback": [
      "\u001b[1;31m---------------------------------------------------------------------------\u001b[0m",
      "\u001b[1;31mTypeError\u001b[0m                                 Traceback (most recent call last)",
      "\u001b[1;32m~\\AppData\\Local\\Temp/ipykernel_7976/1839469229.py\u001b[0m in \u001b[0;36m<module>\u001b[1;34m\u001b[0m\n\u001b[0;32m      1\u001b[0m \u001b[0mz\u001b[0m \u001b[1;33m=\u001b[0m \u001b[1;33m{\u001b[0m\u001b[1;34m\"key\"\u001b[0m\u001b[1;33m:\u001b[0m\u001b[1;34m\"value\"\u001b[0m\u001b[1;33m}\u001b[0m\u001b[1;33m\u001b[0m\u001b[1;33m\u001b[0m\u001b[0m\n\u001b[1;32m----> 2\u001b[1;33m \u001b[1;33m{\u001b[0m\u001b[0mz\u001b[0m\u001b[1;33m}\u001b[0m\u001b[1;33m\u001b[0m\u001b[1;33m\u001b[0m\u001b[0m\n\u001b[0m",
      "\u001b[1;31mTypeError\u001b[0m: unhashable type: 'dict'"
     ]
    }
   ],
   "source": [
    "z = {\"key\":\"value\"}\n",
    "{z}"
   ]
  },
  {
   "cell_type": "markdown",
   "id": "c0946faf",
   "metadata": {},
   "source": [
    "## Operating on a Set\n",
    "### Union\n",
    "When multiple sets are specified, the operation is performed from **left to right.**"
   ]
  },
  {
   "cell_type": "code",
   "execution_count": 10,
   "id": "1edf5115",
   "metadata": {},
   "outputs": [
    {
     "data": {
      "text/plain": [
       "{'bar', 'baz', 'chr', 'foo', 'qux'}"
      ]
     },
     "execution_count": 10,
     "metadata": {},
     "output_type": "execute_result"
    }
   ],
   "source": [
    "x = {'foo', 'bar', 'baz'}\n",
    "y = {'foo', 'qux', 'chr'}\n",
    "z = {'qux', 'chr', 'foo'}\n",
    "x | y | z"
   ]
  },
  {
   "cell_type": "code",
   "execution_count": 11,
   "id": "0516354e",
   "metadata": {},
   "outputs": [
    {
     "data": {
      "text/plain": [
       "{'bar', 'baz', 'chr', 'foo', 'qux'}"
      ]
     },
     "execution_count": 11,
     "metadata": {},
     "output_type": "execute_result"
    }
   ],
   "source": [
    "x.union(y, z)"
   ]
  },
  {
   "cell_type": "markdown",
   "id": "cc14da31",
   "metadata": {},
   "source": [
    "### Intersection"
   ]
  },
  {
   "cell_type": "code",
   "execution_count": 12,
   "id": "97979b55",
   "metadata": {},
   "outputs": [
    {
     "data": {
      "text/plain": [
       "{'foo'}"
      ]
     },
     "execution_count": 12,
     "metadata": {},
     "output_type": "execute_result"
    }
   ],
   "source": [
    "x = {'foo', 'bar', 'baz'}\n",
    "y = {'foo', 'qux', 'chr'}\n",
    "z = {'qux', 'chr', 'foo'}\n",
    "x & y & z"
   ]
  },
  {
   "cell_type": "code",
   "execution_count": 13,
   "id": "c88509c8",
   "metadata": {},
   "outputs": [
    {
     "data": {
      "text/plain": [
       "{'foo'}"
      ]
     },
     "execution_count": 13,
     "metadata": {},
     "output_type": "execute_result"
    }
   ],
   "source": [
    "x.intersection(y, z)"
   ]
  },
  {
   "cell_type": "markdown",
   "id": "de02a79d",
   "metadata": {},
   "source": [
    "### Difference"
   ]
  },
  {
   "cell_type": "code",
   "execution_count": 14,
   "id": "dcdc59ad",
   "metadata": {},
   "outputs": [
    {
     "data": {
      "text/plain": [
       "{'bar', 'baz'}"
      ]
     },
     "execution_count": 14,
     "metadata": {},
     "output_type": "execute_result"
    }
   ],
   "source": [
    "x = {'foo', 'bar', 'baz'}\n",
    "y = {'foo', 'qux', 'chr'}\n",
    "z = {'qux', 'chr', 'foo'}\n",
    "x - y"
   ]
  },
  {
   "cell_type": "code",
   "execution_count": 15,
   "id": "41b1ac7d",
   "metadata": {},
   "outputs": [
    {
     "data": {
      "text/plain": [
       "{'bar', 'baz'}"
      ]
     },
     "execution_count": 15,
     "metadata": {},
     "output_type": "execute_result"
    }
   ],
   "source": [
    "x.difference(y)"
   ]
  },
  {
   "cell_type": "markdown",
   "id": "30456814",
   "metadata": {},
   "source": [
    "### Symmetric Difference"
   ]
  },
  {
   "cell_type": "code",
   "execution_count": 16,
   "id": "1384ebff",
   "metadata": {},
   "outputs": [
    {
     "data": {
      "text/plain": [
       "{'bar', 'baz', 'chr', 'qux'}"
      ]
     },
     "execution_count": 16,
     "metadata": {},
     "output_type": "execute_result"
    }
   ],
   "source": [
    "x = {'foo', 'bar', 'baz'}\n",
    "y = {'foo', 'qux', 'chr'}\n",
    "z = {'qux', 'chr', 'foo'}\n",
    "x ^ y"
   ]
  },
  {
   "cell_type": "code",
   "execution_count": 17,
   "id": "b85cc3ff",
   "metadata": {},
   "outputs": [
    {
     "data": {
      "text/plain": [
       "{'bar', 'baz', 'chr', 'qux'}"
      ]
     },
     "execution_count": 17,
     "metadata": {},
     "output_type": "execute_result"
    }
   ],
   "source": [
    "x.symmetric_difference(y)"
   ]
  },
  {
   "cell_type": "markdown",
   "id": "85984b37",
   "metadata": {},
   "source": [
    "### Disjoint\n",
    "Determines whether or not two sets have any elements in common. Returns **True** if x and y have **no elements in common**"
   ]
  },
  {
   "cell_type": "code",
   "execution_count": 18,
   "id": "1977b271",
   "metadata": {},
   "outputs": [
    {
     "data": {
      "text/plain": [
       "False"
      ]
     },
     "execution_count": 18,
     "metadata": {},
     "output_type": "execute_result"
    }
   ],
   "source": [
    "x = {'foo', 'bar', 'baz'}\n",
    "y = {'foo', 'qux', 'chr'}\n",
    "z = x - {'foo'}\n",
    "x.isdisjoint(y)"
   ]
  },
  {
   "cell_type": "code",
   "execution_count": 19,
   "id": "f7f098d6",
   "metadata": {},
   "outputs": [
    {
     "data": {
      "text/plain": [
       "True"
      ]
     },
     "execution_count": 19,
     "metadata": {},
     "output_type": "execute_result"
    }
   ],
   "source": [
    "y.isdisjoint(z)"
   ]
  },
  {
   "cell_type": "markdown",
   "id": "e6fbb697",
   "metadata": {},
   "source": [
    "### Subset\n",
    "In set theory, a set x is considered a subset of another set y if **every element of x is in y**."
   ]
  },
  {
   "cell_type": "code",
   "execution_count": 20,
   "id": "303e8cef",
   "metadata": {},
   "outputs": [
    {
     "data": {
      "text/plain": [
       "True"
      ]
     },
     "execution_count": 20,
     "metadata": {},
     "output_type": "execute_result"
    }
   ],
   "source": [
    "x = {1, 2, 3}\n",
    "y = {1, 2, 3, 4, 5, 6}\n",
    "z = {7, 8, 9}\n",
    "x.issubset(y)"
   ]
  },
  {
   "cell_type": "code",
   "execution_count": 21,
   "id": "0a54c742",
   "metadata": {},
   "outputs": [
    {
     "data": {
      "text/plain": [
       "False"
      ]
     },
     "execution_count": 21,
     "metadata": {},
     "output_type": "execute_result"
    }
   ],
   "source": [
    "z.issubset(y)"
   ]
  },
  {
   "cell_type": "markdown",
   "id": "ad1facd1",
   "metadata": {},
   "source": [
    "### Proper Subset"
   ]
  },
  {
   "cell_type": "code",
   "execution_count": 22,
   "id": "7e7494e6",
   "metadata": {},
   "outputs": [
    {
     "data": {
      "text/plain": [
       "True"
      ]
     },
     "execution_count": 22,
     "metadata": {},
     "output_type": "execute_result"
    }
   ],
   "source": [
    "x = {1, 2, 3}\n",
    "y = {1, 2, 3, 4, 5, 6}\n",
    "z = {1, 2, 3, 4, 5, 6}\n",
    "x < y"
   ]
  },
  {
   "cell_type": "code",
   "execution_count": 23,
   "id": "20ca4d6d",
   "metadata": {},
   "outputs": [
    {
     "data": {
      "text/plain": [
       "False"
      ]
     },
     "execution_count": 23,
     "metadata": {},
     "output_type": "execute_result"
    }
   ],
   "source": [
    "y < z"
   ]
  },
  {
   "cell_type": "markdown",
   "id": "a2ce9774",
   "metadata": {},
   "source": [
    "### Super Set"
   ]
  },
  {
   "cell_type": "code",
   "execution_count": 24,
   "id": "f7cd31a3",
   "metadata": {},
   "outputs": [
    {
     "data": {
      "text/plain": [
       "True"
      ]
     },
     "execution_count": 24,
     "metadata": {},
     "output_type": "execute_result"
    }
   ],
   "source": [
    "x = {1, 2, 3}\n",
    "y = {1, 2, 3, 4, 5, 6}\n",
    "y.issuperset(x)"
   ]
  },
  {
   "cell_type": "code",
   "execution_count": 25,
   "id": "6fd29ca7",
   "metadata": {},
   "outputs": [
    {
     "data": {
      "text/plain": [
       "False"
      ]
     },
     "execution_count": 25,
     "metadata": {},
     "output_type": "execute_result"
    }
   ],
   "source": [
    "x.issuperset(y)"
   ]
  },
  {
   "cell_type": "code",
   "execution_count": 26,
   "id": "d68ee2af",
   "metadata": {},
   "outputs": [
    {
     "data": {
      "text/plain": [
       "True"
      ]
     },
     "execution_count": 26,
     "metadata": {},
     "output_type": "execute_result"
    }
   ],
   "source": [
    "x <= y"
   ]
  }
 ],
 "metadata": {
  "kernelspec": {
   "display_name": "Python 3 (ipykernel)",
   "language": "python",
   "name": "python3"
  },
  "language_info": {
   "codemirror_mode": {
    "name": "ipython",
    "version": 3
   },
   "file_extension": ".py",
   "mimetype": "text/x-python",
   "name": "python",
   "nbconvert_exporter": "python",
   "pygments_lexer": "ipython3",
   "version": "3.8.11"
  }
 },
 "nbformat": 4,
 "nbformat_minor": 5
}
