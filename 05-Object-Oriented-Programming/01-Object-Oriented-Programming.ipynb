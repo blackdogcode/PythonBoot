{
 "cells": [
  {
   "cell_type": "markdown",
   "id": "6a370ce7",
   "metadata": {},
   "source": [
    "# [Object Oriented Programming](https://realpython.com/python3-object-oriented-programming/)\n",
    "\n",
    "Object-oriented programming is a programming paradigm that provides a means of structuring programs so that **properties** and **behaviors** are bundled into individual objects.\n",
    "\n",
    "For instance, an object could represent a person with properties like a name, age, and address and behaviors such as walking, talking, breathing, and running.\n",
    "\n",
    "OOP models real-world entities as software objects that have some data associated with them and can perform certain functions.\n",
    "\n",
    "- Create a class, which is like a blueprint for creating an object\n",
    "- Use classes to create new objects\n",
    "- Model systems with class inheritance"
   ]
  },
  {
   "cell_type": "markdown",
   "id": "c1d37ccb",
   "metadata": {},
   "source": [
    "## Classes vs Instances\n",
    "\n",
    "A class is a blueprint for how something should be defined. It doesn’t actually contain any data. The Dog class specifies that a name and an age are necessary for defining a dog, but it doesn’t contain the name or age of any specific dog.\n",
    "\n",
    "While the class is the blueprint, an instance is an object that is built from a class and contains real data. An instance of the Dog class is not a blueprint anymore. It’s an actual dog with a name, like Miles, who’s four years old."
   ]
  },
  {
   "cell_type": "markdown",
   "id": "1db89145",
   "metadata": {},
   "source": [
    "## How to Define a Class\n",
    "\n",
    "All class definitions start with the class keyword, which is followed by the name of the class and a colon. Any code that is indented below the class definition is considered part of the class’s body."
   ]
  },
  {
   "cell_type": "code",
   "execution_count": 1,
   "id": "f9e42056",
   "metadata": {},
   "outputs": [],
   "source": [
    "class Dog:\n",
    "    pass"
   ]
  },
  {
   "cell_type": "markdown",
   "id": "2261387c",
   "metadata": {},
   "source": [
    "Python **class names** are written in **CapitalizedWords** notation by convention. For example, a class for a specific breed of dog like the Jack Russell Terrier would be written as **JackRussellTerrier**."
   ]
  },
  {
   "cell_type": "markdown",
   "id": "a8adb978",
   "metadata": {},
   "source": [
    "The properties that all Dog objects must have are defined in a method called .\\_\\_init\\_\\_(). Every time a new Dog object is created, .\\_\\_init\\_\\_() sets the initial state of the object by assigning the values of the object’s properties.\n",
    "\n",
    "but the first parameter will always be a variable called self. When a new class instance is created, the instance is automatically passed to the self parameter in .\\_\\_init\\_\\_() so that new attributes can be defined on the object."
   ]
  },
  {
   "cell_type": "code",
   "execution_count": 2,
   "id": "94c69cc8",
   "metadata": {},
   "outputs": [],
   "source": [
    "class Dog:\n",
    "    def __init__(self, name, age):\n",
    "        self.name = name\n",
    "        self.age = age"
   ]
  },
  {
   "cell_type": "markdown",
   "id": "cb626ec7",
   "metadata": {},
   "source": [
    "Attributes created in .\\_\\_init\\_\\_() are called **instance attributes**. An instance attribute’s value is specific to a particular instance of the class.\n",
    "\n",
    "On the other hand, **class attributes** are attributes that have the same value for all class instances."
   ]
  },
  {
   "cell_type": "code",
   "execution_count": 3,
   "id": "e9327ec6",
   "metadata": {},
   "outputs": [],
   "source": [
    "class Dog:\n",
    "    # class attribute\n",
    "    species = \"mammal\"\n",
    "    def __init__(self, name, age):\n",
    "        self.name = name\n",
    "        self.age = age"
   ]
  },
  {
   "cell_type": "markdown",
   "id": "c1b2322a",
   "metadata": {},
   "source": [
    "## Instantiate an Object in Python\n",
    "\n",
    "Creating a new object from a class is called instantiating an object. You can instantiate a new Dog object by typing the name of the class, followed by opening and closing parentheses:"
   ]
  },
  {
   "cell_type": "code",
   "execution_count": 4,
   "id": "bf3ce4cb",
   "metadata": {},
   "outputs": [
    {
     "data": {
      "text/plain": [
       "<__main__.Dog at 0x1cfa8e35340>"
      ]
     },
     "execution_count": 4,
     "metadata": {},
     "output_type": "execute_result"
    }
   ],
   "source": [
    "Dog('salt', 10)"
   ]
  },
  {
   "cell_type": "markdown",
   "id": "3b652a8b",
   "metadata": {},
   "source": [
    "This funny-looking string of letters and numbers is a **memory address** that indicates where the Dog object is stored in your computer’s memory."
   ]
  },
  {
   "cell_type": "markdown",
   "id": "2f69a99c",
   "metadata": {},
   "source": [
    "After you create the Dog instances, you can access their instance attributes using dot notation"
   ]
  },
  {
   "cell_type": "code",
   "execution_count": 5,
   "id": "30f24100",
   "metadata": {},
   "outputs": [
    {
     "name": "stdout",
     "output_type": "stream",
     "text": [
      "The salt is 10 years old\n",
      "The mude is 12 years old\n"
     ]
    }
   ],
   "source": [
    "salt = Dog('salt', 10)\n",
    "print(f\"The {salt.name} is {salt.age} years old\")\n",
    "mude = Dog('mude', 12)\n",
    "print(f\"The {mude.name} is {mude.age} years old\")"
   ]
  },
  {
   "cell_type": "code",
   "execution_count": 6,
   "id": "eb46b091",
   "metadata": {},
   "outputs": [
    {
     "name": "stdout",
     "output_type": "stream",
     "text": [
      "17\n",
      "mammal\n",
      "Canis familiaris\n",
      "mammal\n"
     ]
    }
   ],
   "source": [
    "mude.age = 17\n",
    "print(mude.age)\n",
    "print(salt.species)\n",
    "salt.species = \"Canis familiaris\"\n",
    "print(salt.species)\n",
    "print(mude.species)"
   ]
  },
  {
   "cell_type": "markdown",
   "id": "809ab24b",
   "metadata": {},
   "source": [
    "The key takeaway here is that **custom objects are mutable** by default. An object is mutable if it can be altered dynamically. For example, lists and dictionaries are mutable, but strings and tuples are immutable."
   ]
  },
  {
   "cell_type": "code",
   "execution_count": null,
   "id": "fdf7affa",
   "metadata": {},
   "outputs": [],
   "source": []
  }
 ],
 "metadata": {
  "kernelspec": {
   "display_name": "Python 3",
   "language": "python",
   "name": "python3"
  },
  "language_info": {
   "codemirror_mode": {
    "name": "ipython",
    "version": 3
   },
   "file_extension": ".py",
   "mimetype": "text/x-python",
   "name": "python",
   "nbconvert_exporter": "python",
   "pygments_lexer": "ipython3",
   "version": "3.8.8"
  }
 },
 "nbformat": 4,
 "nbformat_minor": 5
}
