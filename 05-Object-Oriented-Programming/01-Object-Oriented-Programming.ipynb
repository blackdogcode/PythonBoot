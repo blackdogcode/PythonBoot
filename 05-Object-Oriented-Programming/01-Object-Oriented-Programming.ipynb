{
 "cells": [
  {
   "cell_type": "markdown",
   "id": "6a370ce7",
   "metadata": {},
   "source": [
    "# [Object Oriented Programming](https://realpython.com/python3-object-oriented-programming/)\n",
    "\n",
    "Object-oriented programming is a programming paradigm that provides a means of structuring programs so that **properties** and **behaviors** are bundled into individual objects.\n",
    "\n",
    "For instance, an object could represent a person with properties like a name, age, and address and behaviors such as walking, talking, breathing, and running.\n",
    "\n",
    "OOP models real-world entities as software objects that have some data associated with them and can perform certain functions.\n",
    "\n",
    "- Create a class, which is like a blueprint for creating an object\n",
    "- Use classes to create new objects\n",
    "- Model systems with class inheritance"
   ]
  },
  {
   "cell_type": "markdown",
   "id": "0498922f",
   "metadata": {},
   "source": [
    "## Classes vs Instances\n",
    "\n",
    "A class is a blueprint for how something should be defined. It doesn’t actually contain any data. The Dog class specifies that a name and an age are necessary for defining a dog, but it doesn’t contain the name or age of any specific dog.\n",
    "\n",
    "While the class is the blueprint, an instance is an object that is built from a class and contains real data. An instance of the Dog class is not a blueprint anymore. It’s an actual dog with a name, like Miles, who’s four years old."
   ]
  },
  {
   "cell_type": "markdown",
   "id": "22df38dc",
   "metadata": {},
   "source": [
    "## How to Define a Class\n",
    "\n",
    "All class definitions start with the class keyword, which is followed by the name of the class and a colon. Any code that is indented below the class definition is considered part of the class’s body."
   ]
  },
  {
   "cell_type": "code",
   "execution_count": 1,
   "id": "7b88ae46",
   "metadata": {},
   "outputs": [],
   "source": [
    "class Dog:\n",
    "    pass"
   ]
  },
  {
   "cell_type": "markdown",
   "id": "ab71515d",
   "metadata": {},
   "source": [
    "Python **class names** are written in **CapitalizedWords** notation by convention. For example, a class for a specific breed of dog like the Jack Russell Terrier would be written as **JackRussellTerrier**."
   ]
  },
  {
   "cell_type": "markdown",
   "id": "c700b89c",
   "metadata": {},
   "source": [
    "The properties that all Dog objects must have are defined in a method called .\\_\\_init\\_\\_(). Every time a new Dog object is created, .\\_\\_init\\_\\_() sets the initial state of the object by assigning the values of the object’s properties.\n",
    "\n",
    "but the first parameter will always be a variable called self. When a new class instance is created, the instance is automatically passed to the self parameter in .\\_\\_init\\_\\_() so that new attributes can be defined on the object."
   ]
  },
  {
   "cell_type": "code",
   "execution_count": 2,
   "id": "bf0e3829",
   "metadata": {},
   "outputs": [],
   "source": [
    "class Dog:\n",
    "    def __init__(self, name, age):\n",
    "        self.name = name\n",
    "        self.age = age"
   ]
  },
  {
   "cell_type": "markdown",
   "id": "8c1ce73a",
   "metadata": {},
   "source": [
    "Attributes created in .\\_\\_init\\_\\_() are called **instance attributes**. An instance attribute’s value is specific to a particular instance of the class.\n",
    "\n",
    "On the other hand, **class attributes** are attributes that have the same value for all class instances."
   ]
  },
  {
   "cell_type": "code",
   "execution_count": 3,
   "id": "a6fb822e",
   "metadata": {},
   "outputs": [],
   "source": [
    "class Dog:\n",
    "    # class attribute\n",
    "    species = \"mammal\"\n",
    "    def __init__(self, name, age):\n",
    "        self.name = name\n",
    "        self.age = age"
   ]
  },
  {
   "cell_type": "markdown",
   "id": "aca6769c",
   "metadata": {},
   "source": [
    "## Instantiate an Object in Python\n",
    "\n",
    "Creating a new object from a class is called instantiating an object. You can instantiate a new Dog object by typing the name of the class, followed by opening and closing parentheses:"
   ]
  },
  {
   "cell_type": "code",
   "execution_count": 4,
   "id": "d89cffaa",
   "metadata": {},
   "outputs": [
    {
     "data": {
      "text/plain": [
       "<__main__.Dog at 0x160e4df5160>"
      ]
     },
     "execution_count": 4,
     "metadata": {},
     "output_type": "execute_result"
    }
   ],
   "source": [
    "Dog('salt', 10)"
   ]
  },
  {
   "cell_type": "markdown",
   "id": "727985a5",
   "metadata": {},
   "source": [
    "This funny-looking string of letters and numbers is a **memory address** that indicates where the Dog object is stored in your computer’s memory."
   ]
  },
  {
   "cell_type": "markdown",
   "id": "ddf90d06",
   "metadata": {},
   "source": [
    "After you create the Dog instances, you can access their instance attributes using dot notation"
   ]
  },
  {
   "cell_type": "code",
   "execution_count": 5,
   "id": "296a0647",
   "metadata": {},
   "outputs": [
    {
     "name": "stdout",
     "output_type": "stream",
     "text": [
      "The salt is 10 years old\n",
      "The mude is 12 years old\n"
     ]
    }
   ],
   "source": [
    "salt = Dog('salt', 10)\n",
    "print(f\"The {salt.name} is {salt.age} years old\")\n",
    "mude = Dog('mude', 12)\n",
    "print(f\"The {mude.name} is {mude.age} years old\")"
   ]
  },
  {
   "cell_type": "code",
   "execution_count": 6,
   "id": "16957ada",
   "metadata": {},
   "outputs": [
    {
     "name": "stdout",
     "output_type": "stream",
     "text": [
      "17\n",
      "mammal\n",
      "Canis familiaris\n",
      "mammal\n"
     ]
    }
   ],
   "source": [
    "mude.age = 17\n",
    "print(mude.age)\n",
    "print(salt.species)\n",
    "salt.species = \"Canis familiaris\"\n",
    "print(salt.species)\n",
    "print(mude.species)"
   ]
  },
  {
   "cell_type": "markdown",
   "id": "0545ea10",
   "metadata": {},
   "source": [
    "The key takeaway here is that **custom objects are mutable** by default. An object is mutable if it can be altered dynamically. For example, lists and dictionaries are mutable, but strings and tuples are immutable."
   ]
  },
  {
   "cell_type": "markdown",
   "id": "8a0092e2",
   "metadata": {},
   "source": [
    "## Instance Methods\n",
    "\n",
    "Instance methods are functions that are defined inside a class and can only be called from an instance of that class."
   ]
  },
  {
   "cell_type": "code",
   "execution_count": 7,
   "id": "b7f5894e",
   "metadata": {},
   "outputs": [],
   "source": [
    "class Dog:\n",
    "    # class attribute\n",
    "    species = \"poodle\"\n",
    "    def __init__(self, breed, name, age):\n",
    "        self.breed = breed\n",
    "        self.name = name\n",
    "        self.age = age\n",
    "    # instance methods\n",
    "    def bark(self, sound):\n",
    "        return f\"The {self.name} says {sound}\" \n",
    "    def description(self):\n",
    "        return f\"The {self.breed}, {self.name} is {self.age} years old\""
   ]
  },
  {
   "cell_type": "code",
   "execution_count": 8,
   "id": "a6e16df8",
   "metadata": {},
   "outputs": [],
   "source": [
    "mude = Dog(\"standard\", \"mude\", 17)\n",
    "salt = Dog(\"toy\", \"salt\", 12)"
   ]
  },
  {
   "cell_type": "code",
   "execution_count": 9,
   "id": "da5b31ea",
   "metadata": {},
   "outputs": [
    {
     "name": "stdout",
     "output_type": "stream",
     "text": [
      "The mude says Woof, Woof\n",
      "The salt says Bow, Wow\n"
     ]
    }
   ],
   "source": [
    "print(mude.bark(\"Woof, Woof\"))\n",
    "print(salt.bark(\"Bow, Wow\"))"
   ]
  },
  {
   "cell_type": "code",
   "execution_count": 10,
   "id": "3901e2c9",
   "metadata": {},
   "outputs": [
    {
     "name": "stdout",
     "output_type": "stream",
     "text": [
      "The standard, mude is 17 years old\n",
      "The toy, salt is 12 years old\n"
     ]
    }
   ],
   "source": [
    "print(mude.description())\n",
    "print(salt.description())"
   ]
  },
  {
   "cell_type": "markdown",
   "id": "191869fa",
   "metadata": {},
   "source": [
    "In the above Dog class, .description() returns a string containing information about the Dog instance. However, .description() isn’t the most Pythonic way of doing this. You can change what gets printed by defining a special instance method called .\\_\\_str\\_\\_()."
   ]
  },
  {
   "cell_type": "code",
   "execution_count": 11,
   "id": "e86b9a02",
   "metadata": {},
   "outputs": [],
   "source": [
    "class Dog:\n",
    "    # class attribute\n",
    "    species = \"poodle\"\n",
    "    def __init__(self, breed, name, age):\n",
    "        self.breed = breed\n",
    "        self.name = name\n",
    "        self.age = age\n",
    "    # instance methods\n",
    "    def bark(self, sound):\n",
    "        return f\"The {self.name} says {sound}\" \n",
    "    def __str__(self):\n",
    "        return f\"The {self.breed}, {self.name} is {self.age} years old\""
   ]
  },
  {
   "cell_type": "code",
   "execution_count": 12,
   "id": "711b3334",
   "metadata": {},
   "outputs": [],
   "source": [
    "mude = Dog(\"standard\", \"mude\", 17)\n",
    "salt = Dog(\"toy\", \"salt\", 12)"
   ]
  },
  {
   "cell_type": "code",
   "execution_count": 13,
   "id": "9718f7ec",
   "metadata": {},
   "outputs": [
    {
     "name": "stdout",
     "output_type": "stream",
     "text": [
      "The standard, mude is 17 years old\n",
      "The toy, salt is 12 years old\n"
     ]
    }
   ],
   "source": [
    "print(mude)\n",
    "print(salt)"
   ]
  },
  {
   "cell_type": "markdown",
   "id": "4f742285",
   "metadata": {},
   "source": [
    "Methods like **.\\_\\_init\\_\\_()** and **.\\_\\_str\\_\\_()** are called dunder methods because they begin and end with double underscores. There are many dunder methods that you can use to customize classes in Python."
   ]
  },
  {
   "cell_type": "markdown",
   "id": "ac92d87e",
   "metadata": {},
   "source": [
    "## Inherit From Other Classes in Python\n",
    "\n",
    "Inheritance is the process by which one class takes on the attributes and methods of another. Newly formed classes are called child classes, and the classes that child classes are derived from are called parent classes.\n",
    "\n",
    "Child classes can override or extend the attributes and methods of parent classes. In other words, child classes inherit all of the parent’s attributes and methods but can also specify attributes and methods that are unique to themselves."
   ]
  },
  {
   "cell_type": "code",
   "execution_count": 14,
   "id": "a55e0590",
   "metadata": {},
   "outputs": [],
   "source": [
    "from abc import ABC, abstractmethod\n",
    "\n",
    "class Dog:\n",
    "    species = \"Canis familiaris\"\n",
    "    \n",
    "    def __init__(self, name, age):\n",
    "        self.name = name\n",
    "        self.age = age\n",
    "        \n",
    "    def __str__(self):\n",
    "        return f\"{self.name} is {self.age} years old\"\n",
    "    \n",
    "    @abstractmethod\n",
    "    def bark(self):\n",
    "        pass"
   ]
  },
  {
   "cell_type": "code",
   "execution_count": 15,
   "id": "6e2f1345",
   "metadata": {},
   "outputs": [],
   "source": [
    "class JackRussellTerrier(Dog):\n",
    "    def bark(self):\n",
    "        return f\"{self.name} barks: Woof Woof\""
   ]
  },
  {
   "cell_type": "code",
   "execution_count": 16,
   "id": "38f4d32e",
   "metadata": {},
   "outputs": [],
   "source": [
    "class Dachshund(Dog):\n",
    "    def bark(self):\n",
    "        return f\"{self.name} barks: Bow Wow\""
   ]
  },
  {
   "cell_type": "code",
   "execution_count": 17,
   "id": "0bb0fa40",
   "metadata": {},
   "outputs": [],
   "source": [
    "class Bulldog(Dog):\n",
    "    def bark(self):\n",
    "        return f\"{self.name} barks: Arf Arf\""
   ]
  },
  {
   "cell_type": "code",
   "execution_count": 18,
   "id": "7edae0ef",
   "metadata": {},
   "outputs": [],
   "source": [
    "miles = JackRussellTerrier(\"Miles\", 4)\n",
    "buddy = Dachshund(\"Buddy\", 9)\n",
    "jack = Bulldog(\"Jack\", 3)"
   ]
  },
  {
   "cell_type": "code",
   "execution_count": 19,
   "id": "380e868e",
   "metadata": {},
   "outputs": [
    {
     "name": "stdout",
     "output_type": "stream",
     "text": [
      "Miles is 4 years old\n",
      "Buddy is 9 years old\n",
      "Jack is 3 years old\n"
     ]
    }
   ],
   "source": [
    "print(miles)\n",
    "print(buddy)\n",
    "print(jack)"
   ]
  },
  {
   "cell_type": "code",
   "execution_count": 20,
   "id": "ca1cb301",
   "metadata": {},
   "outputs": [
    {
     "data": {
      "text/plain": [
       "True"
      ]
     },
     "execution_count": 20,
     "metadata": {},
     "output_type": "execute_result"
    }
   ],
   "source": [
    "isinstance(miles, Dog)"
   ]
  },
  {
   "cell_type": "code",
   "execution_count": 21,
   "id": "9940ac35",
   "metadata": {},
   "outputs": [
    {
     "data": {
      "text/plain": [
       "False"
      ]
     },
     "execution_count": 21,
     "metadata": {},
     "output_type": "execute_result"
    }
   ],
   "source": [
    "isinstance(miles, Dachshund)"
   ]
  },
  {
   "cell_type": "markdown",
   "id": "5b677ac3",
   "metadata": {},
   "source": [
    "### Polymorphism"
   ]
  },
  {
   "cell_type": "code",
   "execution_count": 22,
   "id": "873499e5",
   "metadata": {},
   "outputs": [
    {
     "name": "stdout",
     "output_type": "stream",
     "text": [
      "Miles barks: Woof Woof\n",
      "Buddy barks: Bow Wow\n",
      "Jack barks: Arf Arf\n"
     ]
    }
   ],
   "source": [
    "dogs = [miles, buddy, jack]\n",
    "for dog in dogs:\n",
    "    print(dog.bark())"
   ]
  }
 ],
 "metadata": {
  "kernelspec": {
   "display_name": "Python 3",
   "language": "python",
   "name": "python3"
  },
  "language_info": {
   "codemirror_mode": {
    "name": "ipython",
    "version": 3
   },
   "file_extension": ".py",
   "mimetype": "text/x-python",
   "name": "python",
   "nbconvert_exporter": "python",
   "pygments_lexer": "ipython3",
   "version": "3.8.8"
  }
 },
 "nbformat": 4,
 "nbformat_minor": 5
}
