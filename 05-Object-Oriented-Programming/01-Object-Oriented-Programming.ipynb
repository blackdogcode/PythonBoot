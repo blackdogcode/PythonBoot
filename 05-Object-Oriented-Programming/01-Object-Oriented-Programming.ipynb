{
 "cells": [
  {
   "cell_type": "markdown",
   "id": "6a370ce7",
   "metadata": {},
   "source": [
    "# [Object Oriented Programming](https://realpython.com/python3-object-oriented-programming/)\n",
    "\n",
    "Object-oriented programming is a programming paradigm that provides a means of structuring programs so that **properties** and **behaviors** are bundled into individual objects.\n",
    "\n",
    "For instance, an object could represent a person with properties like a name, age, and address and behaviors such as walking, talking, breathing, and running.\n",
    "\n",
    "OOP models real-world entities as software objects that have some data associated with them and can perform certain functions.\n",
    "\n",
    "- Create a class, which is like a blueprint for creating an object\n",
    "- Use classes to create new objects\n",
    "- Model systems with class inheritance"
   ]
  },
  {
   "cell_type": "markdown",
   "id": "0961e800",
   "metadata": {},
   "source": [
    "## Classes vs Instances\n",
    "\n",
    "A class is a blueprint for how something should be defined. It doesn’t actually contain any data. The Dog class specifies that a name and an age are necessary for defining a dog, but it doesn’t contain the name or age of any specific dog.\n",
    "\n",
    "While the class is the blueprint, an instance is an object that is built from a class and contains real data. An instance of the Dog class is not a blueprint anymore. It’s an actual dog with a name, like Miles, who’s four years old."
   ]
  },
  {
   "cell_type": "markdown",
   "id": "f8f9d9be",
   "metadata": {},
   "source": [
    "## How to Define a Class\n",
    "\n",
    "All class definitions start with the class keyword, which is followed by the name of the class and a colon. Any code that is indented below the class definition is considered part of the class’s body."
   ]
  },
  {
   "cell_type": "code",
   "execution_count": 1,
   "id": "17f8d52d",
   "metadata": {},
   "outputs": [],
   "source": [
    "class Dog:\n",
    "    pass"
   ]
  },
  {
   "cell_type": "markdown",
   "id": "ed01f493",
   "metadata": {},
   "source": [
    "Python **class names** are written in **CapitalizedWords** notation by convention. For example, a class for a specific breed of dog like the Jack Russell Terrier would be written as **JackRussellTerrier**."
   ]
  },
  {
   "cell_type": "markdown",
   "id": "c5969f22",
   "metadata": {},
   "source": [
    "The properties that all Dog objects must have are defined in a method called .\\_\\_init\\_\\_(). Every time a new Dog object is created, .\\_\\_init\\_\\_() sets the initial state of the object by assigning the values of the object’s properties.\n",
    "\n",
    "but the first parameter will always be a variable called self. When a new class instance is created, the instance is automatically passed to the self parameter in .\\_\\_init\\_\\_() so that new attributes can be defined on the object."
   ]
  },
  {
   "cell_type": "code",
   "execution_count": 2,
   "id": "0e788438",
   "metadata": {},
   "outputs": [],
   "source": [
    "class Dog:\n",
    "    def __init__(self, name, age):\n",
    "        self.name = name\n",
    "        self.age = age"
   ]
  },
  {
   "cell_type": "markdown",
   "id": "3aac4782",
   "metadata": {},
   "source": [
    "Attributes created in .\\_\\_init\\_\\_() are called **instance attributes**. An instance attribute’s value is specific to a particular instance of the class.\n",
    "\n",
    "On the other hand, **class attributes** are attributes that have the same value for all class instances."
   ]
  },
  {
   "cell_type": "code",
   "execution_count": 3,
   "id": "6e0b8fa5",
   "metadata": {},
   "outputs": [],
   "source": [
    "class Dog:\n",
    "    # class attribute\n",
    "    species = \"mammal\"\n",
    "    def __init__(self, name, age):\n",
    "        self.name = name\n",
    "        self.age = age"
   ]
  },
  {
   "cell_type": "markdown",
   "id": "ce5328cf",
   "metadata": {},
   "source": [
    "## Instantiate an Object in Python\n",
    "\n",
    "Creating a new object from a class is called instantiating an object. You can instantiate a new Dog object by typing the name of the class, followed by opening and closing parentheses:"
   ]
  },
  {
   "cell_type": "code",
   "execution_count": 4,
   "id": "aa500b52",
   "metadata": {},
   "outputs": [
    {
     "data": {
      "text/plain": [
       "<__main__.Dog at 0x2a50e4a0280>"
      ]
     },
     "execution_count": 4,
     "metadata": {},
     "output_type": "execute_result"
    }
   ],
   "source": [
    "Dog('salt', 10)"
   ]
  },
  {
   "cell_type": "markdown",
   "id": "6178fdef",
   "metadata": {},
   "source": [
    "This funny-looking string of letters and numbers is a **memory address** that indicates where the Dog object is stored in your computer’s memory."
   ]
  },
  {
   "cell_type": "markdown",
   "id": "6b87af0c",
   "metadata": {},
   "source": [
    "After you create the Dog instances, you can access their instance attributes using dot notation"
   ]
  },
  {
   "cell_type": "code",
   "execution_count": 5,
   "id": "cd55c5b6",
   "metadata": {},
   "outputs": [
    {
     "name": "stdout",
     "output_type": "stream",
     "text": [
      "The salt is 10 years old\n",
      "The mude is 12 years old\n"
     ]
    }
   ],
   "source": [
    "salt = Dog('salt', 10)\n",
    "print(f\"The {salt.name} is {salt.age} years old\")\n",
    "mude = Dog('mude', 12)\n",
    "print(f\"The {mude.name} is {mude.age} years old\")"
   ]
  },
  {
   "cell_type": "code",
   "execution_count": 6,
   "id": "4a47dd24",
   "metadata": {},
   "outputs": [
    {
     "name": "stdout",
     "output_type": "stream",
     "text": [
      "17\n",
      "mammal\n",
      "Canis familiaris\n",
      "mammal\n"
     ]
    }
   ],
   "source": [
    "mude.age = 17\n",
    "print(mude.age)\n",
    "print(salt.species)\n",
    "salt.species = \"Canis familiaris\"\n",
    "print(salt.species)\n",
    "print(mude.species)"
   ]
  },
  {
   "cell_type": "markdown",
   "id": "9953c589",
   "metadata": {},
   "source": [
    "The key takeaway here is that **custom objects are mutable** by default. An object is mutable if it can be altered dynamically. For example, lists and dictionaries are mutable, but strings and tuples are immutable."
   ]
  },
  {
   "cell_type": "markdown",
   "id": "1b6a8b3b",
   "metadata": {},
   "source": [
    "## Instance Methods\n",
    "\n",
    "Instance methods are functions that are defined inside a class and can only be called from an instance of that class."
   ]
  },
  {
   "cell_type": "code",
   "execution_count": 7,
   "id": "5a5882f7",
   "metadata": {},
   "outputs": [],
   "source": [
    "class Dog:\n",
    "    # class attribute\n",
    "    species = \"poodle\"\n",
    "    def __init__(self, breed, name, age):\n",
    "        self.breed = breed\n",
    "        self.name = name\n",
    "        self.age = age\n",
    "    # instance methods\n",
    "    def bark(self, sound):\n",
    "        return f\"The {self.name} says {sound}\" \n",
    "    def description(self):\n",
    "        return f\"The {self.breed}, {self.name} is {self.age} years old\""
   ]
  },
  {
   "cell_type": "code",
   "execution_count": 8,
   "id": "b9e49bd5",
   "metadata": {},
   "outputs": [],
   "source": [
    "mude = Dog(\"standard\", \"mude\", 17)\n",
    "salt = Dog(\"toy\", \"salt\", 12)"
   ]
  },
  {
   "cell_type": "code",
   "execution_count": 9,
   "id": "6b1a24e4",
   "metadata": {},
   "outputs": [
    {
     "name": "stdout",
     "output_type": "stream",
     "text": [
      "The mude says Woof, Woof\n",
      "The salt says Bow, Wow\n"
     ]
    }
   ],
   "source": [
    "print(mude.bark(\"Woof, Woof\"))\n",
    "print(salt.bark(\"Bow, Wow\"))"
   ]
  },
  {
   "cell_type": "code",
   "execution_count": 10,
   "id": "19a6df82",
   "metadata": {},
   "outputs": [
    {
     "name": "stdout",
     "output_type": "stream",
     "text": [
      "The standard, mude is 17 years old\n",
      "The toy, salt is 12 years old\n"
     ]
    }
   ],
   "source": [
    "print(mude.description())\n",
    "print(salt.description())"
   ]
  },
  {
   "cell_type": "markdown",
   "id": "9880a811",
   "metadata": {},
   "source": [
    "In the above Dog class, .description() returns a string containing information about the Dog instance. However, .description() isn’t the most Pythonic way of doing this. You can change what gets printed by defining a special instance method called .\\_\\_str\\_\\_()."
   ]
  },
  {
   "cell_type": "code",
   "execution_count": 11,
   "id": "77e567a4",
   "metadata": {},
   "outputs": [],
   "source": [
    "class Dog:\n",
    "    # class attribute\n",
    "    species = \"poodle\"\n",
    "    def __init__(self, breed, name, age):\n",
    "        self.breed = breed\n",
    "        self.name = name\n",
    "        self.age = age\n",
    "    # instance methods\n",
    "    def bark(self, sound):\n",
    "        return f\"The {self.name} says {sound}\" \n",
    "    def __str__(self):\n",
    "        return f\"The {self.breed}, {self.name} is {self.age} years old\""
   ]
  },
  {
   "cell_type": "code",
   "execution_count": 12,
   "id": "966c28a4",
   "metadata": {},
   "outputs": [],
   "source": [
    "mude = Dog(\"standard\", \"mude\", 17)\n",
    "salt = Dog(\"toy\", \"salt\", 12)"
   ]
  },
  {
   "cell_type": "code",
   "execution_count": 13,
   "id": "2e27af1d",
   "metadata": {},
   "outputs": [
    {
     "name": "stdout",
     "output_type": "stream",
     "text": [
      "The standard, mude is 17 years old\n",
      "The toy, salt is 12 years old\n"
     ]
    }
   ],
   "source": [
    "print(mude)\n",
    "print(salt)"
   ]
  },
  {
   "cell_type": "markdown",
   "id": "7390ca5c",
   "metadata": {},
   "source": [
    "Methods like **.\\_\\_init\\_\\_()** and **.\\_\\_str\\_\\_()** are called dunder methods because they begin and end with double underscores. There are many dunder methods that you can use to customize classes in Python."
   ]
  }
 ],
 "metadata": {
  "kernelspec": {
   "display_name": "Python 3",
   "language": "python",
   "name": "python3"
  },
  "language_info": {
   "codemirror_mode": {
    "name": "ipython",
    "version": 3
   },
   "file_extension": ".py",
   "mimetype": "text/x-python",
   "name": "python",
   "nbconvert_exporter": "python",
   "pygments_lexer": "ipython3",
   "version": "3.8.8"
  }
 },
 "nbformat": 4,
 "nbformat_minor": 5
}
