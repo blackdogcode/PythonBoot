{
 "cells": [
  {
   "cell_type": "markdown",
   "id": "ee71d603",
   "metadata": {},
   "source": [
    "# [Object Oriented Programming](https://realpython.com/python3-object-oriented-programming/)"
   ]
  },
  {
   "cell_type": "code",
   "execution_count": 1,
   "id": "84999755",
   "metadata": {},
   "outputs": [],
   "source": [
    "class Student:\n",
    "    def __init__(self, name, grades):\n",
    "        self.name = name\n",
    "        self.grades = grades\n",
    "        \n",
    "    def average_grades(self):\n",
    "        return sum(self.grades) / len(self.grades)"
   ]
  },
  {
   "cell_type": "code",
   "execution_count": 2,
   "id": "17fad643",
   "metadata": {},
   "outputs": [
    {
     "name": "stdout",
     "output_type": "stream",
     "text": [
      "Rolf\n"
     ]
    }
   ],
   "source": [
    "student = Student(\"Rolf\", (90, 90 ,93, 78, 90))\n",
    "print(student.name)"
   ]
  },
  {
   "cell_type": "code",
   "execution_count": 3,
   "id": "b60a0548",
   "metadata": {},
   "outputs": [
    {
     "name": "stdout",
     "output_type": "stream",
     "text": [
      "88.2\n"
     ]
    }
   ],
   "source": [
    "print(student.average_grades())"
   ]
  },
  {
   "cell_type": "code",
   "execution_count": null,
   "id": "db6c8054",
   "metadata": {},
   "outputs": [],
   "source": []
  }
 ],
 "metadata": {
  "kernelspec": {
   "display_name": "Python 3 (ipykernel)",
   "language": "python",
   "name": "python3"
  },
  "language_info": {
   "codemirror_mode": {
    "name": "ipython",
    "version": 3
   },
   "file_extension": ".py",
   "mimetype": "text/x-python",
   "name": "python",
   "nbconvert_exporter": "python",
   "pygments_lexer": "ipython3",
   "version": "3.8.11"
  }
 },
 "nbformat": 4,
 "nbformat_minor": 5
}
