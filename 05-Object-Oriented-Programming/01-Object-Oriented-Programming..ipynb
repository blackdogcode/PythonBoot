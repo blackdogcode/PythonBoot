{
 "cells": [
  {
   "cell_type": "markdown",
   "id": "6a370ce7",
   "metadata": {},
   "source": [
    "# [Object Oriented Programming](https://realpython.com/python3-object-oriented-programming/)"
   ]
  },
  {
   "cell_type": "code",
   "execution_count": 1,
   "id": "61b5b993",
   "metadata": {},
   "outputs": [],
   "source": [
    "class Student:\n",
    "    def __init__(self, name, grades):\n",
    "        self.name = name\n",
    "        self.grades = grades\n",
    "        \n",
    "    def average_grades(self):\n",
    "        return sum(self.grades) / len(self.grades)"
   ]
  },
  {
   "cell_type": "code",
   "execution_count": 2,
   "id": "ffc95ad2",
   "metadata": {},
   "outputs": [
    {
     "name": "stdout",
     "output_type": "stream",
     "text": [
      "Rolf\n"
     ]
    }
   ],
   "source": [
    "student = Student(\"Rolf\", (90, 90 ,93, 78, 90))\n",
    "print(student.name)"
   ]
  },
  {
   "cell_type": "code",
   "execution_count": 3,
   "id": "9910a1b0",
   "metadata": {},
   "outputs": [
    {
     "name": "stdout",
     "output_type": "stream",
     "text": [
      "88.2\n"
     ]
    }
   ],
   "source": [
    "print(student.average_grades())"
   ]
  },
  {
   "cell_type": "markdown",
   "id": "2e7963f9",
   "metadata": {},
   "source": [
    "## [str() vs repr()](https://www.geeksforgeeks.org/str-vs-repr-in-python/)"
   ]
  },
  {
   "cell_type": "code",
   "execution_count": 11,
   "id": "ce0bd110",
   "metadata": {},
   "outputs": [],
   "source": [
    "class Person:\n",
    "    def __init__(self, name, age):\n",
    "        self.name = name\n",
    "        self.age = age\n",
    "        \n",
    "    def __str__(self):\n",
    "        return f\"Person {self.name} is {self.age} years old\"\n",
    "    \n",
    "    def __repr__(self):\n",
    "        return f\"<Person({self.name}, {self.age})>\""
   ]
  },
  {
   "cell_type": "code",
   "execution_count": 12,
   "id": "601b59e5",
   "metadata": {},
   "outputs": [
    {
     "name": "stdout",
     "output_type": "stream",
     "text": [
      "Person Bob is 32 years old\n"
     ]
    }
   ],
   "source": [
    "person = Person(\"Bob\", 32)\n",
    "print(person)"
   ]
  },
  {
   "cell_type": "code",
   "execution_count": null,
   "id": "ce2719b3",
   "metadata": {},
   "outputs": [],
   "source": []
  }
 ],
 "metadata": {
  "kernelspec": {
   "display_name": "Python 3 (ipykernel)",
   "language": "python",
   "name": "python3"
  },
  "language_info": {
   "codemirror_mode": {
    "name": "ipython",
    "version": 3
   },
   "file_extension": ".py",
   "mimetype": "text/x-python",
   "name": "python",
   "nbconvert_exporter": "python",
   "pygments_lexer": "ipython3",
   "version": "3.8.11"
  }
 },
 "nbformat": 4,
 "nbformat_minor": 5
}
