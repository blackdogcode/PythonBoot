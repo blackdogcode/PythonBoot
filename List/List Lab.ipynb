{
 "cells": [
  {
   "cell_type": "code",
   "execution_count": 1,
   "metadata": {},
   "outputs": [],
   "source": [
    "# list can contains hetrogeneous data types\n",
    "import math\n",
    "# blank list\n",
    "init_list = []\n",
    "init_list = ['Hello', 1, 5.0, math.pow]\n",
    "print(init_list)"
   ]
  },
  {
   "cell_type": "code",
   "execution_count": 2,
   "metadata": {},
   "outputs": [],
   "source": [
    "# list is mutable\n",
    "init_list = list('jello')\n",
    "print(init_list)\n",
    "init_list[0] = 'H'\n",
    "print(init_list)"
   ]
  },
  {
   "cell_type": "code",
   "execution_count": 3,
   "metadata": {},
   "outputs": [],
   "source": [
    "# list concatenation\n",
    "first  = list('123')\n",
    "second = list('456')\n",
    "merge  = first + second\n",
    "print(first)\n",
    "print(second)\n",
    "print(merge)"
   ]
  },
  {
   "cell_type": "code",
   "execution_count": 4,
   "metadata": {},
   "outputs": [],
   "source": [
    "# built-in function :  sort\n",
    "import random\n",
    "\n",
    "sort_list = []\n",
    "for i in range(10):\n",
    "    val = random.randint(1, 100)\n",
    "    sort_list.append(val)\n",
    "    \n",
    "print(sort_list)\n",
    "sort_list.sort()\n",
    "print(sort_list)"
   ]
  },
  {
   "cell_type": "code",
   "execution_count": 5,
   "metadata": {},
   "outputs": [],
   "source": [
    "# two dimensional list\n",
    "lists = [[1,2,3],[4,5,6]]\n",
    "for inner in lists:\n",
    "    for val in inner:\n",
    "        print(val, end = \" \")\n",
    "    print()"
   ]
  },
  {
   "cell_type": "code",
   "execution_count": 6,
   "metadata": {},
   "outputs": [],
   "source": [
    "# implement 'stack'\n",
    "init_list = []\n",
    "for i in range(10):\n",
    "    init_list.append(i)\n",
    "print(init_list)\n",
    "init_list.pop()\n",
    "print(init_list)"
   ]
  }
 ],
 "metadata": {
  "kernelspec": {
   "display_name": "Python 3",
   "language": "python",
   "name": "python3"
  },
  "language_info": {
   "codemirror_mode": {
    "name": "ipython",
    "version": 3
   },
   "file_extension": ".py",
   "mimetype": "text/x-python",
   "name": "python",
   "nbconvert_exporter": "python",
   "pygments_lexer": "ipython3",
   "version": "3.8.5"
  }
 },
 "nbformat": 4,
 "nbformat_minor": 4
}
