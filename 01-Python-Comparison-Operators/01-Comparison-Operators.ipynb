{
 "cells": [
  {
   "cell_type": "markdown",
   "id": "b7977b6e",
   "metadata": {},
   "source": [
    "# Comparison Operators\n",
    "## Table of Comparison Operators\n",
    "In the table below, a=5 and b=7.\n",
    "\n",
    "\n",
    "<table class=\"table table-bordered\">\n",
    "<tr>\n",
    "<th style=\"width:10%\">Operator</th><th style=\"width:45%\">Description</th><th>Example</th>\n",
    "</tr>\n",
    "<tr>\n",
    "<td>==</td>\n",
    "<td>If the values of two operands are equal, then the condition becomes true.</td>\n",
    "<td> (a == b) is not true.</td>\n",
    "</tr>\n",
    "<tr>\n",
    "<td>!=</td>\n",
    "<td>If values of two operands are not equal, then condition becomes true.</td>\n",
    "<td>(a != b) is true</td>\n",
    "</tr>\n",
    "<tr>\n",
    "<td>&gt;</td>\n",
    "<td>If the value of left operand is greater than the value of right operand, then condition becomes true.</td>\n",
    "<td> (a &gt; b) is not true.</td>\n",
    "</tr>\n",
    "<tr>\n",
    "<td>&lt;</td>\n",
    "<td>If the value of left operand is less than the value of right operand, then condition becomes true.</td>\n",
    "<td> (a &lt; b) is true.</td>\n",
    "</tr>\n",
    "<tr>\n",
    "<td>&gt;=</td>\n",
    "<td>If the value of left operand is greater than or equal to the value of right operand, then condition becomes true.</td>\n",
    "<td> (a &gt;= b) is not true. </td>\n",
    "</tr>\n",
    "<tr>\n",
    "<td>&lt;=</td>\n",
    "<td>If the value of left operand is less than or equal to the value of right operand, then condition becomes true.</td>\n",
    "<td> (a &lt;= b) is true. </td>\n",
    "</tr>\n",
    "</table>"
   ]
  },
  {
   "cell_type": "markdown",
   "id": "a398ac97",
   "metadata": {},
   "source": [
    "### Equal"
   ]
  },
  {
   "cell_type": "code",
   "execution_count": 1,
   "id": "61b5bff0",
   "metadata": {},
   "outputs": [
    {
     "data": {
      "text/plain": [
       "True"
      ]
     },
     "execution_count": 1,
     "metadata": {},
     "output_type": "execute_result"
    }
   ],
   "source": [
    "2.0 == 2"
   ]
  },
  {
   "cell_type": "code",
   "execution_count": 2,
   "id": "5cd0ac48",
   "metadata": {},
   "outputs": [
    {
     "data": {
      "text/plain": [
       "False"
      ]
     },
     "execution_count": 2,
     "metadata": {},
     "output_type": "execute_result"
    }
   ],
   "source": [
    "1.0 == 2"
   ]
  },
  {
   "cell_type": "markdown",
   "id": "151dc5f6",
   "metadata": {},
   "source": [
    "### Not Equal"
   ]
  },
  {
   "cell_type": "code",
   "execution_count": 3,
   "id": "62f6092a",
   "metadata": {},
   "outputs": [
    {
     "data": {
      "text/plain": [
       "True"
      ]
     },
     "execution_count": 3,
     "metadata": {},
     "output_type": "execute_result"
    }
   ],
   "source": [
    "3 != 7"
   ]
  },
  {
   "cell_type": "code",
   "execution_count": 4,
   "id": "1a4b7f67",
   "metadata": {},
   "outputs": [
    {
     "data": {
      "text/plain": [
       "False"
      ]
     },
     "execution_count": 4,
     "metadata": {},
     "output_type": "execute_result"
    }
   ],
   "source": [
    "7 != 7"
   ]
  },
  {
   "cell_type": "markdown",
   "id": "3244fbc9",
   "metadata": {},
   "source": [
    "### Greater Than"
   ]
  },
  {
   "cell_type": "code",
   "execution_count": 5,
   "id": "550bef1c",
   "metadata": {},
   "outputs": [
    {
     "data": {
      "text/plain": [
       "True"
      ]
     },
     "execution_count": 5,
     "metadata": {},
     "output_type": "execute_result"
    }
   ],
   "source": [
    "7 > 5"
   ]
  },
  {
   "cell_type": "code",
   "execution_count": 6,
   "id": "48e130b6",
   "metadata": {},
   "outputs": [
    {
     "data": {
      "text/plain": [
       "False"
      ]
     },
     "execution_count": 6,
     "metadata": {},
     "output_type": "execute_result"
    }
   ],
   "source": [
    "5 > 7"
   ]
  },
  {
   "cell_type": "markdown",
   "id": "46f656e4",
   "metadata": {},
   "source": [
    "### Greater Than or Equal to"
   ]
  },
  {
   "cell_type": "code",
   "execution_count": 7,
   "id": "ff956483",
   "metadata": {},
   "outputs": [
    {
     "data": {
      "text/plain": [
       "True"
      ]
     },
     "execution_count": 7,
     "metadata": {},
     "output_type": "execute_result"
    }
   ],
   "source": [
    "7 >= 5"
   ]
  },
  {
   "cell_type": "code",
   "execution_count": 8,
   "id": "b6ea1fc5",
   "metadata": {},
   "outputs": [
    {
     "data": {
      "text/plain": [
       "True"
      ]
     },
     "execution_count": 8,
     "metadata": {},
     "output_type": "execute_result"
    }
   ],
   "source": [
    "7 >= 7"
   ]
  },
  {
   "cell_type": "markdown",
   "id": "c91dcdc3",
   "metadata": {},
   "source": [
    "### Less Than"
   ]
  },
  {
   "cell_type": "code",
   "execution_count": 9,
   "id": "04b77bd0",
   "metadata": {},
   "outputs": [
    {
     "data": {
      "text/plain": [
       "True"
      ]
     },
     "execution_count": 9,
     "metadata": {},
     "output_type": "execute_result"
    }
   ],
   "source": [
    "5 < 7"
   ]
  },
  {
   "cell_type": "code",
   "execution_count": 10,
   "id": "a7540f51",
   "metadata": {},
   "outputs": [
    {
     "data": {
      "text/plain": [
       "False"
      ]
     },
     "execution_count": 10,
     "metadata": {},
     "output_type": "execute_result"
    }
   ],
   "source": [
    "7 < 5"
   ]
  },
  {
   "cell_type": "markdown",
   "id": "e336de00",
   "metadata": {},
   "source": [
    "### Less Than or Equal to"
   ]
  },
  {
   "cell_type": "code",
   "execution_count": 11,
   "id": "9c1dd1d0",
   "metadata": {},
   "outputs": [
    {
     "data": {
      "text/plain": [
       "True"
      ]
     },
     "execution_count": 11,
     "metadata": {},
     "output_type": "execute_result"
    }
   ],
   "source": [
    "5 <= 7"
   ]
  },
  {
   "cell_type": "code",
   "execution_count": 12,
   "id": "68b198e6",
   "metadata": {},
   "outputs": [
    {
     "data": {
      "text/plain": [
       "True"
      ]
     },
     "execution_count": 12,
     "metadata": {},
     "output_type": "execute_result"
    }
   ],
   "source": [
    "7 <= 7"
   ]
  }
 ],
 "metadata": {
  "kernelspec": {
   "display_name": "Python 3 (ipykernel)",
   "language": "python",
   "name": "python3"
  },
  "language_info": {
   "codemirror_mode": {
    "name": "ipython",
    "version": 3
   },
   "file_extension": ".py",
   "mimetype": "text/x-python",
   "name": "python",
   "nbconvert_exporter": "python",
   "pygments_lexer": "ipython3",
   "version": "3.8.11"
  }
 },
 "nbformat": 4,
 "nbformat_minor": 5
}
