{
 "cells": [
  {
   "cell_type": "markdown",
   "metadata": {},
   "source": [
    "<h1> Exercise 1</h1>\n",
    "Write a while loop that starts at the last character in the string and works its way backwords<br>\n",
    "to the first chracter in the string, printing each letter on a separate line, except backwrods."
   ]
  },
  {
   "cell_type": "code",
   "execution_count": 1,
   "metadata": {},
   "outputs": [],
   "source": [
    "msg = 'Python3'\n",
    "# travse string from 'first' to 'end'\n",
    "idx = 0\n",
    "while idx < len(msg):\n",
    "    print(msg[idx])\n",
    "    idx += 1\n",
    "\n",
    "print('---------------------')\n",
    "\n",
    "# travse string from 'end' to 'first'\n",
    "idx = len(msg) - 1\n",
    "while idx >= 0:\n",
    "    print(msg[idx], end = \"\"),\n",
    "    idx -= 1"
   ]
  }
 ],
 "metadata": {
  "kernelspec": {
   "display_name": "Python 3",
   "language": "python",
   "name": "python3"
  },
  "language_info": {
   "codemirror_mode": {
    "name": "ipython",
    "version": 3
   },
   "file_extension": ".py",
   "mimetype": "text/x-python",
   "name": "python",
   "nbconvert_exporter": "python",
   "pygments_lexer": "ipython3",
   "version": "3.8.5"
  }
 },
 "nbformat": 4,
 "nbformat_minor": 4
}
