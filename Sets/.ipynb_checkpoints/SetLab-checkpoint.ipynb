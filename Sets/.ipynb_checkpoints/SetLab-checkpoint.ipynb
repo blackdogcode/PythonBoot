{
 "cells": [
  {
   "cell_type": "markdown",
   "metadata": {},
   "source": [
    "<h1>Python Set - Operations</h1>"
   ]
  },
  {
   "cell_type": "code",
   "execution_count": 7,
   "metadata": {},
   "outputs": [
    {
     "name": "stdout",
     "output_type": "stream",
     "text": [
      "set()\n",
      "<class 'set'>\n"
     ]
    }
   ],
   "source": [
    "# blank set\n",
    "set_a = set()\n",
    "print(set_a)\n",
    "print(type(set_a))"
   ]
  },
  {
   "cell_type": "code",
   "execution_count": 13,
   "metadata": {},
   "outputs": [
    {
     "name": "stdout",
     "output_type": "stream",
     "text": [
      "{'d', 'a', 'c', 'b'}\n",
      "{'python', 'hello', 'linux'}\n"
     ]
    }
   ],
   "source": [
    "# set - contanier of unique value\n",
    "str_a = 'abbcccddddd'\n",
    "set_a = set(str_a)\n",
    "print(set_a)\n",
    "\n",
    "lst_a = ['hello', 'python', 'linux', 'python']\n",
    "set_a = set(lst_a)\n",
    "print(set_a)"
   ]
  },
  {
   "cell_type": "code",
   "execution_count": 16,
   "metadata": {},
   "outputs": [
    {
     "name": "stdout",
     "output_type": "stream",
     "text": [
      "{'p', 'n', 'l', 'h', 'e', 'y', 'o', 't'}\n",
      "('h', 'e', 'l', 'l', 'o', 'p', 'y', 't', 'h', 'o', 'n')\n",
      "{'p', 'n', 'l', 'h', 'e', 'y', 'o', 't'}\n",
      "{'p', 'n', 'l', 'h', 'e', 'y', 'o', 't'}\n"
     ]
    }
   ],
   "source": [
    "# set is unordered container\n",
    "set_a = set('hellopython') # literal string to set\n",
    "print(set_a)\n",
    "\n",
    "str_b = 'hellopython'\n",
    "tup_b = tuple(str_b)\n",
    "print(tup_b)\n",
    "set_b = set(str_b) # string object to set\n",
    "print(set_b)\n",
    "set_b = set(tup_b)\n",
    "print(set_b)"
   ]
  }
 ],
 "metadata": {
  "kernelspec": {
   "display_name": "Python 3",
   "language": "python",
   "name": "python3"
  },
  "language_info": {
   "codemirror_mode": {
    "name": "ipython",
    "version": 3
   },
   "file_extension": ".py",
   "mimetype": "text/x-python",
   "name": "python",
   "nbconvert_exporter": "python",
   "pygments_lexer": "ipython3",
   "version": "3.8.5"
  }
 },
 "nbformat": 4,
 "nbformat_minor": 4
}
