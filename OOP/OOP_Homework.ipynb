{
 "cells": [
  {
   "cell_type": "markdown",
   "metadata": {},
   "source": [
    "# Object Oriented Programming\n",
    "## Homework Assignment\n",
    "\n",
    "#### Problem 1\n",
    "Fill in the Line class methods to accept coordinates as a pair of tuples and return the slope and distance of the line."
   ]
  },
  {
   "cell_type": "code",
   "execution_count": 1,
   "metadata": {},
   "outputs": [],
   "source": [
    "from math import sqrt\n",
    "\n",
    "class Line:\n",
    "    \n",
    "    def __init__(self, point_a, point_b):\n",
    "        self.point_a = point_a\n",
    "        self.point_b = point_b\n",
    "    \n",
    "    def distance(self):\n",
    "        x_diff = self.point_a[0] - self.point_b[0]\n",
    "        y_diff = self.point_a[1] - self.point_b[1]\n",
    "        return sqrt(x_diff**2 + y_diff**2)\n",
    "    \n",
    "    def slope(self):\n",
    "        x_diff = self.point_a[0] - self.point_b[0]\n",
    "        y_diff = self.point_a[1] - self.point_b[1]\n",
    "        return abs(y_diff) / abs(x_diff)"
   ]
  },
  {
   "cell_type": "markdown",
   "metadata": {},
   "source": [
    "### Expectect Output\n",
    "- line.distance(): 9.433981132056603\n",
    "- line.slope(): 1.6"
   ]
  },
  {
   "cell_type": "code",
   "execution_count": 2,
   "metadata": {},
   "outputs": [
    {
     "name": "stdout",
     "output_type": "stream",
     "text": [
      "line length: 9.433981132056603\n",
      "line slople: 1.6\n"
     ]
    }
   ],
   "source": [
    "line = Line(point_a = (3,2), point_b = (8,10))\n",
    "print(f'line length: {line.distance()}')\n",
    "print(f'line slople: {line.slope()}')"
   ]
  },
  {
   "cell_type": "markdown",
   "metadata": {},
   "source": [
    "________\n",
    "#### Problem 2"
   ]
  },
  {
   "cell_type": "markdown",
   "metadata": {},
   "source": [
    "Fill in the class "
   ]
  },
  {
   "cell_type": "code",
   "execution_count": 3,
   "metadata": {},
   "outputs": [],
   "source": [
    "from math import pi\n",
    "\n",
    "class Cylinder:\n",
    "    \n",
    "    def __init__(self, height = 1, radius = 1):\n",
    "        self.height = height\n",
    "        self.radius = radius\n",
    "        \n",
    "    def volume(self):\n",
    "        return (pi * self.radius**2) * self.height\n",
    "    \n",
    "    def surface_area(self):\n",
    "        side_area = 2 * pi * self.radius * self.height\n",
    "        return 2 * (pi * self.radius**2) + side_area"
   ]
  },
  {
   "cell_type": "markdown",
   "metadata": {},
   "source": [
    "### Expectect Output\n",
    "- cylinder.volume(): 56.55\n",
    "- cylinder.surface_area(): 94.25"
   ]
  },
  {
   "cell_type": "code",
   "execution_count": 4,
   "metadata": {},
   "outputs": [
    {
     "name": "stdout",
     "output_type": "stream",
     "text": [
      "cylinder volume: 56.55\n",
      "cylinder surface area: 94.25\n"
     ]
    }
   ],
   "source": [
    "cylinder = Cylinder(height = 2, radius = 3)\n",
    "print(f'cylinder volume: {cylinder.volume():.2f}')\n",
    "print(f'cylinder surface area: {cylinder.surface_area():.2f}')"
   ]
  }
 ],
 "metadata": {
  "kernelspec": {
   "display_name": "Python 3",
   "language": "python",
   "name": "python3"
  },
  "language_info": {
   "codemirror_mode": {
    "name": "ipython",
    "version": 3
   },
   "file_extension": ".py",
   "mimetype": "text/x-python",
   "name": "python",
   "nbconvert_exporter": "python",
   "pygments_lexer": "ipython3",
   "version": "3.8.5"
  }
 },
 "nbformat": 4,
 "nbformat_minor": 1
}
