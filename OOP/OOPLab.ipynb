{
 "cells": [
  {
   "cell_type": "markdown",
   "id": "secondary-potato",
   "metadata": {},
   "source": [
    "# Object Oriendted Programming in Python\n",
    "In this notebook, I try to cover immediate level essential python OOP features without so much primer ones"
   ]
  },
  {
   "cell_type": "markdown",
   "id": "clear-lemon",
   "metadata": {},
   "source": [
    "## Class Variable"
   ]
  },
  {
   "cell_type": "code",
   "execution_count": 1,
   "id": "manual-wayne",
   "metadata": {},
   "outputs": [
    {
     "name": "stdout",
     "output_type": "stream",
     "text": [
      "55\n"
     ]
    }
   ],
   "source": [
    "class employee:\n",
    "    # class variable\n",
    "    headcount = 0\n",
    "\n",
    "# Driver Code\n",
    "for i in range(1, 11):\n",
    "    employee.headcount += i\n",
    "print(employee.headcount)"
   ]
  },
  {
   "cell_type": "markdown",
   "id": "engaged-colorado",
   "metadata": {},
   "source": [
    "## Data Hiding"
   ]
  },
  {
   "cell_type": "code",
   "execution_count": 2,
   "id": "exempt-accountability",
   "metadata": {},
   "outputs": [
    {
     "name": "stdout",
     "output_type": "stream",
     "text": [
      "Total number of employee is : 1\n",
      "Total number of employee is : 3\n",
      "Total number of employee is : 6\n",
      "Total number of employee is : 10\n"
     ]
    }
   ],
   "source": [
    "class employee:\n",
    "    # hidden variable\n",
    "    __headcount = 0\n",
    "    \n",
    "    def add(self, increment):\n",
    "        self.__headcount += increment\n",
    "        print(f'Total number of employee is : {self.__headcount}')\n",
    "        \n",
    "# Driver Code\n",
    "emp = employee()\n",
    "for i in range(1, 5):\n",
    "    emp.add(i)\n",
    "    \n",
    "# cause error: hidden variable cannot be accessible outside\n",
    "# print(emp.__headcount)"
   ]
  },
  {
   "cell_type": "markdown",
   "id": "indie-jones",
   "metadata": {},
   "source": [
    "## Object Printing"
   ]
  },
  {
   "cell_type": "code",
   "execution_count": 3,
   "id": "tribal-mississippi",
   "metadata": {},
   "outputs": [
    {
     "name": "stdout",
     "output_type": "stream",
     "text": [
      "Full Name: Liam Song\n",
      "Social Security Number: 530-34-4439\n"
     ]
    }
   ],
   "source": [
    "class Person:\n",
    "    \"\"\"\n",
    "    class contains person information\n",
    "    \n",
    "    ssn is Social Security Number\n",
    "    name is full-name\n",
    "    \"\"\"\n",
    "    def __init__(self, ssn, name):\n",
    "        self.ssn = ssn\n",
    "        self.name = name\n",
    "        \n",
    "    def __repr__(self):\n",
    "        return f'Full Name: {self.name}\\nSocial Security Number: {self.ssn}'\n",
    "    \n",
    "me = Person('530-34-4439', 'Liam Song')\n",
    "print(me)"
   ]
  },
  {
   "cell_type": "markdown",
   "id": "unlimited-papua",
   "metadata": {},
   "source": [
    "## Inheritance"
   ]
  },
  {
   "cell_type": "code",
   "execution_count": 4,
   "id": "organizational-offering",
   "metadata": {},
   "outputs": [
    {
     "name": "stdout",
     "output_type": "stream",
     "text": [
      "Full Name: Liam Song\n",
      "Social Security Number: 530-34-4439\n",
      "Employee ID: 2017004032\n",
      "Position: Deep Learning Engineer\n"
     ]
    }
   ],
   "source": [
    "class Employee(Person):\n",
    "    \n",
    "    def __init__(self, ssn, name, identity, position):\n",
    "        Person.__init__(self, ssn, name)\n",
    "        self.identity = identity\n",
    "        self.position = position\n",
    "        \n",
    "    # Overriding\n",
    "    def __repr__(self):\n",
    "        return Person.__repr__(self) + '\\n' + f'Employee ID: {self.identity}\\nPosition: {self.position}'\n",
    "    \n",
    "emp = Employee('530-34-4439', 'Liam Song', '2017004032', 'Deep Learning Engineer')\n",
    "print(emp)"
   ]
  }
 ],
 "metadata": {
  "kernelspec": {
   "display_name": "Python 3",
   "language": "python",
   "name": "python3"
  },
  "language_info": {
   "codemirror_mode": {
    "name": "ipython",
    "version": 3
   },
   "file_extension": ".py",
   "mimetype": "text/x-python",
   "name": "python",
   "nbconvert_exporter": "python",
   "pygments_lexer": "ipython3",
   "version": "3.8.5"
  }
 },
 "nbformat": 4,
 "nbformat_minor": 5
}
