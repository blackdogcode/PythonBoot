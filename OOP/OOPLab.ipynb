{
 "cells": [
  {
   "cell_type": "markdown",
   "id": "clear-lemon",
   "metadata": {},
   "source": [
    "## Class Variable"
   ]
  },
  {
   "cell_type": "code",
   "execution_count": 1,
   "id": "manual-wayne",
   "metadata": {},
   "outputs": [
    {
     "name": "stdout",
     "output_type": "stream",
     "text": [
      "55\n"
     ]
    }
   ],
   "source": [
    "class employee:\n",
    "    # class variable\n",
    "    headcount = 0\n",
    "\n",
    "for i in range(1, 11):\n",
    "    employee.headcount += i\n",
    "print(employee.headcount)"
   ]
  }
 ],
 "metadata": {
  "kernelspec": {
   "display_name": "Python 3",
   "language": "python",
   "name": "python3"
  },
  "language_info": {
   "codemirror_mode": {
    "name": "ipython",
    "version": 3
   },
   "file_extension": ".py",
   "mimetype": "text/x-python",
   "name": "python",
   "nbconvert_exporter": "python",
   "pygments_lexer": "ipython3",
   "version": "3.8.5"
  }
 },
 "nbformat": 4,
 "nbformat_minor": 5
}
