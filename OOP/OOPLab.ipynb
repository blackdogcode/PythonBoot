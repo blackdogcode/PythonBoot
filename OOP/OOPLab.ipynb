{
 "cells": [
  {
   "cell_type": "markdown",
   "id": "secondary-potato",
   "metadata": {},
   "source": [
    "# Object Oriendted Programming in Python\n",
    "In this notebook, I try to cover immediate level essential python OOP features without so much primer ones"
   ]
  },
  {
   "cell_type": "markdown",
   "id": "clear-lemon",
   "metadata": {},
   "source": [
    "## Class Variable"
   ]
  },
  {
   "cell_type": "code",
   "execution_count": 1,
   "id": "manual-wayne",
   "metadata": {},
   "outputs": [
    {
     "name": "stdout",
     "output_type": "stream",
     "text": [
      "55\n"
     ]
    }
   ],
   "source": [
    "class employee:\n",
    "    # class variable\n",
    "    headcount = 0\n",
    "\n",
    "# Driver Code\n",
    "for i in range(1, 11):\n",
    "    employee.headcount += i\n",
    "print(employee.headcount)"
   ]
  },
  {
   "cell_type": "markdown",
   "id": "engaged-colorado",
   "metadata": {},
   "source": [
    "## Data Hiding"
   ]
  },
  {
   "cell_type": "code",
   "execution_count": 2,
   "id": "exempt-accountability",
   "metadata": {},
   "outputs": [
    {
     "name": "stdout",
     "output_type": "stream",
     "text": [
      "Total number of employee is : 1\n",
      "Total number of employee is : 3\n",
      "Total number of employee is : 6\n",
      "Total number of employee is : 10\n"
     ]
    },
    {
     "ename": "AttributeError",
     "evalue": "'employee' object has no attribute '__headcount'",
     "output_type": "error",
     "traceback": [
      "\u001b[0;31m---------------------------------------------------------------------------\u001b[0m",
      "\u001b[0;31mAttributeError\u001b[0m                            Traceback (most recent call last)",
      "\u001b[0;32m<ipython-input-2-79d399ce94da>\u001b[0m in \u001b[0;36m<module>\u001b[0;34m\u001b[0m\n\u001b[1;32m     13\u001b[0m \u001b[0;34m\u001b[0m\u001b[0m\n\u001b[1;32m     14\u001b[0m \u001b[0;31m# cause error: variable cannot be accessible outside\u001b[0m\u001b[0;34m\u001b[0m\u001b[0;34m\u001b[0m\u001b[0;34m\u001b[0m\u001b[0m\n\u001b[0;32m---> 15\u001b[0;31m \u001b[0mprint\u001b[0m\u001b[0;34m(\u001b[0m\u001b[0memp\u001b[0m\u001b[0;34m.\u001b[0m\u001b[0m__headcount\u001b[0m\u001b[0;34m)\u001b[0m\u001b[0;34m\u001b[0m\u001b[0;34m\u001b[0m\u001b[0m\n\u001b[0m",
      "\u001b[0;31mAttributeError\u001b[0m: 'employee' object has no attribute '__headcount'"
     ]
    }
   ],
   "source": [
    "class employee:\n",
    "    # hidden variable\n",
    "    __headcount = 0\n",
    "    \n",
    "    def add(self, increment):\n",
    "        self.__headcount += increment\n",
    "        print(f'Total number of employee is : {self.__headcount}')\n",
    "        \n",
    "# Driver Code\n",
    "emp = employee()\n",
    "for i in range(1, 5):\n",
    "    emp.add(i)\n",
    "    \n",
    "# cause error: variable cannot be accessible outside\n",
    "print(emp.__headcount)"
   ]
  }
 ],
 "metadata": {
  "kernelspec": {
   "display_name": "Python 3",
   "language": "python",
   "name": "python3"
  },
  "language_info": {
   "codemirror_mode": {
    "name": "ipython",
    "version": 3
   },
   "file_extension": ".py",
   "mimetype": "text/x-python",
   "name": "python",
   "nbconvert_exporter": "python",
   "pygments_lexer": "ipython3",
   "version": "3.8.5"
  }
 },
 "nbformat": 4,
 "nbformat_minor": 5
}
