{
 "cells": [
  {
   "cell_type": "markdown",
   "id": "secondary-potato",
   "metadata": {},
   "source": [
    "# Object Oriendted Programming in Python\n",
    "In this notebook, I try to cover immediate level essential python OOP features without so much primer ones"
   ]
  },
  {
   "cell_type": "markdown",
   "id": "clear-lemon",
   "metadata": {},
   "source": [
    "## Class Variable"
   ]
  },
  {
   "cell_type": "code",
   "execution_count": 1,
   "id": "manual-wayne",
   "metadata": {},
   "outputs": [
    {
     "name": "stdout",
     "output_type": "stream",
     "text": [
      "55\n"
     ]
    }
   ],
   "source": [
    "class employee():\n",
    "    # class variable\n",
    "    headcount = 0\n",
    "\n",
    "# Driver Code\n",
    "for i in range(1, 11):\n",
    "    employee.headcount += i\n",
    "print(employee.headcount)"
   ]
  },
  {
   "cell_type": "markdown",
   "id": "engaged-colorado",
   "metadata": {},
   "source": [
    "## Data Hiding"
   ]
  },
  {
   "cell_type": "code",
   "execution_count": 2,
   "id": "exempt-accountability",
   "metadata": {},
   "outputs": [
    {
     "name": "stdout",
     "output_type": "stream",
     "text": [
      "Total number of employee is : 1\n",
      "Total number of employee is : 3\n",
      "Total number of employee is : 6\n",
      "Total number of employee is : 10\n"
     ]
    }
   ],
   "source": [
    "class employee():\n",
    "    # hidden variable\n",
    "    __headcount = 0\n",
    "    \n",
    "    def add(self, increment):\n",
    "        self.__headcount += increment\n",
    "        print(f'Total number of employee is : {self.__headcount}')\n",
    "        \n",
    "# Driver Code\n",
    "emp = employee()\n",
    "for i in range(1, 5):\n",
    "    emp.add(i)\n",
    "    \n",
    "# cause error: hidden variable cannot be accessible outside\n",
    "# print(emp.__headcount)"
   ]
  },
  {
   "cell_type": "markdown",
   "id": "indie-jones",
   "metadata": {},
   "source": [
    "## Object Printing"
   ]
  },
  {
   "cell_type": "code",
   "execution_count": 3,
   "id": "tribal-mississippi",
   "metadata": {},
   "outputs": [
    {
     "name": "stdout",
     "output_type": "stream",
     "text": [
      "Full Name: Liam Song\n",
      "Social Security Number: 530-34-4439\n"
     ]
    }
   ],
   "source": [
    "class Person():\n",
    "    \"\"\"\n",
    "    class contains person information\n",
    "    \n",
    "    ssn is Social Security Number\n",
    "    name is full-name\n",
    "    \"\"\"\n",
    "    def __init__(self, ssn, name):\n",
    "        self.ssn = ssn\n",
    "        self.name = name\n",
    "        \n",
    "    def __repr__(self):\n",
    "        return f'Full Name: {self.name}\\nSocial Security Number: {self.ssn}'\n",
    "    \n",
    "me = Person('530-34-4439', 'Liam Song')\n",
    "print(me)"
   ]
  },
  {
   "cell_type": "markdown",
   "id": "exotic-mixer",
   "metadata": {},
   "source": [
    "## Inheritance"
   ]
  },
  {
   "cell_type": "code",
   "execution_count": 4,
   "id": "annoying-scoop",
   "metadata": {},
   "outputs": [
    {
     "name": "stdout",
     "output_type": "stream",
     "text": [
      "Full Name: Liam Song\n",
      "Social Security Number: 530-34-4439\n",
      "Employee ID: 2017004032\n",
      "Position: Deep Learning Engineer\n"
     ]
    }
   ],
   "source": [
    "class Employee(Person):\n",
    "    \n",
    "    def __init__(self, ssn, name, identity, position):\n",
    "        Person.__init__(self, ssn, name)\n",
    "        self.identity = identity\n",
    "        self.position = position\n",
    "        \n",
    "    # Overriding\n",
    "    def __repr__(self):\n",
    "        return Person.__repr__(self) + '\\n' + f'Employee ID: {self.identity}\\nPosition: {self.position}'\n",
    "    \n",
    "emp = Employee('530-34-4439', 'Liam Song', '2017004032', 'Deep Learning Engineer')\n",
    "print(emp)"
   ]
  },
  {
   "cell_type": "markdown",
   "id": "identical-juvenile",
   "metadata": {},
   "source": [
    "## Ploymorphism"
   ]
  },
  {
   "cell_type": "code",
   "execution_count": 5,
   "id": "above-closer",
   "metadata": {},
   "outputs": [
    {
     "name": "stdout",
     "output_type": "stream",
     "text": [
      "<class '__main__.TeslaX'>\n",
      "Electricity\n",
      "<class '__main__.Sonata'>\n",
      "Gasoline\n"
     ]
    }
   ],
   "source": [
    "class Car():\n",
    "    def type_fuel(self):\n",
    "        pass\n",
    "    \n",
    "class TeslaX(Car):\n",
    "    def type_fuel(self):\n",
    "        return 'Electricity'\n",
    "    \n",
    "class Sonata(Car):\n",
    "    def type_fuel(self):\n",
    "        return 'Gasoline'\n",
    "\n",
    "cars = [TeslaX(), Sonata()]\n",
    "for car in cars:\n",
    "    # Polymorphism\n",
    "    print(type(car))\n",
    "    print(car.type_fuel())"
   ]
  },
  {
   "cell_type": "markdown",
   "id": "partial-frame",
   "metadata": {},
   "source": [
    "## Abstract Class"
   ]
  },
  {
   "cell_type": "code",
   "execution_count": 6,
   "id": "consistent-incident",
   "metadata": {},
   "outputs": [
    {
     "name": "stdout",
     "output_type": "stream",
     "text": [
      "Can't instantiate abstract class SmartPhone with abstract methods os\n",
      "I use Android\n",
      "I use iOS\n"
     ]
    }
   ],
   "source": [
    "from abc import ABC, abstractmethod\n",
    "\n",
    "# abstract base class\n",
    "class SmartPhone(ABC):\n",
    "    @abstractmethod\n",
    "    def os(self):\n",
    "        pass\n",
    "    \n",
    "class PixelPhone(SmartPhone):\n",
    "    def os(self):\n",
    "        print('I use Android')\n",
    "        \n",
    "class iPhone(SmartPhone):\n",
    "    def os(self):\n",
    "        print('I use iOS')\n",
    "\n",
    "# cannot instantiate abstract class\n",
    "try:\n",
    "    phone = SmartPhone()\n",
    "except TypeError as err:\n",
    "    print(err)\n",
    "    \n",
    "pixel_5 = PixelPhone()\n",
    "pixel_5.os()\n",
    "\n",
    "iPhone_12 = iPhone()\n",
    "iPhone_12.os()"
   ]
  }
 ],
 "metadata": {
  "kernelspec": {
   "display_name": "Python 3",
   "language": "python",
   "name": "python3"
  },
  "language_info": {
   "codemirror_mode": {
    "name": "ipython",
    "version": 3
   },
   "file_extension": ".py",
   "mimetype": "text/x-python",
   "name": "python",
   "nbconvert_exporter": "python",
   "pygments_lexer": "ipython3",
   "version": "3.8.5"
  }
 },
 "nbformat": 4,
 "nbformat_minor": 5
}
