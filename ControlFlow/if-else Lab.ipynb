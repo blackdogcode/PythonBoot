{
 "cells": [
  {
   "cell_type": "markdown",
   "metadata": {},
   "source": [
    "<h1>Employee Pay Computation Program</h1>"
   ]
  },
  {
   "cell_type": "code",
   "execution_count": 1,
   "metadata": {},
   "outputs": [
    {
     "name": "stdout",
     "output_type": "stream",
     "text": [
      "Pay Computation Program\n",
      "Enter Work Hours: 45\n",
      "Enter Pay Rate: 10\n",
      "Your Payment: 475.0\n"
     ]
    }
   ],
   "source": [
    "print('Pay Computation Program')\n",
    "fixed_hours  = 40.0\n",
    "work_hours   = float(input('Enter Work Hours: '))\n",
    "pay_rate     = float(input('Enter Pay Rate: '))\n",
    "pay = 0.0\n",
    "if(work_hours > fixed_hours):\n",
    "    pay = (fixed_hours * pay_rate) + ((work_hours - fixed_hours) * (pay_rate * 1.5))\n",
    "else:\n",
    "    pay = work_hours * pay_rate\n",
    "                                       \n",
    "print('Your Payment: ' + str(pay))"
   ]
  }
 ],
 "metadata": {
  "kernelspec": {
   "display_name": "Python 3",
   "language": "python",
   "name": "python3"
  },
  "language_info": {
   "codemirror_mode": {
    "name": "ipython",
    "version": 3
   },
   "file_extension": ".py",
   "mimetype": "text/x-python",
   "name": "python",
   "nbconvert_exporter": "python",
   "pygments_lexer": "ipython3",
   "version": "3.8.5"
  }
 },
 "nbformat": 4,
 "nbformat_minor": 4
}
