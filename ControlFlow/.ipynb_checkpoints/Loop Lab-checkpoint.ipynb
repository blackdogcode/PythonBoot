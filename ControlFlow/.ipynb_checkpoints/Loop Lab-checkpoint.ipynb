{
 "cells": [
  {
   "cell_type": "markdown",
   "metadata": {},
   "source": [
    "<h1>Calculating Average Program</h1>"
   ]
  },
  {
   "cell_type": "code",
   "execution_count": 2,
   "metadata": {},
   "outputs": [
    {
     "name": "stdout",
     "output_type": "stream",
     "text": [
      "> '\n",
      "Invalid Input: Please type numeric value\n",
      "> two\n",
      "Invalid Input: Please type numeric value\n",
      "> 1\n",
      "> 3\n",
      "> 5\n",
      "> 7\n",
      "> 9\n",
      "> Done\n",
      "Average: 5.0\n"
     ]
    }
   ],
   "source": [
    "cnt, tol = 0, 0.0\n",
    "while True:\n",
    "    try:\n",
    "        val = input('> ')\n",
    "        if(val == 'Done'):\n",
    "            break\n",
    "        tol += float(val)\n",
    "        cnt += 1\n",
    "    except ValueError:\n",
    "        print('Invalid Input: Please type numeric value')\n",
    "\n",
    "print('Average: {}'.format(tol/cnt))"
   ]
  },
  {
   "cell_type": "code",
   "execution_count": 5,
   "metadata": {},
   "outputs": [
    {
     "name": "stdout",
     "output_type": "stream",
     "text": [
      "> ;\n",
      "Invalid Input: Please type numeric value\n",
      "> two\n",
      "Invalid Input: Please type numeric value\n",
      "> 1\n",
      "> 3\n",
      "> 5\n",
      "> 7\n",
      "> 9\n",
      "> Done\n",
      "Average: 5.0\n"
     ]
    }
   ],
   "source": [
    "# using List\n",
    "vals = []\n",
    "while True:\n",
    "    try:\n",
    "        val = input('> ')\n",
    "        if(val == 'Done'):\n",
    "            break\n",
    "        vals.append(float(val))\n",
    "    except ValueError:\n",
    "        print('Invalid Input: Please type numeric value')\n",
    "        \n",
    "print(f'Average: {sum(vals)/len(vals)}')"
   ]
  }
 ],
 "metadata": {
  "kernelspec": {
   "display_name": "Python 3",
   "language": "python",
   "name": "python3"
  },
  "language_info": {
   "codemirror_mode": {
    "name": "ipython",
    "version": 3
   },
   "file_extension": ".py",
   "mimetype": "text/x-python",
   "name": "python",
   "nbconvert_exporter": "python",
   "pygments_lexer": "ipython3",
   "version": "3.8.5"
  }
 },
 "nbformat": 4,
 "nbformat_minor": 4
}
