{
 "cells": [
  {
   "cell_type": "markdown",
   "metadata": {},
   "source": [
    "## for loop"
   ]
  },
  {
   "cell_type": "code",
   "execution_count": 29,
   "metadata": {},
   "outputs": [
    {
     "name": "stdout",
     "output_type": "stream",
     "text": [
      "H e l l o P y t h o n ! \n",
      "\n",
      "0 2 6 7 10 \n",
      "\n",
      "Model: Dell\n",
      "Type: Server\n",
      "Price: 100000\n"
     ]
    }
   ],
   "source": [
    "for letter in \"Hello Python!\":\n",
    "    if letter == \" \":\n",
    "        continue\n",
    "    print(letter, end = \" \")\n",
    "\n",
    "print('\\n')\n",
    "\n",
    "for number in [0,2,6,7,10]:\n",
    "    print(number, end = \" \")\n",
    "    \n",
    "print('\\n')\n",
    "\n",
    "product = {'Model':'Dell', 'Type':'Server', 'Price':100000}\n",
    "for key in product:\n",
    "    print(f'{key}: {product[key]}')"
   ]
  },
  {
   "cell_type": "markdown",
   "metadata": {},
   "source": [
    "## while loop"
   ]
  },
  {
   "cell_type": "code",
   "execution_count": 1,
   "metadata": {},
   "outputs": [
    {
     "name": "stdout",
     "output_type": "stream",
     "text": [
      "You Picekd 2, Try again\n",
      "You Picekd 4, Try again\n",
      "Congratulation You Picked Lucky 7!\n",
      "Picked Count: 3\n"
     ]
    }
   ],
   "source": [
    "from random import randint, shuffle\n",
    "\n",
    "count = 0\n",
    "deck = [1, 2, 3, 4, 5, 6, 7, 8, 9 ,10]\n",
    "while True:\n",
    "    count += 1\n",
    "    shuffle(deck)\n",
    "    idx = randint(1, 10)\n",
    "    if deck[idx] == 7:\n",
    "        print('Congratulation You Picked Lucky 7!')\n",
    "        break\n",
    "    else:\n",
    "        print(f'You Picekd {deck[idx]}, Try again')\n",
    "\n",
    "print(f'Picked Count: {count}')    "
   ]
  },
  {
   "cell_type": "markdown",
   "metadata": {},
   "source": [
    "## loop with else condtion statement\n",
    "else statement only executed only if loop <strong>not</strong> terminated by <strong>'break'</strong>"
   ]
  },
  {
   "cell_type": "code",
   "execution_count": 22,
   "metadata": {},
   "outputs": [
    {
     "name": "stdout",
     "output_type": "stream",
     "text": [
      "1 3 5 7 9 There is no even number\n",
      "1 "
     ]
    }
   ],
   "source": [
    "def even_number_chk(numbers):\n",
    "    for num in numbers:\n",
    "        if num % 2 == 0:\n",
    "            break\n",
    "        print(num, end = \" \")\n",
    "    else:\n",
    "        print('There is no even number')    \n",
    "        \n",
    "lst_a = [1, 3, 5, 7, 9]\n",
    "lst_b = [1, 2, 4, 6, 8]\n",
    "even_number_chk(lst_a)\n",
    "even_number_chk(lst_b)"
   ]
  },
  {
   "cell_type": "markdown",
   "metadata": {},
   "source": [
    "## enumerate()"
   ]
  },
  {
   "cell_type": "code",
   "execution_count": 6,
   "metadata": {},
   "outputs": [
    {
     "name": "stdout",
     "output_type": "stream",
     "text": [
      "<class 'enumerate'>\n",
      "<enumerate object at 0x7f3c459a20c0>\n",
      "[(0, 'Liam'), (1, 'Song'), (2, 'Deep Learning Engineer')]\n",
      "\n",
      "\n",
      "(0, 'Liam')\n",
      "(1, 'Song')\n",
      "(2, 'Deep Learning Engineer')\n"
     ]
    }
   ],
   "source": [
    "tup = ('Liam', 'Song', 'Deep Learning Engineer')\n",
    "enum = enumerate(tup)\n",
    "print(type(enum))\n",
    "print(enum)\n",
    "print(list(enum))\n",
    "\n",
    "print('\\n')\n",
    "for item in enumerate(tup):\n",
    "    print(item)"
   ]
  },
  {
   "cell_type": "markdown",
   "metadata": {},
   "source": [
    "## range('start'[,'end'[,'step']]) function"
   ]
  },
  {
   "cell_type": "code",
   "execution_count": 17,
   "metadata": {
    "scrolled": true
   },
   "outputs": [
    {
     "name": "stdout",
     "output_type": "stream",
     "text": [
      "0 1 2 3 4 5 6 7 8 9 \n",
      "1 2 3 4 5 6 7 8 9 10 \n",
      "1 3 5 7 9 \n",
      "[0, 2, 4, 6, 8, 10]\n"
     ]
    }
   ],
   "source": [
    "# print integers [0-10) \n",
    "for i in range(10):\n",
    "    print(i, end = \" \")\n",
    "\n",
    "print()\n",
    "\n",
    "# print integer [1-10]\n",
    "for i in range(1, 11):\n",
    "    print(i, end = \" \")\n",
    "\n",
    "print()\n",
    "\n",
    "# print odd integer [1-10]\n",
    "for i in range(1, 11, 2):\n",
    "    print(i, end = \" \")\n",
    "\n",
    "print()\n",
    "\n",
    "# create list of even numbers\n",
    "lst = list(range(0, 11, 2))\n",
    "print(lst)"
   ]
  },
  {
   "cell_type": "markdown",
   "metadata": {},
   "source": [
    "## zip() function"
   ]
  },
  {
   "cell_type": "code",
   "execution_count": 16,
   "metadata": {},
   "outputs": [
    {
     "name": "stdout",
     "output_type": "stream",
     "text": [
      "<class 'zip'>\n",
      "<zip object at 0x7f3c45fd2d40>\n",
      "[('First Name', 'Liam'), ('Last Name', 'Song'), ('Position', 'Deep Learning Engineer')]\n",
      "\n",
      "First Name: Liam\n",
      "Last Name: Song\n",
      "Position: Deep Learning Engineer\n"
     ]
    }
   ],
   "source": [
    "tup_a = ('First Name', 'Last Name', 'Position')\n",
    "tup_b = ('Liam', 'Song', 'Deep Learning Engineer')\n",
    "zip_c = zip(tup_a, tup_b)\n",
    "print(type(zip_c))\n",
    "print(zip_c)\n",
    "print(list(zip_c))\n",
    "\n",
    "print()\n",
    "for arg1, arg2 in zip(tup_a, tup_b):\n",
    "    print(f'{arg1}: {arg2}')"
   ]
  },
  {
   "cell_type": "markdown",
   "metadata": {},
   "source": [
    "## input() function"
   ]
  },
  {
   "cell_type": "code",
   "execution_count": 5,
   "metadata": {},
   "outputs": [
    {
     "name": "stdout",
     "output_type": "stream",
     "text": [
      "> ;\n",
      "Invalid Input: Please type numeric value\n",
      "> two\n",
      "Invalid Input: Please type numeric value\n",
      "> 1\n",
      "> 3\n",
      "> 5\n",
      "> 7\n",
      "> 9\n",
      "> Done\n",
      "Average: 5.0\n"
     ]
    }
   ],
   "source": [
    "# using List\n",
    "vals = []\n",
    "while True:\n",
    "    try:\n",
    "        val = input('> ')\n",
    "        if(val == 'Done'):\n",
    "            break\n",
    "        vals.append(float(val))\n",
    "    except ValueError:\n",
    "        print('Invalid Input: Please type numeric value')\n",
    "        \n",
    "print(f'Average: {sum(vals)/len(vals)}')"
   ]
  }
 ],
 "metadata": {
  "kernelspec": {
   "display_name": "Python 3",
   "language": "python",
   "name": "python3"
  },
  "language_info": {
   "codemirror_mode": {
    "name": "ipython",
    "version": 3
   },
   "file_extension": ".py",
   "mimetype": "text/x-python",
   "name": "python",
   "nbconvert_exporter": "python",
   "pygments_lexer": "ipython3",
   "version": "3.8.5"
  }
 },
 "nbformat": 4,
 "nbformat_minor": 4
}
