{
 "cells": [
  {
   "cell_type": "markdown",
   "metadata": {},
   "source": [
    "## for loop"
   ]
  },
  {
   "cell_type": "code",
   "execution_count": 29,
   "metadata": {},
   "outputs": [
    {
     "name": "stdout",
     "output_type": "stream",
     "text": [
      "H e l l o P y t h o n ! \n",
      "\n",
      "0 2 6 7 10 \n",
      "\n",
      "Model: Dell\n",
      "Type: Server\n",
      "Price: 100000\n"
     ]
    }
   ],
   "source": [
    "for letter in \"Hello Python!\":\n",
    "    if letter == \" \":\n",
    "        continue\n",
    "    print(letter, end = \" \")\n",
    "\n",
    "print('\\n')\n",
    "\n",
    "for number in [0,2,6,7,10]:\n",
    "    print(number, end = \" \")\n",
    "    \n",
    "print('\\n')\n",
    "\n",
    "product = {'Model':'Dell', 'Type':'Server', 'Price':100000}\n",
    "for key in product:\n",
    "    print(f'{key}: {product[key]}')"
   ]
  },
  {
   "cell_type": "markdown",
   "metadata": {},
   "source": [
    "## range('start'[,'end'[,'step']]) function"
   ]
  },
  {
   "cell_type": "code",
   "execution_count": 17,
   "metadata": {},
   "outputs": [
    {
     "name": "stdout",
     "output_type": "stream",
     "text": [
      "0 1 2 3 4 5 6 7 8 9 \n",
      "1 2 3 4 5 6 7 8 9 10 \n",
      "1 3 5 7 9 \n",
      "[0, 2, 4, 6, 8, 10]\n"
     ]
    }
   ],
   "source": [
    "# print integers [0-10) \n",
    "for i in range(10):\n",
    "    print(i, end = \" \")\n",
    "\n",
    "print()\n",
    "\n",
    "# print integer [1-10]\n",
    "for i in range(1, 11):\n",
    "    print(i, end = \" \")\n",
    "\n",
    "print()\n",
    "\n",
    "# print odd integer [1-10]\n",
    "for i in range(1, 11, 2):\n",
    "    print(i, end = \" \")\n",
    "\n",
    "print()\n",
    "\n",
    "# create list of even numbers\n",
    "lst = list(range(0, 11, 2))\n",
    "print(lst)"
   ]
  },
  {
   "cell_type": "markdown",
   "metadata": {},
   "source": [
    "## input() function"
   ]
  },
  {
   "cell_type": "code",
   "execution_count": 5,
   "metadata": {},
   "outputs": [
    {
     "name": "stdout",
     "output_type": "stream",
     "text": [
      "> ;\n",
      "Invalid Input: Please type numeric value\n",
      "> two\n",
      "Invalid Input: Please type numeric value\n",
      "> 1\n",
      "> 3\n",
      "> 5\n",
      "> 7\n",
      "> 9\n",
      "> Done\n",
      "Average: 5.0\n"
     ]
    }
   ],
   "source": [
    "# using List\n",
    "vals = []\n",
    "while True:\n",
    "    try:\n",
    "        val = input('> ')\n",
    "        if(val == 'Done'):\n",
    "            break\n",
    "        vals.append(float(val))\n",
    "    except ValueError:\n",
    "        print('Invalid Input: Please type numeric value')\n",
    "        \n",
    "print(f'Average: {sum(vals)/len(vals)}')"
   ]
  }
 ],
 "metadata": {
  "kernelspec": {
   "display_name": "Python 3",
   "language": "python",
   "name": "python3"
  },
  "language_info": {
   "codemirror_mode": {
    "name": "ipython",
    "version": 3
   },
   "file_extension": ".py",
   "mimetype": "text/x-python",
   "name": "python",
   "nbconvert_exporter": "python",
   "pygments_lexer": "ipython3",
   "version": "3.8.5"
  }
 },
 "nbformat": 4,
 "nbformat_minor": 4
}
