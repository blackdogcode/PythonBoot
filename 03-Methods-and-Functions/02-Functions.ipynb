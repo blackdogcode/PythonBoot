{
 "cells": [
  {
   "cell_type": "markdown",
   "id": "ec5d220b",
   "metadata": {},
   "source": [
    "# [Functions](https://realpython.com/defining-your-own-python-function/)\n",
    "\n",
    "## Abstraction and Reusability\n",
    "\n",
    "The abstraction of functionality into a function definition is an example of the Don’t Repeat Yourself (DRY) Principle of software development. This is arguably the strongest motivation for using functions.\n",
    "\n",
    "Breaking a large task into smaller, bite-sized sub-tasks helps make the large task easier to think about and manage. As programs become more complicated, it becomes increasingly beneficial to modularize them in this way."
   ]
  },
  {
   "cell_type": "markdown",
   "id": "b2d5d8cf",
   "metadata": {},
   "source": [
    "## Namespace Separation\n",
    "\n",
    "A namespace is a region of a program in which identifiers have meaning. As you’ll see below, when a Python function is called, a new namespace is created for that function, one that is distinct from all other namespaces that already exist."
   ]
  },
  {
   "cell_type": "markdown",
   "id": "a12a2ef5",
   "metadata": {},
   "source": [
    "## Function Calls and Definition\n",
    "\n",
    "def \\<function_name\\>([\\<parameters\\>]):\n",
    "\n",
    "    <statement(s)>"
   ]
  },
  {
   "cell_type": "code",
   "execution_count": 1,
   "id": "cd099737",
   "metadata": {},
   "outputs": [
    {
     "name": "stdout",
     "output_type": "stream",
     "text": [
      "before function called\n",
      "inside function\n",
      "after function called\n"
     ]
    }
   ],
   "source": [
    "def foo():\n",
    "    print('inside function')\n",
    "    \n",
    "print('before function called')\n",
    "foo()\n",
    "print('after function called')"
   ]
  },
  {
   "cell_type": "markdown",
   "id": "d726caf5",
   "metadata": {},
   "source": [
    "## Argument Passing\n",
    "\n",
    "### Positional Arguments\n",
    "\n",
    "The most straightforward way to pass arguments to a Python function is with positional arguments (also called required arguments). In the function definition, you specify a comma-separated list of parameters inside the parentheses:\n",
    "\n",
    "With positional arguments, the arguments in the call and the parameters in the definition must agree not only in order but in number as well. That’s the reason positional arguments are also referred to as required arguments. You can’t leave any out when calling the function:"
   ]
  },
  {
   "cell_type": "code",
   "execution_count": 2,
   "id": "8de5b5a2",
   "metadata": {},
   "outputs": [
    {
     "name": "stdout",
     "output_type": "stream",
     "text": [
      "6 apple cost $1.7\n"
     ]
    }
   ],
   "source": [
    "def bar(qty, item, price):\n",
    "    print(f'{qty} {item} cost ${price}')\n",
    "\n",
    "bar(6, 'apple', 1.7)"
   ]
  },
  {
   "cell_type": "markdown",
   "id": "78b210b9",
   "metadata": {},
   "source": [
    "### Keyword Arguments\n",
    "\n",
    "When you’re calling a function, you can specify arguments in the form \\<keyword\\>=\\<value\\>. In that case, each \\<keyword\\> must match a parameter in the Python function definition.\n",
    "\n",
    "Each keyword argument explicitly designates a specific parameter by name, so you can specify them in any order"
   ]
  },
  {
   "cell_type": "code",
   "execution_count": 3,
   "id": "e065e185",
   "metadata": {},
   "outputs": [
    {
     "name": "stdout",
     "output_type": "stream",
     "text": [
      "3 banana cost $1.9\n"
     ]
    }
   ],
   "source": [
    "bar(item='banana', qty=3, price=1.9)"
   ]
  },
  {
   "cell_type": "markdown",
   "id": "8944ac93",
   "metadata": {},
   "source": [
    "When positional and keyword arguments are both present, all the positional arguments must come first"
   ]
  },
  {
   "cell_type": "code",
   "execution_count": 4,
   "id": "ff5f139c",
   "metadata": {},
   "outputs": [
    {
     "name": "stdout",
     "output_type": "stream",
     "text": [
      "7 coffee cost $2.3\n"
     ]
    }
   ],
   "source": [
    "bar(7, price=2.3, item='coffee')"
   ]
  },
  {
   "cell_type": "markdown",
   "id": "21d3d260",
   "metadata": {},
   "source": [
    "## Pass-By-Value vs Pass-By-Reference\n",
    "\n",
    "1. If a variable is **passed by value**, then the function has a copy to work on, but it can’t modify the original value in the calling environment.\n",
    "2. If a variable is **passed by reference**, then any changes the function makes to the corresponding parameter will affect the value in the calling environment.\n",
    "\n",
    "In Python, every piece of data is an object. A reference points to an object, not a specific memory location. Argument passing in Python is somewhat of a hybrid between pass-by-value and pass-by-reference. What gets passed to the function is a reference to an object, but the reference is passed by value.\n",
    "\n",
    "The key takeaway here is that a Python function can’t change the value of an argument by reassigning the corresponding parameter to something else."
   ]
  },
  {
   "cell_type": "code",
   "execution_count": 5,
   "id": "06a89568",
   "metadata": {},
   "outputs": [
    {
     "name": "stdout",
     "output_type": "stream",
     "text": [
      "40\n",
      "{'foo': 1, 'bar': 2}\n",
      "{1, 2, 3}\n",
      "bar\n",
      "['foo', 'bar', 'baz']\n"
     ]
    }
   ],
   "source": [
    "def baz(x):\n",
    "    x = 'reference reassigned'\n",
    "\n",
    "for y in (40, dict(foo=1, bar=2), {1, 2, 3}, 'bar', ['foo', 'bar', 'baz']):\n",
    "    baz(y)\n",
    "    print(y)"
   ]
  },
  {
   "cell_type": "markdown",
   "id": "ef6e1862",
   "metadata": {},
   "source": [
    "## Argument Passing Summary\n",
    "\n",
    "Argument passing in Python can be summarized as follows. **Passing an immutable object**, like an __*int, str, tuple, or frozenset*__, to a Python function acts like pass-by-value. The function can’t modify the object in the calling environment.\n",
    "\n",
    "**Passing a mutable object** such as a __*list, dict, or set*__ acts somewhat—but not exactly—like pass-by-reference. The function can’t reassign the object wholesale, but it can change items in place within the object, and these changes will be reflected in the calling environment."
   ]
  },
  {
   "cell_type": "code",
   "execution_count": 6,
   "id": "dd65df7a",
   "metadata": {},
   "outputs": [
    {
     "name": "stdout",
     "output_type": "stream",
     "text": [
      "5\n"
     ]
    }
   ],
   "source": [
    "def qux(x):\n",
    "    x = 10\n",
    "\n",
    "i = 5\n",
    "qux(i)\n",
    "print(i)"
   ]
  },
  {
   "cell_type": "code",
   "execution_count": 7,
   "id": "778fa360",
   "metadata": {},
   "outputs": [
    {
     "data": {
      "text/plain": [
       "[1, 2, 3, 4, 5, 6, 7]"
      ]
     },
     "execution_count": 7,
     "metadata": {},
     "output_type": "execute_result"
    }
   ],
   "source": [
    "def tar(x):\n",
    "    x.append(7)\n",
    "\n",
    "lst = [1, 2, 3, 4, 5, 6]\n",
    "tar(lst)\n",
    "lst"
   ]
  },
  {
   "cell_type": "markdown",
   "id": "0a110040",
   "metadata": {},
   "source": [
    "## The return Statement\n",
    "\n",
    "1. It immediately terminates the function and passes execution control back to the caller.\n",
    "2. It provides a mechanism by which the function can pass data back to the caller."
   ]
  },
  {
   "cell_type": "markdown",
   "id": "b3057a6c",
   "metadata": {},
   "source": [
    "### Exiting a Function\n",
    "\n",
    "Within a function, a return statement causes immediate exit from the Python function and transfer of execution back to the caller:"
   ]
  },
  {
   "cell_type": "code",
   "execution_count": 8,
   "id": "30515675",
   "metadata": {},
   "outputs": [
    {
     "name": "stdout",
     "output_type": "stream",
     "text": [
      "Hello\n"
     ]
    }
   ],
   "source": [
    "def taz():\n",
    "    print('Hello')\n",
    "    return\n",
    "    # never excuted below\n",
    "    print('World')\n",
    "\n",
    "taz()"
   ]
  },
  {
   "cell_type": "markdown",
   "id": "e2316d9a",
   "metadata": {},
   "source": [
    "### Returning Data to the Caller\n",
    "\n",
    "In addition to exiting a function, the return statement is also used to pass data back to the caller. A function can return any type of object."
   ]
  },
  {
   "cell_type": "code",
   "execution_count": 9,
   "id": "36a45b75",
   "metadata": {},
   "outputs": [
    {
     "data": {
      "text/plain": [
       "2"
      ]
     },
     "execution_count": 9,
     "metadata": {},
     "output_type": "execute_result"
    }
   ],
   "source": [
    "def arc():\n",
    "    return dict(foo=1, bar=2, baz=3)\n",
    "\n",
    "arc()['bar']"
   ]
  },
  {
   "cell_type": "markdown",
   "id": "1c2fe66d",
   "metadata": {},
   "source": [
    "## Variable-Length Argument Lists\n",
    "\n",
    "Python provides a way to pass a function a variable number of arguments with argument tuple packing and unpacking using the asterisk (*) operator.\n",
    "\n",
    "### Argument Tuple Packing\n",
    "\n",
    "When a parameter name in a Python function definition is preceded by an asterisk (*), it indicates argument tuple packing. Any corresponding arguments in the function call are packed into a tuple that the function can refer to by the given parameter name."
   ]
  },
  {
   "cell_type": "code",
   "execution_count": 10,
   "id": "8a1ba2d7",
   "metadata": {},
   "outputs": [
    {
     "name": "stdout",
     "output_type": "stream",
     "text": [
      "<class 'tuple'>\n",
      "(1, 2, 3, 4, 5, 6, 7)\n",
      "1 2 3 4 5 6 7 "
     ]
    }
   ],
   "source": [
    "def taz(*args):\n",
    "    print(type(args))\n",
    "    print(args)\n",
    "    for i in args:\n",
    "        print(i, end=\" \")\n",
    "        \n",
    "taz(1, 2, 3, 4, 5, 6, 7)"
   ]
  },
  {
   "cell_type": "markdown",
   "id": "7edfa511",
   "metadata": {},
   "source": [
    "### Argument Tuple Unpacking\n",
    "\n",
    "When an argument in a function call is preceded by an asterisk (*), it indicates that the argument is a tuple that should be unpacked and passed to the function as separate values"
   ]
  },
  {
   "cell_type": "code",
   "execution_count": 11,
   "id": "508de30c",
   "metadata": {},
   "outputs": [
    {
     "name": "stdout",
     "output_type": "stream",
     "text": [
      "x = foo\n",
      "y = bar\n",
      "z = baz\n"
     ]
    }
   ],
   "source": [
    "def buz(x, y, z):\n",
    "    print(f'x = {x}')\n",
    "    print(f'y = {y}')\n",
    "    print(f'z = {z}')\n",
    "    \n",
    "var = ('foo', 'bar', 'baz')\n",
    "buz(*var)"
   ]
  },
  {
   "cell_type": "markdown",
   "id": "3dc5d95a",
   "metadata": {},
   "source": [
    "### Argument Dictionary Packing\n",
    "\n",
    "Preceding a parameter in a Python function definition by a **double asterisk (\\*\\*)** indicates that the corresponding arguments, which are expected to be key=value pairs, should be packed into a dictionary:"
   ]
  },
  {
   "cell_type": "code",
   "execution_count": 12,
   "id": "d19de87f",
   "metadata": {},
   "outputs": [
    {
     "name": "stdout",
     "output_type": "stream",
     "text": [
      "<class 'dict'>\n",
      "{'foo': 1, 'bar': 2, 'baz': 3}\n",
      "foo -> 1\n",
      "bar -> 2\n",
      "baz -> 3\n"
     ]
    }
   ],
   "source": [
    "def tuv(**kwargs):\n",
    "    print(type(kwargs))\n",
    "    print(kwargs)\n",
    "    for key, value in kwargs.items():\n",
    "        print(f'{key} -> {value}')\n",
    "        \n",
    "tuv(foo=1, bar=2, baz=3)"
   ]
  },
  {
   "cell_type": "markdown",
   "id": "7df1fbc2",
   "metadata": {},
   "source": [
    "### Argument Dictionary Unpacking\n",
    "\n",
    "Argument dictionary unpacking is analogous to argument tuple unpacking. When the double asterisk (\\*\\*) precedes an argument in a Python function call, it specifies that the argument is a dictionary that should be unpacked, with the resulting items passed to the function as **keyword arguments**"
   ]
  },
  {
   "cell_type": "code",
   "execution_count": 13,
   "id": "ab7f9fe1",
   "metadata": {},
   "outputs": [
    {
     "name": "stdout",
     "output_type": "stream",
     "text": [
      "foo = 1\n",
      "bar = 2\n",
      "baz = 3\n"
     ]
    }
   ],
   "source": [
    "def uvx(foo, bar, baz):\n",
    "    print(f'foo = {foo}')\n",
    "    print(f'bar = {bar}')\n",
    "    print(f'baz = {baz}')\n",
    "\n",
    "kvars = {'foo':1, 'bar':2, 'baz':3}\n",
    "uvx(**kvars)"
   ]
  },
  {
   "cell_type": "markdown",
   "id": "78addc08",
   "metadata": {},
   "source": [
    "## Keyword-Only Arguments\n",
    "\n",
    "A Python function in version 3.x can be defined so that it takes keyword-only arguments. These are function arguments that must be specified by keyword."
   ]
  },
  {
   "cell_type": "code",
   "execution_count": 14,
   "id": "b8822cd6",
   "metadata": {},
   "outputs": [
    {
     "name": "stdout",
     "output_type": "stream",
     "text": [
      "→ foo.bar.baz\n",
      "... foo.bar.baz\n",
      "... foo/bar/baz\n"
     ]
    }
   ],
   "source": [
    "def ghi(*args, prefix='→', sep='.'):\n",
    "    print(f'{prefix} {sep.join(args)}')\n",
    "\n",
    "ghi('foo', 'bar', 'baz')    \n",
    "ghi('foo', 'bar', 'baz', prefix='...')\n",
    "ghi('foo', 'bar', 'baz', prefix='...', sep='/')"
   ]
  },
  {
   "cell_type": "markdown",
   "id": "fd187cd9",
   "metadata": {},
   "source": [
    "In that case, prefix becomes a keyword-only parameter. Its value will never be filled by a positional argument. It can only be specified by a named keyword argument"
   ]
  },
  {
   "cell_type": "markdown",
   "id": "17203ad8",
   "metadata": {},
   "source": [
    "Python version 3 allows a variable argument parameter in a Python function definition to be just a bare asterisk (*), with the name omitted. The bare variable argument parameter * indicates that there aren’t any more positional parameters. This behavior generates appropriate error messages if extra ones are specified. It allows keyword-only parameters to follow."
   ]
  },
  {
   "cell_type": "code",
   "execution_count": 15,
   "id": "17886b5c",
   "metadata": {},
   "outputs": [],
   "source": [
    "def operate(x, y, *, op='+'):\n",
    "    if op == '+':\n",
    "        return x + y\n",
    "    elif op == '-':\n",
    "        return x - y\n",
    "    elif op == '*':\n",
    "        return x * y\n",
    "    elif op == '/':\n",
    "        return x / y\n",
    "    else:\n",
    "        return None"
   ]
  },
  {
   "cell_type": "code",
   "execution_count": 16,
   "id": "1d0b7912",
   "metadata": {},
   "outputs": [
    {
     "data": {
      "text/plain": [
       "15"
      ]
     },
     "execution_count": 16,
     "metadata": {},
     "output_type": "execute_result"
    }
   ],
   "source": [
    "operate(3, 5, op='*')"
   ]
  },
  {
   "cell_type": "code",
   "execution_count": 17,
   "id": "9cf38166",
   "metadata": {},
   "outputs": [
    {
     "ename": "TypeError",
     "evalue": "operate() takes 2 positional arguments but 3 were given",
     "output_type": "error",
     "traceback": [
      "\u001b[0;31m---------------------------------------------------------------------------\u001b[0m",
      "\u001b[0;31mTypeError\u001b[0m                                 Traceback (most recent call last)",
      "\u001b[0;32m<ipython-input-17-d21b6adc8c71>\u001b[0m in \u001b[0;36m<module>\u001b[0;34m\u001b[0m\n\u001b[0;32m----> 1\u001b[0;31m \u001b[0moperate\u001b[0m\u001b[0;34m(\u001b[0m\u001b[0;36m3\u001b[0m\u001b[0;34m,\u001b[0m \u001b[0;36m5\u001b[0m\u001b[0;34m,\u001b[0m \u001b[0;34m'*'\u001b[0m\u001b[0;34m)\u001b[0m\u001b[0;34m\u001b[0m\u001b[0;34m\u001b[0m\u001b[0m\n\u001b[0m",
      "\u001b[0;31mTypeError\u001b[0m: operate() takes 2 positional arguments but 3 were given"
     ]
    }
   ],
   "source": [
    "operate(3, 5, '*')"
   ]
  },
  {
   "cell_type": "markdown",
   "id": "ab0527a8",
   "metadata": {},
   "source": [
    "## Positional-Only Arguments\n",
    "\n",
    "As of Python 3.8, function parameters can also be declared positional-only, meaning the corresponding arguments must be supplied positionally and can’t be specified by keyword.\n",
    "\n",
    "specify a bare slash (/) in the parameter list of a function definition. Any parameters to the left of the slash (/) must be specified positionally."
   ]
  },
  {
   "cell_type": "code",
   "execution_count": 18,
   "id": "3ef94cfd",
   "metadata": {},
   "outputs": [],
   "source": [
    "def trz(x, y, /, z):\n",
    "    print(f'{x} {y} {z}')"
   ]
  },
  {
   "cell_type": "code",
   "execution_count": 19,
   "id": "202ce683",
   "metadata": {},
   "outputs": [
    {
     "name": "stdout",
     "output_type": "stream",
     "text": [
      "1 2 3\n"
     ]
    }
   ],
   "source": [
    "trz(1, 2, 3)"
   ]
  },
  {
   "cell_type": "code",
   "execution_count": 20,
   "id": "7816af3d",
   "metadata": {},
   "outputs": [
    {
     "name": "stdout",
     "output_type": "stream",
     "text": [
      "1 2 5\n"
     ]
    }
   ],
   "source": [
    "trz(1, 2, z=5)"
   ]
  },
  {
   "cell_type": "code",
   "execution_count": 21,
   "id": "9994bb4d",
   "metadata": {},
   "outputs": [
    {
     "ename": "TypeError",
     "evalue": "trz() got some positional-only arguments passed as keyword arguments: 'x, y'",
     "output_type": "error",
     "traceback": [
      "\u001b[0;31m---------------------------------------------------------------------------\u001b[0m",
      "\u001b[0;31mTypeError\u001b[0m                                 Traceback (most recent call last)",
      "\u001b[0;32m<ipython-input-21-d68e4960c983>\u001b[0m in \u001b[0;36m<module>\u001b[0;34m\u001b[0m\n\u001b[0;32m----> 1\u001b[0;31m \u001b[0mtrz\u001b[0m\u001b[0;34m(\u001b[0m\u001b[0mx\u001b[0m\u001b[0;34m=\u001b[0m\u001b[0;36m1\u001b[0m\u001b[0;34m,\u001b[0m \u001b[0my\u001b[0m\u001b[0;34m=\u001b[0m\u001b[0;36m3\u001b[0m\u001b[0;34m,\u001b[0m \u001b[0mz\u001b[0m\u001b[0;34m=\u001b[0m\u001b[0;36m4\u001b[0m\u001b[0;34m)\u001b[0m\u001b[0;34m\u001b[0m\u001b[0;34m\u001b[0m\u001b[0m\n\u001b[0m",
      "\u001b[0;31mTypeError\u001b[0m: trz() got some positional-only arguments passed as keyword arguments: 'x, y'"
     ]
    }
   ],
   "source": [
    "trz(x=1, y=3, z=4)"
   ]
  },
  {
   "cell_type": "markdown",
   "id": "8572e2b7",
   "metadata": {},
   "source": [
    "## Docstrings\n",
    "\n",
    "A docstring is used to supply documentation for a function. It can contain the function’s purpose, what arguments it takes, information about return values, or any other information you think would be useful.\n",
    "\n",
    "Multi-line docstrings are used for lengthier documentation. A multi-line docstring should consist of a summary line, followed by a blank line, followed by a more detailed description. The closing quotes should be on a line by themselves:"
   ]
  },
  {
   "cell_type": "code",
   "execution_count": 22,
   "id": "80ed6692",
   "metadata": {},
   "outputs": [
    {
     "name": "stdout",
     "output_type": "stream",
     "text": [
      "Perform a foo transformation.\n",
      "    \n",
      "    Keyword arguments:\n",
      "    bar -- magnitude along the bar axis (default=0)\n",
      "    baz -- magnitude along the baz axis (default=1)\n",
      "    \n"
     ]
    }
   ],
   "source": [
    "def rux(bar=0, baz=1):\n",
    "    \"\"\"Perform a foo transformation.\n",
    "    \n",
    "    Keyword arguments:\n",
    "    bar -- magnitude along the bar axis (default=0)\n",
    "    baz -- magnitude along the baz axis (default=1)\n",
    "    \"\"\"\n",
    "    pass\n",
    "\n",
    "print(rux.__doc__)"
   ]
  },
  {
   "cell_type": "code",
   "execution_count": 23,
   "id": "839b6c26",
   "metadata": {},
   "outputs": [
    {
     "name": "stdout",
     "output_type": "stream",
     "text": [
      "Help on function rux in module __main__:\n",
      "\n",
      "rux(bar=0, baz=1)\n",
      "    Perform a foo transformation.\n",
      "    \n",
      "    Keyword arguments:\n",
      "    bar -- magnitude along the bar axis (default=0)\n",
      "    baz -- magnitude along the baz axis (default=1)\n",
      "\n"
     ]
    }
   ],
   "source": [
    "help(rux)"
   ]
  },
  {
   "cell_type": "markdown",
   "id": "2f086564",
   "metadata": {},
   "source": [
    "## Python Function Annotations\n",
    "\n",
    "As of version 3.0, Python provides an additional feature for documenting a function called a function annotation. Annotations provide a way to attach metadata to a function’s parameters and return value.\n",
    "\n",
    "To add an annotation to a Python function parameter, insert a colon (:) followed by any expression after the parameter name in the function definition.\n",
    "\n",
    "To add an annotation to the return value, add the characters ->\n",
    "\n",
    "def f(a: '\\<a\\>', b: '\\<b\\>') -> '\\<ret_value\\>':\n",
    "\n",
    "    pass"
   ]
  },
  {
   "cell_type": "code",
   "execution_count": 24,
   "id": "df5a9152",
   "metadata": {},
   "outputs": [
    {
     "data": {
      "text/plain": [
       "{'x': 17}"
      ]
     },
     "execution_count": 24,
     "metadata": {},
     "output_type": "execute_result"
    }
   ],
   "source": [
    "def ets(x: str, y: int) -> dict:\n",
    "    return dict(x=y)\n",
    "\n",
    "ets('foo', 17)"
   ]
  },
  {
   "cell_type": "code",
   "execution_count": 25,
   "id": "e043be6e",
   "metadata": {},
   "outputs": [
    {
     "data": {
      "text/plain": [
       "{'x': str, 'y': int, 'return': dict}"
      ]
     },
     "execution_count": 25,
     "metadata": {},
     "output_type": "execute_result"
    }
   ],
   "source": [
    "ets.__annotations__"
   ]
  },
  {
   "cell_type": "markdown",
   "id": "00a9825e",
   "metadata": {},
   "source": [
    "If you want to assign a default value to a parameter that has an annotation, then the default value goes after the annotation:"
   ]
  },
  {
   "cell_type": "code",
   "execution_count": 26,
   "id": "c1bf993e",
   "metadata": {},
   "outputs": [
    {
     "data": {
      "text/plain": [
       "{'x': 7}"
      ]
     },
     "execution_count": 26,
     "metadata": {},
     "output_type": "execute_result"
    }
   ],
   "source": [
    "def wer(x: str, y: int = 7) -> dict:\n",
    "    return dict(x=y)\n",
    "\n",
    "wer('bar')"
   ]
  }
 ],
 "metadata": {
  "kernelspec": {
   "display_name": "Python 3",
   "language": "python",
   "name": "python3"
  },
  "language_info": {
   "codemirror_mode": {
    "name": "ipython",
    "version": 3
   },
   "file_extension": ".py",
   "mimetype": "text/x-python",
   "name": "python",
   "nbconvert_exporter": "python",
   "pygments_lexer": "ipython3",
   "version": "3.8.8"
  }
 },
 "nbformat": 4,
 "nbformat_minor": 5
}
