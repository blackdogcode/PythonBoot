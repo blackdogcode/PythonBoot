{
 "cells": [
  {
   "cell_type": "markdown",
   "id": "ec5d220b",
   "metadata": {},
   "source": [
    "# [Functions](https://realpython.com/defining-your-own-python-function/)\n",
    "\n",
    "## Abstraction and Reusability\n",
    "\n",
    "The abstraction of functionality into a function definition is an example of the Don’t Repeat Yourself (DRY) Principle of software development. This is arguably the strongest motivation for using functions.\n",
    "\n",
    "Breaking a large task into smaller, bite-sized sub-tasks helps make the large task easier to think about and manage. As programs become more complicated, it becomes increasingly beneficial to modularize them in this way."
   ]
  },
  {
   "cell_type": "markdown",
   "id": "b2d5d8cf",
   "metadata": {},
   "source": [
    "## Namespace Separation\n",
    "\n",
    "A namespace is a region of a program in which identifiers have meaning. As you’ll see below, when a Python function is called, a new namespace is created for that function, one that is distinct from all other namespaces that already exist."
   ]
  },
  {
   "cell_type": "markdown",
   "id": "a12a2ef5",
   "metadata": {},
   "source": [
    "## Function Calls and Definition\n",
    "\n",
    "def \\<function_name\\>([\\<parameters\\>]):\n",
    "\n",
    "    <statement(s)>"
   ]
  },
  {
   "cell_type": "code",
   "execution_count": 1,
   "id": "cd099737",
   "metadata": {},
   "outputs": [
    {
     "name": "stdout",
     "output_type": "stream",
     "text": [
      "before function called\n",
      "inside function\n",
      "after function called\n"
     ]
    }
   ],
   "source": [
    "def foo():\n",
    "    print('inside function')\n",
    "    \n",
    "print('before function called')\n",
    "foo()\n",
    "print('after function called')"
   ]
  },
  {
   "cell_type": "markdown",
   "id": "d726caf5",
   "metadata": {},
   "source": [
    "## Argument Passing\n",
    "\n",
    "### Positional Arguments\n",
    "\n",
    "The most straightforward way to pass arguments to a Python function is with positional arguments (also called required arguments). In the function definition, you specify a comma-separated list of parameters inside the parentheses:\n",
    "\n",
    "With positional arguments, the arguments in the call and the parameters in the definition must agree not only in order but in number as well. That’s the reason positional arguments are also referred to as required arguments. You can’t leave any out when calling the function:"
   ]
  },
  {
   "cell_type": "code",
   "execution_count": 2,
   "id": "8de5b5a2",
   "metadata": {},
   "outputs": [
    {
     "name": "stdout",
     "output_type": "stream",
     "text": [
      "6 apple cost $1.7\n"
     ]
    }
   ],
   "source": [
    "def bar(qty, item, price):\n",
    "    print(f'{qty} {item} cost ${price}')\n",
    "\n",
    "bar(6, 'apple', 1.7)"
   ]
  },
  {
   "cell_type": "markdown",
   "id": "78b210b9",
   "metadata": {},
   "source": [
    "### Keyword Arguments\n",
    "\n",
    "When you’re calling a function, you can specify arguments in the form \\<keyword\\>=\\<value\\>. In that case, each \\<keyword\\> must match a parameter in the Python function definition.\n",
    "\n",
    "Each keyword argument explicitly designates a specific parameter by name, so you can specify them in any order"
   ]
  },
  {
   "cell_type": "code",
   "execution_count": 3,
   "id": "e065e185",
   "metadata": {},
   "outputs": [
    {
     "name": "stdout",
     "output_type": "stream",
     "text": [
      "3 banana cost $1.9\n"
     ]
    }
   ],
   "source": [
    "bar(item='banana', qty=3, price=1.9)"
   ]
  },
  {
   "cell_type": "markdown",
   "id": "8944ac93",
   "metadata": {},
   "source": [
    "When positional and keyword arguments are both present, all the positional arguments must come first"
   ]
  },
  {
   "cell_type": "code",
   "execution_count": 4,
   "id": "ff5f139c",
   "metadata": {},
   "outputs": [
    {
     "name": "stdout",
     "output_type": "stream",
     "text": [
      "7 coffee cost $2.3\n"
     ]
    }
   ],
   "source": [
    "bar(7, price=2.3, item='coffee')"
   ]
  },
  {
   "cell_type": "markdown",
   "id": "21d3d260",
   "metadata": {},
   "source": [
    "## Pass-By-Value vs Pass-By-Reference in Pascal\n",
    "\n",
    "1. If a variable is **passed by value**, then the function has a copy to work on, but it can’t modify the original value in the calling environment.\n",
    "2. If a variable is **passed by reference**, then any changes the function makes to the corresponding parameter will affect the value in the calling environment."
   ]
  },
  {
   "cell_type": "code",
   "execution_count": null,
   "id": "06a89568",
   "metadata": {},
   "outputs": [],
   "source": []
  }
 ],
 "metadata": {
  "kernelspec": {
   "display_name": "Python 3",
   "language": "python",
   "name": "python3"
  },
  "language_info": {
   "codemirror_mode": {
    "name": "ipython",
    "version": 3
   },
   "file_extension": ".py",
   "mimetype": "text/x-python",
   "name": "python",
   "nbconvert_exporter": "python",
   "pygments_lexer": "ipython3",
   "version": "3.8.8"
  }
 },
 "nbformat": 4,
 "nbformat_minor": 5
}
