{
 "cells": [
  {
   "cell_type": "markdown",
   "id": "ec5d220b",
   "metadata": {},
   "source": [
    "# [Functions](https://realpython.com/defining-your-own-python-function/)\n",
    "\n",
    "## Abstraction and Reusability\n",
    "\n",
    "The abstraction of functionality into a function definition is an example of the Don’t Repeat Yourself (DRY) Principle of software development. This is arguably the strongest motivation for using functions.\n",
    "\n",
    "Breaking a large task into smaller, bite-sized sub-tasks helps make the large task easier to think about and manage. As programs become more complicated, it becomes increasingly beneficial to modularize them in this way."
   ]
  },
  {
   "cell_type": "markdown",
   "id": "b2d5d8cf",
   "metadata": {},
   "source": [
    "## Namespace Separation\n",
    "\n",
    "A namespace is a region of a program in which identifiers have meaning. As you’ll see below, when a Python function is called, a new namespace is created for that function, one that is distinct from all other namespaces that already exist."
   ]
  },
  {
   "cell_type": "markdown",
   "id": "a12a2ef5",
   "metadata": {},
   "source": [
    "## Function Calls and Definition\n",
    "\n",
    "def \\<function_name\\>([\\<parameters\\>]):\n",
    "\n",
    "    <statement(s)>"
   ]
  },
  {
   "cell_type": "code",
   "execution_count": 1,
   "id": "cd099737",
   "metadata": {},
   "outputs": [
    {
     "name": "stdout",
     "output_type": "stream",
     "text": [
      "before function called\n",
      "inside function\n",
      "after function called\n"
     ]
    }
   ],
   "source": [
    "def foo():\n",
    "    print('inside function')\n",
    "    \n",
    "print('before function called')\n",
    "foo()\n",
    "print('after function called')"
   ]
  },
  {
   "cell_type": "markdown",
   "id": "d726caf5",
   "metadata": {},
   "source": [
    "## Argument Passing\n",
    "\n",
    "### Positional Arguments\n",
    "\n",
    "The most straightforward way to pass arguments to a Python function is with positional arguments (also called required arguments). In the function definition, you specify a comma-separated list of parameters inside the parentheses:\n",
    "\n",
    "With positional arguments, the arguments in the call and the parameters in the definition must agree not only in order but in number as well. That’s the reason positional arguments are also referred to as required arguments. You can’t leave any out when calling the function:"
   ]
  },
  {
   "cell_type": "code",
   "execution_count": 2,
   "id": "8de5b5a2",
   "metadata": {},
   "outputs": [
    {
     "name": "stdout",
     "output_type": "stream",
     "text": [
      "6 apple cost $1.7\n"
     ]
    }
   ],
   "source": [
    "def bar(qty, item, price):\n",
    "    print(f'{qty} {item} cost ${price}')\n",
    "\n",
    "bar(6, 'apple', 1.7)"
   ]
  },
  {
   "cell_type": "markdown",
   "id": "78b210b9",
   "metadata": {},
   "source": [
    "### Keyword Arguments\n",
    "\n",
    "When you’re calling a function, you can specify arguments in the form \\<keyword\\>=\\<value\\>. In that case, each \\<keyword\\> must match a parameter in the Python function definition.\n",
    "\n",
    "Each keyword argument explicitly designates a specific parameter by name, so you can specify them in any order"
   ]
  },
  {
   "cell_type": "code",
   "execution_count": 3,
   "id": "e065e185",
   "metadata": {},
   "outputs": [
    {
     "name": "stdout",
     "output_type": "stream",
     "text": [
      "3 banana cost $1.9\n"
     ]
    }
   ],
   "source": [
    "bar(item='banana', qty=3, price=1.9)"
   ]
  },
  {
   "cell_type": "markdown",
   "id": "8944ac93",
   "metadata": {},
   "source": [
    "When positional and keyword arguments are both present, all the positional arguments must come first"
   ]
  },
  {
   "cell_type": "code",
   "execution_count": 4,
   "id": "ff5f139c",
   "metadata": {},
   "outputs": [
    {
     "name": "stdout",
     "output_type": "stream",
     "text": [
      "7 coffee cost $2.3\n"
     ]
    }
   ],
   "source": [
    "bar(7, price=2.3, item='coffee')"
   ]
  },
  {
   "cell_type": "markdown",
   "id": "21d3d260",
   "metadata": {},
   "source": [
    "## Pass-By-Value vs Pass-By-Reference\n",
    "\n",
    "1. If a variable is **passed by value**, then the function has a copy to work on, but it can’t modify the original value in the calling environment.\n",
    "2. If a variable is **passed by reference**, then any changes the function makes to the corresponding parameter will affect the value in the calling environment.\n",
    "\n",
    "In Python, every piece of data is an object. A reference points to an object, not a specific memory location. Argument passing in Python is somewhat of a hybrid between pass-by-value and pass-by-reference. What gets passed to the function is a reference to an object, but the reference is passed by value.\n",
    "\n",
    "The key takeaway here is that a Python function can’t change the value of an argument by reassigning the corresponding parameter to something else."
   ]
  },
  {
   "cell_type": "code",
   "execution_count": 5,
   "id": "06a89568",
   "metadata": {},
   "outputs": [
    {
     "name": "stdout",
     "output_type": "stream",
     "text": [
      "40\n",
      "{'foo': 1, 'bar': 2}\n",
      "{1, 2, 3}\n",
      "bar\n",
      "['foo', 'bar', 'baz']\n"
     ]
    }
   ],
   "source": [
    "def baz(x):\n",
    "    x = 'reference reassigned'\n",
    "\n",
    "for y in (40, dict(foo=1, bar=2), {1, 2, 3}, 'bar', ['foo', 'bar', 'baz']):\n",
    "    baz(y)\n",
    "    print(y)"
   ]
  },
  {
   "cell_type": "markdown",
   "id": "ef6e1862",
   "metadata": {},
   "source": [
    "## Argument Passing Summary\n",
    "\n",
    "Argument passing in Python can be summarized as follows. **Passing an immutable object**, like an __*int, str, tuple, or frozenset*__, to a Python function acts like pass-by-value. The function can’t modify the object in the calling environment.\n",
    "\n",
    "**Passing a mutable object** such as a __*list, dict, or set*__ acts somewhat—but not exactly—like pass-by-reference. The function can’t reassign the object wholesale, but it can change items in place within the object, and these changes will be reflected in the calling environment."
   ]
  },
  {
   "cell_type": "code",
   "execution_count": 6,
   "id": "dd65df7a",
   "metadata": {},
   "outputs": [
    {
     "name": "stdout",
     "output_type": "stream",
     "text": [
      "5\n"
     ]
    }
   ],
   "source": [
    "def qux(x):\n",
    "    x = 10\n",
    "\n",
    "i = 5\n",
    "qux(i)\n",
    "print(i)"
   ]
  },
  {
   "cell_type": "code",
   "execution_count": 7,
   "id": "778fa360",
   "metadata": {},
   "outputs": [
    {
     "data": {
      "text/plain": [
       "[1, 2, 3, 4, 5, 6, 7]"
      ]
     },
     "execution_count": 7,
     "metadata": {},
     "output_type": "execute_result"
    }
   ],
   "source": [
    "def tar(x):\n",
    "    x.append(7)\n",
    "\n",
    "lst = [1, 2, 3, 4, 5, 6]\n",
    "tar(lst)\n",
    "lst"
   ]
  },
  {
   "cell_type": "markdown",
   "id": "0a110040",
   "metadata": {},
   "source": [
    "## The return Statement\n",
    "\n",
    "1. It immediately terminates the function and passes execution control back to the caller.\n",
    "2. It provides a mechanism by which the function can pass data back to the caller."
   ]
  },
  {
   "cell_type": "markdown",
   "id": "b3057a6c",
   "metadata": {},
   "source": [
    "### Exiting a Function\n",
    "\n",
    "Within a function, a return statement causes immediate exit from the Python function and transfer of execution back to the caller:"
   ]
  },
  {
   "cell_type": "code",
   "execution_count": 8,
   "id": "30515675",
   "metadata": {},
   "outputs": [
    {
     "name": "stdout",
     "output_type": "stream",
     "text": [
      "Hello\n"
     ]
    }
   ],
   "source": [
    "def taz():\n",
    "    print('Hello')\n",
    "    return\n",
    "    # never excuted below\n",
    "    print('World')\n",
    "\n",
    "taz()"
   ]
  },
  {
   "cell_type": "markdown",
   "id": "e2316d9a",
   "metadata": {},
   "source": [
    "### Returning Data to the Caller\n",
    "\n",
    "In addition to exiting a function, the return statement is also used to pass data back to the caller. A function can return any type of object."
   ]
  },
  {
   "cell_type": "code",
   "execution_count": 9,
   "id": "36a45b75",
   "metadata": {},
   "outputs": [
    {
     "data": {
      "text/plain": [
       "2"
      ]
     },
     "execution_count": 9,
     "metadata": {},
     "output_type": "execute_result"
    }
   ],
   "source": [
    "def arc():\n",
    "    return dict(foo=1, bar=2, baz=3)\n",
    "\n",
    "arc()['bar']"
   ]
  },
  {
   "cell_type": "markdown",
   "id": "1c2fe66d",
   "metadata": {},
   "source": [
    "## Variable-Length Argument Lists\n",
    "\n",
    "Python provides a way to pass a function a variable number of arguments with argument tuple packing and unpacking using the asterisk (*) operator.\n",
    "\n",
    "### Argument Tuple Packing\n",
    "\n",
    "When a parameter name in a Python function definition is preceded by an asterisk (*), it indicates argument tuple packing. Any corresponding arguments in the function call are packed into a tuple that the function can refer to by the given parameter name."
   ]
  },
  {
   "cell_type": "code",
   "execution_count": 10,
   "id": "8a1ba2d7",
   "metadata": {},
   "outputs": [
    {
     "name": "stdout",
     "output_type": "stream",
     "text": [
      "<class 'tuple'>\n",
      "(1, 2, 3, 4, 5, 6, 7)\n",
      "1 2 3 4 5 6 7 "
     ]
    }
   ],
   "source": [
    "def taz(*args):\n",
    "    print(type(args))\n",
    "    print(args)\n",
    "    for i in args:\n",
    "        print(i, end=\" \")\n",
    "        \n",
    "taz(1, 2, 3, 4, 5, 6, 7)"
   ]
  },
  {
   "cell_type": "markdown",
   "id": "7f33befc",
   "metadata": {},
   "source": [
    "### Argument Tuple Unpacking\n",
    "\n",
    "When an argument in a function call is preceded by an asterisk (*), it indicates that the argument is a tuple that should be unpacked and passed to the function as separate values"
   ]
  },
  {
   "cell_type": "code",
   "execution_count": 11,
   "id": "ae76d96f",
   "metadata": {},
   "outputs": [
    {
     "name": "stdout",
     "output_type": "stream",
     "text": [
      "x = foo\n",
      "y = bar\n",
      "z = baz\n"
     ]
    }
   ],
   "source": [
    "def buz(x, y, z):\n",
    "    print(f'x = {x}')\n",
    "    print(f'y = {y}')\n",
    "    print(f'z = {z}')\n",
    "    \n",
    "var = ('foo', 'bar', 'baz')\n",
    "buz(*var)"
   ]
  },
  {
   "cell_type": "markdown",
   "id": "184011e6",
   "metadata": {},
   "source": [
    "### Argument Dictionary Packing\n",
    "\n",
    "Preceding a parameter in a Python function definition by a **double asterisk (\\*\\*)** indicates that the corresponding arguments, which are expected to be key=value pairs, should be packed into a dictionary:"
   ]
  },
  {
   "cell_type": "code",
   "execution_count": 12,
   "id": "9ec858e0",
   "metadata": {},
   "outputs": [
    {
     "name": "stdout",
     "output_type": "stream",
     "text": [
      "<class 'dict'>\n",
      "{'foo': 1, 'bar': 2, 'baz': 3}\n",
      "foo -> 1\n",
      "bar -> 2\n",
      "baz -> 3\n"
     ]
    }
   ],
   "source": [
    "def tuv(**kwargs):\n",
    "    print(type(kwargs))\n",
    "    print(kwargs)\n",
    "    for key, value in kwargs.items():\n",
    "        print(f'{key} -> {value}')\n",
    "        \n",
    "tuv(foo=1, bar=2, baz=3)"
   ]
  },
  {
   "cell_type": "markdown",
   "id": "64a96164",
   "metadata": {},
   "source": [
    "### Argument Dictionary Unpacking\n",
    "\n",
    "Argument dictionary unpacking is analogous to argument tuple unpacking. When the double asterisk (\\*\\*) precedes an argument in a Python function call, it specifies that the argument is a dictionary that should be unpacked, with the resulting items passed to the function as **keyword arguments**"
   ]
  },
  {
   "cell_type": "code",
   "execution_count": 13,
   "id": "2b161063",
   "metadata": {},
   "outputs": [
    {
     "name": "stdout",
     "output_type": "stream",
     "text": [
      "foo = 1\n",
      "bar = 2\n",
      "baz = 3\n"
     ]
    }
   ],
   "source": [
    "def uvx(foo, bar, baz):\n",
    "    print(f'foo = {foo}')\n",
    "    print(f'bar = {bar}')\n",
    "    print(f'baz = {baz}')\n",
    "\n",
    "kvars = {'foo':1, 'bar':2, 'baz':3}\n",
    "uvx(**kvars)"
   ]
  },
  {
   "cell_type": "code",
   "execution_count": null,
   "id": "f7ab541c",
   "metadata": {},
   "outputs": [],
   "source": []
  }
 ],
 "metadata": {
  "kernelspec": {
   "display_name": "Python 3",
   "language": "python",
   "name": "python3"
  },
  "language_info": {
   "codemirror_mode": {
    "name": "ipython",
    "version": 3
   },
   "file_extension": ".py",
   "mimetype": "text/x-python",
   "name": "python",
   "nbconvert_exporter": "python",
   "pygments_lexer": "ipython3",
   "version": "3.8.8"
  }
 },
 "nbformat": 4,
 "nbformat_minor": 5
}
