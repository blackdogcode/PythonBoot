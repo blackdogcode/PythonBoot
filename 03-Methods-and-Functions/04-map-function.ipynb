{
 "cells": [
  {
   "cell_type": "markdown",
   "id": "5606dc85",
   "metadata": {},
   "source": [
    "# [Python's map(): Processing Iterables Without a Loop](https://realpython.com/python-map-function/)\n",
    "\n",
    "Python’s map() is a built-in function that allows you to process and transform all the items in an iterable without using an explicit for loop\n",
    "\n",
    "map() is useful when you need to apply a transformation function to each item in an iterable and transform them into a new iterable."
   ]
  },
  {
   "cell_type": "code",
   "execution_count": 1,
   "id": "9e9c914b",
   "metadata": {},
   "outputs": [
    {
     "data": {
      "text/plain": [
       "[1, 4, 9, 16, 25]"
      ]
     },
     "execution_count": 1,
     "metadata": {},
     "output_type": "execute_result"
    }
   ],
   "source": [
    "def square_number(num):\n",
    "    return num ** 2\n",
    "\n",
    "lst = [1, 2, 3, 4, 5]\n",
    "sqaure_iterator = map(square_number, lst)\n",
    "list(sqaure_iterator)"
   ]
  },
  {
   "cell_type": "markdown",
   "id": "5ed88e7c",
   "metadata": {},
   "source": [
    "map syntax\n",
    "\n",
    "    map(function, iterable, ...)\n",
    "    \n",
    "function - a function that perform some action to each element of an iterable\n",
    "iterable - an iterable like sets, lists, tuples, etc"
   ]
  },
  {
   "cell_type": "markdown",
   "id": "9b377f6e",
   "metadata": {},
   "source": [
    "Since map() expects a function to be passed in, lambda functions are commonly used while working with map() functions"
   ]
  },
  {
   "cell_type": "code",
   "execution_count": 2,
   "id": "b8d50908",
   "metadata": {},
   "outputs": [
    {
     "data": {
      "text/plain": [
       "[1, 4, 9, 16, 25]"
      ]
     },
     "execution_count": 2,
     "metadata": {},
     "output_type": "execute_result"
    }
   ],
   "source": [
    "lst = [1, 2, 3, 4, 5]\n",
    "square_iterator = map(lambda x: x ** 2, lst)\n",
    "list(square_iterator)"
   ]
  },
  {
   "cell_type": "markdown",
   "id": "6315c3aa",
   "metadata": {},
   "source": [
    "Passing Multiple Iterators to map() Using Lambda"
   ]
  },
  {
   "cell_type": "code",
   "execution_count": 3,
   "id": "69f8f88d",
   "metadata": {},
   "outputs": [
    {
     "data": {
      "text/plain": [
       "[6, 8, 10, 12]"
      ]
     },
     "execution_count": 3,
     "metadata": {},
     "output_type": "execute_result"
    }
   ],
   "source": [
    "num_0 = [1, 2, 3, 4]\n",
    "num_1 = [5, 6, 7, 8]\n",
    "sum_iterator = map(lambda x, y: x+y, num_0, num_1)\n",
    "list(sum_iterator)"
   ]
  }
 ],
 "metadata": {
  "kernelspec": {
   "display_name": "Python 3",
   "language": "python",
   "name": "python3"
  },
  "language_info": {
   "codemirror_mode": {
    "name": "ipython",
    "version": 3
   },
   "file_extension": ".py",
   "mimetype": "text/x-python",
   "name": "python",
   "nbconvert_exporter": "python",
   "pygments_lexer": "ipython3",
   "version": "3.8.8"
  }
 },
 "nbformat": 4,
 "nbformat_minor": 5
}
