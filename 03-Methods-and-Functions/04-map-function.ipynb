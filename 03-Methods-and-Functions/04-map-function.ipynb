{
 "cells": [
  {
   "cell_type": "markdown",
   "id": "5606dc85",
   "metadata": {},
   "source": [
    "# [Python's map(): Processing Iterables Without a Loop](https://realpython.com/python-map-function/)\n",
    "\n",
    "Python’s map() is a built-in function that allows you to process and transform all the items in an iterable without using an explicit for loop\n",
    "\n",
    "map() is useful when you need to apply a transformation function to each item in an iterable and transform them into a new iterable.\n",
    "\n",
    "- How Python's map() works\n",
    "- How to transform different types of Python iterables using map()\n",
    "- How to combine map() with other functional tools to perform more complex transformations\n",
    "- What tools you can use to replace map() and make your code more Pythonic"
   ]
  }
 ],
 "metadata": {
  "kernelspec": {
   "display_name": "Python 3 (ipykernel)",
   "language": "python",
   "name": "python3"
  },
  "language_info": {
   "codemirror_mode": {
    "name": "ipython",
    "version": 3
   },
   "file_extension": ".py",
   "mimetype": "text/x-python",
   "name": "python",
   "nbconvert_exporter": "python",
   "pygments_lexer": "ipython3",
   "version": "3.8.11"
  }
 },
 "nbformat": 4,
 "nbformat_minor": 5
}
